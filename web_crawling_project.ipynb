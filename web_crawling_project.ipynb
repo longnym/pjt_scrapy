{
 "cells": [
  {
   "cell_type": "code",
   "execution_count": 1,
   "metadata": {},
   "outputs": [
    {
     "data": {
      "text/html": [
       "        <script type=\"text/javascript\">\n",
       "        window.PlotlyConfig = {MathJaxConfig: 'local'};\n",
       "        if (window.MathJax) {MathJax.Hub.Config({SVG: {font: \"STIX-Web\"}});}\n",
       "        if (typeof require !== 'undefined') {\n",
       "        require.undef(\"plotly\");\n",
       "        requirejs.config({\n",
       "            paths: {\n",
       "                'plotly': ['https://cdn.plot.ly/plotly-latest.min']\n",
       "            }\n",
       "        });\n",
       "        require(['plotly'], function(Plotly) {\n",
       "            window._Plotly = Plotly;\n",
       "        });\n",
       "        }\n",
       "        </script>\n",
       "        "
      ]
     },
     "metadata": {},
     "output_type": "display_data"
    }
   ],
   "source": [
    "import pandas as pd\n",
    "import numpy as np\n",
    "\n",
    "import plotly\n",
    "plotly.offline.init_notebook_mode(connected=True)\n",
    "\n",
    "from plotly.graph_objs import Figure, Layout\n",
    "from plotly.graph_objs import Bar, Scatter, Scattergl, Box\n",
    "\n",
    "jobs = pd.read_csv('jobs_2019-10-26.csv')"
   ]
  },
  {
   "cell_type": "code",
   "execution_count": 2,
   "metadata": {},
   "outputs": [
    {
     "data": {
      "text/html": [
       "<div>\n",
       "<style scoped>\n",
       "    .dataframe tbody tr th:only-of-type {\n",
       "        vertical-align: middle;\n",
       "    }\n",
       "\n",
       "    .dataframe tbody tr th {\n",
       "        vertical-align: top;\n",
       "    }\n",
       "\n",
       "    .dataframe thead th {\n",
       "        text-align: right;\n",
       "    }\n",
       "</style>\n",
       "<table border=\"1\" class=\"dataframe\">\n",
       "  <thead>\n",
       "    <tr style=\"text-align: right;\">\n",
       "      <th></th>\n",
       "      <th>company</th>\n",
       "      <th>level</th>\n",
       "      <th>location</th>\n",
       "      <th>rating</th>\n",
       "      <th>salary_from</th>\n",
       "      <th>salary_to</th>\n",
       "      <th>salary_unit</th>\n",
       "      <th>skill</th>\n",
       "      <th>state</th>\n",
       "      <th>title</th>\n",
       "      <th>salary</th>\n",
       "    </tr>\n",
       "  </thead>\n",
       "  <tbody>\n",
       "    <tr>\n",
       "      <th>0</th>\n",
       "      <td>READY ARTWORK</td>\n",
       "      <td>entry</td>\n",
       "      <td>Monrovia, CA 91016</td>\n",
       "      <td>3.0</td>\n",
       "      <td>40000.0</td>\n",
       "      <td>60000.0</td>\n",
       "      <td>year</td>\n",
       "      <td>java</td>\n",
       "      <td>California</td>\n",
       "      <td>Quality Assurance Engineer</td>\n",
       "      <td>50000.0</td>\n",
       "    </tr>\n",
       "    <tr>\n",
       "      <th>1</th>\n",
       "      <td>VNTANA</td>\n",
       "      <td>entry</td>\n",
       "      <td>Los Angeles, CA</td>\n",
       "      <td>NaN</td>\n",
       "      <td>110000.0</td>\n",
       "      <td>130000.0</td>\n",
       "      <td>year</td>\n",
       "      <td>python</td>\n",
       "      <td>California</td>\n",
       "      <td>Lead Full Stack Developer</td>\n",
       "      <td>120000.0</td>\n",
       "    </tr>\n",
       "    <tr>\n",
       "      <th>5</th>\n",
       "      <td>SDH Systems</td>\n",
       "      <td>entry</td>\n",
       "      <td>Dublin, OH 43017</td>\n",
       "      <td>NaN</td>\n",
       "      <td>84219.0</td>\n",
       "      <td>84219.0</td>\n",
       "      <td>year</td>\n",
       "      <td>python</td>\n",
       "      <td>Ohio</td>\n",
       "      <td>Cloud Engineer</td>\n",
       "      <td>84219.0</td>\n",
       "    </tr>\n",
       "    <tr>\n",
       "      <th>6</th>\n",
       "      <td>Kent State University, College of Aeronautics ...</td>\n",
       "      <td>entry</td>\n",
       "      <td>Kent, OH 44240</td>\n",
       "      <td>NaN</td>\n",
       "      <td>20000.0</td>\n",
       "      <td>24000.0</td>\n",
       "      <td>year</td>\n",
       "      <td>python</td>\n",
       "      <td>Ohio</td>\n",
       "      <td>One fully funded PHD position, and two masters...</td>\n",
       "      <td>22000.0</td>\n",
       "    </tr>\n",
       "    <tr>\n",
       "      <th>7</th>\n",
       "      <td>Cerkl</td>\n",
       "      <td>entry</td>\n",
       "      <td>Blue Ash, OH 45242</td>\n",
       "      <td>NaN</td>\n",
       "      <td>65000.0</td>\n",
       "      <td>95000.0</td>\n",
       "      <td>year</td>\n",
       "      <td>python</td>\n",
       "      <td>Ohio</td>\n",
       "      <td>Software Engineer (Full Stack)</td>\n",
       "      <td>80000.0</td>\n",
       "    </tr>\n",
       "    <tr>\n",
       "      <th>8</th>\n",
       "      <td>Ohio State University Medical Center</td>\n",
       "      <td>entry</td>\n",
       "      <td>Columbus, OH 43210</td>\n",
       "      <td>4.1</td>\n",
       "      <td>47500.0</td>\n",
       "      <td>47500.0</td>\n",
       "      <td>year</td>\n",
       "      <td>python</td>\n",
       "      <td>Ohio</td>\n",
       "      <td>Post Doctoral Researcher</td>\n",
       "      <td>47500.0</td>\n",
       "    </tr>\n",
       "    <tr>\n",
       "      <th>10</th>\n",
       "      <td>vMOX</td>\n",
       "      <td>entry</td>\n",
       "      <td>Lancaster, PA</td>\n",
       "      <td>NaN</td>\n",
       "      <td>50000.0</td>\n",
       "      <td>125000.0</td>\n",
       "      <td>year</td>\n",
       "      <td>python</td>\n",
       "      <td>Pennsylvania</td>\n",
       "      <td>Full Stack Ruby on Rails Developer</td>\n",
       "      <td>87500.0</td>\n",
       "    </tr>\n",
       "    <tr>\n",
       "      <th>11</th>\n",
       "      <td>Delaware Valley Regional Planning Commission</td>\n",
       "      <td>entry</td>\n",
       "      <td>Philadelphia, PA 19106</td>\n",
       "      <td>3.7</td>\n",
       "      <td>50000.0</td>\n",
       "      <td>50000.0</td>\n",
       "      <td>year</td>\n",
       "      <td>python</td>\n",
       "      <td>Pennsylvania</td>\n",
       "      <td>Back End Developer</td>\n",
       "      <td>50000.0</td>\n",
       "    </tr>\n",
       "    <tr>\n",
       "      <th>12</th>\n",
       "      <td>Oncora Medical</td>\n",
       "      <td>entry</td>\n",
       "      <td>Philadelphia, PA</td>\n",
       "      <td>NaN</td>\n",
       "      <td>80000.0</td>\n",
       "      <td>110000.0</td>\n",
       "      <td>year</td>\n",
       "      <td>python</td>\n",
       "      <td>Pennsylvania</td>\n",
       "      <td>Software Engineer (Imaging)</td>\n",
       "      <td>95000.0</td>\n",
       "    </tr>\n",
       "    <tr>\n",
       "      <th>14</th>\n",
       "      <td>Authentise Inc.</td>\n",
       "      <td>entry</td>\n",
       "      <td>Philadelphia, PA</td>\n",
       "      <td>NaN</td>\n",
       "      <td>40000.0</td>\n",
       "      <td>100000.0</td>\n",
       "      <td>year</td>\n",
       "      <td>python</td>\n",
       "      <td>Pennsylvania</td>\n",
       "      <td>DevOps Engineer</td>\n",
       "      <td>70000.0</td>\n",
       "    </tr>\n",
       "    <tr>\n",
       "      <th>15</th>\n",
       "      <td>J2 Solutions</td>\n",
       "      <td>entry</td>\n",
       "      <td>Dresher, PA 19025</td>\n",
       "      <td>NaN</td>\n",
       "      <td>85000.0</td>\n",
       "      <td>85000.0</td>\n",
       "      <td>year</td>\n",
       "      <td>python</td>\n",
       "      <td>Pennsylvania</td>\n",
       "      <td>QA Automation Developer</td>\n",
       "      <td>85000.0</td>\n",
       "    </tr>\n",
       "    <tr>\n",
       "      <th>16</th>\n",
       "      <td>Navy Information Warfare Center (NIWC) - Phila...</td>\n",
       "      <td>entry</td>\n",
       "      <td>Philadelphia, PA 19111</td>\n",
       "      <td>NaN</td>\n",
       "      <td>65000.0</td>\n",
       "      <td>65000.0</td>\n",
       "      <td>year</td>\n",
       "      <td>python</td>\n",
       "      <td>Pennsylvania</td>\n",
       "      <td>Software Developer - US Citizenship Required -...</td>\n",
       "      <td>65000.0</td>\n",
       "    </tr>\n",
       "    <tr>\n",
       "      <th>17</th>\n",
       "      <td>Philadelphia District Attorney's Office</td>\n",
       "      <td>entry</td>\n",
       "      <td>Philadelphia, PA 19107</td>\n",
       "      <td>4.2</td>\n",
       "      <td>60000.0</td>\n",
       "      <td>60000.0</td>\n",
       "      <td>year</td>\n",
       "      <td>python</td>\n",
       "      <td>Pennsylvania</td>\n",
       "      <td>Applications Developer</td>\n",
       "      <td>60000.0</td>\n",
       "    </tr>\n",
       "    <tr>\n",
       "      <th>18</th>\n",
       "      <td>PCS Globaltech</td>\n",
       "      <td>entry</td>\n",
       "      <td>Wayne, PA</td>\n",
       "      <td>NaN</td>\n",
       "      <td>70000.0</td>\n",
       "      <td>70000.0</td>\n",
       "      <td>year</td>\n",
       "      <td>python</td>\n",
       "      <td>Pennsylvania</td>\n",
       "      <td>Entry Level Data Analyst</td>\n",
       "      <td>70000.0</td>\n",
       "    </tr>\n",
       "    <tr>\n",
       "      <th>19</th>\n",
       "      <td>Commonwealth of PA</td>\n",
       "      <td>entry</td>\n",
       "      <td>Harrisburg, PA 17120</td>\n",
       "      <td>3.7</td>\n",
       "      <td>65937.0</td>\n",
       "      <td>100128.0</td>\n",
       "      <td>year</td>\n",
       "      <td>python</td>\n",
       "      <td>Pennsylvania</td>\n",
       "      <td>Epidemiology Research Associate</td>\n",
       "      <td>83032.5</td>\n",
       "    </tr>\n",
       "    <tr>\n",
       "      <th>20</th>\n",
       "      <td>Computer Enterprises, Inc.</td>\n",
       "      <td>entry</td>\n",
       "      <td>Philadelphia, PA 19103</td>\n",
       "      <td>3.5</td>\n",
       "      <td>80000.0</td>\n",
       "      <td>100000.0</td>\n",
       "      <td>year</td>\n",
       "      <td>python</td>\n",
       "      <td>Pennsylvania</td>\n",
       "      <td>Software Developer - Java, Python, AWS a plus</td>\n",
       "      <td>90000.0</td>\n",
       "    </tr>\n",
       "    <tr>\n",
       "      <th>22</th>\n",
       "      <td>J2 Solutions</td>\n",
       "      <td>entry</td>\n",
       "      <td>Dresher, PA 19025</td>\n",
       "      <td>NaN</td>\n",
       "      <td>120000.0</td>\n",
       "      <td>120000.0</td>\n",
       "      <td>year</td>\n",
       "      <td>python</td>\n",
       "      <td>Pennsylvania</td>\n",
       "      <td>API Developer</td>\n",
       "      <td>120000.0</td>\n",
       "    </tr>\n",
       "    <tr>\n",
       "      <th>23</th>\n",
       "      <td>Redleaf IT Systems LLC</td>\n",
       "      <td>entry</td>\n",
       "      <td>King of Prussia, PA</td>\n",
       "      <td>NaN</td>\n",
       "      <td>65000.0</td>\n",
       "      <td>70000.0</td>\n",
       "      <td>year</td>\n",
       "      <td>python</td>\n",
       "      <td>Pennsylvania</td>\n",
       "      <td>Software Engineer</td>\n",
       "      <td>67500.0</td>\n",
       "    </tr>\n",
       "    <tr>\n",
       "      <th>24</th>\n",
       "      <td>Muncy Industries</td>\n",
       "      <td>entry</td>\n",
       "      <td>Turbotville, PA</td>\n",
       "      <td>NaN</td>\n",
       "      <td>41600.0</td>\n",
       "      <td>52000.0</td>\n",
       "      <td>year</td>\n",
       "      <td>python</td>\n",
       "      <td>Pennsylvania</td>\n",
       "      <td>Computer Programmer</td>\n",
       "      <td>46800.0</td>\n",
       "    </tr>\n",
       "    <tr>\n",
       "      <th>25</th>\n",
       "      <td>MongoTEL</td>\n",
       "      <td>entry</td>\n",
       "      <td>Chicago, IL</td>\n",
       "      <td>NaN</td>\n",
       "      <td>60000.0</td>\n",
       "      <td>120000.0</td>\n",
       "      <td>year</td>\n",
       "      <td>python</td>\n",
       "      <td>Illinois</td>\n",
       "      <td>Senior Network Programming Engineer - Chicago</td>\n",
       "      <td>90000.0</td>\n",
       "    </tr>\n",
       "    <tr>\n",
       "      <th>26</th>\n",
       "      <td>University of Illinois at Chicago</td>\n",
       "      <td>entry</td>\n",
       "      <td>Chicago, IL 60612</td>\n",
       "      <td>4.2</td>\n",
       "      <td>40000.0</td>\n",
       "      <td>65000.0</td>\n",
       "      <td>year</td>\n",
       "      <td>python</td>\n",
       "      <td>Illinois</td>\n",
       "      <td>Research Associate/Postdoctoral Researcher</td>\n",
       "      <td>52500.0</td>\n",
       "    </tr>\n",
       "    <tr>\n",
       "      <th>27</th>\n",
       "      <td>Code Platoon</td>\n",
       "      <td>entry</td>\n",
       "      <td>Chicago, IL 60603</td>\n",
       "      <td>NaN</td>\n",
       "      <td>95000.0</td>\n",
       "      <td>110000.0</td>\n",
       "      <td>year</td>\n",
       "      <td>python</td>\n",
       "      <td>Illinois</td>\n",
       "      <td>Web Development Instructor</td>\n",
       "      <td>102500.0</td>\n",
       "    </tr>\n",
       "    <tr>\n",
       "      <th>28</th>\n",
       "      <td>Synchrony</td>\n",
       "      <td>entry</td>\n",
       "      <td>Chicago, IL</td>\n",
       "      <td>3.9</td>\n",
       "      <td>52000.0</td>\n",
       "      <td>110000.0</td>\n",
       "      <td>year</td>\n",
       "      <td>python</td>\n",
       "      <td>Illinois</td>\n",
       "      <td>Senior Analyst, Payment Solutions Analytics - ...</td>\n",
       "      <td>81000.0</td>\n",
       "    </tr>\n",
       "    <tr>\n",
       "      <th>30</th>\n",
       "      <td>Dataspace</td>\n",
       "      <td>entry</td>\n",
       "      <td>Chicago, IL</td>\n",
       "      <td>NaN</td>\n",
       "      <td>150000.0</td>\n",
       "      <td>150000.0</td>\n",
       "      <td>year</td>\n",
       "      <td>python</td>\n",
       "      <td>Illinois</td>\n",
       "      <td>022: Data Science Lead - Dynamic Pricing</td>\n",
       "      <td>150000.0</td>\n",
       "    </tr>\n",
       "    <tr>\n",
       "      <th>31</th>\n",
       "      <td>Leading Edge Worldwide</td>\n",
       "      <td>entry</td>\n",
       "      <td>Chicago, IL</td>\n",
       "      <td>NaN</td>\n",
       "      <td>90000.0</td>\n",
       "      <td>120000.0</td>\n",
       "      <td>year</td>\n",
       "      <td>python</td>\n",
       "      <td>Illinois</td>\n",
       "      <td>RF Research Engineer SME</td>\n",
       "      <td>105000.0</td>\n",
       "    </tr>\n",
       "    <tr>\n",
       "      <th>32</th>\n",
       "      <td>Synchrony Bank</td>\n",
       "      <td>entry</td>\n",
       "      <td>Chicago, IL 60606</td>\n",
       "      <td>3.9</td>\n",
       "      <td>70000.0</td>\n",
       "      <td>150000.0</td>\n",
       "      <td>year</td>\n",
       "      <td>python</td>\n",
       "      <td>Illinois</td>\n",
       "      <td>AVP, Capabilities Analytics</td>\n",
       "      <td>110000.0</td>\n",
       "    </tr>\n",
       "    <tr>\n",
       "      <th>34</th>\n",
       "      <td>Synchrony Bank</td>\n",
       "      <td>entry</td>\n",
       "      <td>Chicago, IL 60606</td>\n",
       "      <td>3.9</td>\n",
       "      <td>52000.0</td>\n",
       "      <td>110000.0</td>\n",
       "      <td>year</td>\n",
       "      <td>python</td>\n",
       "      <td>Illinois</td>\n",
       "      <td>Senior Analyst, Payment Solutions Analytics - ...</td>\n",
       "      <td>81000.0</td>\n",
       "    </tr>\n",
       "    <tr>\n",
       "      <th>35</th>\n",
       "      <td>Synchrony</td>\n",
       "      <td>entry</td>\n",
       "      <td>Chicago, IL</td>\n",
       "      <td>3.9</td>\n",
       "      <td>52000.0</td>\n",
       "      <td>110000.0</td>\n",
       "      <td>year</td>\n",
       "      <td>python</td>\n",
       "      <td>Illinois</td>\n",
       "      <td>Android Developer - GPShopper</td>\n",
       "      <td>81000.0</td>\n",
       "    </tr>\n",
       "    <tr>\n",
       "      <th>36</th>\n",
       "      <td>GPShopper, LLC</td>\n",
       "      <td>entry</td>\n",
       "      <td>Chicago, IL 60602</td>\n",
       "      <td>NaN</td>\n",
       "      <td>52000.0</td>\n",
       "      <td>110000.0</td>\n",
       "      <td>year</td>\n",
       "      <td>python</td>\n",
       "      <td>Illinois</td>\n",
       "      <td>Android Developer - GPShopper</td>\n",
       "      <td>81000.0</td>\n",
       "    </tr>\n",
       "    <tr>\n",
       "      <th>37</th>\n",
       "      <td>Synchrony</td>\n",
       "      <td>entry</td>\n",
       "      <td>Chicago, IL</td>\n",
       "      <td>3.9</td>\n",
       "      <td>70000.0</td>\n",
       "      <td>150000.0</td>\n",
       "      <td>year</td>\n",
       "      <td>python</td>\n",
       "      <td>Illinois</td>\n",
       "      <td>AVP, Capabilities Analytics</td>\n",
       "      <td>110000.0</td>\n",
       "    </tr>\n",
       "    <tr>\n",
       "      <th>...</th>\n",
       "      <td>...</td>\n",
       "      <td>...</td>\n",
       "      <td>...</td>\n",
       "      <td>...</td>\n",
       "      <td>...</td>\n",
       "      <td>...</td>\n",
       "      <td>...</td>\n",
       "      <td>...</td>\n",
       "      <td>...</td>\n",
       "      <td>...</td>\n",
       "      <td>...</td>\n",
       "    </tr>\n",
       "    <tr>\n",
       "      <th>10851</th>\n",
       "      <td>PrinterPix</td>\n",
       "      <td>mid</td>\n",
       "      <td>Long Beach, CA</td>\n",
       "      <td>2.6</td>\n",
       "      <td>50000.0</td>\n",
       "      <td>65000.0</td>\n",
       "      <td>year</td>\n",
       "      <td>blockchain</td>\n",
       "      <td>California</td>\n",
       "      <td>Technical In-House Recruiter</td>\n",
       "      <td>57500.0</td>\n",
       "    </tr>\n",
       "    <tr>\n",
       "      <th>10852</th>\n",
       "      <td>MetierOne Inc.</td>\n",
       "      <td>mid</td>\n",
       "      <td>Palo Alto, CA</td>\n",
       "      <td>NaN</td>\n",
       "      <td>90000.0</td>\n",
       "      <td>120000.0</td>\n",
       "      <td>year</td>\n",
       "      <td>blockchain</td>\n",
       "      <td>California</td>\n",
       "      <td>Product Manager - Decentralized App</td>\n",
       "      <td>105000.0</td>\n",
       "    </tr>\n",
       "    <tr>\n",
       "      <th>10853</th>\n",
       "      <td>Kava Labs Inc</td>\n",
       "      <td>mid</td>\n",
       "      <td>San Francisco, CA</td>\n",
       "      <td>NaN</td>\n",
       "      <td>78000.0</td>\n",
       "      <td>119000.0</td>\n",
       "      <td>year</td>\n",
       "      <td>blockchain</td>\n",
       "      <td>California</td>\n",
       "      <td>Community Operations Manager</td>\n",
       "      <td>98500.0</td>\n",
       "    </tr>\n",
       "    <tr>\n",
       "      <th>10854</th>\n",
       "      <td>Live Planet</td>\n",
       "      <td>mid</td>\n",
       "      <td>San Jose, CA 95113</td>\n",
       "      <td>NaN</td>\n",
       "      <td>120000.0</td>\n",
       "      <td>175000.0</td>\n",
       "      <td>year</td>\n",
       "      <td>blockchain</td>\n",
       "      <td>California</td>\n",
       "      <td>VideoCoin Network Product Manager</td>\n",
       "      <td>147500.0</td>\n",
       "    </tr>\n",
       "    <tr>\n",
       "      <th>10855</th>\n",
       "      <td>Kava Labs Inc</td>\n",
       "      <td>mid</td>\n",
       "      <td>San Francisco, CA</td>\n",
       "      <td>NaN</td>\n",
       "      <td>110000.0</td>\n",
       "      <td>180000.0</td>\n",
       "      <td>year</td>\n",
       "      <td>blockchain</td>\n",
       "      <td>California</td>\n",
       "      <td>Go Software Developer</td>\n",
       "      <td>145000.0</td>\n",
       "    </tr>\n",
       "    <tr>\n",
       "      <th>10856</th>\n",
       "      <td>Geloky.com</td>\n",
       "      <td>entry</td>\n",
       "      <td>New York, NY</td>\n",
       "      <td>NaN</td>\n",
       "      <td>80000.0</td>\n",
       "      <td>100000.0</td>\n",
       "      <td>year</td>\n",
       "      <td>blockchain</td>\n",
       "      <td>New York</td>\n",
       "      <td>Project Manager</td>\n",
       "      <td>90000.0</td>\n",
       "    </tr>\n",
       "    <tr>\n",
       "      <th>10860</th>\n",
       "      <td>Gos Inc.</td>\n",
       "      <td>entry</td>\n",
       "      <td>San Jose, CA 95112</td>\n",
       "      <td>NaN</td>\n",
       "      <td>20000.0</td>\n",
       "      <td>80000.0</td>\n",
       "      <td>year</td>\n",
       "      <td>blockchain</td>\n",
       "      <td>California</td>\n",
       "      <td>BlockChain community management assistant(inte...</td>\n",
       "      <td>50000.0</td>\n",
       "    </tr>\n",
       "    <tr>\n",
       "      <th>10861</th>\n",
       "      <td>Gos Inc.</td>\n",
       "      <td>entry</td>\n",
       "      <td>San Jose, CA 95112</td>\n",
       "      <td>NaN</td>\n",
       "      <td>20000.0</td>\n",
       "      <td>80000.0</td>\n",
       "      <td>year</td>\n",
       "      <td>blockchain</td>\n",
       "      <td>California</td>\n",
       "      <td>Deep Learning lab assistant (internship)</td>\n",
       "      <td>50000.0</td>\n",
       "    </tr>\n",
       "    <tr>\n",
       "      <th>10862</th>\n",
       "      <td>MB&amp;T</td>\n",
       "      <td>entry</td>\n",
       "      <td>San Jose, CA</td>\n",
       "      <td>NaN</td>\n",
       "      <td>250000.0</td>\n",
       "      <td>250000.0</td>\n",
       "      <td>year</td>\n",
       "      <td>blockchain</td>\n",
       "      <td>California</td>\n",
       "      <td>Blockchain Development Team</td>\n",
       "      <td>250000.0</td>\n",
       "    </tr>\n",
       "    <tr>\n",
       "      <th>10863</th>\n",
       "      <td>Gos Inc.</td>\n",
       "      <td>entry</td>\n",
       "      <td>San Jose, CA 95112</td>\n",
       "      <td>NaN</td>\n",
       "      <td>20000.0</td>\n",
       "      <td>80000.0</td>\n",
       "      <td>year</td>\n",
       "      <td>blockchain</td>\n",
       "      <td>California</td>\n",
       "      <td>community management assistant(internship)</td>\n",
       "      <td>50000.0</td>\n",
       "    </tr>\n",
       "    <tr>\n",
       "      <th>10864</th>\n",
       "      <td>National Bitcoin ATM</td>\n",
       "      <td>entry</td>\n",
       "      <td>San Diego, CA</td>\n",
       "      <td>NaN</td>\n",
       "      <td>48000.0</td>\n",
       "      <td>75000.0</td>\n",
       "      <td>year</td>\n",
       "      <td>blockchain</td>\n",
       "      <td>California</td>\n",
       "      <td>Location Scout - Inside Sales</td>\n",
       "      <td>61500.0</td>\n",
       "    </tr>\n",
       "    <tr>\n",
       "      <th>10865</th>\n",
       "      <td>Digital Sales and Marketing Awesome Company, l...</td>\n",
       "      <td>entry</td>\n",
       "      <td>Yorba Linda, CA 92886</td>\n",
       "      <td>NaN</td>\n",
       "      <td>6500.0</td>\n",
       "      <td>7500.0</td>\n",
       "      <td>month</td>\n",
       "      <td>blockchain</td>\n",
       "      <td>California</td>\n",
       "      <td>Android / IOS Mobile App Developer (Ionic Expe...</td>\n",
       "      <td>84000.0</td>\n",
       "    </tr>\n",
       "    <tr>\n",
       "      <th>10866</th>\n",
       "      <td>Gos Inc.</td>\n",
       "      <td>entry</td>\n",
       "      <td>San Jose, CA 95112</td>\n",
       "      <td>NaN</td>\n",
       "      <td>20000.0</td>\n",
       "      <td>80000.0</td>\n",
       "      <td>year</td>\n",
       "      <td>blockchain</td>\n",
       "      <td>California</td>\n",
       "      <td>Self-Marketing planning assistant (Internship)</td>\n",
       "      <td>50000.0</td>\n",
       "    </tr>\n",
       "    <tr>\n",
       "      <th>10869</th>\n",
       "      <td>Gosvea</td>\n",
       "      <td>entry</td>\n",
       "      <td>San Jose, CA</td>\n",
       "      <td>NaN</td>\n",
       "      <td>20000.0</td>\n",
       "      <td>80000.0</td>\n",
       "      <td>year</td>\n",
       "      <td>blockchain</td>\n",
       "      <td>California</td>\n",
       "      <td>AI Deep learning/Big data Engineer Internship</td>\n",
       "      <td>50000.0</td>\n",
       "    </tr>\n",
       "    <tr>\n",
       "      <th>10870</th>\n",
       "      <td>Gos Inc.</td>\n",
       "      <td>entry</td>\n",
       "      <td>San Jose, CA 95112</td>\n",
       "      <td>NaN</td>\n",
       "      <td>20000.0</td>\n",
       "      <td>80000.0</td>\n",
       "      <td>year</td>\n",
       "      <td>blockchain</td>\n",
       "      <td>California</td>\n",
       "      <td>Big Data Lab Assistant (internship)</td>\n",
       "      <td>50000.0</td>\n",
       "    </tr>\n",
       "    <tr>\n",
       "      <th>10871</th>\n",
       "      <td>Gosvea</td>\n",
       "      <td>entry</td>\n",
       "      <td>San Jose, CA</td>\n",
       "      <td>NaN</td>\n",
       "      <td>20000.0</td>\n",
       "      <td>80000.0</td>\n",
       "      <td>year</td>\n",
       "      <td>blockchain</td>\n",
       "      <td>California</td>\n",
       "      <td>Digital Marketing Assistant</td>\n",
       "      <td>50000.0</td>\n",
       "    </tr>\n",
       "    <tr>\n",
       "      <th>10872</th>\n",
       "      <td>Live Planet</td>\n",
       "      <td>senior</td>\n",
       "      <td>San Jose, CA 95113</td>\n",
       "      <td>NaN</td>\n",
       "      <td>120000.0</td>\n",
       "      <td>175000.0</td>\n",
       "      <td>year</td>\n",
       "      <td>blockchain</td>\n",
       "      <td>California</td>\n",
       "      <td>Blockchain Software Engineering Manager</td>\n",
       "      <td>147500.0</td>\n",
       "    </tr>\n",
       "    <tr>\n",
       "      <th>10873</th>\n",
       "      <td>Promise</td>\n",
       "      <td>senior</td>\n",
       "      <td>San Francisco, CA</td>\n",
       "      <td>3.8</td>\n",
       "      <td>100000.0</td>\n",
       "      <td>150000.0</td>\n",
       "      <td>year</td>\n",
       "      <td>blockchain</td>\n",
       "      <td>California</td>\n",
       "      <td>Senior Software Engineer</td>\n",
       "      <td>125000.0</td>\n",
       "    </tr>\n",
       "    <tr>\n",
       "      <th>10874</th>\n",
       "      <td>STONE Resource Group</td>\n",
       "      <td>senior</td>\n",
       "      <td>San Francisco Bay Area, CA</td>\n",
       "      <td>3.6</td>\n",
       "      <td>185000.0</td>\n",
       "      <td>225000.0</td>\n",
       "      <td>year</td>\n",
       "      <td>blockchain</td>\n",
       "      <td>California</td>\n",
       "      <td>Director of eCommerce</td>\n",
       "      <td>205000.0</td>\n",
       "    </tr>\n",
       "    <tr>\n",
       "      <th>10875</th>\n",
       "      <td>Pythian</td>\n",
       "      <td>senior</td>\n",
       "      <td>United States</td>\n",
       "      <td>3.4</td>\n",
       "      <td>130000.0</td>\n",
       "      <td>190000.0</td>\n",
       "      <td>year</td>\n",
       "      <td>blockchain</td>\n",
       "      <td>Texas</td>\n",
       "      <td>Big Data Architect</td>\n",
       "      <td>160000.0</td>\n",
       "    </tr>\n",
       "    <tr>\n",
       "      <th>10876</th>\n",
       "      <td>Pythian</td>\n",
       "      <td>senior</td>\n",
       "      <td>United States</td>\n",
       "      <td>3.4</td>\n",
       "      <td>150000.0</td>\n",
       "      <td>200000.0</td>\n",
       "      <td>year</td>\n",
       "      <td>blockchain</td>\n",
       "      <td>Texas</td>\n",
       "      <td>Cloud Data Architect</td>\n",
       "      <td>175000.0</td>\n",
       "    </tr>\n",
       "    <tr>\n",
       "      <th>10877</th>\n",
       "      <td>Pythian</td>\n",
       "      <td>senior</td>\n",
       "      <td>United States</td>\n",
       "      <td>3.4</td>\n",
       "      <td>150000.0</td>\n",
       "      <td>200000.0</td>\n",
       "      <td>year</td>\n",
       "      <td>blockchain</td>\n",
       "      <td>Florida</td>\n",
       "      <td>Cloud Data Architect</td>\n",
       "      <td>175000.0</td>\n",
       "    </tr>\n",
       "    <tr>\n",
       "      <th>10878</th>\n",
       "      <td>Pythian</td>\n",
       "      <td>senior</td>\n",
       "      <td>United States</td>\n",
       "      <td>3.4</td>\n",
       "      <td>150000.0</td>\n",
       "      <td>200000.0</td>\n",
       "      <td>year</td>\n",
       "      <td>blockchain</td>\n",
       "      <td>Illinois</td>\n",
       "      <td>Cloud Data Architect</td>\n",
       "      <td>175000.0</td>\n",
       "    </tr>\n",
       "    <tr>\n",
       "      <th>10879</th>\n",
       "      <td>Pythian</td>\n",
       "      <td>senior</td>\n",
       "      <td>United States</td>\n",
       "      <td>3.4</td>\n",
       "      <td>150000.0</td>\n",
       "      <td>200000.0</td>\n",
       "      <td>year</td>\n",
       "      <td>blockchain</td>\n",
       "      <td>Pennsylvania</td>\n",
       "      <td>Cloud Data Architect</td>\n",
       "      <td>175000.0</td>\n",
       "    </tr>\n",
       "    <tr>\n",
       "      <th>10880</th>\n",
       "      <td>Pythian</td>\n",
       "      <td>senior</td>\n",
       "      <td>United States</td>\n",
       "      <td>3.4</td>\n",
       "      <td>150000.0</td>\n",
       "      <td>200000.0</td>\n",
       "      <td>year</td>\n",
       "      <td>blockchain</td>\n",
       "      <td>Ohio</td>\n",
       "      <td>Cloud Data Architect</td>\n",
       "      <td>175000.0</td>\n",
       "    </tr>\n",
       "    <tr>\n",
       "      <th>10881</th>\n",
       "      <td>Pythian</td>\n",
       "      <td>senior</td>\n",
       "      <td>United States</td>\n",
       "      <td>3.4</td>\n",
       "      <td>150000.0</td>\n",
       "      <td>200000.0</td>\n",
       "      <td>year</td>\n",
       "      <td>blockchain</td>\n",
       "      <td>Georgia</td>\n",
       "      <td>Cloud Data Architect</td>\n",
       "      <td>175000.0</td>\n",
       "    </tr>\n",
       "    <tr>\n",
       "      <th>10882</th>\n",
       "      <td>Pythian</td>\n",
       "      <td>senior</td>\n",
       "      <td>United States</td>\n",
       "      <td>3.4</td>\n",
       "      <td>130000.0</td>\n",
       "      <td>190000.0</td>\n",
       "      <td>year</td>\n",
       "      <td>blockchain</td>\n",
       "      <td>North Carolina</td>\n",
       "      <td>Big Data Architect</td>\n",
       "      <td>160000.0</td>\n",
       "    </tr>\n",
       "    <tr>\n",
       "      <th>10883</th>\n",
       "      <td>Pythian</td>\n",
       "      <td>senior</td>\n",
       "      <td>United States</td>\n",
       "      <td>3.4</td>\n",
       "      <td>150000.0</td>\n",
       "      <td>200000.0</td>\n",
       "      <td>year</td>\n",
       "      <td>blockchain</td>\n",
       "      <td>North Carolina</td>\n",
       "      <td>Cloud Data Architect</td>\n",
       "      <td>175000.0</td>\n",
       "    </tr>\n",
       "    <tr>\n",
       "      <th>10884</th>\n",
       "      <td>Pythian</td>\n",
       "      <td>senior</td>\n",
       "      <td>United States</td>\n",
       "      <td>3.4</td>\n",
       "      <td>150000.0</td>\n",
       "      <td>200000.0</td>\n",
       "      <td>year</td>\n",
       "      <td>blockchain</td>\n",
       "      <td>Michigan</td>\n",
       "      <td>Cloud Data Architect</td>\n",
       "      <td>175000.0</td>\n",
       "    </tr>\n",
       "    <tr>\n",
       "      <th>10885</th>\n",
       "      <td>Pythian</td>\n",
       "      <td>senior</td>\n",
       "      <td>United States</td>\n",
       "      <td>3.4</td>\n",
       "      <td>130000.0</td>\n",
       "      <td>190000.0</td>\n",
       "      <td>year</td>\n",
       "      <td>blockchain</td>\n",
       "      <td>New York</td>\n",
       "      <td>Big Data Architect</td>\n",
       "      <td>160000.0</td>\n",
       "    </tr>\n",
       "  </tbody>\n",
       "</table>\n",
       "<p>7348 rows × 11 columns</p>\n",
       "</div>"
      ],
      "text/plain": [
       "                                                 company   level  \\\n",
       "0                                          READY ARTWORK   entry   \n",
       "1                                                 VNTANA   entry   \n",
       "5                                            SDH Systems   entry   \n",
       "6      Kent State University, College of Aeronautics ...   entry   \n",
       "7                                                  Cerkl   entry   \n",
       "8                   Ohio State University Medical Center   entry   \n",
       "10                                                  vMOX   entry   \n",
       "11          Delaware Valley Regional Planning Commission   entry   \n",
       "12                                        Oncora Medical   entry   \n",
       "14                                       Authentise Inc.   entry   \n",
       "15                                          J2 Solutions   entry   \n",
       "16     Navy Information Warfare Center (NIWC) - Phila...   entry   \n",
       "17               Philadelphia District Attorney's Office   entry   \n",
       "18                                        PCS Globaltech   entry   \n",
       "19                                    Commonwealth of PA   entry   \n",
       "20                            Computer Enterprises, Inc.   entry   \n",
       "22                                          J2 Solutions   entry   \n",
       "23                                Redleaf IT Systems LLC   entry   \n",
       "24                                      Muncy Industries   entry   \n",
       "25                                              MongoTEL   entry   \n",
       "26                     University of Illinois at Chicago   entry   \n",
       "27                                          Code Platoon   entry   \n",
       "28                                             Synchrony   entry   \n",
       "30                                             Dataspace   entry   \n",
       "31                                Leading Edge Worldwide   entry   \n",
       "32                                        Synchrony Bank   entry   \n",
       "34                                        Synchrony Bank   entry   \n",
       "35                                             Synchrony   entry   \n",
       "36                                        GPShopper, LLC   entry   \n",
       "37                                             Synchrony   entry   \n",
       "...                                                  ...     ...   \n",
       "10851                                         PrinterPix     mid   \n",
       "10852                                     MetierOne Inc.     mid   \n",
       "10853                                      Kava Labs Inc     mid   \n",
       "10854                                        Live Planet     mid   \n",
       "10855                                      Kava Labs Inc     mid   \n",
       "10856                                         Geloky.com   entry   \n",
       "10860                                           Gos Inc.   entry   \n",
       "10861                                           Gos Inc.   entry   \n",
       "10862                                               MB&T   entry   \n",
       "10863                                           Gos Inc.   entry   \n",
       "10864                               National Bitcoin ATM   entry   \n",
       "10865  Digital Sales and Marketing Awesome Company, l...   entry   \n",
       "10866                                           Gos Inc.   entry   \n",
       "10869                                             Gosvea   entry   \n",
       "10870                                           Gos Inc.   entry   \n",
       "10871                                             Gosvea   entry   \n",
       "10872                                        Live Planet  senior   \n",
       "10873                                            Promise  senior   \n",
       "10874                               STONE Resource Group  senior   \n",
       "10875                                            Pythian  senior   \n",
       "10876                                            Pythian  senior   \n",
       "10877                                            Pythian  senior   \n",
       "10878                                            Pythian  senior   \n",
       "10879                                            Pythian  senior   \n",
       "10880                                            Pythian  senior   \n",
       "10881                                            Pythian  senior   \n",
       "10882                                            Pythian  senior   \n",
       "10883                                            Pythian  senior   \n",
       "10884                                            Pythian  senior   \n",
       "10885                                            Pythian  senior   \n",
       "\n",
       "                         location  rating  salary_from  salary_to salary_unit  \\\n",
       "0              Monrovia, CA 91016     3.0      40000.0    60000.0        year   \n",
       "1                 Los Angeles, CA     NaN     110000.0   130000.0        year   \n",
       "5                Dublin, OH 43017     NaN      84219.0    84219.0        year   \n",
       "6                  Kent, OH 44240     NaN      20000.0    24000.0        year   \n",
       "7              Blue Ash, OH 45242     NaN      65000.0    95000.0        year   \n",
       "8             Columbus, OH 43210      4.1      47500.0    47500.0        year   \n",
       "10                  Lancaster, PA     NaN      50000.0   125000.0        year   \n",
       "11        Philadelphia, PA 19106      3.7      50000.0    50000.0        year   \n",
       "12               Philadelphia, PA     NaN      80000.0   110000.0        year   \n",
       "14               Philadelphia, PA     NaN      40000.0   100000.0        year   \n",
       "15              Dresher, PA 19025     NaN      85000.0    85000.0        year   \n",
       "16        Philadelphia, PA 19111      NaN      65000.0    65000.0        year   \n",
       "17        Philadelphia, PA 19107      4.2      60000.0    60000.0        year   \n",
       "18                      Wayne, PA     NaN      70000.0    70000.0        year   \n",
       "19           Harrisburg, PA 17120     3.7      65937.0   100128.0        year   \n",
       "20         Philadelphia, PA 19103     3.5      80000.0   100000.0        year   \n",
       "22              Dresher, PA 19025     NaN     120000.0   120000.0        year   \n",
       "23            King of Prussia, PA     NaN      65000.0    70000.0        year   \n",
       "24                Turbotville, PA     NaN      41600.0    52000.0        year   \n",
       "25                    Chicago, IL     NaN      60000.0   120000.0        year   \n",
       "26             Chicago, IL 60612      4.2      40000.0    65000.0        year   \n",
       "27             Chicago, IL 60603      NaN      95000.0   110000.0        year   \n",
       "28                    Chicago, IL     3.9      52000.0   110000.0        year   \n",
       "30                    Chicago, IL     NaN     150000.0   150000.0        year   \n",
       "31                    Chicago, IL     NaN      90000.0   120000.0        year   \n",
       "32             Chicago, IL 60606      3.9      70000.0   150000.0        year   \n",
       "34             Chicago, IL 60606      3.9      52000.0   110000.0        year   \n",
       "35                    Chicago, IL     3.9      52000.0   110000.0        year   \n",
       "36             Chicago, IL 60602      NaN      52000.0   110000.0        year   \n",
       "37                    Chicago, IL     3.9      70000.0   150000.0        year   \n",
       "...                           ...     ...          ...        ...         ...   \n",
       "10851              Long Beach, CA     2.6      50000.0    65000.0        year   \n",
       "10852               Palo Alto, CA     NaN      90000.0   120000.0        year   \n",
       "10853           San Francisco, CA     NaN      78000.0   119000.0        year   \n",
       "10854         San Jose, CA 95113      NaN     120000.0   175000.0        year   \n",
       "10855           San Francisco, CA     NaN     110000.0   180000.0        year   \n",
       "10856                New York, NY     NaN      80000.0   100000.0        year   \n",
       "10860         San Jose, CA 95112      NaN      20000.0    80000.0        year   \n",
       "10861         San Jose, CA 95112      NaN      20000.0    80000.0        year   \n",
       "10862                San Jose, CA     NaN     250000.0   250000.0        year   \n",
       "10863         San Jose, CA 95112      NaN      20000.0    80000.0        year   \n",
       "10864               San Diego, CA     NaN      48000.0    75000.0        year   \n",
       "10865       Yorba Linda, CA 92886     NaN       6500.0     7500.0       month   \n",
       "10866         San Jose, CA 95112      NaN      20000.0    80000.0        year   \n",
       "10869                San Jose, CA     NaN      20000.0    80000.0        year   \n",
       "10870         San Jose, CA 95112      NaN      20000.0    80000.0        year   \n",
       "10871                San Jose, CA     NaN      20000.0    80000.0        year   \n",
       "10872         San Jose, CA 95113      NaN     120000.0   175000.0        year   \n",
       "10873           San Francisco, CA     3.8     100000.0   150000.0        year   \n",
       "10874  San Francisco Bay Area, CA     3.6     185000.0   225000.0        year   \n",
       "10875               United States     3.4     130000.0   190000.0        year   \n",
       "10876               United States     3.4     150000.0   200000.0        year   \n",
       "10877               United States     3.4     150000.0   200000.0        year   \n",
       "10878               United States     3.4     150000.0   200000.0        year   \n",
       "10879               United States     3.4     150000.0   200000.0        year   \n",
       "10880               United States     3.4     150000.0   200000.0        year   \n",
       "10881               United States     3.4     150000.0   200000.0        year   \n",
       "10882               United States     3.4     130000.0   190000.0        year   \n",
       "10883               United States     3.4     150000.0   200000.0        year   \n",
       "10884               United States     3.4     150000.0   200000.0        year   \n",
       "10885               United States     3.4     130000.0   190000.0        year   \n",
       "\n",
       "            skill           state  \\\n",
       "0            java      California   \n",
       "1          python      California   \n",
       "5          python            Ohio   \n",
       "6          python            Ohio   \n",
       "7          python            Ohio   \n",
       "8          python            Ohio   \n",
       "10         python    Pennsylvania   \n",
       "11         python    Pennsylvania   \n",
       "12         python    Pennsylvania   \n",
       "14         python    Pennsylvania   \n",
       "15         python    Pennsylvania   \n",
       "16         python    Pennsylvania   \n",
       "17         python    Pennsylvania   \n",
       "18         python    Pennsylvania   \n",
       "19         python    Pennsylvania   \n",
       "20         python    Pennsylvania   \n",
       "22         python    Pennsylvania   \n",
       "23         python    Pennsylvania   \n",
       "24         python    Pennsylvania   \n",
       "25         python        Illinois   \n",
       "26         python        Illinois   \n",
       "27         python        Illinois   \n",
       "28         python        Illinois   \n",
       "30         python        Illinois   \n",
       "31         python        Illinois   \n",
       "32         python        Illinois   \n",
       "34         python        Illinois   \n",
       "35         python        Illinois   \n",
       "36         python        Illinois   \n",
       "37         python        Illinois   \n",
       "...           ...             ...   \n",
       "10851  blockchain      California   \n",
       "10852  blockchain      California   \n",
       "10853  blockchain      California   \n",
       "10854  blockchain      California   \n",
       "10855  blockchain      California   \n",
       "10856  blockchain        New York   \n",
       "10860  blockchain      California   \n",
       "10861  blockchain      California   \n",
       "10862  blockchain      California   \n",
       "10863  blockchain      California   \n",
       "10864  blockchain      California   \n",
       "10865  blockchain      California   \n",
       "10866  blockchain      California   \n",
       "10869  blockchain      California   \n",
       "10870  blockchain      California   \n",
       "10871  blockchain      California   \n",
       "10872  blockchain      California   \n",
       "10873  blockchain      California   \n",
       "10874  blockchain      California   \n",
       "10875  blockchain           Texas   \n",
       "10876  blockchain           Texas   \n",
       "10877  blockchain         Florida   \n",
       "10878  blockchain        Illinois   \n",
       "10879  blockchain    Pennsylvania   \n",
       "10880  blockchain            Ohio   \n",
       "10881  blockchain         Georgia   \n",
       "10882  blockchain  North Carolina   \n",
       "10883  blockchain  North Carolina   \n",
       "10884  blockchain        Michigan   \n",
       "10885  blockchain        New York   \n",
       "\n",
       "                                                   title    salary  \n",
       "0                             Quality Assurance Engineer   50000.0  \n",
       "1                              Lead Full Stack Developer  120000.0  \n",
       "5                                         Cloud Engineer   84219.0  \n",
       "6      One fully funded PHD position, and two masters...   22000.0  \n",
       "7                         Software Engineer (Full Stack)   80000.0  \n",
       "8                               Post Doctoral Researcher   47500.0  \n",
       "10                    Full Stack Ruby on Rails Developer   87500.0  \n",
       "11                                    Back End Developer   50000.0  \n",
       "12                           Software Engineer (Imaging)   95000.0  \n",
       "14                                       DevOps Engineer   70000.0  \n",
       "15                               QA Automation Developer   85000.0  \n",
       "16     Software Developer - US Citizenship Required -...   65000.0  \n",
       "17                                Applications Developer   60000.0  \n",
       "18                              Entry Level Data Analyst   70000.0  \n",
       "19                       Epidemiology Research Associate   83032.5  \n",
       "20         Software Developer - Java, Python, AWS a plus   90000.0  \n",
       "22                                         API Developer  120000.0  \n",
       "23                                     Software Engineer   67500.0  \n",
       "24                                   Computer Programmer   46800.0  \n",
       "25         Senior Network Programming Engineer - Chicago   90000.0  \n",
       "26            Research Associate/Postdoctoral Researcher   52500.0  \n",
       "27                            Web Development Instructor  102500.0  \n",
       "28     Senior Analyst, Payment Solutions Analytics - ...   81000.0  \n",
       "30              022: Data Science Lead - Dynamic Pricing  150000.0  \n",
       "31                              RF Research Engineer SME  105000.0  \n",
       "32                           AVP, Capabilities Analytics  110000.0  \n",
       "34     Senior Analyst, Payment Solutions Analytics - ...   81000.0  \n",
       "35                         Android Developer - GPShopper   81000.0  \n",
       "36                         Android Developer - GPShopper   81000.0  \n",
       "37                           AVP, Capabilities Analytics  110000.0  \n",
       "...                                                  ...       ...  \n",
       "10851                       Technical In-House Recruiter   57500.0  \n",
       "10852                Product Manager - Decentralized App  105000.0  \n",
       "10853                       Community Operations Manager   98500.0  \n",
       "10854                  VideoCoin Network Product Manager  147500.0  \n",
       "10855                              Go Software Developer  145000.0  \n",
       "10856                                    Project Manager   90000.0  \n",
       "10860  BlockChain community management assistant(inte...   50000.0  \n",
       "10861           Deep Learning lab assistant (internship)   50000.0  \n",
       "10862                        Blockchain Development Team  250000.0  \n",
       "10863         community management assistant(internship)   50000.0  \n",
       "10864                      Location Scout - Inside Sales   61500.0  \n",
       "10865  Android / IOS Mobile App Developer (Ionic Expe...   84000.0  \n",
       "10866     Self-Marketing planning assistant (Internship)   50000.0  \n",
       "10869      AI Deep learning/Big data Engineer Internship   50000.0  \n",
       "10870                Big Data Lab Assistant (internship)   50000.0  \n",
       "10871                        Digital Marketing Assistant   50000.0  \n",
       "10872            Blockchain Software Engineering Manager  147500.0  \n",
       "10873                           Senior Software Engineer  125000.0  \n",
       "10874                              Director of eCommerce  205000.0  \n",
       "10875                                 Big Data Architect  160000.0  \n",
       "10876                               Cloud Data Architect  175000.0  \n",
       "10877                               Cloud Data Architect  175000.0  \n",
       "10878                               Cloud Data Architect  175000.0  \n",
       "10879                               Cloud Data Architect  175000.0  \n",
       "10880                               Cloud Data Architect  175000.0  \n",
       "10881                               Cloud Data Architect  175000.0  \n",
       "10882                                 Big Data Architect  160000.0  \n",
       "10883                               Cloud Data Architect  175000.0  \n",
       "10884                               Cloud Data Architect  175000.0  \n",
       "10885                                 Big Data Architect  160000.0  \n",
       "\n",
       "[7348 rows x 11 columns]"
      ]
     },
     "execution_count": 2,
     "metadata": {},
     "output_type": "execute_result"
    }
   ],
   "source": [
    "# cleansing + calculate average salary\n",
    "jobs = jobs.drop_duplicates(keep=False)\n",
    "jobs['salary'] = (jobs['salary_from'] + jobs['salary_to']) / 2\n",
    "jobs.loc[jobs['salary_unit'] == 'month', 'salary'] = jobs.loc[jobs['salary_unit'] == 'month', 'salary'] * 12\n",
    "jobs = jobs[(jobs['salary_unit'] == 'year') | (jobs['salary_unit'] == 'month')]\n",
    "\n",
    "jobs"
   ]
  },
  {
   "cell_type": "code",
   "execution_count": 3,
   "metadata": {},
   "outputs": [
    {
     "data": {
      "application/vnd.plotly.v1+json": {
       "config": {
        "linkText": "Export to plot.ly",
        "plotlyServerURL": "https://plot.ly",
        "showLink": false
       },
       "data": [
        {
         "marker": {
          "color": "orange"
         },
         "text": [
          "California",
          "Texas",
          "New York",
          "Florida",
          "Pennsylvania",
          "Illinois",
          "North Carolina",
          "Michigan",
          "Georgia",
          "Ohio"
         ],
         "type": "bar",
         "x": [
          "California",
          "Texas",
          "New York",
          "Florida",
          "Pennsylvania",
          "Illinois",
          "North Carolina",
          "Michigan",
          "Georgia",
          "Ohio"
         ],
         "y": [
          1591,
          1278,
          1253,
          695,
          567,
          485,
          445,
          377,
          375,
          282
         ]
        }
       ],
       "layout": {
        "height": 500,
        "template": {
         "data": {
          "bar": [
           {
            "error_x": {
             "color": "#2a3f5f"
            },
            "error_y": {
             "color": "#2a3f5f"
            },
            "marker": {
             "line": {
              "color": "#E5ECF6",
              "width": 0.5
             }
            },
            "type": "bar"
           }
          ],
          "barpolar": [
           {
            "marker": {
             "line": {
              "color": "#E5ECF6",
              "width": 0.5
             }
            },
            "type": "barpolar"
           }
          ],
          "carpet": [
           {
            "aaxis": {
             "endlinecolor": "#2a3f5f",
             "gridcolor": "white",
             "linecolor": "white",
             "minorgridcolor": "white",
             "startlinecolor": "#2a3f5f"
            },
            "baxis": {
             "endlinecolor": "#2a3f5f",
             "gridcolor": "white",
             "linecolor": "white",
             "minorgridcolor": "white",
             "startlinecolor": "#2a3f5f"
            },
            "type": "carpet"
           }
          ],
          "choropleth": [
           {
            "colorbar": {
             "outlinewidth": 0,
             "ticks": ""
            },
            "type": "choropleth"
           }
          ],
          "contour": [
           {
            "colorbar": {
             "outlinewidth": 0,
             "ticks": ""
            },
            "colorscale": [
             [
              0,
              "#0d0887"
             ],
             [
              0.1111111111111111,
              "#46039f"
             ],
             [
              0.2222222222222222,
              "#7201a8"
             ],
             [
              0.3333333333333333,
              "#9c179e"
             ],
             [
              0.4444444444444444,
              "#bd3786"
             ],
             [
              0.5555555555555556,
              "#d8576b"
             ],
             [
              0.6666666666666666,
              "#ed7953"
             ],
             [
              0.7777777777777778,
              "#fb9f3a"
             ],
             [
              0.8888888888888888,
              "#fdca26"
             ],
             [
              1,
              "#f0f921"
             ]
            ],
            "type": "contour"
           }
          ],
          "contourcarpet": [
           {
            "colorbar": {
             "outlinewidth": 0,
             "ticks": ""
            },
            "type": "contourcarpet"
           }
          ],
          "heatmap": [
           {
            "colorbar": {
             "outlinewidth": 0,
             "ticks": ""
            },
            "colorscale": [
             [
              0,
              "#0d0887"
             ],
             [
              0.1111111111111111,
              "#46039f"
             ],
             [
              0.2222222222222222,
              "#7201a8"
             ],
             [
              0.3333333333333333,
              "#9c179e"
             ],
             [
              0.4444444444444444,
              "#bd3786"
             ],
             [
              0.5555555555555556,
              "#d8576b"
             ],
             [
              0.6666666666666666,
              "#ed7953"
             ],
             [
              0.7777777777777778,
              "#fb9f3a"
             ],
             [
              0.8888888888888888,
              "#fdca26"
             ],
             [
              1,
              "#f0f921"
             ]
            ],
            "type": "heatmap"
           }
          ],
          "heatmapgl": [
           {
            "colorbar": {
             "outlinewidth": 0,
             "ticks": ""
            },
            "colorscale": [
             [
              0,
              "#0d0887"
             ],
             [
              0.1111111111111111,
              "#46039f"
             ],
             [
              0.2222222222222222,
              "#7201a8"
             ],
             [
              0.3333333333333333,
              "#9c179e"
             ],
             [
              0.4444444444444444,
              "#bd3786"
             ],
             [
              0.5555555555555556,
              "#d8576b"
             ],
             [
              0.6666666666666666,
              "#ed7953"
             ],
             [
              0.7777777777777778,
              "#fb9f3a"
             ],
             [
              0.8888888888888888,
              "#fdca26"
             ],
             [
              1,
              "#f0f921"
             ]
            ],
            "type": "heatmapgl"
           }
          ],
          "histogram": [
           {
            "marker": {
             "colorbar": {
              "outlinewidth": 0,
              "ticks": ""
             }
            },
            "type": "histogram"
           }
          ],
          "histogram2d": [
           {
            "colorbar": {
             "outlinewidth": 0,
             "ticks": ""
            },
            "colorscale": [
             [
              0,
              "#0d0887"
             ],
             [
              0.1111111111111111,
              "#46039f"
             ],
             [
              0.2222222222222222,
              "#7201a8"
             ],
             [
              0.3333333333333333,
              "#9c179e"
             ],
             [
              0.4444444444444444,
              "#bd3786"
             ],
             [
              0.5555555555555556,
              "#d8576b"
             ],
             [
              0.6666666666666666,
              "#ed7953"
             ],
             [
              0.7777777777777778,
              "#fb9f3a"
             ],
             [
              0.8888888888888888,
              "#fdca26"
             ],
             [
              1,
              "#f0f921"
             ]
            ],
            "type": "histogram2d"
           }
          ],
          "histogram2dcontour": [
           {
            "colorbar": {
             "outlinewidth": 0,
             "ticks": ""
            },
            "colorscale": [
             [
              0,
              "#0d0887"
             ],
             [
              0.1111111111111111,
              "#46039f"
             ],
             [
              0.2222222222222222,
              "#7201a8"
             ],
             [
              0.3333333333333333,
              "#9c179e"
             ],
             [
              0.4444444444444444,
              "#bd3786"
             ],
             [
              0.5555555555555556,
              "#d8576b"
             ],
             [
              0.6666666666666666,
              "#ed7953"
             ],
             [
              0.7777777777777778,
              "#fb9f3a"
             ],
             [
              0.8888888888888888,
              "#fdca26"
             ],
             [
              1,
              "#f0f921"
             ]
            ],
            "type": "histogram2dcontour"
           }
          ],
          "mesh3d": [
           {
            "colorbar": {
             "outlinewidth": 0,
             "ticks": ""
            },
            "type": "mesh3d"
           }
          ],
          "parcoords": [
           {
            "line": {
             "colorbar": {
              "outlinewidth": 0,
              "ticks": ""
             }
            },
            "type": "parcoords"
           }
          ],
          "scatter": [
           {
            "marker": {
             "colorbar": {
              "outlinewidth": 0,
              "ticks": ""
             }
            },
            "type": "scatter"
           }
          ],
          "scatter3d": [
           {
            "line": {
             "colorbar": {
              "outlinewidth": 0,
              "ticks": ""
             }
            },
            "marker": {
             "colorbar": {
              "outlinewidth": 0,
              "ticks": ""
             }
            },
            "type": "scatter3d"
           }
          ],
          "scattercarpet": [
           {
            "marker": {
             "colorbar": {
              "outlinewidth": 0,
              "ticks": ""
             }
            },
            "type": "scattercarpet"
           }
          ],
          "scattergeo": [
           {
            "marker": {
             "colorbar": {
              "outlinewidth": 0,
              "ticks": ""
             }
            },
            "type": "scattergeo"
           }
          ],
          "scattergl": [
           {
            "marker": {
             "colorbar": {
              "outlinewidth": 0,
              "ticks": ""
             }
            },
            "type": "scattergl"
           }
          ],
          "scattermapbox": [
           {
            "marker": {
             "colorbar": {
              "outlinewidth": 0,
              "ticks": ""
             }
            },
            "type": "scattermapbox"
           }
          ],
          "scatterpolar": [
           {
            "marker": {
             "colorbar": {
              "outlinewidth": 0,
              "ticks": ""
             }
            },
            "type": "scatterpolar"
           }
          ],
          "scatterpolargl": [
           {
            "marker": {
             "colorbar": {
              "outlinewidth": 0,
              "ticks": ""
             }
            },
            "type": "scatterpolargl"
           }
          ],
          "scatterternary": [
           {
            "marker": {
             "colorbar": {
              "outlinewidth": 0,
              "ticks": ""
             }
            },
            "type": "scatterternary"
           }
          ],
          "surface": [
           {
            "colorbar": {
             "outlinewidth": 0,
             "ticks": ""
            },
            "colorscale": [
             [
              0,
              "#0d0887"
             ],
             [
              0.1111111111111111,
              "#46039f"
             ],
             [
              0.2222222222222222,
              "#7201a8"
             ],
             [
              0.3333333333333333,
              "#9c179e"
             ],
             [
              0.4444444444444444,
              "#bd3786"
             ],
             [
              0.5555555555555556,
              "#d8576b"
             ],
             [
              0.6666666666666666,
              "#ed7953"
             ],
             [
              0.7777777777777778,
              "#fb9f3a"
             ],
             [
              0.8888888888888888,
              "#fdca26"
             ],
             [
              1,
              "#f0f921"
             ]
            ],
            "type": "surface"
           }
          ],
          "table": [
           {
            "cells": {
             "fill": {
              "color": "#EBF0F8"
             },
             "line": {
              "color": "white"
             }
            },
            "header": {
             "fill": {
              "color": "#C8D4E3"
             },
             "line": {
              "color": "white"
             }
            },
            "type": "table"
           }
          ]
         },
         "layout": {
          "annotationdefaults": {
           "arrowcolor": "#2a3f5f",
           "arrowhead": 0,
           "arrowwidth": 1
          },
          "colorscale": {
           "diverging": [
            [
             0,
             "#8e0152"
            ],
            [
             0.1,
             "#c51b7d"
            ],
            [
             0.2,
             "#de77ae"
            ],
            [
             0.3,
             "#f1b6da"
            ],
            [
             0.4,
             "#fde0ef"
            ],
            [
             0.5,
             "#f7f7f7"
            ],
            [
             0.6,
             "#e6f5d0"
            ],
            [
             0.7,
             "#b8e186"
            ],
            [
             0.8,
             "#7fbc41"
            ],
            [
             0.9,
             "#4d9221"
            ],
            [
             1,
             "#276419"
            ]
           ],
           "sequential": [
            [
             0,
             "#0d0887"
            ],
            [
             0.1111111111111111,
             "#46039f"
            ],
            [
             0.2222222222222222,
             "#7201a8"
            ],
            [
             0.3333333333333333,
             "#9c179e"
            ],
            [
             0.4444444444444444,
             "#bd3786"
            ],
            [
             0.5555555555555556,
             "#d8576b"
            ],
            [
             0.6666666666666666,
             "#ed7953"
            ],
            [
             0.7777777777777778,
             "#fb9f3a"
            ],
            [
             0.8888888888888888,
             "#fdca26"
            ],
            [
             1,
             "#f0f921"
            ]
           ],
           "sequentialminus": [
            [
             0,
             "#0d0887"
            ],
            [
             0.1111111111111111,
             "#46039f"
            ],
            [
             0.2222222222222222,
             "#7201a8"
            ],
            [
             0.3333333333333333,
             "#9c179e"
            ],
            [
             0.4444444444444444,
             "#bd3786"
            ],
            [
             0.5555555555555556,
             "#d8576b"
            ],
            [
             0.6666666666666666,
             "#ed7953"
            ],
            [
             0.7777777777777778,
             "#fb9f3a"
            ],
            [
             0.8888888888888888,
             "#fdca26"
            ],
            [
             1,
             "#f0f921"
            ]
           ]
          },
          "colorway": [
           "#636efa",
           "#EF553B",
           "#00cc96",
           "#ab63fa",
           "#FFA15A",
           "#19d3f3",
           "#FF6692",
           "#B6E880",
           "#FF97FF",
           "#FECB52"
          ],
          "font": {
           "color": "#2a3f5f"
          },
          "geo": {
           "bgcolor": "white",
           "lakecolor": "white",
           "landcolor": "#E5ECF6",
           "showlakes": true,
           "showland": true,
           "subunitcolor": "white"
          },
          "hoverlabel": {
           "align": "left"
          },
          "hovermode": "closest",
          "mapbox": {
           "style": "light"
          },
          "paper_bgcolor": "white",
          "plot_bgcolor": "#E5ECF6",
          "polar": {
           "angularaxis": {
            "gridcolor": "white",
            "linecolor": "white",
            "ticks": ""
           },
           "bgcolor": "#E5ECF6",
           "radialaxis": {
            "gridcolor": "white",
            "linecolor": "white",
            "ticks": ""
           }
          },
          "scene": {
           "xaxis": {
            "backgroundcolor": "#E5ECF6",
            "gridcolor": "white",
            "gridwidth": 2,
            "linecolor": "white",
            "showbackground": true,
            "ticks": "",
            "zerolinecolor": "white"
           },
           "yaxis": {
            "backgroundcolor": "#E5ECF6",
            "gridcolor": "white",
            "gridwidth": 2,
            "linecolor": "white",
            "showbackground": true,
            "ticks": "",
            "zerolinecolor": "white"
           },
           "zaxis": {
            "backgroundcolor": "#E5ECF6",
            "gridcolor": "white",
            "gridwidth": 2,
            "linecolor": "white",
            "showbackground": true,
            "ticks": "",
            "zerolinecolor": "white"
           }
          },
          "shapedefaults": {
           "line": {
            "color": "#2a3f5f"
           }
          },
          "ternary": {
           "aaxis": {
            "gridcolor": "white",
            "linecolor": "white",
            "ticks": ""
           },
           "baxis": {
            "gridcolor": "white",
            "linecolor": "white",
            "ticks": ""
           },
           "bgcolor": "#E5ECF6",
           "caxis": {
            "gridcolor": "white",
            "linecolor": "white",
            "ticks": ""
           }
          },
          "title": {
           "x": 0.05
          },
          "xaxis": {
           "automargin": true,
           "gridcolor": "white",
           "linecolor": "white",
           "ticks": "",
           "zerolinecolor": "white",
           "zerolinewidth": 2
          },
          "yaxis": {
           "automargin": true,
           "gridcolor": "white",
           "linecolor": "white",
           "ticks": "",
           "zerolinecolor": "white",
           "zerolinewidth": 2
          }
         }
        },
        "title": {
         "text": "Job Count of State Related to Computer Skills"
        },
        "width": 900
       }
      },
      "text/html": [
       "<div>\n",
       "        \n",
       "        \n",
       "            <div id=\"2e513794-a154-4343-804f-88ca0cfe00a2\" class=\"plotly-graph-div\" style=\"height:500px; width:900px;\"></div>\n",
       "            <script type=\"text/javascript\">\n",
       "                require([\"plotly\"], function(Plotly) {\n",
       "                    window.PLOTLYENV=window.PLOTLYENV || {};\n",
       "                    \n",
       "                if (document.getElementById(\"2e513794-a154-4343-804f-88ca0cfe00a2\")) {\n",
       "                    Plotly.newPlot(\n",
       "                        '2e513794-a154-4343-804f-88ca0cfe00a2',\n",
       "                        [{\"marker\": {\"color\": \"orange\"}, \"text\": [\"California\", \"Texas\", \"New York\", \"Florida\", \"Pennsylvania\", \"Illinois\", \"North Carolina\", \"Michigan\", \"Georgia\", \"Ohio\"], \"type\": \"bar\", \"x\": [\"California\", \"Texas\", \"New York\", \"Florida\", \"Pennsylvania\", \"Illinois\", \"North Carolina\", \"Michigan\", \"Georgia\", \"Ohio\"], \"y\": [1591, 1278, 1253, 695, 567, 485, 445, 377, 375, 282]}],\n",
       "                        {\"height\": 500, \"template\": {\"data\": {\"bar\": [{\"error_x\": {\"color\": \"#2a3f5f\"}, \"error_y\": {\"color\": \"#2a3f5f\"}, \"marker\": {\"line\": {\"color\": \"#E5ECF6\", \"width\": 0.5}}, \"type\": \"bar\"}], \"barpolar\": [{\"marker\": {\"line\": {\"color\": \"#E5ECF6\", \"width\": 0.5}}, \"type\": \"barpolar\"}], \"carpet\": [{\"aaxis\": {\"endlinecolor\": \"#2a3f5f\", \"gridcolor\": \"white\", \"linecolor\": \"white\", \"minorgridcolor\": \"white\", \"startlinecolor\": \"#2a3f5f\"}, \"baxis\": {\"endlinecolor\": \"#2a3f5f\", \"gridcolor\": \"white\", \"linecolor\": \"white\", \"minorgridcolor\": \"white\", \"startlinecolor\": \"#2a3f5f\"}, \"type\": \"carpet\"}], \"choropleth\": [{\"colorbar\": {\"outlinewidth\": 0, \"ticks\": \"\"}, \"type\": \"choropleth\"}], \"contour\": [{\"colorbar\": {\"outlinewidth\": 0, \"ticks\": \"\"}, \"colorscale\": [[0.0, \"#0d0887\"], [0.1111111111111111, \"#46039f\"], [0.2222222222222222, \"#7201a8\"], [0.3333333333333333, \"#9c179e\"], [0.4444444444444444, \"#bd3786\"], [0.5555555555555556, \"#d8576b\"], [0.6666666666666666, \"#ed7953\"], [0.7777777777777778, \"#fb9f3a\"], [0.8888888888888888, \"#fdca26\"], [1.0, \"#f0f921\"]], \"type\": \"contour\"}], \"contourcarpet\": [{\"colorbar\": {\"outlinewidth\": 0, \"ticks\": \"\"}, \"type\": \"contourcarpet\"}], \"heatmap\": [{\"colorbar\": {\"outlinewidth\": 0, \"ticks\": \"\"}, \"colorscale\": [[0.0, \"#0d0887\"], [0.1111111111111111, \"#46039f\"], [0.2222222222222222, \"#7201a8\"], [0.3333333333333333, \"#9c179e\"], [0.4444444444444444, \"#bd3786\"], [0.5555555555555556, \"#d8576b\"], [0.6666666666666666, \"#ed7953\"], [0.7777777777777778, \"#fb9f3a\"], [0.8888888888888888, \"#fdca26\"], [1.0, \"#f0f921\"]], \"type\": \"heatmap\"}], \"heatmapgl\": [{\"colorbar\": {\"outlinewidth\": 0, \"ticks\": \"\"}, \"colorscale\": [[0.0, \"#0d0887\"], [0.1111111111111111, \"#46039f\"], [0.2222222222222222, \"#7201a8\"], [0.3333333333333333, \"#9c179e\"], [0.4444444444444444, \"#bd3786\"], [0.5555555555555556, \"#d8576b\"], [0.6666666666666666, \"#ed7953\"], [0.7777777777777778, \"#fb9f3a\"], [0.8888888888888888, \"#fdca26\"], [1.0, \"#f0f921\"]], \"type\": \"heatmapgl\"}], \"histogram\": [{\"marker\": {\"colorbar\": {\"outlinewidth\": 0, \"ticks\": \"\"}}, \"type\": \"histogram\"}], \"histogram2d\": [{\"colorbar\": {\"outlinewidth\": 0, \"ticks\": \"\"}, \"colorscale\": [[0.0, \"#0d0887\"], [0.1111111111111111, \"#46039f\"], [0.2222222222222222, \"#7201a8\"], [0.3333333333333333, \"#9c179e\"], [0.4444444444444444, \"#bd3786\"], [0.5555555555555556, \"#d8576b\"], [0.6666666666666666, \"#ed7953\"], [0.7777777777777778, \"#fb9f3a\"], [0.8888888888888888, \"#fdca26\"], [1.0, \"#f0f921\"]], \"type\": \"histogram2d\"}], \"histogram2dcontour\": [{\"colorbar\": {\"outlinewidth\": 0, \"ticks\": \"\"}, \"colorscale\": [[0.0, \"#0d0887\"], [0.1111111111111111, \"#46039f\"], [0.2222222222222222, \"#7201a8\"], [0.3333333333333333, \"#9c179e\"], [0.4444444444444444, \"#bd3786\"], [0.5555555555555556, \"#d8576b\"], [0.6666666666666666, \"#ed7953\"], [0.7777777777777778, \"#fb9f3a\"], [0.8888888888888888, \"#fdca26\"], [1.0, \"#f0f921\"]], \"type\": \"histogram2dcontour\"}], \"mesh3d\": [{\"colorbar\": {\"outlinewidth\": 0, \"ticks\": \"\"}, \"type\": \"mesh3d\"}], \"parcoords\": [{\"line\": {\"colorbar\": {\"outlinewidth\": 0, \"ticks\": \"\"}}, \"type\": \"parcoords\"}], \"scatter\": [{\"marker\": {\"colorbar\": {\"outlinewidth\": 0, \"ticks\": \"\"}}, \"type\": \"scatter\"}], \"scatter3d\": [{\"line\": {\"colorbar\": {\"outlinewidth\": 0, \"ticks\": \"\"}}, \"marker\": {\"colorbar\": {\"outlinewidth\": 0, \"ticks\": \"\"}}, \"type\": \"scatter3d\"}], \"scattercarpet\": [{\"marker\": {\"colorbar\": {\"outlinewidth\": 0, \"ticks\": \"\"}}, \"type\": \"scattercarpet\"}], \"scattergeo\": [{\"marker\": {\"colorbar\": {\"outlinewidth\": 0, \"ticks\": \"\"}}, \"type\": \"scattergeo\"}], \"scattergl\": [{\"marker\": {\"colorbar\": {\"outlinewidth\": 0, \"ticks\": \"\"}}, \"type\": \"scattergl\"}], \"scattermapbox\": [{\"marker\": {\"colorbar\": {\"outlinewidth\": 0, \"ticks\": \"\"}}, \"type\": \"scattermapbox\"}], \"scatterpolar\": [{\"marker\": {\"colorbar\": {\"outlinewidth\": 0, \"ticks\": \"\"}}, \"type\": \"scatterpolar\"}], \"scatterpolargl\": [{\"marker\": {\"colorbar\": {\"outlinewidth\": 0, \"ticks\": \"\"}}, \"type\": \"scatterpolargl\"}], \"scatterternary\": [{\"marker\": {\"colorbar\": {\"outlinewidth\": 0, \"ticks\": \"\"}}, \"type\": \"scatterternary\"}], \"surface\": [{\"colorbar\": {\"outlinewidth\": 0, \"ticks\": \"\"}, \"colorscale\": [[0.0, \"#0d0887\"], [0.1111111111111111, \"#46039f\"], [0.2222222222222222, \"#7201a8\"], [0.3333333333333333, \"#9c179e\"], [0.4444444444444444, \"#bd3786\"], [0.5555555555555556, \"#d8576b\"], [0.6666666666666666, \"#ed7953\"], [0.7777777777777778, \"#fb9f3a\"], [0.8888888888888888, \"#fdca26\"], [1.0, \"#f0f921\"]], \"type\": \"surface\"}], \"table\": [{\"cells\": {\"fill\": {\"color\": \"#EBF0F8\"}, \"line\": {\"color\": \"white\"}}, \"header\": {\"fill\": {\"color\": \"#C8D4E3\"}, \"line\": {\"color\": \"white\"}}, \"type\": \"table\"}]}, \"layout\": {\"annotationdefaults\": {\"arrowcolor\": \"#2a3f5f\", \"arrowhead\": 0, \"arrowwidth\": 1}, \"colorscale\": {\"diverging\": [[0, \"#8e0152\"], [0.1, \"#c51b7d\"], [0.2, \"#de77ae\"], [0.3, \"#f1b6da\"], [0.4, \"#fde0ef\"], [0.5, \"#f7f7f7\"], [0.6, \"#e6f5d0\"], [0.7, \"#b8e186\"], [0.8, \"#7fbc41\"], [0.9, \"#4d9221\"], [1, \"#276419\"]], \"sequential\": [[0.0, \"#0d0887\"], [0.1111111111111111, \"#46039f\"], [0.2222222222222222, \"#7201a8\"], [0.3333333333333333, \"#9c179e\"], [0.4444444444444444, \"#bd3786\"], [0.5555555555555556, \"#d8576b\"], [0.6666666666666666, \"#ed7953\"], [0.7777777777777778, \"#fb9f3a\"], [0.8888888888888888, \"#fdca26\"], [1.0, \"#f0f921\"]], \"sequentialminus\": [[0.0, \"#0d0887\"], [0.1111111111111111, \"#46039f\"], [0.2222222222222222, \"#7201a8\"], [0.3333333333333333, \"#9c179e\"], [0.4444444444444444, \"#bd3786\"], [0.5555555555555556, \"#d8576b\"], [0.6666666666666666, \"#ed7953\"], [0.7777777777777778, \"#fb9f3a\"], [0.8888888888888888, \"#fdca26\"], [1.0, \"#f0f921\"]]}, \"colorway\": [\"#636efa\", \"#EF553B\", \"#00cc96\", \"#ab63fa\", \"#FFA15A\", \"#19d3f3\", \"#FF6692\", \"#B6E880\", \"#FF97FF\", \"#FECB52\"], \"font\": {\"color\": \"#2a3f5f\"}, \"geo\": {\"bgcolor\": \"white\", \"lakecolor\": \"white\", \"landcolor\": \"#E5ECF6\", \"showlakes\": true, \"showland\": true, \"subunitcolor\": \"white\"}, \"hoverlabel\": {\"align\": \"left\"}, \"hovermode\": \"closest\", \"mapbox\": {\"style\": \"light\"}, \"paper_bgcolor\": \"white\", \"plot_bgcolor\": \"#E5ECF6\", \"polar\": {\"angularaxis\": {\"gridcolor\": \"white\", \"linecolor\": \"white\", \"ticks\": \"\"}, \"bgcolor\": \"#E5ECF6\", \"radialaxis\": {\"gridcolor\": \"white\", \"linecolor\": \"white\", \"ticks\": \"\"}}, \"scene\": {\"xaxis\": {\"backgroundcolor\": \"#E5ECF6\", \"gridcolor\": \"white\", \"gridwidth\": 2, \"linecolor\": \"white\", \"showbackground\": true, \"ticks\": \"\", \"zerolinecolor\": \"white\"}, \"yaxis\": {\"backgroundcolor\": \"#E5ECF6\", \"gridcolor\": \"white\", \"gridwidth\": 2, \"linecolor\": \"white\", \"showbackground\": true, \"ticks\": \"\", \"zerolinecolor\": \"white\"}, \"zaxis\": {\"backgroundcolor\": \"#E5ECF6\", \"gridcolor\": \"white\", \"gridwidth\": 2, \"linecolor\": \"white\", \"showbackground\": true, \"ticks\": \"\", \"zerolinecolor\": \"white\"}}, \"shapedefaults\": {\"line\": {\"color\": \"#2a3f5f\"}}, \"ternary\": {\"aaxis\": {\"gridcolor\": \"white\", \"linecolor\": \"white\", \"ticks\": \"\"}, \"baxis\": {\"gridcolor\": \"white\", \"linecolor\": \"white\", \"ticks\": \"\"}, \"bgcolor\": \"#E5ECF6\", \"caxis\": {\"gridcolor\": \"white\", \"linecolor\": \"white\", \"ticks\": \"\"}}, \"title\": {\"x\": 0.05}, \"xaxis\": {\"automargin\": true, \"gridcolor\": \"white\", \"linecolor\": \"white\", \"ticks\": \"\", \"zerolinecolor\": \"white\", \"zerolinewidth\": 2}, \"yaxis\": {\"automargin\": true, \"gridcolor\": \"white\", \"linecolor\": \"white\", \"ticks\": \"\", \"zerolinecolor\": \"white\", \"zerolinewidth\": 2}}}, \"title\": {\"text\": \"Job Count of State Related to Computer Skills\"}, \"width\": 900},\n",
       "                        {\"responsive\": true}\n",
       "                    ).then(function(){\n",
       "                            \n",
       "var gd = document.getElementById('2e513794-a154-4343-804f-88ca0cfe00a2');\n",
       "var x = new MutationObserver(function (mutations, observer) {{\n",
       "        var display = window.getComputedStyle(gd).display;\n",
       "        if (!display || display === 'none') {{\n",
       "            console.log([gd, 'removed!']);\n",
       "            Plotly.purge(gd);\n",
       "            observer.disconnect();\n",
       "        }}\n",
       "}});\n",
       "\n",
       "// Listen for the removal of the full notebook cells\n",
       "var notebookContainer = gd.closest('#notebook-container');\n",
       "if (notebookContainer) {{\n",
       "    x.observe(notebookContainer, {childList: true});\n",
       "}}\n",
       "\n",
       "// Listen for the clearing of the current output cell\n",
       "var outputEl = gd.closest('.output');\n",
       "if (outputEl) {{\n",
       "    x.observe(outputEl, {childList: true});\n",
       "}}\n",
       "\n",
       "                        })\n",
       "                };\n",
       "                });\n",
       "            </script>\n",
       "        </div>"
      ]
     },
     "metadata": {},
     "output_type": "display_data"
    }
   ],
   "source": [
    "# EDA: visualize bar plot (Job Count of State)\n",
    "state_count = jobs.groupby(['state']).agg({'title':'count'}).sort_values('title', ascending=False).rename(columns={'title':'job_count'})\n",
    "\n",
    "data = [Bar(x=state_count.index, y=state_count['job_count'], text=state_count.index, marker={'color':'orange'})]\n",
    "layout = Layout(title=\"Job Count of State Related to Computer Skills\", width = 900, height = 500)\n",
    "\n",
    "fig = Figure(data=data, layout=layout)\n",
    "\n",
    "plotly.offline.iplot(fig, show_link=False)"
   ]
  },
  {
   "cell_type": "code",
   "execution_count": 4,
   "metadata": {},
   "outputs": [
    {
     "data": {
      "application/vnd.plotly.v1+json": {
       "config": {
        "linkText": "Export to plot.ly",
        "plotlyServerURL": "https://plot.ly",
        "showLink": false
       },
       "data": [
        {
         "marker": {
          "color": "orangered"
         },
         "text": [
          "California",
          "New York",
          "Illinois",
          "Texas",
          "North Carolina",
          "Georgia",
          "Pennsylvania",
          "Ohio",
          "Florida",
          "Michigan"
         ],
         "type": "bar",
         "x": [
          "California",
          "New York",
          "Illinois",
          "Texas",
          "North Carolina",
          "Georgia",
          "Pennsylvania",
          "Ohio",
          "Florida",
          "Michigan"
         ],
         "y": [
          107114.78315524827,
          105741.33200319234,
          95655.16082474227,
          92869.77151799687,
          91933.7213483146,
          91691.80266666667,
          86724.43562610229,
          81941.19326241135,
          80619.79352517986,
          80129.54641909814
         ]
        }
       ],
       "layout": {
        "height": 500,
        "template": {
         "data": {
          "bar": [
           {
            "error_x": {
             "color": "#2a3f5f"
            },
            "error_y": {
             "color": "#2a3f5f"
            },
            "marker": {
             "line": {
              "color": "#E5ECF6",
              "width": 0.5
             }
            },
            "type": "bar"
           }
          ],
          "barpolar": [
           {
            "marker": {
             "line": {
              "color": "#E5ECF6",
              "width": 0.5
             }
            },
            "type": "barpolar"
           }
          ],
          "carpet": [
           {
            "aaxis": {
             "endlinecolor": "#2a3f5f",
             "gridcolor": "white",
             "linecolor": "white",
             "minorgridcolor": "white",
             "startlinecolor": "#2a3f5f"
            },
            "baxis": {
             "endlinecolor": "#2a3f5f",
             "gridcolor": "white",
             "linecolor": "white",
             "minorgridcolor": "white",
             "startlinecolor": "#2a3f5f"
            },
            "type": "carpet"
           }
          ],
          "choropleth": [
           {
            "colorbar": {
             "outlinewidth": 0,
             "ticks": ""
            },
            "type": "choropleth"
           }
          ],
          "contour": [
           {
            "colorbar": {
             "outlinewidth": 0,
             "ticks": ""
            },
            "colorscale": [
             [
              0,
              "#0d0887"
             ],
             [
              0.1111111111111111,
              "#46039f"
             ],
             [
              0.2222222222222222,
              "#7201a8"
             ],
             [
              0.3333333333333333,
              "#9c179e"
             ],
             [
              0.4444444444444444,
              "#bd3786"
             ],
             [
              0.5555555555555556,
              "#d8576b"
             ],
             [
              0.6666666666666666,
              "#ed7953"
             ],
             [
              0.7777777777777778,
              "#fb9f3a"
             ],
             [
              0.8888888888888888,
              "#fdca26"
             ],
             [
              1,
              "#f0f921"
             ]
            ],
            "type": "contour"
           }
          ],
          "contourcarpet": [
           {
            "colorbar": {
             "outlinewidth": 0,
             "ticks": ""
            },
            "type": "contourcarpet"
           }
          ],
          "heatmap": [
           {
            "colorbar": {
             "outlinewidth": 0,
             "ticks": ""
            },
            "colorscale": [
             [
              0,
              "#0d0887"
             ],
             [
              0.1111111111111111,
              "#46039f"
             ],
             [
              0.2222222222222222,
              "#7201a8"
             ],
             [
              0.3333333333333333,
              "#9c179e"
             ],
             [
              0.4444444444444444,
              "#bd3786"
             ],
             [
              0.5555555555555556,
              "#d8576b"
             ],
             [
              0.6666666666666666,
              "#ed7953"
             ],
             [
              0.7777777777777778,
              "#fb9f3a"
             ],
             [
              0.8888888888888888,
              "#fdca26"
             ],
             [
              1,
              "#f0f921"
             ]
            ],
            "type": "heatmap"
           }
          ],
          "heatmapgl": [
           {
            "colorbar": {
             "outlinewidth": 0,
             "ticks": ""
            },
            "colorscale": [
             [
              0,
              "#0d0887"
             ],
             [
              0.1111111111111111,
              "#46039f"
             ],
             [
              0.2222222222222222,
              "#7201a8"
             ],
             [
              0.3333333333333333,
              "#9c179e"
             ],
             [
              0.4444444444444444,
              "#bd3786"
             ],
             [
              0.5555555555555556,
              "#d8576b"
             ],
             [
              0.6666666666666666,
              "#ed7953"
             ],
             [
              0.7777777777777778,
              "#fb9f3a"
             ],
             [
              0.8888888888888888,
              "#fdca26"
             ],
             [
              1,
              "#f0f921"
             ]
            ],
            "type": "heatmapgl"
           }
          ],
          "histogram": [
           {
            "marker": {
             "colorbar": {
              "outlinewidth": 0,
              "ticks": ""
             }
            },
            "type": "histogram"
           }
          ],
          "histogram2d": [
           {
            "colorbar": {
             "outlinewidth": 0,
             "ticks": ""
            },
            "colorscale": [
             [
              0,
              "#0d0887"
             ],
             [
              0.1111111111111111,
              "#46039f"
             ],
             [
              0.2222222222222222,
              "#7201a8"
             ],
             [
              0.3333333333333333,
              "#9c179e"
             ],
             [
              0.4444444444444444,
              "#bd3786"
             ],
             [
              0.5555555555555556,
              "#d8576b"
             ],
             [
              0.6666666666666666,
              "#ed7953"
             ],
             [
              0.7777777777777778,
              "#fb9f3a"
             ],
             [
              0.8888888888888888,
              "#fdca26"
             ],
             [
              1,
              "#f0f921"
             ]
            ],
            "type": "histogram2d"
           }
          ],
          "histogram2dcontour": [
           {
            "colorbar": {
             "outlinewidth": 0,
             "ticks": ""
            },
            "colorscale": [
             [
              0,
              "#0d0887"
             ],
             [
              0.1111111111111111,
              "#46039f"
             ],
             [
              0.2222222222222222,
              "#7201a8"
             ],
             [
              0.3333333333333333,
              "#9c179e"
             ],
             [
              0.4444444444444444,
              "#bd3786"
             ],
             [
              0.5555555555555556,
              "#d8576b"
             ],
             [
              0.6666666666666666,
              "#ed7953"
             ],
             [
              0.7777777777777778,
              "#fb9f3a"
             ],
             [
              0.8888888888888888,
              "#fdca26"
             ],
             [
              1,
              "#f0f921"
             ]
            ],
            "type": "histogram2dcontour"
           }
          ],
          "mesh3d": [
           {
            "colorbar": {
             "outlinewidth": 0,
             "ticks": ""
            },
            "type": "mesh3d"
           }
          ],
          "parcoords": [
           {
            "line": {
             "colorbar": {
              "outlinewidth": 0,
              "ticks": ""
             }
            },
            "type": "parcoords"
           }
          ],
          "scatter": [
           {
            "marker": {
             "colorbar": {
              "outlinewidth": 0,
              "ticks": ""
             }
            },
            "type": "scatter"
           }
          ],
          "scatter3d": [
           {
            "line": {
             "colorbar": {
              "outlinewidth": 0,
              "ticks": ""
             }
            },
            "marker": {
             "colorbar": {
              "outlinewidth": 0,
              "ticks": ""
             }
            },
            "type": "scatter3d"
           }
          ],
          "scattercarpet": [
           {
            "marker": {
             "colorbar": {
              "outlinewidth": 0,
              "ticks": ""
             }
            },
            "type": "scattercarpet"
           }
          ],
          "scattergeo": [
           {
            "marker": {
             "colorbar": {
              "outlinewidth": 0,
              "ticks": ""
             }
            },
            "type": "scattergeo"
           }
          ],
          "scattergl": [
           {
            "marker": {
             "colorbar": {
              "outlinewidth": 0,
              "ticks": ""
             }
            },
            "type": "scattergl"
           }
          ],
          "scattermapbox": [
           {
            "marker": {
             "colorbar": {
              "outlinewidth": 0,
              "ticks": ""
             }
            },
            "type": "scattermapbox"
           }
          ],
          "scatterpolar": [
           {
            "marker": {
             "colorbar": {
              "outlinewidth": 0,
              "ticks": ""
             }
            },
            "type": "scatterpolar"
           }
          ],
          "scatterpolargl": [
           {
            "marker": {
             "colorbar": {
              "outlinewidth": 0,
              "ticks": ""
             }
            },
            "type": "scatterpolargl"
           }
          ],
          "scatterternary": [
           {
            "marker": {
             "colorbar": {
              "outlinewidth": 0,
              "ticks": ""
             }
            },
            "type": "scatterternary"
           }
          ],
          "surface": [
           {
            "colorbar": {
             "outlinewidth": 0,
             "ticks": ""
            },
            "colorscale": [
             [
              0,
              "#0d0887"
             ],
             [
              0.1111111111111111,
              "#46039f"
             ],
             [
              0.2222222222222222,
              "#7201a8"
             ],
             [
              0.3333333333333333,
              "#9c179e"
             ],
             [
              0.4444444444444444,
              "#bd3786"
             ],
             [
              0.5555555555555556,
              "#d8576b"
             ],
             [
              0.6666666666666666,
              "#ed7953"
             ],
             [
              0.7777777777777778,
              "#fb9f3a"
             ],
             [
              0.8888888888888888,
              "#fdca26"
             ],
             [
              1,
              "#f0f921"
             ]
            ],
            "type": "surface"
           }
          ],
          "table": [
           {
            "cells": {
             "fill": {
              "color": "#EBF0F8"
             },
             "line": {
              "color": "white"
             }
            },
            "header": {
             "fill": {
              "color": "#C8D4E3"
             },
             "line": {
              "color": "white"
             }
            },
            "type": "table"
           }
          ]
         },
         "layout": {
          "annotationdefaults": {
           "arrowcolor": "#2a3f5f",
           "arrowhead": 0,
           "arrowwidth": 1
          },
          "colorscale": {
           "diverging": [
            [
             0,
             "#8e0152"
            ],
            [
             0.1,
             "#c51b7d"
            ],
            [
             0.2,
             "#de77ae"
            ],
            [
             0.3,
             "#f1b6da"
            ],
            [
             0.4,
             "#fde0ef"
            ],
            [
             0.5,
             "#f7f7f7"
            ],
            [
             0.6,
             "#e6f5d0"
            ],
            [
             0.7,
             "#b8e186"
            ],
            [
             0.8,
             "#7fbc41"
            ],
            [
             0.9,
             "#4d9221"
            ],
            [
             1,
             "#276419"
            ]
           ],
           "sequential": [
            [
             0,
             "#0d0887"
            ],
            [
             0.1111111111111111,
             "#46039f"
            ],
            [
             0.2222222222222222,
             "#7201a8"
            ],
            [
             0.3333333333333333,
             "#9c179e"
            ],
            [
             0.4444444444444444,
             "#bd3786"
            ],
            [
             0.5555555555555556,
             "#d8576b"
            ],
            [
             0.6666666666666666,
             "#ed7953"
            ],
            [
             0.7777777777777778,
             "#fb9f3a"
            ],
            [
             0.8888888888888888,
             "#fdca26"
            ],
            [
             1,
             "#f0f921"
            ]
           ],
           "sequentialminus": [
            [
             0,
             "#0d0887"
            ],
            [
             0.1111111111111111,
             "#46039f"
            ],
            [
             0.2222222222222222,
             "#7201a8"
            ],
            [
             0.3333333333333333,
             "#9c179e"
            ],
            [
             0.4444444444444444,
             "#bd3786"
            ],
            [
             0.5555555555555556,
             "#d8576b"
            ],
            [
             0.6666666666666666,
             "#ed7953"
            ],
            [
             0.7777777777777778,
             "#fb9f3a"
            ],
            [
             0.8888888888888888,
             "#fdca26"
            ],
            [
             1,
             "#f0f921"
            ]
           ]
          },
          "colorway": [
           "#636efa",
           "#EF553B",
           "#00cc96",
           "#ab63fa",
           "#FFA15A",
           "#19d3f3",
           "#FF6692",
           "#B6E880",
           "#FF97FF",
           "#FECB52"
          ],
          "font": {
           "color": "#2a3f5f"
          },
          "geo": {
           "bgcolor": "white",
           "lakecolor": "white",
           "landcolor": "#E5ECF6",
           "showlakes": true,
           "showland": true,
           "subunitcolor": "white"
          },
          "hoverlabel": {
           "align": "left"
          },
          "hovermode": "closest",
          "mapbox": {
           "style": "light"
          },
          "paper_bgcolor": "white",
          "plot_bgcolor": "#E5ECF6",
          "polar": {
           "angularaxis": {
            "gridcolor": "white",
            "linecolor": "white",
            "ticks": ""
           },
           "bgcolor": "#E5ECF6",
           "radialaxis": {
            "gridcolor": "white",
            "linecolor": "white",
            "ticks": ""
           }
          },
          "scene": {
           "xaxis": {
            "backgroundcolor": "#E5ECF6",
            "gridcolor": "white",
            "gridwidth": 2,
            "linecolor": "white",
            "showbackground": true,
            "ticks": "",
            "zerolinecolor": "white"
           },
           "yaxis": {
            "backgroundcolor": "#E5ECF6",
            "gridcolor": "white",
            "gridwidth": 2,
            "linecolor": "white",
            "showbackground": true,
            "ticks": "",
            "zerolinecolor": "white"
           },
           "zaxis": {
            "backgroundcolor": "#E5ECF6",
            "gridcolor": "white",
            "gridwidth": 2,
            "linecolor": "white",
            "showbackground": true,
            "ticks": "",
            "zerolinecolor": "white"
           }
          },
          "shapedefaults": {
           "line": {
            "color": "#2a3f5f"
           }
          },
          "ternary": {
           "aaxis": {
            "gridcolor": "white",
            "linecolor": "white",
            "ticks": ""
           },
           "baxis": {
            "gridcolor": "white",
            "linecolor": "white",
            "ticks": ""
           },
           "bgcolor": "#E5ECF6",
           "caxis": {
            "gridcolor": "white",
            "linecolor": "white",
            "ticks": ""
           }
          },
          "title": {
           "x": 0.05
          },
          "xaxis": {
           "automargin": true,
           "gridcolor": "white",
           "linecolor": "white",
           "ticks": "",
           "zerolinecolor": "white",
           "zerolinewidth": 2
          },
          "yaxis": {
           "automargin": true,
           "gridcolor": "white",
           "linecolor": "white",
           "ticks": "",
           "zerolinecolor": "white",
           "zerolinewidth": 2
          }
         }
        },
        "title": {
         "text": "Salary of State Related to Computer Skills"
        },
        "width": 900
       }
      },
      "text/html": [
       "<div>\n",
       "        \n",
       "        \n",
       "            <div id=\"f3c48ec4-ee6f-4e8e-962e-7c79a2761856\" class=\"plotly-graph-div\" style=\"height:500px; width:900px;\"></div>\n",
       "            <script type=\"text/javascript\">\n",
       "                require([\"plotly\"], function(Plotly) {\n",
       "                    window.PLOTLYENV=window.PLOTLYENV || {};\n",
       "                    \n",
       "                if (document.getElementById(\"f3c48ec4-ee6f-4e8e-962e-7c79a2761856\")) {\n",
       "                    Plotly.newPlot(\n",
       "                        'f3c48ec4-ee6f-4e8e-962e-7c79a2761856',\n",
       "                        [{\"marker\": {\"color\": \"orangered\"}, \"text\": [\"California\", \"New York\", \"Illinois\", \"Texas\", \"North Carolina\", \"Georgia\", \"Pennsylvania\", \"Ohio\", \"Florida\", \"Michigan\"], \"type\": \"bar\", \"x\": [\"California\", \"New York\", \"Illinois\", \"Texas\", \"North Carolina\", \"Georgia\", \"Pennsylvania\", \"Ohio\", \"Florida\", \"Michigan\"], \"y\": [107114.78315524827, 105741.33200319234, 95655.16082474227, 92869.77151799687, 91933.7213483146, 91691.80266666667, 86724.43562610229, 81941.19326241135, 80619.79352517986, 80129.54641909814]}],\n",
       "                        {\"height\": 500, \"template\": {\"data\": {\"bar\": [{\"error_x\": {\"color\": \"#2a3f5f\"}, \"error_y\": {\"color\": \"#2a3f5f\"}, \"marker\": {\"line\": {\"color\": \"#E5ECF6\", \"width\": 0.5}}, \"type\": \"bar\"}], \"barpolar\": [{\"marker\": {\"line\": {\"color\": \"#E5ECF6\", \"width\": 0.5}}, \"type\": \"barpolar\"}], \"carpet\": [{\"aaxis\": {\"endlinecolor\": \"#2a3f5f\", \"gridcolor\": \"white\", \"linecolor\": \"white\", \"minorgridcolor\": \"white\", \"startlinecolor\": \"#2a3f5f\"}, \"baxis\": {\"endlinecolor\": \"#2a3f5f\", \"gridcolor\": \"white\", \"linecolor\": \"white\", \"minorgridcolor\": \"white\", \"startlinecolor\": \"#2a3f5f\"}, \"type\": \"carpet\"}], \"choropleth\": [{\"colorbar\": {\"outlinewidth\": 0, \"ticks\": \"\"}, \"type\": \"choropleth\"}], \"contour\": [{\"colorbar\": {\"outlinewidth\": 0, \"ticks\": \"\"}, \"colorscale\": [[0.0, \"#0d0887\"], [0.1111111111111111, \"#46039f\"], [0.2222222222222222, \"#7201a8\"], [0.3333333333333333, \"#9c179e\"], [0.4444444444444444, \"#bd3786\"], [0.5555555555555556, \"#d8576b\"], [0.6666666666666666, \"#ed7953\"], [0.7777777777777778, \"#fb9f3a\"], [0.8888888888888888, \"#fdca26\"], [1.0, \"#f0f921\"]], \"type\": \"contour\"}], \"contourcarpet\": [{\"colorbar\": {\"outlinewidth\": 0, \"ticks\": \"\"}, \"type\": \"contourcarpet\"}], \"heatmap\": [{\"colorbar\": {\"outlinewidth\": 0, \"ticks\": \"\"}, \"colorscale\": [[0.0, \"#0d0887\"], [0.1111111111111111, \"#46039f\"], [0.2222222222222222, \"#7201a8\"], [0.3333333333333333, \"#9c179e\"], [0.4444444444444444, \"#bd3786\"], [0.5555555555555556, \"#d8576b\"], [0.6666666666666666, \"#ed7953\"], [0.7777777777777778, \"#fb9f3a\"], [0.8888888888888888, \"#fdca26\"], [1.0, \"#f0f921\"]], \"type\": \"heatmap\"}], \"heatmapgl\": [{\"colorbar\": {\"outlinewidth\": 0, \"ticks\": \"\"}, \"colorscale\": [[0.0, \"#0d0887\"], [0.1111111111111111, \"#46039f\"], [0.2222222222222222, \"#7201a8\"], [0.3333333333333333, \"#9c179e\"], [0.4444444444444444, \"#bd3786\"], [0.5555555555555556, \"#d8576b\"], [0.6666666666666666, \"#ed7953\"], [0.7777777777777778, \"#fb9f3a\"], [0.8888888888888888, \"#fdca26\"], [1.0, \"#f0f921\"]], \"type\": \"heatmapgl\"}], \"histogram\": [{\"marker\": {\"colorbar\": {\"outlinewidth\": 0, \"ticks\": \"\"}}, \"type\": \"histogram\"}], \"histogram2d\": [{\"colorbar\": {\"outlinewidth\": 0, \"ticks\": \"\"}, \"colorscale\": [[0.0, \"#0d0887\"], [0.1111111111111111, \"#46039f\"], [0.2222222222222222, \"#7201a8\"], [0.3333333333333333, \"#9c179e\"], [0.4444444444444444, \"#bd3786\"], [0.5555555555555556, \"#d8576b\"], [0.6666666666666666, \"#ed7953\"], [0.7777777777777778, \"#fb9f3a\"], [0.8888888888888888, \"#fdca26\"], [1.0, \"#f0f921\"]], \"type\": \"histogram2d\"}], \"histogram2dcontour\": [{\"colorbar\": {\"outlinewidth\": 0, \"ticks\": \"\"}, \"colorscale\": [[0.0, \"#0d0887\"], [0.1111111111111111, \"#46039f\"], [0.2222222222222222, \"#7201a8\"], [0.3333333333333333, \"#9c179e\"], [0.4444444444444444, \"#bd3786\"], [0.5555555555555556, \"#d8576b\"], [0.6666666666666666, \"#ed7953\"], [0.7777777777777778, \"#fb9f3a\"], [0.8888888888888888, \"#fdca26\"], [1.0, \"#f0f921\"]], \"type\": \"histogram2dcontour\"}], \"mesh3d\": [{\"colorbar\": {\"outlinewidth\": 0, \"ticks\": \"\"}, \"type\": \"mesh3d\"}], \"parcoords\": [{\"line\": {\"colorbar\": {\"outlinewidth\": 0, \"ticks\": \"\"}}, \"type\": \"parcoords\"}], \"scatter\": [{\"marker\": {\"colorbar\": {\"outlinewidth\": 0, \"ticks\": \"\"}}, \"type\": \"scatter\"}], \"scatter3d\": [{\"line\": {\"colorbar\": {\"outlinewidth\": 0, \"ticks\": \"\"}}, \"marker\": {\"colorbar\": {\"outlinewidth\": 0, \"ticks\": \"\"}}, \"type\": \"scatter3d\"}], \"scattercarpet\": [{\"marker\": {\"colorbar\": {\"outlinewidth\": 0, \"ticks\": \"\"}}, \"type\": \"scattercarpet\"}], \"scattergeo\": [{\"marker\": {\"colorbar\": {\"outlinewidth\": 0, \"ticks\": \"\"}}, \"type\": \"scattergeo\"}], \"scattergl\": [{\"marker\": {\"colorbar\": {\"outlinewidth\": 0, \"ticks\": \"\"}}, \"type\": \"scattergl\"}], \"scattermapbox\": [{\"marker\": {\"colorbar\": {\"outlinewidth\": 0, \"ticks\": \"\"}}, \"type\": \"scattermapbox\"}], \"scatterpolar\": [{\"marker\": {\"colorbar\": {\"outlinewidth\": 0, \"ticks\": \"\"}}, \"type\": \"scatterpolar\"}], \"scatterpolargl\": [{\"marker\": {\"colorbar\": {\"outlinewidth\": 0, \"ticks\": \"\"}}, \"type\": \"scatterpolargl\"}], \"scatterternary\": [{\"marker\": {\"colorbar\": {\"outlinewidth\": 0, \"ticks\": \"\"}}, \"type\": \"scatterternary\"}], \"surface\": [{\"colorbar\": {\"outlinewidth\": 0, \"ticks\": \"\"}, \"colorscale\": [[0.0, \"#0d0887\"], [0.1111111111111111, \"#46039f\"], [0.2222222222222222, \"#7201a8\"], [0.3333333333333333, \"#9c179e\"], [0.4444444444444444, \"#bd3786\"], [0.5555555555555556, \"#d8576b\"], [0.6666666666666666, \"#ed7953\"], [0.7777777777777778, \"#fb9f3a\"], [0.8888888888888888, \"#fdca26\"], [1.0, \"#f0f921\"]], \"type\": \"surface\"}], \"table\": [{\"cells\": {\"fill\": {\"color\": \"#EBF0F8\"}, \"line\": {\"color\": \"white\"}}, \"header\": {\"fill\": {\"color\": \"#C8D4E3\"}, \"line\": {\"color\": \"white\"}}, \"type\": \"table\"}]}, \"layout\": {\"annotationdefaults\": {\"arrowcolor\": \"#2a3f5f\", \"arrowhead\": 0, \"arrowwidth\": 1}, \"colorscale\": {\"diverging\": [[0, \"#8e0152\"], [0.1, \"#c51b7d\"], [0.2, \"#de77ae\"], [0.3, \"#f1b6da\"], [0.4, \"#fde0ef\"], [0.5, \"#f7f7f7\"], [0.6, \"#e6f5d0\"], [0.7, \"#b8e186\"], [0.8, \"#7fbc41\"], [0.9, \"#4d9221\"], [1, \"#276419\"]], \"sequential\": [[0.0, \"#0d0887\"], [0.1111111111111111, \"#46039f\"], [0.2222222222222222, \"#7201a8\"], [0.3333333333333333, \"#9c179e\"], [0.4444444444444444, \"#bd3786\"], [0.5555555555555556, \"#d8576b\"], [0.6666666666666666, \"#ed7953\"], [0.7777777777777778, \"#fb9f3a\"], [0.8888888888888888, \"#fdca26\"], [1.0, \"#f0f921\"]], \"sequentialminus\": [[0.0, \"#0d0887\"], [0.1111111111111111, \"#46039f\"], [0.2222222222222222, \"#7201a8\"], [0.3333333333333333, \"#9c179e\"], [0.4444444444444444, \"#bd3786\"], [0.5555555555555556, \"#d8576b\"], [0.6666666666666666, \"#ed7953\"], [0.7777777777777778, \"#fb9f3a\"], [0.8888888888888888, \"#fdca26\"], [1.0, \"#f0f921\"]]}, \"colorway\": [\"#636efa\", \"#EF553B\", \"#00cc96\", \"#ab63fa\", \"#FFA15A\", \"#19d3f3\", \"#FF6692\", \"#B6E880\", \"#FF97FF\", \"#FECB52\"], \"font\": {\"color\": \"#2a3f5f\"}, \"geo\": {\"bgcolor\": \"white\", \"lakecolor\": \"white\", \"landcolor\": \"#E5ECF6\", \"showlakes\": true, \"showland\": true, \"subunitcolor\": \"white\"}, \"hoverlabel\": {\"align\": \"left\"}, \"hovermode\": \"closest\", \"mapbox\": {\"style\": \"light\"}, \"paper_bgcolor\": \"white\", \"plot_bgcolor\": \"#E5ECF6\", \"polar\": {\"angularaxis\": {\"gridcolor\": \"white\", \"linecolor\": \"white\", \"ticks\": \"\"}, \"bgcolor\": \"#E5ECF6\", \"radialaxis\": {\"gridcolor\": \"white\", \"linecolor\": \"white\", \"ticks\": \"\"}}, \"scene\": {\"xaxis\": {\"backgroundcolor\": \"#E5ECF6\", \"gridcolor\": \"white\", \"gridwidth\": 2, \"linecolor\": \"white\", \"showbackground\": true, \"ticks\": \"\", \"zerolinecolor\": \"white\"}, \"yaxis\": {\"backgroundcolor\": \"#E5ECF6\", \"gridcolor\": \"white\", \"gridwidth\": 2, \"linecolor\": \"white\", \"showbackground\": true, \"ticks\": \"\", \"zerolinecolor\": \"white\"}, \"zaxis\": {\"backgroundcolor\": \"#E5ECF6\", \"gridcolor\": \"white\", \"gridwidth\": 2, \"linecolor\": \"white\", \"showbackground\": true, \"ticks\": \"\", \"zerolinecolor\": \"white\"}}, \"shapedefaults\": {\"line\": {\"color\": \"#2a3f5f\"}}, \"ternary\": {\"aaxis\": {\"gridcolor\": \"white\", \"linecolor\": \"white\", \"ticks\": \"\"}, \"baxis\": {\"gridcolor\": \"white\", \"linecolor\": \"white\", \"ticks\": \"\"}, \"bgcolor\": \"#E5ECF6\", \"caxis\": {\"gridcolor\": \"white\", \"linecolor\": \"white\", \"ticks\": \"\"}}, \"title\": {\"x\": 0.05}, \"xaxis\": {\"automargin\": true, \"gridcolor\": \"white\", \"linecolor\": \"white\", \"ticks\": \"\", \"zerolinecolor\": \"white\", \"zerolinewidth\": 2}, \"yaxis\": {\"automargin\": true, \"gridcolor\": \"white\", \"linecolor\": \"white\", \"ticks\": \"\", \"zerolinecolor\": \"white\", \"zerolinewidth\": 2}}}, \"title\": {\"text\": \"Salary of State Related to Computer Skills\"}, \"width\": 900},\n",
       "                        {\"responsive\": true}\n",
       "                    ).then(function(){\n",
       "                            \n",
       "var gd = document.getElementById('f3c48ec4-ee6f-4e8e-962e-7c79a2761856');\n",
       "var x = new MutationObserver(function (mutations, observer) {{\n",
       "        var display = window.getComputedStyle(gd).display;\n",
       "        if (!display || display === 'none') {{\n",
       "            console.log([gd, 'removed!']);\n",
       "            Plotly.purge(gd);\n",
       "            observer.disconnect();\n",
       "        }}\n",
       "}});\n",
       "\n",
       "// Listen for the removal of the full notebook cells\n",
       "var notebookContainer = gd.closest('#notebook-container');\n",
       "if (notebookContainer) {{\n",
       "    x.observe(notebookContainer, {childList: true});\n",
       "}}\n",
       "\n",
       "// Listen for the clearing of the current output cell\n",
       "var outputEl = gd.closest('.output');\n",
       "if (outputEl) {{\n",
       "    x.observe(outputEl, {childList: true});\n",
       "}}\n",
       "\n",
       "                        })\n",
       "                };\n",
       "                });\n",
       "            </script>\n",
       "        </div>"
      ]
     },
     "metadata": {},
     "output_type": "display_data"
    }
   ],
   "source": [
    "# EDA: visualize bar plot (Salary of State)\n",
    "state_count = jobs.groupby(['state']).agg({'salary':'mean'}).sort_values('salary', ascending=False).rename(columns={'salary':'salary_mean'})\n",
    "\n",
    "data = [Bar(x=state_count.index, y=state_count['salary_mean'], text=state_count.index, marker={'color':'orangered'})]\n",
    "layout = Layout(title=\"Salary of State Related to Computer Skills\", width = 900, height = 500)\n",
    "\n",
    "fig = Figure(data=data, layout=layout)\n",
    "\n",
    "plotly.offline.iplot(fig, show_link=False)"
   ]
  },
  {
   "cell_type": "code",
   "execution_count": 5,
   "metadata": {},
   "outputs": [
    {
     "data": {
      "application/vnd.plotly.v1+json": {
       "config": {
        "linkText": "Export to plot.ly",
        "plotlyServerURL": "https://plot.ly",
        "showLink": false
       },
       "data": [
        {
         "mode": "lines",
         "type": "scatter",
         "x": [
          "entry",
          "mid",
          "senior"
         ],
         "y": [
          80346.69325153374,
          95393.78841607565,
          121458.40963855422
         ]
        }
       ],
       "layout": {
        "height": 500,
        "template": {
         "data": {
          "bar": [
           {
            "error_x": {
             "color": "#2a3f5f"
            },
            "error_y": {
             "color": "#2a3f5f"
            },
            "marker": {
             "line": {
              "color": "#E5ECF6",
              "width": 0.5
             }
            },
            "type": "bar"
           }
          ],
          "barpolar": [
           {
            "marker": {
             "line": {
              "color": "#E5ECF6",
              "width": 0.5
             }
            },
            "type": "barpolar"
           }
          ],
          "carpet": [
           {
            "aaxis": {
             "endlinecolor": "#2a3f5f",
             "gridcolor": "white",
             "linecolor": "white",
             "minorgridcolor": "white",
             "startlinecolor": "#2a3f5f"
            },
            "baxis": {
             "endlinecolor": "#2a3f5f",
             "gridcolor": "white",
             "linecolor": "white",
             "minorgridcolor": "white",
             "startlinecolor": "#2a3f5f"
            },
            "type": "carpet"
           }
          ],
          "choropleth": [
           {
            "colorbar": {
             "outlinewidth": 0,
             "ticks": ""
            },
            "type": "choropleth"
           }
          ],
          "contour": [
           {
            "colorbar": {
             "outlinewidth": 0,
             "ticks": ""
            },
            "colorscale": [
             [
              0,
              "#0d0887"
             ],
             [
              0.1111111111111111,
              "#46039f"
             ],
             [
              0.2222222222222222,
              "#7201a8"
             ],
             [
              0.3333333333333333,
              "#9c179e"
             ],
             [
              0.4444444444444444,
              "#bd3786"
             ],
             [
              0.5555555555555556,
              "#d8576b"
             ],
             [
              0.6666666666666666,
              "#ed7953"
             ],
             [
              0.7777777777777778,
              "#fb9f3a"
             ],
             [
              0.8888888888888888,
              "#fdca26"
             ],
             [
              1,
              "#f0f921"
             ]
            ],
            "type": "contour"
           }
          ],
          "contourcarpet": [
           {
            "colorbar": {
             "outlinewidth": 0,
             "ticks": ""
            },
            "type": "contourcarpet"
           }
          ],
          "heatmap": [
           {
            "colorbar": {
             "outlinewidth": 0,
             "ticks": ""
            },
            "colorscale": [
             [
              0,
              "#0d0887"
             ],
             [
              0.1111111111111111,
              "#46039f"
             ],
             [
              0.2222222222222222,
              "#7201a8"
             ],
             [
              0.3333333333333333,
              "#9c179e"
             ],
             [
              0.4444444444444444,
              "#bd3786"
             ],
             [
              0.5555555555555556,
              "#d8576b"
             ],
             [
              0.6666666666666666,
              "#ed7953"
             ],
             [
              0.7777777777777778,
              "#fb9f3a"
             ],
             [
              0.8888888888888888,
              "#fdca26"
             ],
             [
              1,
              "#f0f921"
             ]
            ],
            "type": "heatmap"
           }
          ],
          "heatmapgl": [
           {
            "colorbar": {
             "outlinewidth": 0,
             "ticks": ""
            },
            "colorscale": [
             [
              0,
              "#0d0887"
             ],
             [
              0.1111111111111111,
              "#46039f"
             ],
             [
              0.2222222222222222,
              "#7201a8"
             ],
             [
              0.3333333333333333,
              "#9c179e"
             ],
             [
              0.4444444444444444,
              "#bd3786"
             ],
             [
              0.5555555555555556,
              "#d8576b"
             ],
             [
              0.6666666666666666,
              "#ed7953"
             ],
             [
              0.7777777777777778,
              "#fb9f3a"
             ],
             [
              0.8888888888888888,
              "#fdca26"
             ],
             [
              1,
              "#f0f921"
             ]
            ],
            "type": "heatmapgl"
           }
          ],
          "histogram": [
           {
            "marker": {
             "colorbar": {
              "outlinewidth": 0,
              "ticks": ""
             }
            },
            "type": "histogram"
           }
          ],
          "histogram2d": [
           {
            "colorbar": {
             "outlinewidth": 0,
             "ticks": ""
            },
            "colorscale": [
             [
              0,
              "#0d0887"
             ],
             [
              0.1111111111111111,
              "#46039f"
             ],
             [
              0.2222222222222222,
              "#7201a8"
             ],
             [
              0.3333333333333333,
              "#9c179e"
             ],
             [
              0.4444444444444444,
              "#bd3786"
             ],
             [
              0.5555555555555556,
              "#d8576b"
             ],
             [
              0.6666666666666666,
              "#ed7953"
             ],
             [
              0.7777777777777778,
              "#fb9f3a"
             ],
             [
              0.8888888888888888,
              "#fdca26"
             ],
             [
              1,
              "#f0f921"
             ]
            ],
            "type": "histogram2d"
           }
          ],
          "histogram2dcontour": [
           {
            "colorbar": {
             "outlinewidth": 0,
             "ticks": ""
            },
            "colorscale": [
             [
              0,
              "#0d0887"
             ],
             [
              0.1111111111111111,
              "#46039f"
             ],
             [
              0.2222222222222222,
              "#7201a8"
             ],
             [
              0.3333333333333333,
              "#9c179e"
             ],
             [
              0.4444444444444444,
              "#bd3786"
             ],
             [
              0.5555555555555556,
              "#d8576b"
             ],
             [
              0.6666666666666666,
              "#ed7953"
             ],
             [
              0.7777777777777778,
              "#fb9f3a"
             ],
             [
              0.8888888888888888,
              "#fdca26"
             ],
             [
              1,
              "#f0f921"
             ]
            ],
            "type": "histogram2dcontour"
           }
          ],
          "mesh3d": [
           {
            "colorbar": {
             "outlinewidth": 0,
             "ticks": ""
            },
            "type": "mesh3d"
           }
          ],
          "parcoords": [
           {
            "line": {
             "colorbar": {
              "outlinewidth": 0,
              "ticks": ""
             }
            },
            "type": "parcoords"
           }
          ],
          "scatter": [
           {
            "marker": {
             "colorbar": {
              "outlinewidth": 0,
              "ticks": ""
             }
            },
            "type": "scatter"
           }
          ],
          "scatter3d": [
           {
            "line": {
             "colorbar": {
              "outlinewidth": 0,
              "ticks": ""
             }
            },
            "marker": {
             "colorbar": {
              "outlinewidth": 0,
              "ticks": ""
             }
            },
            "type": "scatter3d"
           }
          ],
          "scattercarpet": [
           {
            "marker": {
             "colorbar": {
              "outlinewidth": 0,
              "ticks": ""
             }
            },
            "type": "scattercarpet"
           }
          ],
          "scattergeo": [
           {
            "marker": {
             "colorbar": {
              "outlinewidth": 0,
              "ticks": ""
             }
            },
            "type": "scattergeo"
           }
          ],
          "scattergl": [
           {
            "marker": {
             "colorbar": {
              "outlinewidth": 0,
              "ticks": ""
             }
            },
            "type": "scattergl"
           }
          ],
          "scattermapbox": [
           {
            "marker": {
             "colorbar": {
              "outlinewidth": 0,
              "ticks": ""
             }
            },
            "type": "scattermapbox"
           }
          ],
          "scatterpolar": [
           {
            "marker": {
             "colorbar": {
              "outlinewidth": 0,
              "ticks": ""
             }
            },
            "type": "scatterpolar"
           }
          ],
          "scatterpolargl": [
           {
            "marker": {
             "colorbar": {
              "outlinewidth": 0,
              "ticks": ""
             }
            },
            "type": "scatterpolargl"
           }
          ],
          "scatterternary": [
           {
            "marker": {
             "colorbar": {
              "outlinewidth": 0,
              "ticks": ""
             }
            },
            "type": "scatterternary"
           }
          ],
          "surface": [
           {
            "colorbar": {
             "outlinewidth": 0,
             "ticks": ""
            },
            "colorscale": [
             [
              0,
              "#0d0887"
             ],
             [
              0.1111111111111111,
              "#46039f"
             ],
             [
              0.2222222222222222,
              "#7201a8"
             ],
             [
              0.3333333333333333,
              "#9c179e"
             ],
             [
              0.4444444444444444,
              "#bd3786"
             ],
             [
              0.5555555555555556,
              "#d8576b"
             ],
             [
              0.6666666666666666,
              "#ed7953"
             ],
             [
              0.7777777777777778,
              "#fb9f3a"
             ],
             [
              0.8888888888888888,
              "#fdca26"
             ],
             [
              1,
              "#f0f921"
             ]
            ],
            "type": "surface"
           }
          ],
          "table": [
           {
            "cells": {
             "fill": {
              "color": "#EBF0F8"
             },
             "line": {
              "color": "white"
             }
            },
            "header": {
             "fill": {
              "color": "#C8D4E3"
             },
             "line": {
              "color": "white"
             }
            },
            "type": "table"
           }
          ]
         },
         "layout": {
          "annotationdefaults": {
           "arrowcolor": "#2a3f5f",
           "arrowhead": 0,
           "arrowwidth": 1
          },
          "colorscale": {
           "diverging": [
            [
             0,
             "#8e0152"
            ],
            [
             0.1,
             "#c51b7d"
            ],
            [
             0.2,
             "#de77ae"
            ],
            [
             0.3,
             "#f1b6da"
            ],
            [
             0.4,
             "#fde0ef"
            ],
            [
             0.5,
             "#f7f7f7"
            ],
            [
             0.6,
             "#e6f5d0"
            ],
            [
             0.7,
             "#b8e186"
            ],
            [
             0.8,
             "#7fbc41"
            ],
            [
             0.9,
             "#4d9221"
            ],
            [
             1,
             "#276419"
            ]
           ],
           "sequential": [
            [
             0,
             "#0d0887"
            ],
            [
             0.1111111111111111,
             "#46039f"
            ],
            [
             0.2222222222222222,
             "#7201a8"
            ],
            [
             0.3333333333333333,
             "#9c179e"
            ],
            [
             0.4444444444444444,
             "#bd3786"
            ],
            [
             0.5555555555555556,
             "#d8576b"
            ],
            [
             0.6666666666666666,
             "#ed7953"
            ],
            [
             0.7777777777777778,
             "#fb9f3a"
            ],
            [
             0.8888888888888888,
             "#fdca26"
            ],
            [
             1,
             "#f0f921"
            ]
           ],
           "sequentialminus": [
            [
             0,
             "#0d0887"
            ],
            [
             0.1111111111111111,
             "#46039f"
            ],
            [
             0.2222222222222222,
             "#7201a8"
            ],
            [
             0.3333333333333333,
             "#9c179e"
            ],
            [
             0.4444444444444444,
             "#bd3786"
            ],
            [
             0.5555555555555556,
             "#d8576b"
            ],
            [
             0.6666666666666666,
             "#ed7953"
            ],
            [
             0.7777777777777778,
             "#fb9f3a"
            ],
            [
             0.8888888888888888,
             "#fdca26"
            ],
            [
             1,
             "#f0f921"
            ]
           ]
          },
          "colorway": [
           "#636efa",
           "#EF553B",
           "#00cc96",
           "#ab63fa",
           "#FFA15A",
           "#19d3f3",
           "#FF6692",
           "#B6E880",
           "#FF97FF",
           "#FECB52"
          ],
          "font": {
           "color": "#2a3f5f"
          },
          "geo": {
           "bgcolor": "white",
           "lakecolor": "white",
           "landcolor": "#E5ECF6",
           "showlakes": true,
           "showland": true,
           "subunitcolor": "white"
          },
          "hoverlabel": {
           "align": "left"
          },
          "hovermode": "closest",
          "mapbox": {
           "style": "light"
          },
          "paper_bgcolor": "white",
          "plot_bgcolor": "#E5ECF6",
          "polar": {
           "angularaxis": {
            "gridcolor": "white",
            "linecolor": "white",
            "ticks": ""
           },
           "bgcolor": "#E5ECF6",
           "radialaxis": {
            "gridcolor": "white",
            "linecolor": "white",
            "ticks": ""
           }
          },
          "scene": {
           "xaxis": {
            "backgroundcolor": "#E5ECF6",
            "gridcolor": "white",
            "gridwidth": 2,
            "linecolor": "white",
            "showbackground": true,
            "ticks": "",
            "zerolinecolor": "white"
           },
           "yaxis": {
            "backgroundcolor": "#E5ECF6",
            "gridcolor": "white",
            "gridwidth": 2,
            "linecolor": "white",
            "showbackground": true,
            "ticks": "",
            "zerolinecolor": "white"
           },
           "zaxis": {
            "backgroundcolor": "#E5ECF6",
            "gridcolor": "white",
            "gridwidth": 2,
            "linecolor": "white",
            "showbackground": true,
            "ticks": "",
            "zerolinecolor": "white"
           }
          },
          "shapedefaults": {
           "line": {
            "color": "#2a3f5f"
           }
          },
          "ternary": {
           "aaxis": {
            "gridcolor": "white",
            "linecolor": "white",
            "ticks": ""
           },
           "baxis": {
            "gridcolor": "white",
            "linecolor": "white",
            "ticks": ""
           },
           "bgcolor": "#E5ECF6",
           "caxis": {
            "gridcolor": "white",
            "linecolor": "white",
            "ticks": ""
           }
          },
          "title": {
           "x": 0.05
          },
          "xaxis": {
           "automargin": true,
           "gridcolor": "white",
           "linecolor": "white",
           "ticks": "",
           "zerolinecolor": "white",
           "zerolinewidth": 2
          },
          "yaxis": {
           "automargin": true,
           "gridcolor": "white",
           "linecolor": "white",
           "ticks": "",
           "zerolinecolor": "white",
           "zerolinewidth": 2
          }
         }
        },
        "title": {
         "text": "Salary for Experience Level of Computer Skills"
        },
        "width": 900
       }
      },
      "text/html": [
       "<div>\n",
       "        \n",
       "        \n",
       "            <div id=\"974a6dac-feeb-4da7-922b-b22ef3180c61\" class=\"plotly-graph-div\" style=\"height:500px; width:900px;\"></div>\n",
       "            <script type=\"text/javascript\">\n",
       "                require([\"plotly\"], function(Plotly) {\n",
       "                    window.PLOTLYENV=window.PLOTLYENV || {};\n",
       "                    \n",
       "                if (document.getElementById(\"974a6dac-feeb-4da7-922b-b22ef3180c61\")) {\n",
       "                    Plotly.newPlot(\n",
       "                        '974a6dac-feeb-4da7-922b-b22ef3180c61',\n",
       "                        [{\"mode\": \"lines\", \"type\": \"scatter\", \"x\": [\"entry\", \"mid\", \"senior\"], \"y\": [80346.69325153374, 95393.78841607565, 121458.40963855422]}],\n",
       "                        {\"height\": 500, \"template\": {\"data\": {\"bar\": [{\"error_x\": {\"color\": \"#2a3f5f\"}, \"error_y\": {\"color\": \"#2a3f5f\"}, \"marker\": {\"line\": {\"color\": \"#E5ECF6\", \"width\": 0.5}}, \"type\": \"bar\"}], \"barpolar\": [{\"marker\": {\"line\": {\"color\": \"#E5ECF6\", \"width\": 0.5}}, \"type\": \"barpolar\"}], \"carpet\": [{\"aaxis\": {\"endlinecolor\": \"#2a3f5f\", \"gridcolor\": \"white\", \"linecolor\": \"white\", \"minorgridcolor\": \"white\", \"startlinecolor\": \"#2a3f5f\"}, \"baxis\": {\"endlinecolor\": \"#2a3f5f\", \"gridcolor\": \"white\", \"linecolor\": \"white\", \"minorgridcolor\": \"white\", \"startlinecolor\": \"#2a3f5f\"}, \"type\": \"carpet\"}], \"choropleth\": [{\"colorbar\": {\"outlinewidth\": 0, \"ticks\": \"\"}, \"type\": \"choropleth\"}], \"contour\": [{\"colorbar\": {\"outlinewidth\": 0, \"ticks\": \"\"}, \"colorscale\": [[0.0, \"#0d0887\"], [0.1111111111111111, \"#46039f\"], [0.2222222222222222, \"#7201a8\"], [0.3333333333333333, \"#9c179e\"], [0.4444444444444444, \"#bd3786\"], [0.5555555555555556, \"#d8576b\"], [0.6666666666666666, \"#ed7953\"], [0.7777777777777778, \"#fb9f3a\"], [0.8888888888888888, \"#fdca26\"], [1.0, \"#f0f921\"]], \"type\": \"contour\"}], \"contourcarpet\": [{\"colorbar\": {\"outlinewidth\": 0, \"ticks\": \"\"}, \"type\": \"contourcarpet\"}], \"heatmap\": [{\"colorbar\": {\"outlinewidth\": 0, \"ticks\": \"\"}, \"colorscale\": [[0.0, \"#0d0887\"], [0.1111111111111111, \"#46039f\"], [0.2222222222222222, \"#7201a8\"], [0.3333333333333333, \"#9c179e\"], [0.4444444444444444, \"#bd3786\"], [0.5555555555555556, \"#d8576b\"], [0.6666666666666666, \"#ed7953\"], [0.7777777777777778, \"#fb9f3a\"], [0.8888888888888888, \"#fdca26\"], [1.0, \"#f0f921\"]], \"type\": \"heatmap\"}], \"heatmapgl\": [{\"colorbar\": {\"outlinewidth\": 0, \"ticks\": \"\"}, \"colorscale\": [[0.0, \"#0d0887\"], [0.1111111111111111, \"#46039f\"], [0.2222222222222222, \"#7201a8\"], [0.3333333333333333, \"#9c179e\"], [0.4444444444444444, \"#bd3786\"], [0.5555555555555556, \"#d8576b\"], [0.6666666666666666, \"#ed7953\"], [0.7777777777777778, \"#fb9f3a\"], [0.8888888888888888, \"#fdca26\"], [1.0, \"#f0f921\"]], \"type\": \"heatmapgl\"}], \"histogram\": [{\"marker\": {\"colorbar\": {\"outlinewidth\": 0, \"ticks\": \"\"}}, \"type\": \"histogram\"}], \"histogram2d\": [{\"colorbar\": {\"outlinewidth\": 0, \"ticks\": \"\"}, \"colorscale\": [[0.0, \"#0d0887\"], [0.1111111111111111, \"#46039f\"], [0.2222222222222222, \"#7201a8\"], [0.3333333333333333, \"#9c179e\"], [0.4444444444444444, \"#bd3786\"], [0.5555555555555556, \"#d8576b\"], [0.6666666666666666, \"#ed7953\"], [0.7777777777777778, \"#fb9f3a\"], [0.8888888888888888, \"#fdca26\"], [1.0, \"#f0f921\"]], \"type\": \"histogram2d\"}], \"histogram2dcontour\": [{\"colorbar\": {\"outlinewidth\": 0, \"ticks\": \"\"}, \"colorscale\": [[0.0, \"#0d0887\"], [0.1111111111111111, \"#46039f\"], [0.2222222222222222, \"#7201a8\"], [0.3333333333333333, \"#9c179e\"], [0.4444444444444444, \"#bd3786\"], [0.5555555555555556, \"#d8576b\"], [0.6666666666666666, \"#ed7953\"], [0.7777777777777778, \"#fb9f3a\"], [0.8888888888888888, \"#fdca26\"], [1.0, \"#f0f921\"]], \"type\": \"histogram2dcontour\"}], \"mesh3d\": [{\"colorbar\": {\"outlinewidth\": 0, \"ticks\": \"\"}, \"type\": \"mesh3d\"}], \"parcoords\": [{\"line\": {\"colorbar\": {\"outlinewidth\": 0, \"ticks\": \"\"}}, \"type\": \"parcoords\"}], \"scatter\": [{\"marker\": {\"colorbar\": {\"outlinewidth\": 0, \"ticks\": \"\"}}, \"type\": \"scatter\"}], \"scatter3d\": [{\"line\": {\"colorbar\": {\"outlinewidth\": 0, \"ticks\": \"\"}}, \"marker\": {\"colorbar\": {\"outlinewidth\": 0, \"ticks\": \"\"}}, \"type\": \"scatter3d\"}], \"scattercarpet\": [{\"marker\": {\"colorbar\": {\"outlinewidth\": 0, \"ticks\": \"\"}}, \"type\": \"scattercarpet\"}], \"scattergeo\": [{\"marker\": {\"colorbar\": {\"outlinewidth\": 0, \"ticks\": \"\"}}, \"type\": \"scattergeo\"}], \"scattergl\": [{\"marker\": {\"colorbar\": {\"outlinewidth\": 0, \"ticks\": \"\"}}, \"type\": \"scattergl\"}], \"scattermapbox\": [{\"marker\": {\"colorbar\": {\"outlinewidth\": 0, \"ticks\": \"\"}}, \"type\": \"scattermapbox\"}], \"scatterpolar\": [{\"marker\": {\"colorbar\": {\"outlinewidth\": 0, \"ticks\": \"\"}}, \"type\": \"scatterpolar\"}], \"scatterpolargl\": [{\"marker\": {\"colorbar\": {\"outlinewidth\": 0, \"ticks\": \"\"}}, \"type\": \"scatterpolargl\"}], \"scatterternary\": [{\"marker\": {\"colorbar\": {\"outlinewidth\": 0, \"ticks\": \"\"}}, \"type\": \"scatterternary\"}], \"surface\": [{\"colorbar\": {\"outlinewidth\": 0, \"ticks\": \"\"}, \"colorscale\": [[0.0, \"#0d0887\"], [0.1111111111111111, \"#46039f\"], [0.2222222222222222, \"#7201a8\"], [0.3333333333333333, \"#9c179e\"], [0.4444444444444444, \"#bd3786\"], [0.5555555555555556, \"#d8576b\"], [0.6666666666666666, \"#ed7953\"], [0.7777777777777778, \"#fb9f3a\"], [0.8888888888888888, \"#fdca26\"], [1.0, \"#f0f921\"]], \"type\": \"surface\"}], \"table\": [{\"cells\": {\"fill\": {\"color\": \"#EBF0F8\"}, \"line\": {\"color\": \"white\"}}, \"header\": {\"fill\": {\"color\": \"#C8D4E3\"}, \"line\": {\"color\": \"white\"}}, \"type\": \"table\"}]}, \"layout\": {\"annotationdefaults\": {\"arrowcolor\": \"#2a3f5f\", \"arrowhead\": 0, \"arrowwidth\": 1}, \"colorscale\": {\"diverging\": [[0, \"#8e0152\"], [0.1, \"#c51b7d\"], [0.2, \"#de77ae\"], [0.3, \"#f1b6da\"], [0.4, \"#fde0ef\"], [0.5, \"#f7f7f7\"], [0.6, \"#e6f5d0\"], [0.7, \"#b8e186\"], [0.8, \"#7fbc41\"], [0.9, \"#4d9221\"], [1, \"#276419\"]], \"sequential\": [[0.0, \"#0d0887\"], [0.1111111111111111, \"#46039f\"], [0.2222222222222222, \"#7201a8\"], [0.3333333333333333, \"#9c179e\"], [0.4444444444444444, \"#bd3786\"], [0.5555555555555556, \"#d8576b\"], [0.6666666666666666, \"#ed7953\"], [0.7777777777777778, \"#fb9f3a\"], [0.8888888888888888, \"#fdca26\"], [1.0, \"#f0f921\"]], \"sequentialminus\": [[0.0, \"#0d0887\"], [0.1111111111111111, \"#46039f\"], [0.2222222222222222, \"#7201a8\"], [0.3333333333333333, \"#9c179e\"], [0.4444444444444444, \"#bd3786\"], [0.5555555555555556, \"#d8576b\"], [0.6666666666666666, \"#ed7953\"], [0.7777777777777778, \"#fb9f3a\"], [0.8888888888888888, \"#fdca26\"], [1.0, \"#f0f921\"]]}, \"colorway\": [\"#636efa\", \"#EF553B\", \"#00cc96\", \"#ab63fa\", \"#FFA15A\", \"#19d3f3\", \"#FF6692\", \"#B6E880\", \"#FF97FF\", \"#FECB52\"], \"font\": {\"color\": \"#2a3f5f\"}, \"geo\": {\"bgcolor\": \"white\", \"lakecolor\": \"white\", \"landcolor\": \"#E5ECF6\", \"showlakes\": true, \"showland\": true, \"subunitcolor\": \"white\"}, \"hoverlabel\": {\"align\": \"left\"}, \"hovermode\": \"closest\", \"mapbox\": {\"style\": \"light\"}, \"paper_bgcolor\": \"white\", \"plot_bgcolor\": \"#E5ECF6\", \"polar\": {\"angularaxis\": {\"gridcolor\": \"white\", \"linecolor\": \"white\", \"ticks\": \"\"}, \"bgcolor\": \"#E5ECF6\", \"radialaxis\": {\"gridcolor\": \"white\", \"linecolor\": \"white\", \"ticks\": \"\"}}, \"scene\": {\"xaxis\": {\"backgroundcolor\": \"#E5ECF6\", \"gridcolor\": \"white\", \"gridwidth\": 2, \"linecolor\": \"white\", \"showbackground\": true, \"ticks\": \"\", \"zerolinecolor\": \"white\"}, \"yaxis\": {\"backgroundcolor\": \"#E5ECF6\", \"gridcolor\": \"white\", \"gridwidth\": 2, \"linecolor\": \"white\", \"showbackground\": true, \"ticks\": \"\", \"zerolinecolor\": \"white\"}, \"zaxis\": {\"backgroundcolor\": \"#E5ECF6\", \"gridcolor\": \"white\", \"gridwidth\": 2, \"linecolor\": \"white\", \"showbackground\": true, \"ticks\": \"\", \"zerolinecolor\": \"white\"}}, \"shapedefaults\": {\"line\": {\"color\": \"#2a3f5f\"}}, \"ternary\": {\"aaxis\": {\"gridcolor\": \"white\", \"linecolor\": \"white\", \"ticks\": \"\"}, \"baxis\": {\"gridcolor\": \"white\", \"linecolor\": \"white\", \"ticks\": \"\"}, \"bgcolor\": \"#E5ECF6\", \"caxis\": {\"gridcolor\": \"white\", \"linecolor\": \"white\", \"ticks\": \"\"}}, \"title\": {\"x\": 0.05}, \"xaxis\": {\"automargin\": true, \"gridcolor\": \"white\", \"linecolor\": \"white\", \"ticks\": \"\", \"zerolinecolor\": \"white\", \"zerolinewidth\": 2}, \"yaxis\": {\"automargin\": true, \"gridcolor\": \"white\", \"linecolor\": \"white\", \"ticks\": \"\", \"zerolinecolor\": \"white\", \"zerolinewidth\": 2}}}, \"title\": {\"text\": \"Salary for Experience Level of Computer Skills\"}, \"width\": 900},\n",
       "                        {\"responsive\": true}\n",
       "                    ).then(function(){\n",
       "                            \n",
       "var gd = document.getElementById('974a6dac-feeb-4da7-922b-b22ef3180c61');\n",
       "var x = new MutationObserver(function (mutations, observer) {{\n",
       "        var display = window.getComputedStyle(gd).display;\n",
       "        if (!display || display === 'none') {{\n",
       "            console.log([gd, 'removed!']);\n",
       "            Plotly.purge(gd);\n",
       "            observer.disconnect();\n",
       "        }}\n",
       "}});\n",
       "\n",
       "// Listen for the removal of the full notebook cells\n",
       "var notebookContainer = gd.closest('#notebook-container');\n",
       "if (notebookContainer) {{\n",
       "    x.observe(notebookContainer, {childList: true});\n",
       "}}\n",
       "\n",
       "// Listen for the clearing of the current output cell\n",
       "var outputEl = gd.closest('.output');\n",
       "if (outputEl) {{\n",
       "    x.observe(outputEl, {childList: true});\n",
       "}}\n",
       "\n",
       "                        })\n",
       "                };\n",
       "                });\n",
       "            </script>\n",
       "        </div>"
      ]
     },
     "metadata": {},
     "output_type": "display_data"
    }
   ],
   "source": [
    "# EDA: visualize bar plot (Salary for Skill Experience Level)\n",
    "salary_level_mean = jobs.groupby(['level']).agg({'salary':'mean'}).rename(columns={'salary':'salary_mean'})\n",
    "\n",
    "data = [Scatter(x=salary_level_mean.index, y=salary_level_mean['salary_mean'], mode='lines')]\n",
    "layout = Layout(title=\"Salary for Experience Level of Computer Skills\", width = 900, height = 500)\n",
    "\n",
    "fig = Figure(data=data, layout=layout)\n",
    "\n",
    "plotly.offline.iplot(fig, show_link=False)"
   ]
  },
  {
   "cell_type": "code",
   "execution_count": 6,
   "metadata": {},
   "outputs": [
    {
     "data": {
      "application/vnd.plotly.v1+json": {
       "config": {
        "linkText": "Export to plot.ly",
        "plotlyServerURL": "https://plot.ly",
        "showLink": false
       },
       "data": [
        {
         "marker": {
          "color": "darkblue"
         },
         "orientation": "h",
         "text": [
          "vb",
          "android",
          "sql",
          "r analytics",
          "ios",
          "c#",
          "javascript",
          "linux",
          "spark",
          "olap",
          "angular",
          "java",
          "c++",
          "python",
          "azure",
          "node.js",
          "aws",
          "hadoop",
          "docker",
          "blockchain",
          "scala",
          "kubernetes",
          "golang",
          "kafka",
          "tensorflow"
         ],
         "type": "bar",
         "x": [
          78452.63565891473,
          83704.76590909091,
          86184.69495412844,
          88513.59375,
          88830.67920353982,
          88947.73578947368,
          89714.24175824175,
          90074.37039660057,
          90170.93548387097,
          95514.48148148147,
          96710.87938596492,
          98222.79416058394,
          98961.875,
          99021.7558685446,
          100548.93316195373,
          109035.48333333334,
          110643.04620123203,
          111079.27325581395,
          114061.20833333333,
          118225,
          119381.96610169491,
          119943.4298245614,
          123539.0625,
          125525.7372881356,
          135305.3409090909
         ],
         "y": [
          "vb",
          "android",
          "sql",
          "r analytics",
          "ios",
          "c#",
          "javascript",
          "linux",
          "spark",
          "olap",
          "angular",
          "java",
          "c++",
          "python",
          "azure",
          "node.js",
          "aws",
          "hadoop",
          "docker",
          "blockchain",
          "scala",
          "kubernetes",
          "golang",
          "kafka",
          "tensorflow"
         ]
        }
       ],
       "layout": {
        "height": 800,
        "template": {
         "data": {
          "bar": [
           {
            "error_x": {
             "color": "#2a3f5f"
            },
            "error_y": {
             "color": "#2a3f5f"
            },
            "marker": {
             "line": {
              "color": "#E5ECF6",
              "width": 0.5
             }
            },
            "type": "bar"
           }
          ],
          "barpolar": [
           {
            "marker": {
             "line": {
              "color": "#E5ECF6",
              "width": 0.5
             }
            },
            "type": "barpolar"
           }
          ],
          "carpet": [
           {
            "aaxis": {
             "endlinecolor": "#2a3f5f",
             "gridcolor": "white",
             "linecolor": "white",
             "minorgridcolor": "white",
             "startlinecolor": "#2a3f5f"
            },
            "baxis": {
             "endlinecolor": "#2a3f5f",
             "gridcolor": "white",
             "linecolor": "white",
             "minorgridcolor": "white",
             "startlinecolor": "#2a3f5f"
            },
            "type": "carpet"
           }
          ],
          "choropleth": [
           {
            "colorbar": {
             "outlinewidth": 0,
             "ticks": ""
            },
            "type": "choropleth"
           }
          ],
          "contour": [
           {
            "colorbar": {
             "outlinewidth": 0,
             "ticks": ""
            },
            "colorscale": [
             [
              0,
              "#0d0887"
             ],
             [
              0.1111111111111111,
              "#46039f"
             ],
             [
              0.2222222222222222,
              "#7201a8"
             ],
             [
              0.3333333333333333,
              "#9c179e"
             ],
             [
              0.4444444444444444,
              "#bd3786"
             ],
             [
              0.5555555555555556,
              "#d8576b"
             ],
             [
              0.6666666666666666,
              "#ed7953"
             ],
             [
              0.7777777777777778,
              "#fb9f3a"
             ],
             [
              0.8888888888888888,
              "#fdca26"
             ],
             [
              1,
              "#f0f921"
             ]
            ],
            "type": "contour"
           }
          ],
          "contourcarpet": [
           {
            "colorbar": {
             "outlinewidth": 0,
             "ticks": ""
            },
            "type": "contourcarpet"
           }
          ],
          "heatmap": [
           {
            "colorbar": {
             "outlinewidth": 0,
             "ticks": ""
            },
            "colorscale": [
             [
              0,
              "#0d0887"
             ],
             [
              0.1111111111111111,
              "#46039f"
             ],
             [
              0.2222222222222222,
              "#7201a8"
             ],
             [
              0.3333333333333333,
              "#9c179e"
             ],
             [
              0.4444444444444444,
              "#bd3786"
             ],
             [
              0.5555555555555556,
              "#d8576b"
             ],
             [
              0.6666666666666666,
              "#ed7953"
             ],
             [
              0.7777777777777778,
              "#fb9f3a"
             ],
             [
              0.8888888888888888,
              "#fdca26"
             ],
             [
              1,
              "#f0f921"
             ]
            ],
            "type": "heatmap"
           }
          ],
          "heatmapgl": [
           {
            "colorbar": {
             "outlinewidth": 0,
             "ticks": ""
            },
            "colorscale": [
             [
              0,
              "#0d0887"
             ],
             [
              0.1111111111111111,
              "#46039f"
             ],
             [
              0.2222222222222222,
              "#7201a8"
             ],
             [
              0.3333333333333333,
              "#9c179e"
             ],
             [
              0.4444444444444444,
              "#bd3786"
             ],
             [
              0.5555555555555556,
              "#d8576b"
             ],
             [
              0.6666666666666666,
              "#ed7953"
             ],
             [
              0.7777777777777778,
              "#fb9f3a"
             ],
             [
              0.8888888888888888,
              "#fdca26"
             ],
             [
              1,
              "#f0f921"
             ]
            ],
            "type": "heatmapgl"
           }
          ],
          "histogram": [
           {
            "marker": {
             "colorbar": {
              "outlinewidth": 0,
              "ticks": ""
             }
            },
            "type": "histogram"
           }
          ],
          "histogram2d": [
           {
            "colorbar": {
             "outlinewidth": 0,
             "ticks": ""
            },
            "colorscale": [
             [
              0,
              "#0d0887"
             ],
             [
              0.1111111111111111,
              "#46039f"
             ],
             [
              0.2222222222222222,
              "#7201a8"
             ],
             [
              0.3333333333333333,
              "#9c179e"
             ],
             [
              0.4444444444444444,
              "#bd3786"
             ],
             [
              0.5555555555555556,
              "#d8576b"
             ],
             [
              0.6666666666666666,
              "#ed7953"
             ],
             [
              0.7777777777777778,
              "#fb9f3a"
             ],
             [
              0.8888888888888888,
              "#fdca26"
             ],
             [
              1,
              "#f0f921"
             ]
            ],
            "type": "histogram2d"
           }
          ],
          "histogram2dcontour": [
           {
            "colorbar": {
             "outlinewidth": 0,
             "ticks": ""
            },
            "colorscale": [
             [
              0,
              "#0d0887"
             ],
             [
              0.1111111111111111,
              "#46039f"
             ],
             [
              0.2222222222222222,
              "#7201a8"
             ],
             [
              0.3333333333333333,
              "#9c179e"
             ],
             [
              0.4444444444444444,
              "#bd3786"
             ],
             [
              0.5555555555555556,
              "#d8576b"
             ],
             [
              0.6666666666666666,
              "#ed7953"
             ],
             [
              0.7777777777777778,
              "#fb9f3a"
             ],
             [
              0.8888888888888888,
              "#fdca26"
             ],
             [
              1,
              "#f0f921"
             ]
            ],
            "type": "histogram2dcontour"
           }
          ],
          "mesh3d": [
           {
            "colorbar": {
             "outlinewidth": 0,
             "ticks": ""
            },
            "type": "mesh3d"
           }
          ],
          "parcoords": [
           {
            "line": {
             "colorbar": {
              "outlinewidth": 0,
              "ticks": ""
             }
            },
            "type": "parcoords"
           }
          ],
          "scatter": [
           {
            "marker": {
             "colorbar": {
              "outlinewidth": 0,
              "ticks": ""
             }
            },
            "type": "scatter"
           }
          ],
          "scatter3d": [
           {
            "line": {
             "colorbar": {
              "outlinewidth": 0,
              "ticks": ""
             }
            },
            "marker": {
             "colorbar": {
              "outlinewidth": 0,
              "ticks": ""
             }
            },
            "type": "scatter3d"
           }
          ],
          "scattercarpet": [
           {
            "marker": {
             "colorbar": {
              "outlinewidth": 0,
              "ticks": ""
             }
            },
            "type": "scattercarpet"
           }
          ],
          "scattergeo": [
           {
            "marker": {
             "colorbar": {
              "outlinewidth": 0,
              "ticks": ""
             }
            },
            "type": "scattergeo"
           }
          ],
          "scattergl": [
           {
            "marker": {
             "colorbar": {
              "outlinewidth": 0,
              "ticks": ""
             }
            },
            "type": "scattergl"
           }
          ],
          "scattermapbox": [
           {
            "marker": {
             "colorbar": {
              "outlinewidth": 0,
              "ticks": ""
             }
            },
            "type": "scattermapbox"
           }
          ],
          "scatterpolar": [
           {
            "marker": {
             "colorbar": {
              "outlinewidth": 0,
              "ticks": ""
             }
            },
            "type": "scatterpolar"
           }
          ],
          "scatterpolargl": [
           {
            "marker": {
             "colorbar": {
              "outlinewidth": 0,
              "ticks": ""
             }
            },
            "type": "scatterpolargl"
           }
          ],
          "scatterternary": [
           {
            "marker": {
             "colorbar": {
              "outlinewidth": 0,
              "ticks": ""
             }
            },
            "type": "scatterternary"
           }
          ],
          "surface": [
           {
            "colorbar": {
             "outlinewidth": 0,
             "ticks": ""
            },
            "colorscale": [
             [
              0,
              "#0d0887"
             ],
             [
              0.1111111111111111,
              "#46039f"
             ],
             [
              0.2222222222222222,
              "#7201a8"
             ],
             [
              0.3333333333333333,
              "#9c179e"
             ],
             [
              0.4444444444444444,
              "#bd3786"
             ],
             [
              0.5555555555555556,
              "#d8576b"
             ],
             [
              0.6666666666666666,
              "#ed7953"
             ],
             [
              0.7777777777777778,
              "#fb9f3a"
             ],
             [
              0.8888888888888888,
              "#fdca26"
             ],
             [
              1,
              "#f0f921"
             ]
            ],
            "type": "surface"
           }
          ],
          "table": [
           {
            "cells": {
             "fill": {
              "color": "#EBF0F8"
             },
             "line": {
              "color": "white"
             }
            },
            "header": {
             "fill": {
              "color": "#C8D4E3"
             },
             "line": {
              "color": "white"
             }
            },
            "type": "table"
           }
          ]
         },
         "layout": {
          "annotationdefaults": {
           "arrowcolor": "#2a3f5f",
           "arrowhead": 0,
           "arrowwidth": 1
          },
          "colorscale": {
           "diverging": [
            [
             0,
             "#8e0152"
            ],
            [
             0.1,
             "#c51b7d"
            ],
            [
             0.2,
             "#de77ae"
            ],
            [
             0.3,
             "#f1b6da"
            ],
            [
             0.4,
             "#fde0ef"
            ],
            [
             0.5,
             "#f7f7f7"
            ],
            [
             0.6,
             "#e6f5d0"
            ],
            [
             0.7,
             "#b8e186"
            ],
            [
             0.8,
             "#7fbc41"
            ],
            [
             0.9,
             "#4d9221"
            ],
            [
             1,
             "#276419"
            ]
           ],
           "sequential": [
            [
             0,
             "#0d0887"
            ],
            [
             0.1111111111111111,
             "#46039f"
            ],
            [
             0.2222222222222222,
             "#7201a8"
            ],
            [
             0.3333333333333333,
             "#9c179e"
            ],
            [
             0.4444444444444444,
             "#bd3786"
            ],
            [
             0.5555555555555556,
             "#d8576b"
            ],
            [
             0.6666666666666666,
             "#ed7953"
            ],
            [
             0.7777777777777778,
             "#fb9f3a"
            ],
            [
             0.8888888888888888,
             "#fdca26"
            ],
            [
             1,
             "#f0f921"
            ]
           ],
           "sequentialminus": [
            [
             0,
             "#0d0887"
            ],
            [
             0.1111111111111111,
             "#46039f"
            ],
            [
             0.2222222222222222,
             "#7201a8"
            ],
            [
             0.3333333333333333,
             "#9c179e"
            ],
            [
             0.4444444444444444,
             "#bd3786"
            ],
            [
             0.5555555555555556,
             "#d8576b"
            ],
            [
             0.6666666666666666,
             "#ed7953"
            ],
            [
             0.7777777777777778,
             "#fb9f3a"
            ],
            [
             0.8888888888888888,
             "#fdca26"
            ],
            [
             1,
             "#f0f921"
            ]
           ]
          },
          "colorway": [
           "#636efa",
           "#EF553B",
           "#00cc96",
           "#ab63fa",
           "#FFA15A",
           "#19d3f3",
           "#FF6692",
           "#B6E880",
           "#FF97FF",
           "#FECB52"
          ],
          "font": {
           "color": "#2a3f5f"
          },
          "geo": {
           "bgcolor": "white",
           "lakecolor": "white",
           "landcolor": "#E5ECF6",
           "showlakes": true,
           "showland": true,
           "subunitcolor": "white"
          },
          "hoverlabel": {
           "align": "left"
          },
          "hovermode": "closest",
          "mapbox": {
           "style": "light"
          },
          "paper_bgcolor": "white",
          "plot_bgcolor": "#E5ECF6",
          "polar": {
           "angularaxis": {
            "gridcolor": "white",
            "linecolor": "white",
            "ticks": ""
           },
           "bgcolor": "#E5ECF6",
           "radialaxis": {
            "gridcolor": "white",
            "linecolor": "white",
            "ticks": ""
           }
          },
          "scene": {
           "xaxis": {
            "backgroundcolor": "#E5ECF6",
            "gridcolor": "white",
            "gridwidth": 2,
            "linecolor": "white",
            "showbackground": true,
            "ticks": "",
            "zerolinecolor": "white"
           },
           "yaxis": {
            "backgroundcolor": "#E5ECF6",
            "gridcolor": "white",
            "gridwidth": 2,
            "linecolor": "white",
            "showbackground": true,
            "ticks": "",
            "zerolinecolor": "white"
           },
           "zaxis": {
            "backgroundcolor": "#E5ECF6",
            "gridcolor": "white",
            "gridwidth": 2,
            "linecolor": "white",
            "showbackground": true,
            "ticks": "",
            "zerolinecolor": "white"
           }
          },
          "shapedefaults": {
           "line": {
            "color": "#2a3f5f"
           }
          },
          "ternary": {
           "aaxis": {
            "gridcolor": "white",
            "linecolor": "white",
            "ticks": ""
           },
           "baxis": {
            "gridcolor": "white",
            "linecolor": "white",
            "ticks": ""
           },
           "bgcolor": "#E5ECF6",
           "caxis": {
            "gridcolor": "white",
            "linecolor": "white",
            "ticks": ""
           }
          },
          "title": {
           "x": 0.05
          },
          "xaxis": {
           "automargin": true,
           "gridcolor": "white",
           "linecolor": "white",
           "ticks": "",
           "zerolinecolor": "white",
           "zerolinewidth": 2
          },
          "yaxis": {
           "automargin": true,
           "gridcolor": "white",
           "linecolor": "white",
           "ticks": "",
           "zerolinecolor": "white",
           "zerolinewidth": 2
          }
         }
        },
        "title": {
         "text": "Salary for Computer Skills"
        },
        "width": 900
       }
      },
      "text/html": [
       "<div>\n",
       "        \n",
       "        \n",
       "            <div id=\"b66904f2-d38c-4ae6-bb23-91e4f5f5043e\" class=\"plotly-graph-div\" style=\"height:800px; width:900px;\"></div>\n",
       "            <script type=\"text/javascript\">\n",
       "                require([\"plotly\"], function(Plotly) {\n",
       "                    window.PLOTLYENV=window.PLOTLYENV || {};\n",
       "                    \n",
       "                if (document.getElementById(\"b66904f2-d38c-4ae6-bb23-91e4f5f5043e\")) {\n",
       "                    Plotly.newPlot(\n",
       "                        'b66904f2-d38c-4ae6-bb23-91e4f5f5043e',\n",
       "                        [{\"marker\": {\"color\": \"darkblue\"}, \"orientation\": \"h\", \"text\": [\"vb\", \"android\", \"sql\", \"r analytics\", \"ios\", \"c#\", \"javascript\", \"linux\", \"spark\", \"olap\", \"angular\", \"java\", \"c++\", \"python\", \"azure\", \"node.js\", \"aws\", \"hadoop\", \"docker\", \"blockchain\", \"scala\", \"kubernetes\", \"golang\", \"kafka\", \"tensorflow\"], \"type\": \"bar\", \"x\": [78452.63565891473, 83704.76590909091, 86184.69495412844, 88513.59375, 88830.67920353982, 88947.73578947368, 89714.24175824175, 90074.37039660057, 90170.93548387097, 95514.48148148147, 96710.87938596492, 98222.79416058394, 98961.875, 99021.7558685446, 100548.93316195373, 109035.48333333334, 110643.04620123203, 111079.27325581395, 114061.20833333333, 118225.0, 119381.96610169491, 119943.4298245614, 123539.0625, 125525.7372881356, 135305.3409090909], \"y\": [\"vb\", \"android\", \"sql\", \"r analytics\", \"ios\", \"c#\", \"javascript\", \"linux\", \"spark\", \"olap\", \"angular\", \"java\", \"c++\", \"python\", \"azure\", \"node.js\", \"aws\", \"hadoop\", \"docker\", \"blockchain\", \"scala\", \"kubernetes\", \"golang\", \"kafka\", \"tensorflow\"]}],\n",
       "                        {\"height\": 800, \"template\": {\"data\": {\"bar\": [{\"error_x\": {\"color\": \"#2a3f5f\"}, \"error_y\": {\"color\": \"#2a3f5f\"}, \"marker\": {\"line\": {\"color\": \"#E5ECF6\", \"width\": 0.5}}, \"type\": \"bar\"}], \"barpolar\": [{\"marker\": {\"line\": {\"color\": \"#E5ECF6\", \"width\": 0.5}}, \"type\": \"barpolar\"}], \"carpet\": [{\"aaxis\": {\"endlinecolor\": \"#2a3f5f\", \"gridcolor\": \"white\", \"linecolor\": \"white\", \"minorgridcolor\": \"white\", \"startlinecolor\": \"#2a3f5f\"}, \"baxis\": {\"endlinecolor\": \"#2a3f5f\", \"gridcolor\": \"white\", \"linecolor\": \"white\", \"minorgridcolor\": \"white\", \"startlinecolor\": \"#2a3f5f\"}, \"type\": \"carpet\"}], \"choropleth\": [{\"colorbar\": {\"outlinewidth\": 0, \"ticks\": \"\"}, \"type\": \"choropleth\"}], \"contour\": [{\"colorbar\": {\"outlinewidth\": 0, \"ticks\": \"\"}, \"colorscale\": [[0.0, \"#0d0887\"], [0.1111111111111111, \"#46039f\"], [0.2222222222222222, \"#7201a8\"], [0.3333333333333333, \"#9c179e\"], [0.4444444444444444, \"#bd3786\"], [0.5555555555555556, \"#d8576b\"], [0.6666666666666666, \"#ed7953\"], [0.7777777777777778, \"#fb9f3a\"], [0.8888888888888888, \"#fdca26\"], [1.0, \"#f0f921\"]], \"type\": \"contour\"}], \"contourcarpet\": [{\"colorbar\": {\"outlinewidth\": 0, \"ticks\": \"\"}, \"type\": \"contourcarpet\"}], \"heatmap\": [{\"colorbar\": {\"outlinewidth\": 0, \"ticks\": \"\"}, \"colorscale\": [[0.0, \"#0d0887\"], [0.1111111111111111, \"#46039f\"], [0.2222222222222222, \"#7201a8\"], [0.3333333333333333, \"#9c179e\"], [0.4444444444444444, \"#bd3786\"], [0.5555555555555556, \"#d8576b\"], [0.6666666666666666, \"#ed7953\"], [0.7777777777777778, \"#fb9f3a\"], [0.8888888888888888, \"#fdca26\"], [1.0, \"#f0f921\"]], \"type\": \"heatmap\"}], \"heatmapgl\": [{\"colorbar\": {\"outlinewidth\": 0, \"ticks\": \"\"}, \"colorscale\": [[0.0, \"#0d0887\"], [0.1111111111111111, \"#46039f\"], [0.2222222222222222, \"#7201a8\"], [0.3333333333333333, \"#9c179e\"], [0.4444444444444444, \"#bd3786\"], [0.5555555555555556, \"#d8576b\"], [0.6666666666666666, \"#ed7953\"], [0.7777777777777778, \"#fb9f3a\"], [0.8888888888888888, \"#fdca26\"], [1.0, \"#f0f921\"]], \"type\": \"heatmapgl\"}], \"histogram\": [{\"marker\": {\"colorbar\": {\"outlinewidth\": 0, \"ticks\": \"\"}}, \"type\": \"histogram\"}], \"histogram2d\": [{\"colorbar\": {\"outlinewidth\": 0, \"ticks\": \"\"}, \"colorscale\": [[0.0, \"#0d0887\"], [0.1111111111111111, \"#46039f\"], [0.2222222222222222, \"#7201a8\"], [0.3333333333333333, \"#9c179e\"], [0.4444444444444444, \"#bd3786\"], [0.5555555555555556, \"#d8576b\"], [0.6666666666666666, \"#ed7953\"], [0.7777777777777778, \"#fb9f3a\"], [0.8888888888888888, \"#fdca26\"], [1.0, \"#f0f921\"]], \"type\": \"histogram2d\"}], \"histogram2dcontour\": [{\"colorbar\": {\"outlinewidth\": 0, \"ticks\": \"\"}, \"colorscale\": [[0.0, \"#0d0887\"], [0.1111111111111111, \"#46039f\"], [0.2222222222222222, \"#7201a8\"], [0.3333333333333333, \"#9c179e\"], [0.4444444444444444, \"#bd3786\"], [0.5555555555555556, \"#d8576b\"], [0.6666666666666666, \"#ed7953\"], [0.7777777777777778, \"#fb9f3a\"], [0.8888888888888888, \"#fdca26\"], [1.0, \"#f0f921\"]], \"type\": \"histogram2dcontour\"}], \"mesh3d\": [{\"colorbar\": {\"outlinewidth\": 0, \"ticks\": \"\"}, \"type\": \"mesh3d\"}], \"parcoords\": [{\"line\": {\"colorbar\": {\"outlinewidth\": 0, \"ticks\": \"\"}}, \"type\": \"parcoords\"}], \"scatter\": [{\"marker\": {\"colorbar\": {\"outlinewidth\": 0, \"ticks\": \"\"}}, \"type\": \"scatter\"}], \"scatter3d\": [{\"line\": {\"colorbar\": {\"outlinewidth\": 0, \"ticks\": \"\"}}, \"marker\": {\"colorbar\": {\"outlinewidth\": 0, \"ticks\": \"\"}}, \"type\": \"scatter3d\"}], \"scattercarpet\": [{\"marker\": {\"colorbar\": {\"outlinewidth\": 0, \"ticks\": \"\"}}, \"type\": \"scattercarpet\"}], \"scattergeo\": [{\"marker\": {\"colorbar\": {\"outlinewidth\": 0, \"ticks\": \"\"}}, \"type\": \"scattergeo\"}], \"scattergl\": [{\"marker\": {\"colorbar\": {\"outlinewidth\": 0, \"ticks\": \"\"}}, \"type\": \"scattergl\"}], \"scattermapbox\": [{\"marker\": {\"colorbar\": {\"outlinewidth\": 0, \"ticks\": \"\"}}, \"type\": \"scattermapbox\"}], \"scatterpolar\": [{\"marker\": {\"colorbar\": {\"outlinewidth\": 0, \"ticks\": \"\"}}, \"type\": \"scatterpolar\"}], \"scatterpolargl\": [{\"marker\": {\"colorbar\": {\"outlinewidth\": 0, \"ticks\": \"\"}}, \"type\": \"scatterpolargl\"}], \"scatterternary\": [{\"marker\": {\"colorbar\": {\"outlinewidth\": 0, \"ticks\": \"\"}}, \"type\": \"scatterternary\"}], \"surface\": [{\"colorbar\": {\"outlinewidth\": 0, \"ticks\": \"\"}, \"colorscale\": [[0.0, \"#0d0887\"], [0.1111111111111111, \"#46039f\"], [0.2222222222222222, \"#7201a8\"], [0.3333333333333333, \"#9c179e\"], [0.4444444444444444, \"#bd3786\"], [0.5555555555555556, \"#d8576b\"], [0.6666666666666666, \"#ed7953\"], [0.7777777777777778, \"#fb9f3a\"], [0.8888888888888888, \"#fdca26\"], [1.0, \"#f0f921\"]], \"type\": \"surface\"}], \"table\": [{\"cells\": {\"fill\": {\"color\": \"#EBF0F8\"}, \"line\": {\"color\": \"white\"}}, \"header\": {\"fill\": {\"color\": \"#C8D4E3\"}, \"line\": {\"color\": \"white\"}}, \"type\": \"table\"}]}, \"layout\": {\"annotationdefaults\": {\"arrowcolor\": \"#2a3f5f\", \"arrowhead\": 0, \"arrowwidth\": 1}, \"colorscale\": {\"diverging\": [[0, \"#8e0152\"], [0.1, \"#c51b7d\"], [0.2, \"#de77ae\"], [0.3, \"#f1b6da\"], [0.4, \"#fde0ef\"], [0.5, \"#f7f7f7\"], [0.6, \"#e6f5d0\"], [0.7, \"#b8e186\"], [0.8, \"#7fbc41\"], [0.9, \"#4d9221\"], [1, \"#276419\"]], \"sequential\": [[0.0, \"#0d0887\"], [0.1111111111111111, \"#46039f\"], [0.2222222222222222, \"#7201a8\"], [0.3333333333333333, \"#9c179e\"], [0.4444444444444444, \"#bd3786\"], [0.5555555555555556, \"#d8576b\"], [0.6666666666666666, \"#ed7953\"], [0.7777777777777778, \"#fb9f3a\"], [0.8888888888888888, \"#fdca26\"], [1.0, \"#f0f921\"]], \"sequentialminus\": [[0.0, \"#0d0887\"], [0.1111111111111111, \"#46039f\"], [0.2222222222222222, \"#7201a8\"], [0.3333333333333333, \"#9c179e\"], [0.4444444444444444, \"#bd3786\"], [0.5555555555555556, \"#d8576b\"], [0.6666666666666666, \"#ed7953\"], [0.7777777777777778, \"#fb9f3a\"], [0.8888888888888888, \"#fdca26\"], [1.0, \"#f0f921\"]]}, \"colorway\": [\"#636efa\", \"#EF553B\", \"#00cc96\", \"#ab63fa\", \"#FFA15A\", \"#19d3f3\", \"#FF6692\", \"#B6E880\", \"#FF97FF\", \"#FECB52\"], \"font\": {\"color\": \"#2a3f5f\"}, \"geo\": {\"bgcolor\": \"white\", \"lakecolor\": \"white\", \"landcolor\": \"#E5ECF6\", \"showlakes\": true, \"showland\": true, \"subunitcolor\": \"white\"}, \"hoverlabel\": {\"align\": \"left\"}, \"hovermode\": \"closest\", \"mapbox\": {\"style\": \"light\"}, \"paper_bgcolor\": \"white\", \"plot_bgcolor\": \"#E5ECF6\", \"polar\": {\"angularaxis\": {\"gridcolor\": \"white\", \"linecolor\": \"white\", \"ticks\": \"\"}, \"bgcolor\": \"#E5ECF6\", \"radialaxis\": {\"gridcolor\": \"white\", \"linecolor\": \"white\", \"ticks\": \"\"}}, \"scene\": {\"xaxis\": {\"backgroundcolor\": \"#E5ECF6\", \"gridcolor\": \"white\", \"gridwidth\": 2, \"linecolor\": \"white\", \"showbackground\": true, \"ticks\": \"\", \"zerolinecolor\": \"white\"}, \"yaxis\": {\"backgroundcolor\": \"#E5ECF6\", \"gridcolor\": \"white\", \"gridwidth\": 2, \"linecolor\": \"white\", \"showbackground\": true, \"ticks\": \"\", \"zerolinecolor\": \"white\"}, \"zaxis\": {\"backgroundcolor\": \"#E5ECF6\", \"gridcolor\": \"white\", \"gridwidth\": 2, \"linecolor\": \"white\", \"showbackground\": true, \"ticks\": \"\", \"zerolinecolor\": \"white\"}}, \"shapedefaults\": {\"line\": {\"color\": \"#2a3f5f\"}}, \"ternary\": {\"aaxis\": {\"gridcolor\": \"white\", \"linecolor\": \"white\", \"ticks\": \"\"}, \"baxis\": {\"gridcolor\": \"white\", \"linecolor\": \"white\", \"ticks\": \"\"}, \"bgcolor\": \"#E5ECF6\", \"caxis\": {\"gridcolor\": \"white\", \"linecolor\": \"white\", \"ticks\": \"\"}}, \"title\": {\"x\": 0.05}, \"xaxis\": {\"automargin\": true, \"gridcolor\": \"white\", \"linecolor\": \"white\", \"ticks\": \"\", \"zerolinecolor\": \"white\", \"zerolinewidth\": 2}, \"yaxis\": {\"automargin\": true, \"gridcolor\": \"white\", \"linecolor\": \"white\", \"ticks\": \"\", \"zerolinecolor\": \"white\", \"zerolinewidth\": 2}}}, \"title\": {\"text\": \"Salary for Computer Skills\"}, \"width\": 900},\n",
       "                        {\"responsive\": true}\n",
       "                    ).then(function(){\n",
       "                            \n",
       "var gd = document.getElementById('b66904f2-d38c-4ae6-bb23-91e4f5f5043e');\n",
       "var x = new MutationObserver(function (mutations, observer) {{\n",
       "        var display = window.getComputedStyle(gd).display;\n",
       "        if (!display || display === 'none') {{\n",
       "            console.log([gd, 'removed!']);\n",
       "            Plotly.purge(gd);\n",
       "            observer.disconnect();\n",
       "        }}\n",
       "}});\n",
       "\n",
       "// Listen for the removal of the full notebook cells\n",
       "var notebookContainer = gd.closest('#notebook-container');\n",
       "if (notebookContainer) {{\n",
       "    x.observe(notebookContainer, {childList: true});\n",
       "}}\n",
       "\n",
       "// Listen for the clearing of the current output cell\n",
       "var outputEl = gd.closest('.output');\n",
       "if (outputEl) {{\n",
       "    x.observe(outputEl, {childList: true});\n",
       "}}\n",
       "\n",
       "                        })\n",
       "                };\n",
       "                });\n",
       "            </script>\n",
       "        </div>"
      ]
     },
     "metadata": {},
     "output_type": "display_data"
    }
   ],
   "source": [
    "# visualize bar plot (Salary for Software Skills)\n",
    "salary_mean = jobs.groupby(['skill']).agg({'salary':'mean'}).sort_values('salary', ascending=True).rename(columns={'salary':'salary_mean'})\n",
    "\n",
    "data = [Bar(y=salary_mean.index, x=salary_mean['salary_mean'], text=salary_mean.index, orientation='h', marker={'color':'darkblue'})]\n",
    "layout = Layout(title=\"Salary for Computer Skills\", width = 900, height = 800)\n",
    "\n",
    "fig = Figure(data=data, layout=layout)\n",
    "\n",
    "plotly.offline.iplot(fig, show_link=False)"
   ]
  },
  {
   "cell_type": "code",
   "execution_count": 7,
   "metadata": {},
   "outputs": [
    {
     "data": {
      "application/vnd.plotly.v1+json": {
       "config": {
        "linkText": "Export to plot.ly",
        "plotlyServerURL": "https://plot.ly",
        "showLink": false
       },
       "data": [
        {
         "name": "vb",
         "type": "box",
         "x": [
          80000,
          70000,
          45000,
          60000,
          59000,
          67500,
          51000,
          32500,
          50000,
          35000,
          65000,
          71250,
          70000,
          65000,
          99754.5,
          40000,
          69500,
          95000,
          50500,
          86083.5,
          57552,
          100000,
          77500,
          57500,
          85000,
          80000,
          97500,
          55000,
          72800,
          97500,
          110000,
          75000,
          111914.5,
          100000,
          72500,
          80000,
          113963,
          130500,
          128496,
          99736,
          77500,
          67500,
          71862,
          124841,
          80878,
          143645,
          75000,
          52500,
          95000,
          77500,
          45000,
          69586,
          97000,
          70000,
          52500,
          50235,
          77500,
          87500,
          83500,
          45000,
          105000,
          74974,
          100000,
          72526.5,
          67500,
          72526.5,
          100000,
          110000,
          77500,
          95000,
          78000,
          100000,
          37500,
          69000,
          57500,
          72500,
          70000,
          83032.5,
          52500,
          45000,
          52500,
          101712,
          67500,
          50000,
          65000,
          88504,
          114000,
          69166,
          96222.5,
          69506.5,
          105000,
          93000,
          95000,
          48024,
          50000,
          77569,
          75000,
          70000,
          57500,
          50000,
          70000,
          92602,
          59004,
          75282,
          75000,
          63006,
          83500,
          100000,
          62148,
          129747.5,
          77862,
          65000,
          48000,
          58656,
          77500,
          65853.5,
          162500,
          104569,
          75000,
          93000,
          90000,
          90000,
          35000,
          100000,
          70000,
          125500,
          112800,
          125000,
          90000
         ]
        },
        {
         "name": "android",
         "type": "box",
         "x": [
          62500,
          75000,
          40000,
          12000,
          18000,
          18000,
          18000,
          60000,
          95000,
          50000,
          31200,
          18000,
          67500,
          27872,
          32000,
          33280,
          31200,
          37500,
          36200,
          91058,
          60000,
          39000,
          86845.5,
          150000,
          45000,
          55000,
          45000,
          31200,
          31200,
          85000,
          85000,
          50000,
          80000,
          200000,
          92500,
          84000,
          200000,
          170000,
          24000,
          62500,
          60000,
          59000,
          31200,
          85000,
          90000,
          32500,
          60000,
          45000,
          33500,
          35000,
          52500,
          60000,
          53750,
          65000,
          100000,
          35000,
          60000,
          29400,
          60000,
          55000,
          45000,
          95000,
          72714,
          45000,
          65000,
          42500,
          82500,
          60000,
          81000,
          81000,
          60000,
          40000,
          150000,
          80000,
          55000,
          46500,
          35000,
          110000,
          11500,
          110000,
          50000,
          110000,
          110000,
          110000,
          77500,
          80000,
          65000,
          75000,
          87500,
          100000,
          92976,
          70000,
          40000,
          50000,
          100000,
          74650,
          70000,
          95000,
          100000,
          48766,
          110000,
          110000,
          62500,
          52500,
          37101,
          52500,
          55000,
          115000,
          125000,
          60000,
          74650,
          130000,
          95000,
          95500,
          145000,
          135000,
          110000,
          100000,
          65000,
          100000,
          70000,
          75000,
          47500,
          35000,
          75000,
          100000,
          95000,
          70000,
          105000,
          72306,
          60000,
          74650,
          72500,
          67500,
          83500,
          110000,
          75000,
          65000,
          83814,
          84500,
          100000,
          100000,
          53041.5,
          67754,
          80000,
          120000,
          95000,
          105000,
          134550,
          75000,
          160000,
          67500,
          105000,
          160000,
          120000,
          70000,
          130000,
          170000,
          68750,
          74650,
          55000,
          160000,
          87500,
          175000,
          115000,
          59000,
          180000,
          120000,
          129000,
          87500,
          120000,
          125000,
          155000,
          127500,
          50000,
          45000,
          48611,
          62470,
          62470,
          80185,
          107500,
          53993.5,
          130000,
          100000,
          40000,
          90000,
          150000,
          82500,
          69000,
          49944,
          90000,
          95000,
          95000,
          140000,
          48000,
          140000,
          100000,
          105000,
          127500,
          140000,
          105000,
          65000,
          95000,
          100000,
          140000,
          66000,
          81947,
          107500,
          112500,
          107500,
          112500,
          150650,
          150000,
          165000,
          150000,
          125000,
          200000,
          125000,
          110000,
          135000
         ]
        },
        {
         "name": "sql",
         "type": "box",
         "x": [
          71531,
          64292,
          80000,
          37500,
          63500,
          50000,
          77500,
          57500,
          56604,
          46500,
          47500,
          90000,
          47500,
          69500,
          80000,
          40000,
          37209,
          108042,
          65385.5,
          138861,
          82175,
          92500,
          68810.5,
          100000,
          70000,
          47500,
          62028.5,
          65385.5,
          72364,
          160000,
          85000,
          100000,
          52000,
          70000,
          135000,
          110000,
          57262,
          99754.5,
          90000,
          78803,
          102817.5,
          69283.5,
          82175,
          77500,
          150000,
          65000,
          59280,
          50262,
          126000,
          55000,
          64269.5,
          525000,
          104015.5,
          49576.5,
          95000,
          39000,
          45000,
          55000,
          55000,
          65000,
          45000,
          55000,
          73873.5,
          80367.5,
          72500,
          72500,
          20000,
          51961,
          75000,
          84000,
          38660,
          40000,
          76253,
          72500,
          40000,
          100000,
          65000,
          46716,
          67500,
          72500,
          50000,
          42500,
          52401,
          65000,
          77109.5,
          60000,
          70000,
          77109.5,
          70000,
          60896,
          37500,
          53000,
          59404.5,
          32500,
          70000,
          70000,
          156000,
          43000,
          68436,
          65000,
          75000,
          97500,
          156000,
          72500,
          117500,
          77500,
          40000,
          77500,
          72000,
          62140,
          93538,
          90000,
          75000,
          46800,
          36976,
          85000,
          110000,
          37500,
          55000,
          81414,
          68750,
          51612,
          73200,
          110000,
          62500,
          80000,
          45000,
          63990,
          68502,
          47250,
          76000,
          72500,
          51985,
          62500,
          90000,
          36976,
          86083.5,
          57000,
          52000,
          162500,
          125000,
          70000,
          115000,
          100000,
          72500,
          46692,
          50000,
          72500,
          72500,
          50000,
          95000,
          75500,
          94307,
          72792,
          59472,
          125000,
          65770,
          82500,
          72500,
          45000,
          160000,
          175000,
          75000,
          50000,
          75000,
          75000,
          50000,
          67500,
          74850,
          87500,
          77500,
          75871.5,
          99174,
          81623,
          62500,
          60000,
          90000,
          76483,
          90000,
          85000,
          62500,
          70000,
          109830,
          80000,
          75000,
          62500,
          36000,
          52500,
          120000,
          62860,
          57500,
          65000,
          97500,
          75000,
          70000,
          120000,
          70064.5,
          36000,
          51882,
          51882,
          102546,
          62860,
          65000,
          65000,
          70000,
          75000,
          90000,
          70000,
          75000,
          65000,
          60000,
          72500,
          70000,
          140000,
          24000,
          65000,
          57500,
          130000,
          84927.5,
          100000,
          140000,
          90000,
          53238,
          60000,
          35000,
          60000,
          55000,
          72500,
          70000,
          38000,
          65000,
          70000,
          87500,
          72500,
          43000,
          57152,
          42500,
          63795,
          110000,
          70000,
          110000,
          80000,
          100000,
          60000,
          80000,
          78409,
          44319,
          42365.5,
          50000,
          74078,
          67683.5,
          80000,
          65000,
          66978,
          28500,
          65991.5,
          63679.5,
          57500,
          75000,
          80000,
          60000,
          77500,
          60391,
          70000,
          60000,
          50000,
          35000,
          80000,
          70000,
          85925,
          57500,
          48300,
          50000,
          35721,
          48000,
          50000,
          60000,
          55000,
          60000,
          52500,
          120000,
          67500,
          67689,
          57500,
          62500,
          88500,
          55000,
          42500,
          70000,
          65000,
          65000,
          70000,
          60000,
          65000,
          65000,
          102500,
          52500,
          55000,
          85000,
          81000,
          50000,
          50000,
          85000,
          150000,
          81000,
          50208,
          130000,
          110000,
          50000,
          72500,
          110000,
          64000,
          120000,
          72250,
          73992,
          110000,
          69978,
          72250,
          85000,
          75000,
          48024,
          80000,
          82500,
          99000,
          110000,
          67060,
          80000,
          70000,
          135000,
          44536,
          95000,
          50000,
          77500,
          100000,
          72500,
          60000,
          50000,
          60000,
          90000,
          65000,
          65000,
          90000,
          75338,
          67125,
          59666,
          85000,
          100000,
          130000,
          82500,
          67125,
          75000,
          67500,
          65000,
          70000,
          51371,
          77671.5,
          47500,
          85000,
          100000,
          70000,
          70000,
          46222,
          70000,
          80000,
          100000,
          112500,
          112500,
          100000,
          112500,
          70000,
          70000,
          75000,
          100000,
          65000,
          90000,
          85000,
          50000,
          75000,
          70000,
          88529.5,
          75000,
          65000,
          80000,
          80000,
          77221.5,
          70000,
          41500,
          100000,
          65000,
          85000,
          62500,
          63000,
          72706,
          37500,
          90000,
          85000,
          45000,
          47500,
          47500,
          100000,
          52500,
          65000,
          87500,
          90000,
          66000,
          92500,
          48900,
          140000,
          101712,
          110000,
          80000,
          95000,
          40000,
          45942,
          36400,
          58162.5,
          90000,
          90000,
          126935.5,
          55000,
          52500,
          75000,
          120000,
          140000,
          80000,
          91000,
          120000,
          65000,
          88000,
          72500,
          74000,
          115000,
          85000,
          75000,
          85000,
          51664,
          62500,
          48900,
          95000,
          85529.5,
          85000,
          115000,
          70000,
          85529.5,
          75000,
          91500,
          162500,
          87500,
          74000,
          74000,
          74000,
          70500,
          108500,
          74000,
          95000,
          85000,
          52500,
          62500,
          90000,
          90000,
          57998,
          110000,
          87500,
          45000,
          150000,
          150000,
          60000,
          70000,
          100000,
          52500,
          42500,
          92500,
          85000,
          87500,
          67500,
          61290,
          47352,
          65597,
          90000,
          85000,
          87498,
          102500,
          46324,
          260000,
          130000,
          54471,
          62052,
          90000,
          80367,
          100000,
          95000,
          100000,
          98538,
          115000,
          107500,
          48766,
          90000,
          67500,
          115000,
          60000,
          53052,
          64480,
          67500,
          110000,
          102500,
          95000,
          69506.5,
          103593,
          100000,
          95000,
          76100,
          83000,
          81515.5,
          120000,
          95000,
          137500,
          89362.5,
          130000,
          52500,
          62500,
          40000,
          72500,
          87500,
          97249.5,
          120000,
          106492,
          77407,
          90000,
          105000,
          110000,
          100000,
          102500,
          62500,
          125000,
          80000,
          120000,
          40000,
          115000,
          97200,
          110000,
          115732,
          130000,
          96222.5,
          135000,
          97500,
          240000,
          70000,
          65000,
          85000,
          95000,
          112500,
          77500,
          200000,
          87500,
          50552,
          90000,
          150000,
          212500,
          127500,
          102500,
          83258,
          100000,
          80000,
          130000,
          110000,
          200000,
          80000,
          87500,
          91837,
          80000,
          92500,
          95000,
          80000,
          120000,
          120000,
          57860,
          182500,
          141865,
          75000,
          70000,
          69166,
          67500,
          114000,
          75000,
          70000,
          100000,
          85000,
          70000,
          42995.5,
          90000,
          62500,
          100000,
          55000,
          117500,
          100000,
          95000,
          70000,
          65000,
          51154,
          80000,
          85000,
          65000,
          35000,
          70000,
          130000,
          59266.5,
          50000,
          100000,
          105000,
          70000,
          48058,
          95700,
          90000,
          92602,
          57200,
          55000,
          67500,
          80261,
          56628.5,
          97500,
          70000,
          60000,
          75000,
          80000,
          69118.5,
          76574,
          70000,
          68404.5,
          89584.5,
          55000,
          48500,
          90000,
          64000,
          75000,
          73086,
          51000,
          47600,
          95160,
          82500,
          34632,
          57500,
          180000,
          80000,
          107500,
          79903,
          75000,
          74699.5,
          79903,
          52400,
          70000,
          85000,
          79000,
          85000,
          84000,
          85410,
          72500,
          51500,
          82884,
          100000,
          78907.5,
          70000,
          59758,
          79000,
          61602,
          63990,
          71304,
          41405.5,
          36500,
          129000,
          63612,
          75000,
          68046,
          72500,
          87500,
          62000,
          55188,
          75000,
          59472,
          93408,
          86988,
          105000,
          76487,
          80000,
          48000,
          100000,
          100000,
          100000,
          95000,
          500000,
          65000,
          48000,
          83297.5,
          118450,
          46111.5,
          98090,
          67500,
          100000,
          79200,
          83814,
          72000,
          55000,
          60314,
          53496,
          65000,
          77862,
          59832,
          144123,
          84919,
          75282,
          129000,
          100000,
          52605,
          82000,
          71034,
          90000,
          59832,
          49200,
          110000,
          68436,
          77007.5,
          72500,
          78000,
          93408,
          150000,
          90000,
          75000,
          70500,
          85000,
          125000,
          85144.5,
          87210,
          170000,
          66600,
          51096,
          77862,
          60000,
          75000,
          73170,
          63300,
          77500,
          101231,
          125000,
          85000,
          115000,
          78000,
          59214,
          86142.5,
          73496.5,
          40000,
          55250,
          93408,
          59472,
          69768,
          75000,
          54731,
          52000,
          82500,
          68500,
          50000,
          77862,
          85000,
          89520,
          52000,
          55944,
          125000,
          67754,
          43028,
          68436,
          125000,
          45000,
          90984,
          130000,
          66000,
          105000,
          62500,
          90984,
          78000,
          55000,
          89760,
          110094,
          120000,
          89428.5,
          68730,
          99500,
          85000,
          74304,
          57500,
          130000,
          71137.5,
          78972,
          77633,
          115000,
          145000,
          110094,
          113963,
          85620,
          87504,
          117500,
          100000,
          95000,
          65000,
          116274,
          56316,
          99736,
          113963,
          202578,
          127500,
          90000,
          88801,
          85000,
          98613,
          69146.5,
          89500,
          105682,
          120000,
          102654,
          65000,
          91650,
          90984,
          99549,
          141000,
          62000,
          129043,
          68500,
          150000,
          80417.5,
          145000,
          135000,
          165000,
          99777,
          90000,
          113178,
          175000,
          97375,
          73132,
          100000,
          59000,
          62500,
          130000,
          110000,
          60000,
          101147,
          92684.5,
          91879,
          59170,
          67450,
          79217,
          68772,
          90000,
          112195.5,
          129000,
          128496,
          102500,
          97000,
          58500,
          45000,
          80000,
          115403.5,
          66350,
          55000,
          95000,
          95000,
          82500,
          85000,
          85000,
          52500,
          55000,
          68000,
          62470,
          83000,
          72500,
          67500,
          66500,
          75000,
          72500,
          66346,
          70096,
          55000,
          82500,
          79500,
          89924.5,
          70500,
          61103.5,
          67165.5,
          80000,
          72500,
          97760,
          70000,
          67452.5,
          57500,
          120000,
          85000,
          56350,
          77500,
          72526.5,
          102500,
          69586,
          80000,
          100000,
          58500,
          80000,
          60000,
          62414,
          107500,
          77500,
          80000,
          47000,
          122500,
          100000,
          67500,
          82500,
          100000,
          84000,
          80000,
          75000,
          81432,
          100000,
          80000,
          117500,
          103438,
          85000,
          60000,
          70896.5,
          112500,
          74974,
          84550,
          108211,
          79750,
          108211,
          110000,
          170000,
          72500,
          81432,
          82386,
          112500,
          60000,
          95000,
          72620.5,
          70000,
          70000,
          72620.5,
          127500,
          67500,
          68328.5,
          90000,
          117500,
          85000,
          102500,
          59635,
          62500,
          112500,
          135000,
          112500,
          110000,
          115000,
          137500,
          147500,
          111384,
          100000,
          90800,
          56810,
          100000,
          95000,
          112000,
          35000,
          102500,
          110000,
          150000,
          120000,
          100000,
          90000,
          115000,
          180000,
          145000,
          105000,
          127500,
          160000,
          70000,
          85000,
          117500,
          70000,
          145000,
          80367.5,
          142500,
          130000,
          75000,
          110000,
          82175,
          125000,
          107500,
          200000,
          107500,
          80000,
          90000,
          139000,
          160000,
          72500,
          80000,
          180000,
          140000,
          120000,
          90000,
          72500,
          170000,
          165000,
          88113,
          85000,
          125000,
          125000,
          200000,
          117500,
          90000,
          130000,
          130000,
          61500,
          105000,
          110000,
          87500,
          92500,
          87500,
          91461,
          91461,
          43750,
          89774,
          63000,
          97050,
          67500,
          104569,
          120000,
          63108,
          156000,
          69456,
          112500,
          157500,
          90000,
          137500,
          65853.5,
          174000,
          102744,
          146000,
          125000,
          100000,
          209500,
          137500,
          118000,
          122500,
          102024,
          112500,
          110025,
          152500,
          271000,
          105000,
          88849,
          135000,
          184000,
          150000,
          109000,
          72438.5,
          120000,
          130000,
          127500,
          125000,
          160000,
          165000,
          155000,
          110094,
          175000,
          125000,
          95000,
          92000,
          107982,
          147500,
          95000,
          140000,
          150000,
          130000,
          99762,
          75000,
          150000,
          140000,
          202578,
          62500,
          130000,
          88478,
          115000,
          95000,
          160000,
          115000,
          135000,
          160000
         ]
        },
        {
         "name": "r analytics",
         "type": "box",
         "x": [
          65000,
          101000,
          90000,
          105000,
          32500,
          45942,
          61542,
          85000,
          42500,
          87500,
          65385.5,
          77407,
          70000,
          110966,
          52500,
          68000,
          73235,
          150000,
          60000,
          120000,
          64480,
          72576,
          95000,
          87500,
          50552,
          135000,
          67107.5,
          67151,
          90000,
          100000,
          100000,
          125000,
          110000,
          72500,
          85000,
          92034,
          140976,
          125000,
          90000,
          74304,
          117500,
          90000,
          202578,
          72500,
          117500,
          90984,
          130000,
          80000,
          81000,
          81000,
          59000,
          70000,
          60000,
          114750,
          178000,
          120000,
          81000,
          72250,
          72250,
          110000,
          81000,
          78803,
          65385.5,
          55000,
          78803,
          59280,
          82175,
          70000,
          55000,
          50262,
          104015.5,
          57262,
          45000,
          77500,
          49451,
          45000,
          31250,
          74000,
          62500,
          81414,
          49920,
          85000,
          77500,
          72792,
          84927.5,
          120000,
          108552,
          120000,
          42000,
          70000,
          130000,
          80367.5,
          72500,
          145000,
          145000,
          107500,
          72500,
          72500,
          117500,
          112500,
          202578,
          140000,
          150000,
          150000,
          61103.5,
          79500,
          32500,
          85000,
          112500,
          95000,
          100000,
          108211
         ]
        },
        {
         "name": "ios",
         "type": "box",
         "x": [
          26400,
          90000,
          60000,
          62500,
          59000,
          90000,
          31200,
          62500,
          45000,
          60000,
          115000,
          33500,
          125000,
          60000,
          35000,
          60000,
          60000,
          55000,
          45000,
          45000,
          65000,
          60000,
          60000,
          40000,
          47500,
          46500,
          56000,
          116010,
          80000,
          110000,
          110000,
          110000,
          50000,
          110000,
          110000,
          50000,
          62500,
          60000,
          31200,
          112500,
          40500,
          90000,
          31200,
          72500,
          85000,
          46100,
          200000,
          39000,
          82500,
          150000,
          86845.5,
          31200,
          31200,
          45000,
          170000,
          45000,
          85000,
          44220,
          48000,
          74279,
          85000,
          50000,
          80000,
          84000,
          68500,
          60596,
          66346,
          45000,
          48611,
          62470,
          60000,
          62470,
          80185,
          80843,
          130000,
          100000,
          150000,
          82500,
          49944,
          65000,
          65000,
          32380,
          55262,
          75000,
          87500,
          110000,
          100000,
          92976,
          70000,
          95000,
          110000,
          110000,
          74650,
          95000,
          50000,
          48766,
          45000,
          46500,
          97500,
          225000,
          50000,
          52500,
          120000,
          62500,
          90158.5,
          75000,
          145000,
          52500,
          55000,
          62500,
          125000,
          112148.5,
          125000,
          109413,
          74650,
          110000,
          100000,
          95000,
          75000,
          135000,
          110000,
          130000,
          60000,
          42500,
          74650,
          59266.5,
          70000,
          75000,
          100000,
          70000,
          100000,
          72306,
          100000,
          78000,
          111481.5,
          72500,
          67500,
          110000,
          43549,
          100000,
          150000,
          49500,
          32862,
          66000,
          63000,
          75000,
          150000,
          100000,
          83814,
          67754,
          80000,
          90000,
          59214,
          115000,
          120000,
          52500,
          130000,
          105000,
          130000,
          100000,
          95000,
          134550,
          47500,
          113112,
          67500,
          68750,
          105000,
          95514,
          105000,
          125000,
          74650,
          70000,
          78972,
          170000,
          55000,
          90984,
          125000,
          160000,
          120000,
          87500,
          115000,
          130000,
          105000,
          90984,
          59000,
          90000,
          120000,
          90000,
          145000,
          35000,
          180000,
          129000,
          90000,
          135000,
          110000,
          100000,
          145000,
          175000,
          165000,
          150000,
          200000,
          130000,
          100000,
          150000,
          150650,
          135000,
          66000,
          81947,
          140000,
          91500,
          95000,
          140000,
          48000,
          110000,
          140000,
          127500,
          140000,
          170000,
          105000,
          65000,
          95000,
          100000,
          120000,
          112500,
          107500,
          112500
         ]
        },
        {
         "name": "c#",
         "type": "box",
         "x": [
          125000,
          55000,
          85000,
          55000,
          70000,
          80000,
          35721,
          85000,
          87500,
          50000,
          60000,
          50000,
          72500,
          70000,
          60000,
          67500,
          65000,
          120000,
          95000,
          65000,
          120000,
          60000,
          54500,
          32500,
          52500,
          50000,
          55000,
          50000,
          83000,
          47500,
          72500,
          50000,
          77500,
          77500,
          100000,
          93825.5,
          60000,
          92768,
          62500,
          65000,
          99754.5,
          100000,
          40000,
          102817.5,
          143000,
          51961,
          43507,
          77109.5,
          67500,
          77109.5,
          40000,
          61511,
          65000,
          46716,
          90000,
          70000,
          55000,
          97500,
          17500,
          175000,
          40000,
          80000,
          62140,
          72500,
          80000,
          90000,
          100000,
          90000,
          77500,
          72500,
          70000,
          97500,
          60000,
          86083.5,
          76000,
          57552,
          66500,
          110000,
          90000,
          90646,
          72500,
          55000,
          150000,
          70000,
          85000,
          45000,
          107924.5,
          65770,
          75000,
          72500,
          50000,
          97500,
          59604,
          76483,
          105000,
          82752,
          60000,
          60000,
          130000,
          65000,
          31000,
          75000,
          110000,
          59000,
          110000,
          72500,
          100000,
          55379.5,
          70000,
          78409,
          117500,
          70000,
          66350,
          95000,
          77500,
          50235,
          75000,
          88251,
          37704,
          65000,
          70000,
          72500,
          105000,
          66500,
          95000,
          68000,
          70000,
          83500,
          62414,
          69586,
          95000,
          72526.5,
          77500,
          135000,
          105000,
          80185,
          70000,
          60000,
          82500,
          72526.5,
          80000,
          117500,
          112500,
          67500,
          74974,
          100000,
          108211,
          100000,
          110000,
          65000,
          78000,
          110000,
          95000,
          95000,
          60000,
          70000,
          77500,
          75000,
          80000,
          100000,
          82500,
          150000,
          90000,
          90000,
          112500,
          100000,
          100000,
          102000,
          85000,
          60000,
          125000,
          37500,
          100000,
          137500,
          85500,
          90000,
          70000,
          77500,
          72000,
          90000,
          135000,
          69000,
          102500,
          90000,
          70000,
          90000,
          52500,
          52500,
          67500,
          95000,
          87500,
          101712,
          140000,
          95000,
          85000,
          104062,
          70000,
          72500,
          70000,
          115000,
          115000,
          140000,
          83032.5,
          91000,
          80000,
          120000,
          70000,
          95000,
          95000,
          145000,
          65000,
          120000,
          95000,
          70000,
          92500,
          75533.5,
          88092,
          70000,
          150000,
          150000,
          105000,
          90000,
          48766,
          120000,
          170000,
          90000,
          62052,
          10000,
          96442,
          92500,
          77500,
          75000,
          87500,
          80000,
          80000,
          82500,
          105000,
          60000,
          89000,
          92500,
          72500,
          97249.5,
          125000,
          104970,
          85000,
          150000,
          120000,
          88504,
          70000,
          102500,
          92500,
          120000,
          77145.5,
          93000,
          102500,
          92500,
          110000,
          105000,
          89362.5,
          82394.5,
          130000,
          90000,
          82500,
          80000,
          87500,
          69506.5,
          103593,
          83495,
          125000,
          99000,
          80000,
          114000,
          69166,
          87500,
          70000,
          65000,
          87500,
          83258,
          85000,
          120000,
          110000,
          50000,
          100000,
          51154,
          105000,
          90000,
          46000,
          75000,
          135000,
          62500,
          110000,
          63000,
          92602,
          50000,
          90000,
          53144,
          100000,
          105000,
          70000,
          95000,
          120000,
          65000,
          80000,
          67500,
          72306,
          34632,
          89892,
          100000,
          127500,
          51612,
          100000,
          160000,
          75282,
          100000,
          77500,
          100000,
          67500,
          125000,
          115000,
          105000,
          129000,
          55188,
          100000,
          83500,
          58656,
          59004,
          100000,
          85200,
          51500,
          75000,
          123000,
          100000,
          69000,
          62148,
          100000,
          90000,
          90646,
          63006,
          57500,
          52605,
          71304,
          105000,
          67500,
          144123,
          75000,
          83297.5,
          85000,
          175000,
          85000,
          48000,
          65406,
          65000,
          129747.5,
          87000,
          100000,
          85410,
          87500,
          68500,
          63750,
          98090,
          75000,
          100000,
          100336.5,
          68500,
          96500,
          73170,
          120000,
          100000,
          75000,
          84500,
          95000,
          107500,
          107500,
          87500,
          75000,
          90000,
          80000,
          82500,
          120000,
          95712,
          112000,
          75000,
          62500,
          105000,
          135000,
          113934,
          115000,
          124841,
          114434,
          126688,
          80000,
          100170,
          115000,
          125736,
          82500,
          80878,
          113963,
          89428.5,
          99736,
          80000,
          130000,
          105000,
          100000,
          71862,
          65100,
          124200,
          77633,
          192000,
          52464,
          77500,
          130000,
          71137.5,
          127500,
          88338,
          160000,
          125000,
          120000,
          90000,
          117500,
          68328.5,
          102000,
          160000,
          105000,
          85000,
          35000,
          90000,
          90000,
          110000,
          95000,
          162500,
          130000,
          35000,
          90000,
          110000,
          70000,
          85000,
          160000,
          102500,
          65000,
          160000,
          75000,
          85000,
          93000,
          130000,
          102500,
          105000,
          81000,
          104569,
          81947,
          87500,
          87500,
          70762,
          105000,
          107500,
          107500,
          63108,
          100000,
          110000,
          122500,
          137500,
          100000,
          157500,
          134000,
          100000,
          165000,
          57500,
          165000,
          102500,
          110000,
          145000,
          120000,
          125000,
          135000,
          127500,
          131150
         ]
        },
        {
         "name": "javascript",
         "type": "box",
         "x": [
          52500,
          50000,
          40000,
          102500,
          47500,
          55000,
          50000,
          40000,
          87500,
          150000,
          140000,
          140000,
          47500,
          126000,
          45000,
          95000,
          100000,
          72500,
          70000,
          50000,
          30000,
          77500,
          56604,
          50000,
          90000,
          55000,
          90000,
          80000,
          55000,
          138861,
          69821.5,
          96222,
          59000,
          99754.5,
          70000,
          85000,
          69283.5,
          102817.5,
          87500,
          55000,
          92500,
          45000,
          96366,
          93825.5,
          143000,
          55000,
          110000,
          200000,
          165000,
          97500,
          80000,
          75000,
          120000,
          77500,
          525000,
          120000,
          75000,
          120000,
          40000,
          52000,
          50000,
          72500,
          42500,
          84000,
          86650,
          42500,
          72500,
          45000,
          20000,
          50000,
          59404.5,
          65000,
          75000,
          55000,
          67500,
          72500,
          76253,
          67500,
          30000,
          17500,
          97500,
          62140,
          70000,
          91915,
          42500,
          175000,
          72500,
          95000,
          75000,
          77500,
          90000,
          82500,
          117500,
          72500,
          90000,
          80000,
          85000,
          14400,
          57500,
          76000,
          115000,
          90646,
          52500,
          75000,
          72500,
          50000,
          80000,
          75000,
          60000,
          92500,
          120000,
          162500,
          68000,
          86083.5,
          57500,
          30000,
          130000,
          50000,
          42000,
          50000,
          75000,
          65770,
          95000,
          75361,
          45000,
          60000,
          82500,
          45000,
          120000,
          91500,
          107500,
          97500,
          90000,
          43750,
          40000,
          84000,
          145000,
          175000,
          72500,
          27000,
          65000,
          130000,
          74850,
          76483,
          60000,
          110000,
          75000,
          36000,
          72500,
          67500,
          42500,
          130000,
          39000,
          90288,
          64368,
          99174,
          72800,
          167500,
          160000,
          112500,
          65000,
          45000,
          102500,
          60000,
          65000,
          75000,
          95000,
          24000,
          31000,
          112500,
          115000,
          70000,
          129300,
          80000,
          65000,
          100000,
          95000,
          100000,
          57152,
          90000,
          84000,
          70000,
          62500,
          60000,
          60000,
          57500,
          42500,
          50000,
          75000,
          65000,
          67683.5,
          80000,
          80000,
          65991.5,
          90000,
          75000,
          74000,
          50000,
          80000,
          41500,
          37500,
          60000,
          37500,
          55000,
          82659,
          70000,
          80000,
          60000,
          26000,
          87500,
          85000,
          50000,
          35000,
          65000,
          159600,
          60000,
          72500,
          120000,
          95000,
          67500,
          46800,
          120000,
          80000,
          140000,
          52500,
          95000,
          110000,
          69586,
          67500,
          102500,
          82500,
          72526.5,
          80185,
          95000,
          77500,
          105000,
          95000,
          72526.5,
          67500,
          102500,
          100000,
          70000,
          105000,
          70000,
          95000,
          80000,
          50000,
          115000,
          77500,
          110000,
          85000,
          87500,
          60000,
          115000,
          107500,
          210000,
          80000,
          48000,
          45000,
          67500,
          120000,
          112500,
          95000,
          95000,
          74974,
          110000,
          103438,
          70896.5,
          50000,
          90000,
          65000,
          105000,
          105000,
          70000,
          44536,
          60000,
          40900,
          92500,
          110000,
          115000,
          135000,
          106000,
          90000,
          150000,
          100000,
          65000,
          46222,
          95000,
          75000,
          95000,
          80000,
          65000,
          65000,
          105000,
          82500,
          90000,
          75338,
          112500,
          100000,
          77500,
          82500,
          100000,
          88529.5,
          55000,
          85000,
          100000,
          101000,
          65000,
          32500,
          37500,
          75000,
          75000,
          70000,
          43000,
          50000,
          80000,
          75000,
          75000,
          65000,
          90000,
          70000,
          72000,
          35000,
          58000,
          65000,
          80000,
          61500,
          100000,
          125000,
          65000,
          66000,
          102500,
          97500,
          51500,
          125000,
          52500,
          107500,
          87500,
          101712,
          120000,
          87500,
          93500,
          95000,
          72500,
          100000,
          87500,
          135000,
          83032.5,
          60000,
          52500,
          37500,
          91000,
          120000,
          45000,
          120000,
          70000,
          80000,
          90000,
          105000,
          45000,
          91500,
          132500,
          162500,
          120000,
          95000,
          105000,
          80000,
          69000,
          162500,
          65000,
          35100,
          80000,
          58162.5,
          70000,
          77328,
          100000,
          115000,
          95000,
          110500,
          130000,
          95000,
          120000,
          69540,
          70000,
          70000,
          115000,
          88092,
          75533.5,
          53000,
          52500,
          127500,
          70000,
          150000,
          70000,
          52000,
          80000,
          72500,
          79289.5,
          90000,
          48766,
          105000,
          260000,
          102500,
          130000,
          70000,
          150000,
          88504,
          83495,
          120000,
          85000,
          107500,
          90158.5,
          105000,
          137500,
          145000,
          82500,
          105000,
          85000,
          122500,
          115000,
          97500,
          92500,
          82500,
          92500,
          97500,
          75000,
          102500,
          140000,
          82394.5,
          100000,
          112500,
          180000,
          99000,
          87500,
          120000,
          93000,
          102348,
          100000,
          42500,
          103593,
          95000,
          106909.5,
          90000,
          62500,
          120000,
          120000,
          125000,
          87500,
          95000,
          100000,
          52500,
          125000,
          70000,
          51000,
          130000,
          102500,
          80000,
          102500,
          87500,
          110000,
          69166,
          70000,
          75000,
          110000,
          80000,
          55000,
          110000,
          50000,
          50000,
          45000,
          105000,
          70000,
          51154,
          80000,
          75000,
          40000,
          117500,
          100000,
          55000,
          85000,
          80000,
          60000,
          70000,
          100000,
          65000,
          100000,
          100000,
          90000,
          90000,
          55000,
          42500,
          100000,
          70000,
          70000,
          70000,
          75000,
          48638,
          63000,
          53144,
          80000,
          100000,
          45000,
          79903,
          100000,
          105000,
          120000,
          130000,
          95000,
          70000,
          85000,
          45000,
          82500,
          65000,
          75000,
          100000,
          80000,
          65000,
          105000,
          90000,
          75000,
          72306,
          76574,
          48500,
          57500,
          79903,
          56628.5,
          77862,
          66000,
          112500,
          90000,
          156000,
          79000,
          90000,
          110000,
          59000,
          160000,
          85000,
          75000,
          65000,
          50000,
          58656,
          69000,
          75000,
          87500,
          80000,
          45000,
          83500,
          112500,
          52314,
          71304,
          120000,
          100000,
          90646,
          110000,
          75000,
          160000,
          75000,
          156000,
          98090,
          85200,
          100000,
          85000,
          140000,
          70000,
          62500,
          67500,
          105000,
          67500,
          90000,
          115000,
          76487,
          67500,
          57500,
          115000,
          132000,
          62000,
          85000,
          75000,
          51973,
          50000,
          130000,
          105000,
          65406,
          48000,
          75000,
          61602,
          85000,
          43549,
          67500,
          55000,
          85410,
          150000,
          72571,
          87000,
          140000,
          47500,
          84919,
          85144.5,
          129000,
          125000,
          95000,
          129747.5,
          89520,
          72500,
          75000,
          73170,
          62500,
          125000,
          75000,
          105000,
          50000,
          68500,
          45000,
          120000,
          72500,
          95000,
          212000,
          87500,
          102500,
          95000,
          80878,
          55000,
          90000,
          99984,
          51000,
          130000,
          105000,
          135000,
          134550,
          140976,
          125000,
          125000,
          95000,
          65000,
          82500,
          125736,
          76668,
          71862,
          65100,
          126688,
          89428.5,
          62500,
          56316,
          82500,
          77633,
          150000,
          77500,
          78972,
          85000,
          75000,
          90984,
          62500,
          67500,
          99736,
          113963,
          130000,
          130000,
          52500,
          120000,
          89100,
          80500,
          100170,
          75000,
          60000,
          102500,
          115000,
          100000,
          71137.5,
          100000,
          70000,
          90984,
          115000,
          160000,
          105000,
          95000,
          89100,
          75000,
          80000,
          120000,
          125000,
          89100,
          100000,
          170000,
          107500,
          115000,
          87500,
          129000,
          165000,
          102816,
          73132,
          105000,
          101872.5,
          127500,
          77500,
          88251,
          83500,
          70000,
          58500,
          80000,
          77500,
          95000,
          52500,
          90000,
          152000,
          60000,
          152000,
          80000,
          70000,
          66346,
          105000,
          56350,
          55000,
          68000,
          120000,
          150000,
          117500,
          90000,
          115000,
          110000,
          115000,
          111384,
          137500,
          90000,
          42000,
          105000,
          90000,
          95000,
          35000,
          135000,
          90000,
          110000,
          90000,
          102500,
          112500,
          115000,
          127500,
          72576.5,
          110000,
          127500,
          180000,
          65000,
          105000,
          18500,
          132500,
          81000,
          150000,
          142500,
          72500,
          100000,
          80000,
          140000,
          130000,
          150000,
          90000,
          125000,
          72500,
          80000,
          140000,
          125000,
          104568.5,
          61500,
          130000,
          130000,
          105000,
          110000,
          150000,
          104569,
          81947,
          87500,
          92500,
          92500,
          63108,
          112500,
          107500,
          156000,
          90000,
          142500,
          107500,
          162500,
          134000,
          65853.5,
          135000,
          135000,
          157500,
          129500,
          112500,
          129000,
          110000,
          79300,
          92500,
          150650,
          125000,
          100000,
          82500,
          115000,
          134052.5,
          57500,
          120000,
          130000,
          125000,
          145000,
          140000,
          170000,
          200000,
          130000,
          250000,
          168611.5,
          100000,
          145000,
          130000,
          150000,
          90000,
          127500,
          115000,
          115000,
          160000,
          140000,
          75000,
          68328.5
         ]
        },
        {
         "name": "linux",
         "type": "box",
         "x": [
          44750,
          65991.5,
          41411,
          80000,
          32500,
          115000,
          130000,
          95000,
          75268,
          145000,
          95000,
          74000,
          51768,
          42500,
          70000,
          34000,
          75000,
          84219,
          48103.5,
          95000,
          50000,
          48000,
          50000,
          70000,
          80000,
          65000,
          60000,
          79607,
          57000,
          70000,
          46609.5,
          51000,
          60000,
          60000,
          46800,
          42500,
          52500,
          51000,
          130000,
          67500,
          110000,
          42500,
          45000,
          145000,
          73992,
          120000,
          100000,
          77500,
          90000,
          77500,
          45000,
          90000,
          50000,
          80000,
          70000,
          45000,
          80367.5,
          85000,
          92768,
          200000,
          70000,
          85787,
          200000,
          137500,
          83250,
          98122,
          87500,
          55000,
          47500,
          90000,
          105000,
          38660,
          72500,
          50117.5,
          26500,
          40000,
          40000,
          46606.5,
          52401,
          115000,
          72500,
          141792,
          75000,
          85000,
          52500,
          72500,
          40500,
          26000,
          45000,
          55000,
          57500,
          112500,
          32000,
          70000,
          42000,
          101000,
          36500,
          95000,
          86083.5,
          65000,
          72000,
          72500,
          85000,
          85000,
          108722,
          33000,
          50000,
          55188,
          51985,
          110000,
          35000,
          75000,
          110000,
          57500,
          90000,
          62500,
          33000,
          68750,
          58604.5,
          65000,
          55000,
          72500,
          95000,
          92500,
          109539.5,
          82013,
          82500,
          101462,
          75500,
          50000,
          76000,
          85000,
          85000,
          36000,
          91058,
          83202,
          130000,
          57500,
          172000,
          95000,
          150000,
          65000,
          55000,
          107500,
          67500,
          55000,
          38500,
          85000,
          72500,
          42500,
          47500,
          113031,
          82500,
          70000,
          62500,
          65000,
          70000,
          36000,
          90000,
          55000,
          175000,
          160000,
          77500,
          37500,
          42500,
          85000,
          64368,
          55000,
          95524.5,
          107494,
          100000,
          80000,
          72500,
          88000,
          23500,
          113880,
          133000,
          132500,
          92500,
          56346,
          89950,
          117770,
          96592,
          85000,
          90480.5,
          31000,
          125000,
          41640,
          160000,
          45000,
          60000,
          85000,
          18000,
          58339.5,
          67500,
          53238,
          48000,
          45000,
          62500,
          66350,
          200000,
          52500,
          66346,
          200000,
          65769,
          45550,
          89369.5,
          200000,
          66500,
          58557.5,
          77500,
          200000,
          72500,
          105000,
          66346,
          82500,
          100000,
          57500,
          66346,
          60596,
          66346,
          105000,
          79631,
          70000,
          52500,
          102500,
          47500,
          55221,
          92500,
          65000,
          90000,
          47000,
          117500,
          67500,
          82500,
          60000,
          62500,
          127500,
          82500,
          100000,
          89523,
          82500,
          67500,
          70000,
          112500,
          85000,
          115000,
          105000,
          105000,
          110000,
          65000,
          67060,
          90000,
          105000,
          195000,
          55000,
          55000,
          57793,
          60000,
          50000,
          76788,
          72500,
          120000,
          130000,
          40900,
          115000,
          70610,
          90000,
          56867.5,
          75338,
          55000,
          145000,
          150000,
          80000,
          70610,
          57003,
          112500,
          32380,
          105000,
          82500,
          75000,
          32500,
          70000,
          85000,
          65000,
          125000,
          65000,
          78000,
          65000,
          80000,
          74000,
          72000,
          55262,
          82500,
          85000,
          77500,
          72500,
          57500,
          100000,
          61542,
          97500,
          62500,
          80000,
          61542,
          85000,
          75000,
          40000,
          63430.5,
          70000,
          45942,
          75000,
          150000,
          65000,
          105000,
          80000,
          162500,
          130000,
          83032.5,
          100000,
          125000,
          80000,
          67500,
          61542,
          82500,
          63430.5,
          110500,
          155000,
          100000,
          55000,
          90000,
          53000,
          75000,
          80000,
          61290,
          74650,
          130000,
          165000,
          75000,
          80367,
          92500,
          87500,
          75000,
          72500,
          60000,
          70002,
          50000,
          150000,
          67500,
          72500,
          75000,
          45000,
          60000,
          60260,
          32000,
          92053.5,
          50000,
          69092.5,
          160000,
          77000,
          185000,
          150000,
          135000,
          99110.5,
          57500,
          85000,
          113996,
          120000,
          155000,
          125000,
          112500,
          112500,
          97500,
          95000,
          99637.5,
          60000,
          110000,
          170000,
          65500,
          115000,
          90000,
          90158.5,
          90000,
          52500,
          100000,
          130000,
          46000,
          125000,
          112148.5,
          109413,
          125000,
          80000,
          87500,
          95000,
          105000,
          80000,
          240000,
          91837,
          150000,
          100000,
          102500,
          61109.5,
          85000,
          182500,
          64156,
          70000,
          82500,
          112500,
          82500,
          135000,
          74650,
          80000,
          100000,
          42500,
          50000,
          110000,
          112500,
          107500,
          35000,
          55000,
          47500,
          65000,
          92500,
          70000,
          55000,
          120000,
          74650,
          87500,
          100000,
          42500,
          46904,
          65000,
          73440,
          120000,
          70000,
          70000,
          64600,
          95000,
          80000,
          45000,
          59266.5,
          120000,
          55000,
          100000,
          41500,
          82346,
          57200,
          52500,
          75000,
          71333.5,
          55000,
          60000,
          70969.5,
          71333.5,
          34632,
          62500,
          180000,
          48500,
          50000,
          50000,
          90000,
          97500,
          80000,
          100500,
          50000,
          77862,
          75000,
          111481.5,
          90000,
          66000,
          112500,
          80000,
          100000,
          150000,
          73445,
          45000,
          115000,
          70900,
          72500,
          84000,
          125000,
          73728,
          70000,
          100000,
          92500,
          77688,
          59016,
          90000,
          130000,
          125000,
          96000,
          45000,
          75282,
          100000,
          69420,
          49500,
          77500,
          105000,
          132000,
          68436,
          70000,
          110000,
          75000,
          75000,
          90000,
          87500,
          80000,
          90000,
          78000,
          90646,
          75000,
          55000,
          94439,
          110000,
          97500,
          100000,
          110000,
          48000,
          115000,
          135000,
          118450,
          87500,
          73496.5,
          132500,
          72500,
          112500,
          55000,
          74412,
          43028,
          175000,
          92500,
          72500,
          100000,
          67754,
          130000,
          80000,
          59370,
          60000,
          59214,
          74650,
          95000,
          80000,
          125000,
          120000,
          90000,
          113934,
          325000,
          135000,
          117500,
          95000,
          75000,
          75000,
          160000,
          85000,
          96000,
          67500,
          70000,
          86604,
          110094,
          90000,
          155000,
          160000,
          70000,
          125736,
          124841,
          125000,
          125000,
          114434,
          105204,
          130000,
          124200,
          90000,
          113112,
          95514,
          90000,
          87174,
          112500,
          65000,
          160000,
          77633,
          120000,
          150000,
          122500,
          70000,
          128496,
          82500,
          155000,
          115793,
          89428.5,
          90850,
          105204,
          104676,
          100000,
          67500,
          78972,
          120000,
          100000,
          90000,
          130000,
          90984,
          79152,
          90000,
          133524,
          59502,
          92684.5,
          172500,
          150000,
          172500,
          101147,
          70000,
          80000,
          156678,
          88660,
          130000,
          150000,
          100000,
          150000,
          100000,
          85000,
          66500,
          125000,
          102500,
          90000,
          90000,
          89288.5,
          105000,
          125000,
          76788,
          110000,
          110000,
          135000,
          65000,
          67125,
          111384,
          105000,
          82500,
          102500,
          110000,
          81170,
          120000,
          95000,
          112500,
          120000,
          120000,
          70000,
          145000,
          145000,
          92500,
          130000,
          135000,
          102500,
          75000,
          105000,
          100000,
          95000,
          162500,
          130000,
          148904,
          187500,
          85000,
          160000,
          165000,
          135000,
          180000,
          120000,
          65000,
          104568.5,
          90000,
          122500,
          81677,
          63000,
          104569,
          142500,
          90000,
          135000,
          129500,
          112500,
          137500,
          137500,
          125000,
          65853.5,
          88849,
          79337.5,
          102500,
          112500,
          114000,
          82500,
          165000,
          150000,
          79300,
          108810,
          204000,
          125000,
          140000,
          120000,
          200000,
          131150,
          134000,
          155000,
          115000,
          150000,
          115000,
          135000,
          160000,
          160000,
          175000,
          115000
         ]
        },
        {
         "name": "spark",
         "type": "box",
         "x": [
          50000,
          42500,
          90000,
          72500,
          137500,
          50000,
          77500,
          135000,
          41500,
          80000,
          32192.5,
          80000,
          36000,
          52500,
          32500,
          54000,
          150000,
          37000,
          55000,
          45000,
          50273.5,
          22000,
          35000,
          77500,
          75000,
          41000,
          87500,
          30000,
          36857,
          92768,
          70000,
          54000,
          85000,
          45000,
          35000,
          85000,
          90000,
          11500,
          122500,
          185000,
          135000,
          150000,
          82500,
          110000,
          135000,
          90000,
          42500,
          87500,
          120000,
          47500,
          125000,
          31854,
          65000,
          145000,
          50000,
          90646,
          144123,
          50000,
          130000,
          129000,
          50000,
          90000,
          60000,
          115000,
          23000,
          150000,
          111533,
          110000,
          60684,
          110000,
          58812,
          120000,
          65000,
          75000,
          13500,
          145000,
          150000,
          61500,
          120000,
          120000,
          66346,
          58752.5,
          61725.5,
          41000,
          95000,
          45550,
          42768.5,
          25000,
          100000,
          170000,
          115000,
          82500,
          42768.5,
          100000,
          100000,
          90000,
          130000,
          90000,
          100000,
          65000,
          77500,
          79500,
          105000,
          61542,
          160000,
          160000,
          112500,
          120000,
          147500,
          175000,
          150000,
          127500,
          160000,
          160000,
          121000,
          195000,
          126500,
          92500,
          92500,
          175000,
          120000,
          130000,
          85000,
          175000
         ]
        },
        {
         "name": "olap",
         "type": "box",
         "x": [
          70000,
          65000,
          68502,
          70000,
          65000,
          65000,
          70000,
          107500,
          87500,
          105000,
          105000,
          105000,
          95000,
          90000,
          85529.5,
          85529.5,
          75000,
          95000,
          90000,
          97500,
          93408,
          75282,
          97140,
          135000,
          156000,
          160000,
          165000
         ]
        },
        {
         "name": "angular",
         "type": "box",
         "x": [
          77500,
          52500,
          110000,
          80000,
          110000,
          90000,
          100000,
          80000,
          95000,
          95000,
          55000,
          80000,
          165000,
          55000,
          65000,
          67500,
          55000,
          61511,
          20000,
          55000,
          91915,
          75500,
          76000,
          60000,
          162500,
          90000,
          120000,
          80000,
          76000,
          62140,
          77500,
          117500,
          42500,
          57216,
          42500,
          60000,
          102500,
          80000,
          84000,
          150000,
          66346,
          77500,
          65000,
          70000,
          90000,
          95000,
          80185,
          105000,
          70000,
          102500,
          117500,
          115000,
          100000,
          95000,
          74974,
          120000,
          90000,
          84000,
          112500,
          87500,
          115000,
          92500,
          70000,
          150000,
          80000,
          95000,
          87500,
          90000,
          90000,
          110000,
          80000,
          102000,
          70000,
          52500,
          125000,
          135000,
          50000,
          93500,
          125000,
          85000,
          120000,
          65000,
          91500,
          162500,
          69000,
          80000,
          65000,
          130000,
          130000,
          70000,
          70000,
          120000,
          115000,
          105000,
          75000,
          87500,
          75000,
          75000,
          82500,
          97249.5,
          92500,
          160000,
          80000,
          88504,
          104970,
          155000,
          90158.5,
          97500,
          112500,
          92500,
          102348,
          80000,
          83495,
          95000,
          70000,
          75000,
          93000,
          90000,
          82500,
          105000,
          117500,
          80000,
          110000,
          100000,
          63000,
          100000,
          55000,
          75000,
          76574,
          89892,
          100000,
          70000,
          50000,
          90000,
          100000,
          120000,
          100000,
          135000,
          75000,
          59832,
          100000,
          52314,
          100000,
          66000,
          65000,
          140000,
          90000,
          120000,
          80000,
          160000,
          125000,
          100000,
          67500,
          156000,
          57500,
          67500,
          100000,
          120000,
          85000,
          140000,
          98090,
          92500,
          125000,
          125000,
          140000,
          110000,
          100000,
          122500,
          94000,
          75000,
          112000,
          107500,
          125000,
          80000,
          100000,
          145000,
          135000,
          120000,
          60800,
          95000,
          155000,
          99984,
          62500,
          115000,
          70000,
          107500,
          76355,
          100000,
          115000,
          87500,
          130000,
          87500,
          88338,
          73132,
          127500,
          101872.5,
          101385.5,
          87500,
          92500,
          107500,
          82500,
          100000,
          92500,
          125000,
          127500,
          130000,
          170000,
          100000,
          115000,
          87500,
          150000,
          115000,
          115000,
          110000,
          124999.5,
          95000,
          110000,
          162500,
          130000,
          102500,
          100000,
          112500,
          132500,
          135000,
          85000,
          140000,
          140000,
          125000
         ]
        },
        {
         "name": "java",
         "type": "box",
         "x": [
          50000,
          57152,
          110000,
          57500,
          100000,
          58339.5,
          70000,
          60000,
          60000,
          67500,
          60000,
          78409,
          75000,
          65991.5,
          60000,
          84240,
          77000,
          82100,
          100000,
          89500,
          62500,
          90000,
          65000,
          103688,
          65000,
          110000,
          80000,
          77189,
          100000,
          82659,
          34000,
          65000,
          87500,
          85000,
          159600,
          65000,
          95000,
          60000,
          80000,
          60000,
          88500,
          67500,
          90000,
          67500,
          62500,
          65000,
          110000,
          125000,
          52500,
          85000,
          50000,
          81000,
          81000,
          87500,
          85000,
          130000,
          70000,
          92500,
          110000,
          55644,
          56604,
          77500,
          90000,
          50000,
          138861,
          31435,
          68810.5,
          70000,
          60000,
          137500,
          110000,
          160000,
          110000,
          102817.5,
          92768,
          55000,
          63850,
          60000,
          96366,
          80000,
          110000,
          50000,
          185000,
          87500,
          90000,
          92500,
          70000,
          150000,
          80000,
          77500,
          525000,
          88000,
          110000,
          80000,
          110000,
          65000,
          65000,
          140000,
          43507,
          50000,
          84000,
          65000,
          95000,
          76253,
          82500,
          105000,
          80000,
          120000,
          61511,
          91200,
          75000,
          52401,
          45000,
          109000,
          101000,
          95000,
          85000,
          175000,
          72500,
          109000,
          77500,
          62140,
          52500,
          40000,
          72500,
          48000,
          30000,
          70000,
          42240,
          57552,
          87500,
          49920,
          110000,
          72500,
          46692,
          92500,
          60000,
          68000,
          76000,
          72500,
          90000,
          97500,
          93538,
          80000,
          72500,
          85000,
          65000,
          42500,
          75500,
          80000,
          60000,
          80000,
          95000,
          36000,
          82500,
          75000,
          150000,
          70000,
          71531,
          95000,
          110000,
          45000,
          107924.5,
          105000,
          125000,
          99174,
          59604,
          85000,
          130000,
          130000,
          75000,
          125000,
          76483,
          60000,
          90288,
          75000,
          64368,
          80000,
          50000,
          162500,
          72800,
          126000,
          31000,
          82500,
          95000,
          92500,
          57000,
          140000,
          87500,
          160000,
          95000,
          128663,
          90000,
          100000,
          130000,
          75000,
          125000,
          130000,
          145000,
          57000,
          75000,
          87000,
          156000,
          80000,
          59000,
          97249.5,
          160000,
          110000,
          95000,
          80000,
          102500,
          125000,
          70000,
          99110.5,
          88504,
          95000,
          145000,
          137500,
          102500,
          97500,
          90158.5,
          91442,
          110000,
          92500,
          113996,
          72500,
          92500,
          76100,
          100000,
          87500,
          110000,
          90000,
          95000,
          95000,
          125000,
          100000,
          103593,
          125000,
          89362.5,
          95000,
          155000,
          82500,
          96222.5,
          130000,
          82500,
          67500,
          100000,
          65000,
          150000,
          135000,
          110000,
          130000,
          87500,
          77500,
          83258,
          82394.5,
          125000,
          107500,
          115000,
          35000,
          100000,
          62500,
          115000,
          100000,
          97500,
          48024,
          51154,
          125000,
          63000,
          90000,
          60000,
          70000,
          100000,
          120000,
          130000,
          95000,
          117500,
          95700,
          95000,
          47500,
          73440,
          80000,
          102500,
          55000,
          65000,
          100000,
          101500,
          120000,
          90000,
          75000,
          89892,
          60000,
          65000,
          100000,
          65000,
          120000,
          34632,
          55188,
          127500,
          100000,
          101000,
          77862,
          120000,
          90000,
          160000,
          105000,
          180000,
          69000,
          85000,
          129000,
          125000,
          100000,
          90000,
          60834,
          129000,
          83500,
          90000,
          98950,
          105000,
          130000,
          87500,
          90646,
          67500,
          175000,
          63750,
          144123,
          90000,
          77862,
          95000,
          175000,
          90646,
          90000,
          105000,
          83297.5,
          52605,
          48000,
          75282,
          65000,
          85410,
          140000,
          75000,
          120000,
          75000,
          75000,
          129000,
          105000,
          72571,
          65000,
          170000,
          120000,
          68500,
          135000,
          57500,
          93408,
          85000,
          100000,
          112500,
          112500,
          65000,
          59832,
          110000,
          67500,
          77862,
          52314,
          80000,
          110000,
          130000,
          87000,
          120000,
          75000,
          95000,
          110000,
          60800,
          95000,
          67500,
          125000,
          80000,
          212000,
          124841,
          135000,
          130000,
          100170,
          134550,
          89428.5,
          90000,
          140976,
          45000,
          99984,
          77633,
          55000,
          125736,
          75000,
          192000,
          126688,
          113934,
          120000,
          99500,
          114434,
          65000,
          105000,
          80000,
          145000,
          150000,
          90000,
          160000,
          180000,
          90984,
          65100,
          124200,
          81500,
          140000,
          56316,
          110094,
          115000,
          125000,
          113963,
          127500,
          150000,
          90000,
          120000,
          70000,
          94000,
          90000,
          130000,
          130000,
          100000,
          66350,
          45000,
          70000,
          66346,
          105000,
          95000,
          77500,
          85000,
          92500,
          72500,
          66346,
          66500,
          55000,
          85000,
          80000,
          107500,
          58500,
          77500,
          89924.5,
          67500,
          69586,
          82500,
          95000,
          62414,
          102500,
          100000,
          100000,
          100000,
          92500,
          95000,
          81432,
          117500,
          82500,
          80000,
          87500,
          122500,
          100000,
          107500,
          110000,
          84000,
          120000,
          90000,
          120000,
          105000,
          70000,
          110000,
          65000,
          90000,
          100000,
          44536,
          65000,
          100000,
          88000,
          92500,
          106000,
          110000,
          150000,
          95000,
          46222,
          100000,
          75338,
          115000,
          112500,
          112500,
          88529.5,
          75000,
          102000,
          90000,
          105000,
          85500,
          65000,
          85000,
          70000,
          137500,
          70000,
          115000,
          80000,
          100000,
          80000,
          115000,
          87500,
          93000,
          87500,
          107500,
          125000,
          97500,
          100000,
          66000,
          50000,
          95000,
          40000,
          135000,
          150000,
          58162.5,
          65000,
          140000,
          110000,
          85000,
          92500,
          112000,
          65000,
          107500,
          90000,
          92976,
          115000,
          110000,
          95000,
          115000,
          110000,
          70000,
          100000,
          81000,
          130000,
          95000,
          81000,
          150000,
          87498,
          150000,
          115000,
          260000,
          115000,
          62052,
          65000,
          65000,
          97500,
          145000,
          110500,
          70000,
          110000,
          110000,
          110000,
          110000,
          137500,
          110000,
          100000,
          115000,
          110000,
          135000,
          125500,
          111384,
          90000,
          105000,
          100000,
          150000,
          35000,
          95000,
          102500,
          112000,
          97500,
          95000,
          120000,
          35000,
          160000,
          170000,
          127500,
          100000,
          120000,
          120000,
          127500,
          112500,
          85000,
          105000,
          75000,
          135000,
          18500,
          200000,
          150000,
          139000,
          142500,
          125000,
          107500,
          150000,
          85000,
          90000,
          140000,
          160000,
          103565.5,
          135000,
          130000,
          134000,
          132500,
          130000,
          104568.5,
          87500,
          82500,
          130000,
          130000,
          90000,
          104569,
          100000,
          91461,
          120000,
          156000,
          156000,
          107500,
          102744,
          195000,
          174000,
          134000,
          156000,
          122500,
          107500,
          112500,
          156000,
          65853.5,
          157500,
          156000,
          102750.5,
          129000,
          135000,
          83298,
          77500,
          137500,
          93408,
          102744,
          129000,
          145000,
          140000,
          129500,
          112500,
          117500,
          90000,
          125000,
          112500,
          150650,
          175000,
          120000,
          79300,
          110000,
          105000,
          125000,
          100000,
          127500,
          145000,
          110000,
          130000,
          92500,
          140000,
          130000,
          145000,
          145000,
          131150,
          160000,
          75000,
          125000,
          145000,
          57500,
          140000,
          130000,
          160000,
          117500,
          125000,
          59635,
          125000,
          112500,
          135000,
          140000,
          115000,
          80000
         ]
        },
        {
         "name": "c++",
         "type": "box",
         "x": [
          53238,
          75608,
          85000,
          95000,
          65000,
          110000,
          67500,
          78409,
          95000,
          85000,
          51500,
          22000,
          60000,
          80000,
          72500,
          62500,
          60000,
          46800,
          67500,
          54500,
          60000,
          61142,
          105000,
          90000,
          85000,
          72250,
          92500,
          72250,
          70000,
          77500,
          47500,
          70000,
          80000,
          45000,
          70000,
          80000,
          87500,
          90000,
          43507,
          50000,
          85000,
          126000,
          55000,
          52401,
          17500,
          65000,
          85000,
          175000,
          62140,
          62500,
          80000,
          80000,
          90000,
          87500,
          97500,
          57552,
          72500,
          48000,
          40800,
          150000,
          70000,
          65000,
          125000,
          95000,
          65770,
          110000,
          125000,
          45000,
          70000,
          105000,
          59604,
          95000,
          76483,
          64368,
          90000,
          160000,
          87500,
          250000,
          80000,
          50000,
          57000,
          130000,
          57000,
          130000,
          110000,
          111500,
          100000,
          102361,
          127500,
          69000,
          70000,
          83500,
          115000,
          129000,
          98950,
          100000,
          92500,
          140000,
          59700,
          100000,
          63750,
          46764,
          144123,
          75282,
          90000,
          105500,
          90000,
          68500,
          100000,
          100000,
          75000,
          80000,
          72500,
          92500,
          87000,
          134550,
          87000,
          95000,
          75000,
          113934,
          125000,
          125000,
          160000,
          160000,
          115000,
          124841,
          114434,
          130000,
          45000,
          110000,
          105000,
          325000,
          115000,
          99736,
          113963,
          89100,
          112500,
          192000,
          110000,
          77100,
          200000,
          122500,
          150000,
          134463.5,
          80000,
          112500,
          160000,
          150000,
          130000,
          180000,
          175000,
          145000,
          115000,
          90000,
          115000,
          200000,
          80000,
          200000,
          105000,
          70000,
          90000,
          200000,
          105000,
          97500,
          125000,
          80000,
          95000,
          66474,
          62414,
          102500,
          67500,
          80000,
          75000,
          107500,
          92500,
          65000,
          107500,
          95000,
          100000,
          80000,
          75338,
          107500,
          88529.5,
          90000,
          105000,
          83250,
          90000,
          137500,
          93500,
          135000,
          50000,
          61542,
          37500,
          85000,
          92500,
          162500,
          104062,
          140000,
          70000,
          120000,
          85000,
          115000,
          100000,
          95000,
          70000,
          10000,
          130000,
          100000,
          120000,
          87500,
          150000,
          92500,
          150000,
          150000,
          90000,
          107500,
          80000,
          120000,
          150000,
          113996,
          85000,
          90158.5,
          125000,
          137500,
          160000,
          72500,
          107500,
          82500,
          160000,
          50000,
          100000,
          80000,
          48024,
          90000,
          53144,
          80000,
          48500,
          180000,
          34632,
          78500,
          100000,
          90000,
          85000,
          70000,
          80000,
          85000,
          160000,
          107500,
          130000,
          102500,
          120000,
          65853.5,
          100000,
          110000,
          122500,
          102500,
          165000,
          150650,
          105000,
          110000,
          105000,
          175000,
          145000,
          200000,
          147500,
          120000,
          160000,
          87500,
          97500,
          120000,
          102500,
          90000,
          90000,
          117500,
          112500,
          112500,
          100000,
          111384,
          90000,
          105000
         ]
        },
        {
         "name": "python",
         "type": "box",
         "x": [
          120000,
          84219,
          22000,
          80000,
          47500,
          87500,
          50000,
          95000,
          70000,
          85000,
          65000,
          60000,
          70000,
          83032.5,
          90000,
          120000,
          67500,
          46800,
          90000,
          52500,
          102500,
          81000,
          150000,
          105000,
          110000,
          81000,
          81000,
          81000,
          110000,
          70000,
          120000,
          72500,
          114750,
          77500,
          77500,
          90000,
          65385.5,
          55000,
          90000,
          68810.5,
          80000,
          116010,
          57453,
          70000,
          45000,
          70000,
          92500,
          70000,
          87500,
          83250,
          63686,
          137500,
          57262,
          110000,
          55000,
          150000,
          69283.5,
          200000,
          90000,
          50262,
          104015.5,
          180000,
          60000,
          78803,
          65000,
          100000,
          55000,
          55000,
          125000,
          77500,
          50445,
          49576.5,
          157500,
          110000,
          50000,
          75000,
          85000,
          115000,
          59404.5,
          50250,
          112500,
          109000,
          117000,
          101000,
          72500,
          30000,
          60000,
          65000,
          91915,
          40000,
          85000,
          30000,
          85000,
          109000,
          85000,
          65004,
          62140,
          72500,
          74000,
          68750,
          30000,
          77500,
          110000,
          62500,
          30000,
          110000,
          14400,
          65000,
          85000,
          72500,
          60000,
          55000,
          95000,
          70000,
          100000,
          75000,
          72792,
          49920,
          76000,
          65000,
          54930,
          60000,
          50000,
          130000,
          71531,
          60000,
          45000,
          105000,
          95000,
          130000,
          45000,
          70000,
          107494,
          51200,
          160000,
          150000,
          20000,
          125000,
          157500,
          120000,
          80000,
          150000,
          85000,
          73325,
          70000,
          325000,
          117500,
          162500,
          96592,
          147500,
          65000,
          80000,
          65000,
          117500,
          65000,
          80000,
          120000,
          90000,
          100000,
          31000,
          70000,
          45650,
          120000,
          70000,
          53238,
          91000,
          90000,
          75608,
          85000,
          95000,
          65000,
          65000,
          60000,
          72500,
          110000,
          53238,
          40000,
          45000,
          80000,
          60000,
          125000,
          80000,
          75000,
          67683.5,
          80000,
          65991.5,
          81000,
          95000,
          55000,
          65000,
          70000,
          60000,
          74000,
          81000,
          51768,
          150000,
          90000,
          66346,
          66350,
          100000,
          66346,
          45550,
          89369.5,
          66346,
          66346,
          66346,
          60596,
          85000,
          105000,
          70000,
          61103.5,
          80000,
          79500,
          65596,
          105000,
          105000,
          95000,
          85000,
          67500,
          69586,
          102500,
          66474,
          135000,
          95000,
          102500,
          95000,
          100000,
          92500,
          85000,
          80000,
          67500,
          100000,
          82500,
          103438,
          95000,
          170000,
          122500,
          67500,
          82500,
          75000,
          72500,
          112500,
          67500,
          70000,
          70000,
          80000,
          100000,
          110000,
          115000,
          105000,
          89523,
          105000,
          108211,
          65075,
          105000,
          65000,
          110000,
          95000,
          44536,
          100000,
          72500,
          120000,
          145000,
          130000,
          50000,
          65000,
          40900,
          90000,
          165000,
          100000,
          65000,
          130000,
          46222,
          85000,
          130000,
          85500,
          102000,
          82500,
          75000,
          60000,
          105000,
          65000,
          101000,
          90000,
          70000,
          85000,
          83250,
          75000,
          61542,
          97500,
          120000,
          69000,
          95000,
          61542,
          107500,
          85000,
          105000,
          90000,
          85000,
          61542,
          120000,
          85000,
          85000,
          95000,
          155000,
          130000,
          75533.5,
          90000,
          87500,
          52500,
          90000,
          130000,
          52000,
          81000,
          79289.5,
          85000,
          150000,
          81000,
          10000,
          170000,
          90000,
          260000,
          85000,
          90158.5,
          140000,
          115000,
          170000,
          115000,
          85000,
          83250,
          73235,
          60846,
          90000,
          97500,
          60000,
          155000,
          40000,
          64480,
          110000,
          110966,
          106909.5,
          125000,
          110000,
          92500,
          90000,
          82500,
          200000,
          70000,
          77407,
          240000,
          96222.5,
          95000,
          97500,
          105000,
          102500,
          62500,
          85000,
          160000,
          72500,
          120000,
          130000,
          72500,
          110000,
          135000,
          135000,
          82500,
          130000,
          115000,
          95000,
          150000,
          90000,
          112500,
          50552,
          75000,
          80000,
          57860,
          97200,
          82500,
          150000,
          91500,
          85000,
          145000,
          182500,
          55000,
          87500,
          50000,
          62500,
          87500,
          35000,
          135000,
          55000,
          51154,
          80000,
          60000,
          97500,
          117500,
          120000,
          120000,
          78500,
          92602,
          90000,
          55000,
          105000,
          80000,
          95000,
          125000,
          75000,
          100000,
          48500,
          47500,
          57500,
          180000,
          69118.5,
          97500,
          67500,
          80000,
          101500,
          78000,
          156000,
          62148,
          129000,
          100000,
          101000,
          70000,
          59000,
          45000,
          87500,
          67500,
          79000,
          115000,
          140000,
          180000,
          112500,
          85000,
          69000,
          120000,
          72500,
          81414,
          70000,
          100000,
          129000,
          98950,
          130000,
          51500,
          175000,
          90000,
          73445,
          90000,
          132000,
          100000,
          62000,
          100000,
          125000,
          144123,
          105000,
          105500,
          60314,
          500000,
          85000,
          120000,
          66600,
          73170,
          82500,
          90000,
          75000,
          85000,
          49200,
          129000,
          65242,
          175000,
          80000,
          68500,
          112500,
          50000,
          72500,
          125000,
          110094,
          125000,
          130000,
          65000,
          124841,
          99736,
          125000,
          125736,
          140976,
          150000,
          85000,
          110000,
          85000,
          325000,
          100000,
          75000,
          65000,
          115000,
          72500,
          60000,
          77633,
          100000,
          120000,
          80000,
          117500,
          202578,
          97200,
          90984,
          113963,
          110000,
          192000,
          145000,
          160000,
          90984,
          110000,
          112500,
          80000,
          80000,
          140000,
          89500,
          102500,
          90000,
          134463.5,
          175000,
          77100,
          115000,
          70000,
          135000,
          160000,
          125000,
          101872.5,
          150000,
          62500,
          180000,
          73132,
          105000,
          80000,
          130000,
          90000,
          117500,
          160000,
          225000,
          275000,
          66500,
          125000,
          102500,
          89288.5,
          125000,
          135000,
          112500,
          105000,
          125000,
          112500,
          115000,
          175000,
          160000,
          100000,
          97500,
          102500,
          90000,
          105000,
          135000,
          120000,
          150000,
          72500,
          127500,
          127500,
          120000,
          145000,
          160000,
          145000,
          142500,
          18500,
          200000,
          137500,
          81000,
          162500,
          107500,
          150000,
          125000,
          142500,
          130000,
          80000,
          135000,
          72500,
          180000,
          107500,
          85000,
          160000,
          90000,
          72500,
          130000,
          61500,
          81677,
          90000,
          150000,
          104569,
          87500,
          87500,
          130000,
          156000,
          156000,
          156000,
          142500,
          140000,
          209500,
          135000,
          157500,
          134000,
          156000,
          137500,
          137500,
          156000,
          160000,
          112500,
          83634,
          112500,
          79300,
          150650,
          150000,
          100000,
          130000,
          57500,
          145000,
          120000,
          175000,
          130000,
          250000,
          145000,
          168611.5,
          150000,
          150000,
          120000,
          130000,
          125000,
          140000,
          150000,
          130000,
          130000,
          160000,
          135000,
          141906.5,
          202578
         ]
        },
        {
         "name": "azure",
         "type": "box",
         "x": [
          70000,
          90000,
          57500,
          70000,
          77189,
          80000,
          70000,
          120000,
          50000,
          70000,
          72500,
          150000,
          178000,
          72800,
          165000,
          50000,
          116010,
          165000,
          135000,
          102500,
          180000,
          77500,
          45000,
          70000,
          143000,
          200000,
          125000,
          160000,
          200000,
          60000,
          71500,
          52500,
          38982,
          40500,
          40948,
          75000,
          40000,
          43507,
          80000,
          47500,
          97500,
          32000,
          67500,
          85000,
          50000,
          62140,
          68750,
          72500,
          72000,
          95000,
          77500,
          82500,
          135000,
          65000,
          125000,
          135000,
          37500,
          67500,
          120000,
          90000,
          170000,
          165000,
          60000,
          97500,
          50000,
          100000,
          125000,
          60000,
          48880,
          60000,
          33000,
          32500,
          52500,
          42500,
          45000,
          57500,
          66346,
          78731,
          66346,
          65000,
          79631,
          62470,
          105000,
          65769,
          95000,
          66346,
          100000,
          100000,
          100000,
          160000,
          117500,
          85000,
          77500,
          89523,
          115000,
          108211,
          120000,
          65000,
          60000,
          55000,
          100000,
          130000,
          72500,
          72500,
          150000,
          95000,
          80000,
          50000,
          90000,
          90000,
          60000,
          90000,
          78000,
          90000,
          87500,
          45000,
          52500,
          49000,
          45000,
          90000,
          91500,
          130000,
          105000,
          65576,
          162500,
          82500,
          63430.5,
          83032.5,
          60000,
          115000,
          49000,
          63430.5,
          87500,
          155000,
          59760,
          45000,
          95000,
          75000,
          90000,
          115000,
          54471,
          105000,
          67500,
          87500,
          90000,
          137500,
          172500,
          80000,
          95000,
          127500,
          87500,
          70000,
          72500,
          67230,
          96442,
          75000,
          100000,
          115000,
          80000,
          112500,
          185000,
          75000,
          82500,
          77000,
          50000,
          92500,
          150000,
          160000,
          160000,
          130000,
          160000,
          145000,
          97500,
          170000,
          120000,
          102500,
          112500,
          92500,
          115000,
          57500,
          112500,
          80000,
          125000,
          200000,
          60000,
          87500,
          225000,
          83495,
          95000,
          110000,
          130000,
          125000,
          130000,
          102500,
          92500,
          112500,
          135000,
          100000,
          82500,
          125000,
          100296,
          92500,
          190000,
          110000,
          260000,
          97500,
          107500,
          177500,
          95000,
          102500,
          85000,
          42500,
          155000,
          87500,
          220000,
          112500,
          155000,
          120000,
          115000,
          145000,
          87500,
          96222.5,
          50000,
          105000,
          100000,
          75000,
          62500,
          64600,
          46800,
          120000,
          92602,
          65000,
          131000,
          150000,
          79903,
          107500,
          89892,
          70000,
          75000,
          79903,
          55000,
          95000,
          55000,
          33000,
          82536,
          59004,
          100000,
          62148,
          60000,
          70000,
          87500,
          160000,
          98090,
          170000,
          73445,
          115000,
          57500,
          130000,
          100000,
          100000,
          50000,
          100000,
          65406,
          125000,
          110000,
          95000,
          87000,
          100000,
          115000,
          130000,
          150000,
          160000,
          60000,
          75408,
          132500,
          65000,
          212500,
          100000,
          120000,
          72500,
          63300,
          111914.5,
          110000,
          107500,
          150000,
          23000,
          82500,
          93180,
          96219.5,
          77500,
          50000,
          112000,
          65000,
          49000,
          102500,
          90000,
          65000,
          85000,
          95000,
          90000,
          62500,
          140976,
          95712,
          94494,
          170000,
          75000,
          110000,
          130000,
          87500,
          76355,
          120000,
          110094,
          130000,
          124841,
          217500,
          145000,
          135000,
          90000,
          270000,
          79152,
          80000,
          69146.5,
          77633,
          200000,
          125000,
          68328.5,
          112500,
          125000,
          125000,
          110000,
          110000,
          110000,
          105000,
          107500,
          105000,
          72500,
          105000,
          85000,
          70000,
          105000,
          115000,
          65000,
          88113,
          102500,
          105000,
          127500,
          80000,
          170000,
          125000,
          139000,
          120000,
          200000,
          165000,
          92500,
          160000,
          102500,
          77500,
          140000,
          207500,
          85000,
          125000,
          120000,
          145000,
          180000,
          80000,
          97050,
          63000,
          66000,
          70762,
          85000,
          125000,
          100000,
          152500,
          185000,
          160000,
          85000,
          122500,
          160000,
          79300,
          90000,
          150000,
          140000,
          175000,
          165000,
          134000,
          100000,
          160000,
          99762,
          130000
         ]
        },
        {
         "name": "node.js",
         "type": "box",
         "x": [
          162500,
          120000,
          85000,
          117500,
          130000,
          175000,
          42500,
          90288,
          95000,
          80000,
          70000,
          167500,
          75000,
          130000,
          39000,
          87500,
          52500,
          60000,
          110000,
          80000,
          75000,
          140000,
          42500,
          62500,
          62500,
          100000,
          75000,
          200000,
          165000,
          162500,
          135000,
          102500,
          87500,
          52000,
          115000,
          117500,
          97500,
          88504,
          180000,
          95000,
          120000,
          110000,
          135000,
          110000,
          110000,
          76574,
          75000,
          105000,
          80000,
          75000,
          109000,
          75000,
          75000,
          90646,
          105000,
          67500,
          120000,
          140000,
          87500,
          67500,
          120000,
          129000,
          87000,
          15900,
          115000,
          125000,
          125000,
          125000,
          122500,
          112000,
          125000,
          80000,
          102500,
          134550,
          125000,
          65000,
          165000,
          145000,
          115000,
          160000,
          120000,
          66346,
          77500,
          110000,
          107500,
          120000,
          95000,
          95000,
          87500,
          100000,
          105000,
          90000,
          135000,
          106000,
          100000,
          92500,
          150000,
          150000,
          165000,
          95000,
          120000,
          97500,
          150000,
          127500,
          125000,
          125000,
          130000,
          157500,
          145000,
          79300,
          82500,
          150650,
          130000,
          100000,
          200000,
          140000,
          140000,
          90000,
          145000,
          130000
         ]
        },
        {
         "name": "aws",
         "type": "box",
         "x": [
          127500,
          110000,
          65000,
          100000,
          48880,
          45000,
          90000,
          85000,
          80000,
          57500,
          72500,
          52500,
          95000,
          72500,
          57500,
          80000,
          88500,
          70000,
          90000,
          60000,
          120000,
          42500,
          70000,
          85000,
          27500,
          87500,
          178000,
          150000,
          116010,
          165000,
          125000,
          92500,
          160000,
          200000,
          72500,
          175000,
          165000,
          102500,
          135000,
          77500,
          180000,
          137500,
          70000,
          200000,
          143000,
          90000,
          120000,
          91200,
          67500,
          117000,
          42500,
          93000,
          117500,
          50000,
          72500,
          95000,
          85000,
          85000,
          90000,
          85000,
          160000,
          62140,
          76000,
          72500,
          72500,
          65000,
          162500,
          135000,
          14400,
          60000,
          95000,
          60000,
          40000,
          135000,
          10000,
          130000,
          45000,
          100000,
          57500,
          175000,
          42500,
          130000,
          76736.5,
          130000,
          36000,
          75000,
          82500,
          45000,
          60000,
          70000,
          97500,
          99066.5,
          170000,
          80000,
          165000,
          50000,
          212500,
          160000,
          132500,
          135000,
          70000,
          185000,
          122500,
          75000,
          160000,
          185000,
          165000,
          50000,
          160000,
          72500,
          135000,
          150000,
          160000,
          135000,
          162500,
          130000,
          112500,
          180000,
          170000,
          85000,
          112500,
          115000,
          155000,
          87500,
          52500,
          110000,
          225000,
          120000,
          100000,
          60000,
          52500,
          110000,
          110000,
          190000,
          95000,
          125000,
          57500,
          200000,
          112500,
          135000,
          150000,
          135000,
          130000,
          102500,
          135000,
          155000,
          125000,
          115000,
          110000,
          120000,
          110000,
          102500,
          90000,
          125000,
          92500,
          145000,
          130000,
          96222.5,
          90000,
          110000,
          95000,
          260000,
          107500,
          82500,
          182500,
          85000,
          42500,
          102500,
          155000,
          220000,
          80000,
          112500,
          50000,
          87500,
          62500,
          107500,
          60000,
          120000,
          125000,
          100000,
          90000,
          90000,
          100000,
          105000,
          120000,
          65000,
          75000,
          150000,
          72000,
          90000,
          50000,
          107500,
          95000,
          55000,
          75000,
          55000,
          82500,
          80000,
          120000,
          67500,
          85000,
          45000,
          75000,
          140000,
          110000,
          87500,
          80000,
          115000,
          120000,
          85000,
          132000,
          105000,
          80000,
          170000,
          160000,
          110000,
          85000,
          130000,
          65406,
          95000,
          50000,
          87000,
          120000,
          72500,
          72500,
          135000,
          125000,
          150000,
          75408,
          132500,
          212500,
          112500,
          150000,
          135000,
          55602,
          130000,
          135000,
          115000,
          135000,
          49000,
          90000,
          120000,
          95000,
          130000,
          45000,
          65000,
          85000,
          155000,
          152500,
          102500,
          79038.5,
          110094,
          85000,
          90000,
          140976,
          105000,
          95000,
          65000,
          150000,
          180000,
          125000,
          82500,
          124841,
          132500,
          94494,
          110000,
          100000,
          150000,
          170000,
          75000,
          110000,
          110094,
          130000,
          62500,
          80000,
          120000,
          117500,
          99549,
          82500,
          95000,
          115000,
          115793,
          112500,
          105000,
          135000,
          160000,
          90000,
          130000,
          100000,
          217500,
          145000,
          270000,
          66346,
          78731,
          45500,
          80000,
          65769,
          66346,
          100000,
          95000,
          120000,
          110000,
          160000,
          65075,
          117500,
          117500,
          102500,
          97500,
          115000,
          89523,
          112500,
          90000,
          127500,
          84000,
          112500,
          95000,
          170000,
          67060,
          90000,
          65000,
          60000,
          105000,
          106000,
          130000,
          100000,
          150000,
          100000,
          95000,
          105000,
          127500,
          92500,
          87500,
          80000,
          90000,
          74000,
          78000,
          85500,
          80000,
          87500,
          61542,
          75000,
          102500,
          35100,
          61542,
          55500,
          95000,
          72500,
          100000,
          120000,
          85000,
          85000,
          87500,
          82500,
          150000,
          112000,
          90000,
          100000,
          162500,
          105000,
          120000,
          115000,
          87500,
          77500,
          155000,
          47000,
          127500,
          80000,
          52000,
          67500,
          150000,
          105000,
          160000,
          137500,
          172500,
          100000,
          72500,
          175000,
          135000,
          110000,
          110000,
          135000,
          110000,
          110000,
          110000,
          135000,
          105000,
          162500,
          130000,
          95000,
          150000,
          102500,
          127500,
          112500,
          120000,
          127500,
          100000,
          100000,
          160000,
          105000,
          135000,
          145000,
          95000,
          130000,
          142500,
          110000,
          132500,
          120000,
          120000,
          80000,
          125000,
          80000,
          139000,
          137500,
          140000,
          127500,
          142500,
          170000,
          120000,
          145000,
          180000,
          125000,
          100000,
          165000,
          160000,
          102500,
          77500,
          140000,
          207500,
          130000,
          130000,
          97050,
          90000,
          63000,
          150000,
          87500,
          92500,
          85000,
          156000,
          112500,
          140000,
          112500,
          150000,
          135000,
          117500,
          157500,
          160000,
          121000,
          122500,
          125000,
          135000,
          100000,
          135000,
          185000,
          114000,
          112500,
          160000,
          79300,
          82500,
          125000,
          150000,
          140000,
          90000,
          165000,
          130000,
          145000,
          250000,
          175000,
          140000,
          120000,
          87500,
          200000,
          145000,
          134000,
          130000,
          100000,
          140000,
          92500,
          125000,
          150000,
          125000,
          205000,
          175000,
          125000,
          68328.5,
          175000,
          112500,
          125000
         ]
        },
        {
         "name": "hadoop",
         "type": "box",
         "x": [
          70000,
          100000,
          120000,
          62500,
          70000,
          80000,
          62619,
          53238,
          110000,
          110000,
          92768,
          100000,
          85000,
          85000,
          85000,
          120000,
          135000,
          107500,
          58752.5,
          95000,
          45550,
          85000,
          100000,
          100000,
          110000,
          170000,
          90000,
          65000,
          101000,
          61542,
          70000,
          110000,
          140000,
          110000,
          110000,
          130000,
          110000,
          90000,
          185000,
          122500,
          100000,
          110000,
          95000,
          90000,
          165000,
          87500,
          120000,
          125000,
          145000,
          144123,
          130000,
          87500,
          115000,
          90000,
          104400,
          115000,
          23000,
          94000,
          132500,
          110000,
          124841,
          117500,
          90984,
          75000,
          145000,
          150000,
          112500,
          121000,
          195000,
          140000,
          92500,
          120000,
          130000,
          160000,
          175000,
          112500,
          147500,
          120000,
          175000,
          175000,
          90000,
          145000,
          180000,
          107500,
          130000,
          130000
         ]
        },
        {
         "name": "docker",
         "type": "box",
         "x": [
          175000,
          130000,
          195000,
          59000,
          90000,
          85000,
          65000,
          70000,
          95000,
          64000,
          87500,
          50000,
          50000,
          80000,
          55000,
          125000,
          200000,
          87500,
          72500,
          80000,
          90000,
          72500,
          50000,
          91915,
          93000,
          76000,
          65000,
          95000,
          85000,
          77500,
          95000,
          60000,
          75000,
          130000,
          100000,
          105000,
          175000,
          165000,
          212500,
          110000,
          66346,
          77500,
          115000,
          90000,
          95000,
          105000,
          110000,
          85000,
          92500,
          117500,
          100000,
          100000,
          95000,
          117500,
          105000,
          150000,
          95000,
          150000,
          120000,
          50000,
          145000,
          100000,
          75000,
          107500,
          102500,
          100000,
          150000,
          87500,
          155000,
          160000,
          75000,
          130000,
          90000,
          117500,
          83249.5,
          185000,
          122500,
          160000,
          165000,
          150000,
          135000,
          120000,
          88504,
          155000,
          170000,
          112500,
          182500,
          110000,
          90000,
          150000,
          120000,
          131000,
          76574,
          90000,
          75000,
          101500,
          80000,
          95000,
          120000,
          120000,
          67500,
          97500,
          85000,
          115000,
          100000,
          140000,
          117500,
          87500,
          75000,
          50000,
          105000,
          140000,
          132000,
          65406,
          110000,
          140000,
          125000,
          112500,
          110000,
          160000,
          112000,
          107500,
          90000,
          95000,
          120000,
          85000,
          102500,
          134550,
          110000,
          170000,
          125000,
          155000,
          135000,
          100000,
          130000,
          105000,
          110000,
          162500,
          160000,
          125000,
          120000,
          125000,
          139000,
          150000,
          130000,
          92500,
          130000,
          160000,
          122500,
          157500,
          135000,
          150650,
          79300,
          120000,
          175000,
          140000,
          105000,
          141906.5,
          150000,
          140000,
          130000,
          125000,
          92500,
          200000,
          145000,
          250000,
          124999.5,
          120000,
          150000,
          125000,
          89288.5,
          68328.5,
          110000,
          110000,
          110000,
          102500,
          140000,
          120000,
          127500,
          100000
         ]
        },
        {
         "name": "blockchain",
         "type": "box",
         "x": [
          50000,
          52500,
          125000,
          75000,
          150000,
          140000,
          150000,
          72500,
          80000,
          87500,
          57500,
          105000,
          98500,
          147500,
          145000,
          90000,
          50000,
          50000,
          250000,
          50000,
          61500,
          84000,
          50000,
          50000,
          50000,
          50000,
          147500,
          125000,
          205000,
          160000,
          175000,
          175000,
          175000,
          175000,
          175000,
          175000,
          160000,
          175000,
          175000,
          160000
         ]
        },
        {
         "name": "scala",
         "type": "box",
         "x": [
          70000,
          170000,
          69283.5,
          110000,
          85000,
          135000,
          125000,
          120000,
          120000,
          105000,
          85000,
          110000,
          58752.5,
          105000,
          100000,
          95000,
          95000,
          100000,
          100000,
          90000,
          120000,
          122500,
          165000,
          112500,
          135000,
          155000,
          110000,
          125000,
          35000,
          120000,
          90000,
          145000,
          120000,
          90000,
          67500,
          125000,
          125000,
          150000,
          23000,
          150000,
          145000,
          75000,
          120000,
          180000,
          175000,
          175000,
          150000,
          175000,
          120000,
          112500,
          80000,
          175000,
          180000,
          160000,
          137500,
          130000,
          130000,
          120000,
          170000
         ]
        },
        {
         "name": "kubernetes",
         "type": "box",
         "x": [
          155000,
          92500,
          64000,
          130000,
          70000,
          95000,
          180000,
          125000,
          200000,
          200000,
          65000,
          95000,
          91915,
          93000,
          180000,
          10000,
          100000,
          105000,
          110000,
          36000,
          90000,
          84219,
          90000,
          120000,
          140000,
          77500,
          115000,
          82500,
          117500,
          100000,
          95000,
          117500,
          105000,
          150000,
          120000,
          130000,
          145000,
          75000,
          100000,
          100000,
          150000,
          160000,
          75000,
          130000,
          97500,
          90000,
          155000,
          115000,
          117500,
          160000,
          165000,
          185000,
          122500,
          135000,
          150000,
          170000,
          131000,
          90000,
          120000,
          120000,
          120000,
          120000,
          107500,
          85000,
          115000,
          117500,
          87500,
          75000,
          110000,
          140000,
          125000,
          112500,
          110000,
          160000,
          90000,
          90000,
          95000,
          130000,
          120000,
          135000,
          130000,
          130000,
          130000,
          110000,
          170000,
          155000,
          102500,
          110000,
          89288.5,
          68328.5,
          140000,
          120000,
          162500,
          130000,
          100000,
          162500,
          160000,
          85000,
          120000,
          125000,
          180000,
          139000,
          145000,
          122500,
          135000,
          79300,
          140000,
          170000,
          175000,
          140000,
          145000,
          125000,
          150000,
          92500
         ]
        },
        {
         "name": "golang",
         "type": "box",
         "x": [
          82500,
          100000,
          82500,
          165000,
          120000,
          145000,
          115000,
          97500,
          120000,
          85000,
          62500,
          132500,
          83250,
          150000,
          135000,
          120000,
          67500,
          120000,
          180000,
          160000,
          115000,
          120000,
          145000,
          130000,
          155000,
          132500,
          110000,
          147500,
          160000,
          160000,
          122500,
          132500
         ]
        },
        {
         "name": "kafka",
         "type": "box",
         "x": [
          175000,
          200000,
          150000,
          80000,
          120000,
          110000,
          100000,
          65000,
          200000,
          92768,
          130000,
          125000,
          140000,
          80000,
          150000,
          23000,
          130000,
          145000,
          120000,
          120000,
          120000,
          120000,
          100000,
          105000,
          105000,
          100000,
          120000,
          100000,
          87500,
          130000,
          122500,
          165000,
          185000,
          135000,
          110000,
          90000,
          155000,
          120000,
          120000,
          120000,
          62500,
          145000,
          160000,
          130000,
          130000,
          100000,
          85000,
          102750.5,
          90000,
          140000,
          130000,
          140000,
          250000,
          175000,
          140000,
          162500,
          125000,
          112500,
          160000
         ]
        },
        {
         "name": "tensorflow",
         "type": "box",
         "x": [
          140000,
          77500,
          80000,
          95000,
          45000,
          325000,
          157500,
          105000,
          125000,
          95712,
          134463.5,
          60000,
          325000,
          200000,
          150000,
          160000,
          61542,
          150000,
          122500,
          102500,
          90000,
          175000
         ]
        }
       ],
       "layout": {
        "height": 800,
        "showlegend": false,
        "template": {
         "data": {
          "bar": [
           {
            "error_x": {
             "color": "#2a3f5f"
            },
            "error_y": {
             "color": "#2a3f5f"
            },
            "marker": {
             "line": {
              "color": "#E5ECF6",
              "width": 0.5
             }
            },
            "type": "bar"
           }
          ],
          "barpolar": [
           {
            "marker": {
             "line": {
              "color": "#E5ECF6",
              "width": 0.5
             }
            },
            "type": "barpolar"
           }
          ],
          "carpet": [
           {
            "aaxis": {
             "endlinecolor": "#2a3f5f",
             "gridcolor": "white",
             "linecolor": "white",
             "minorgridcolor": "white",
             "startlinecolor": "#2a3f5f"
            },
            "baxis": {
             "endlinecolor": "#2a3f5f",
             "gridcolor": "white",
             "linecolor": "white",
             "minorgridcolor": "white",
             "startlinecolor": "#2a3f5f"
            },
            "type": "carpet"
           }
          ],
          "choropleth": [
           {
            "colorbar": {
             "outlinewidth": 0,
             "ticks": ""
            },
            "type": "choropleth"
           }
          ],
          "contour": [
           {
            "colorbar": {
             "outlinewidth": 0,
             "ticks": ""
            },
            "colorscale": [
             [
              0,
              "#0d0887"
             ],
             [
              0.1111111111111111,
              "#46039f"
             ],
             [
              0.2222222222222222,
              "#7201a8"
             ],
             [
              0.3333333333333333,
              "#9c179e"
             ],
             [
              0.4444444444444444,
              "#bd3786"
             ],
             [
              0.5555555555555556,
              "#d8576b"
             ],
             [
              0.6666666666666666,
              "#ed7953"
             ],
             [
              0.7777777777777778,
              "#fb9f3a"
             ],
             [
              0.8888888888888888,
              "#fdca26"
             ],
             [
              1,
              "#f0f921"
             ]
            ],
            "type": "contour"
           }
          ],
          "contourcarpet": [
           {
            "colorbar": {
             "outlinewidth": 0,
             "ticks": ""
            },
            "type": "contourcarpet"
           }
          ],
          "heatmap": [
           {
            "colorbar": {
             "outlinewidth": 0,
             "ticks": ""
            },
            "colorscale": [
             [
              0,
              "#0d0887"
             ],
             [
              0.1111111111111111,
              "#46039f"
             ],
             [
              0.2222222222222222,
              "#7201a8"
             ],
             [
              0.3333333333333333,
              "#9c179e"
             ],
             [
              0.4444444444444444,
              "#bd3786"
             ],
             [
              0.5555555555555556,
              "#d8576b"
             ],
             [
              0.6666666666666666,
              "#ed7953"
             ],
             [
              0.7777777777777778,
              "#fb9f3a"
             ],
             [
              0.8888888888888888,
              "#fdca26"
             ],
             [
              1,
              "#f0f921"
             ]
            ],
            "type": "heatmap"
           }
          ],
          "heatmapgl": [
           {
            "colorbar": {
             "outlinewidth": 0,
             "ticks": ""
            },
            "colorscale": [
             [
              0,
              "#0d0887"
             ],
             [
              0.1111111111111111,
              "#46039f"
             ],
             [
              0.2222222222222222,
              "#7201a8"
             ],
             [
              0.3333333333333333,
              "#9c179e"
             ],
             [
              0.4444444444444444,
              "#bd3786"
             ],
             [
              0.5555555555555556,
              "#d8576b"
             ],
             [
              0.6666666666666666,
              "#ed7953"
             ],
             [
              0.7777777777777778,
              "#fb9f3a"
             ],
             [
              0.8888888888888888,
              "#fdca26"
             ],
             [
              1,
              "#f0f921"
             ]
            ],
            "type": "heatmapgl"
           }
          ],
          "histogram": [
           {
            "marker": {
             "colorbar": {
              "outlinewidth": 0,
              "ticks": ""
             }
            },
            "type": "histogram"
           }
          ],
          "histogram2d": [
           {
            "colorbar": {
             "outlinewidth": 0,
             "ticks": ""
            },
            "colorscale": [
             [
              0,
              "#0d0887"
             ],
             [
              0.1111111111111111,
              "#46039f"
             ],
             [
              0.2222222222222222,
              "#7201a8"
             ],
             [
              0.3333333333333333,
              "#9c179e"
             ],
             [
              0.4444444444444444,
              "#bd3786"
             ],
             [
              0.5555555555555556,
              "#d8576b"
             ],
             [
              0.6666666666666666,
              "#ed7953"
             ],
             [
              0.7777777777777778,
              "#fb9f3a"
             ],
             [
              0.8888888888888888,
              "#fdca26"
             ],
             [
              1,
              "#f0f921"
             ]
            ],
            "type": "histogram2d"
           }
          ],
          "histogram2dcontour": [
           {
            "colorbar": {
             "outlinewidth": 0,
             "ticks": ""
            },
            "colorscale": [
             [
              0,
              "#0d0887"
             ],
             [
              0.1111111111111111,
              "#46039f"
             ],
             [
              0.2222222222222222,
              "#7201a8"
             ],
             [
              0.3333333333333333,
              "#9c179e"
             ],
             [
              0.4444444444444444,
              "#bd3786"
             ],
             [
              0.5555555555555556,
              "#d8576b"
             ],
             [
              0.6666666666666666,
              "#ed7953"
             ],
             [
              0.7777777777777778,
              "#fb9f3a"
             ],
             [
              0.8888888888888888,
              "#fdca26"
             ],
             [
              1,
              "#f0f921"
             ]
            ],
            "type": "histogram2dcontour"
           }
          ],
          "mesh3d": [
           {
            "colorbar": {
             "outlinewidth": 0,
             "ticks": ""
            },
            "type": "mesh3d"
           }
          ],
          "parcoords": [
           {
            "line": {
             "colorbar": {
              "outlinewidth": 0,
              "ticks": ""
             }
            },
            "type": "parcoords"
           }
          ],
          "scatter": [
           {
            "marker": {
             "colorbar": {
              "outlinewidth": 0,
              "ticks": ""
             }
            },
            "type": "scatter"
           }
          ],
          "scatter3d": [
           {
            "line": {
             "colorbar": {
              "outlinewidth": 0,
              "ticks": ""
             }
            },
            "marker": {
             "colorbar": {
              "outlinewidth": 0,
              "ticks": ""
             }
            },
            "type": "scatter3d"
           }
          ],
          "scattercarpet": [
           {
            "marker": {
             "colorbar": {
              "outlinewidth": 0,
              "ticks": ""
             }
            },
            "type": "scattercarpet"
           }
          ],
          "scattergeo": [
           {
            "marker": {
             "colorbar": {
              "outlinewidth": 0,
              "ticks": ""
             }
            },
            "type": "scattergeo"
           }
          ],
          "scattergl": [
           {
            "marker": {
             "colorbar": {
              "outlinewidth": 0,
              "ticks": ""
             }
            },
            "type": "scattergl"
           }
          ],
          "scattermapbox": [
           {
            "marker": {
             "colorbar": {
              "outlinewidth": 0,
              "ticks": ""
             }
            },
            "type": "scattermapbox"
           }
          ],
          "scatterpolar": [
           {
            "marker": {
             "colorbar": {
              "outlinewidth": 0,
              "ticks": ""
             }
            },
            "type": "scatterpolar"
           }
          ],
          "scatterpolargl": [
           {
            "marker": {
             "colorbar": {
              "outlinewidth": 0,
              "ticks": ""
             }
            },
            "type": "scatterpolargl"
           }
          ],
          "scatterternary": [
           {
            "marker": {
             "colorbar": {
              "outlinewidth": 0,
              "ticks": ""
             }
            },
            "type": "scatterternary"
           }
          ],
          "surface": [
           {
            "colorbar": {
             "outlinewidth": 0,
             "ticks": ""
            },
            "colorscale": [
             [
              0,
              "#0d0887"
             ],
             [
              0.1111111111111111,
              "#46039f"
             ],
             [
              0.2222222222222222,
              "#7201a8"
             ],
             [
              0.3333333333333333,
              "#9c179e"
             ],
             [
              0.4444444444444444,
              "#bd3786"
             ],
             [
              0.5555555555555556,
              "#d8576b"
             ],
             [
              0.6666666666666666,
              "#ed7953"
             ],
             [
              0.7777777777777778,
              "#fb9f3a"
             ],
             [
              0.8888888888888888,
              "#fdca26"
             ],
             [
              1,
              "#f0f921"
             ]
            ],
            "type": "surface"
           }
          ],
          "table": [
           {
            "cells": {
             "fill": {
              "color": "#EBF0F8"
             },
             "line": {
              "color": "white"
             }
            },
            "header": {
             "fill": {
              "color": "#C8D4E3"
             },
             "line": {
              "color": "white"
             }
            },
            "type": "table"
           }
          ]
         },
         "layout": {
          "annotationdefaults": {
           "arrowcolor": "#2a3f5f",
           "arrowhead": 0,
           "arrowwidth": 1
          },
          "colorscale": {
           "diverging": [
            [
             0,
             "#8e0152"
            ],
            [
             0.1,
             "#c51b7d"
            ],
            [
             0.2,
             "#de77ae"
            ],
            [
             0.3,
             "#f1b6da"
            ],
            [
             0.4,
             "#fde0ef"
            ],
            [
             0.5,
             "#f7f7f7"
            ],
            [
             0.6,
             "#e6f5d0"
            ],
            [
             0.7,
             "#b8e186"
            ],
            [
             0.8,
             "#7fbc41"
            ],
            [
             0.9,
             "#4d9221"
            ],
            [
             1,
             "#276419"
            ]
           ],
           "sequential": [
            [
             0,
             "#0d0887"
            ],
            [
             0.1111111111111111,
             "#46039f"
            ],
            [
             0.2222222222222222,
             "#7201a8"
            ],
            [
             0.3333333333333333,
             "#9c179e"
            ],
            [
             0.4444444444444444,
             "#bd3786"
            ],
            [
             0.5555555555555556,
             "#d8576b"
            ],
            [
             0.6666666666666666,
             "#ed7953"
            ],
            [
             0.7777777777777778,
             "#fb9f3a"
            ],
            [
             0.8888888888888888,
             "#fdca26"
            ],
            [
             1,
             "#f0f921"
            ]
           ],
           "sequentialminus": [
            [
             0,
             "#0d0887"
            ],
            [
             0.1111111111111111,
             "#46039f"
            ],
            [
             0.2222222222222222,
             "#7201a8"
            ],
            [
             0.3333333333333333,
             "#9c179e"
            ],
            [
             0.4444444444444444,
             "#bd3786"
            ],
            [
             0.5555555555555556,
             "#d8576b"
            ],
            [
             0.6666666666666666,
             "#ed7953"
            ],
            [
             0.7777777777777778,
             "#fb9f3a"
            ],
            [
             0.8888888888888888,
             "#fdca26"
            ],
            [
             1,
             "#f0f921"
            ]
           ]
          },
          "colorway": [
           "#636efa",
           "#EF553B",
           "#00cc96",
           "#ab63fa",
           "#FFA15A",
           "#19d3f3",
           "#FF6692",
           "#B6E880",
           "#FF97FF",
           "#FECB52"
          ],
          "font": {
           "color": "#2a3f5f"
          },
          "geo": {
           "bgcolor": "white",
           "lakecolor": "white",
           "landcolor": "#E5ECF6",
           "showlakes": true,
           "showland": true,
           "subunitcolor": "white"
          },
          "hoverlabel": {
           "align": "left"
          },
          "hovermode": "closest",
          "mapbox": {
           "style": "light"
          },
          "paper_bgcolor": "white",
          "plot_bgcolor": "#E5ECF6",
          "polar": {
           "angularaxis": {
            "gridcolor": "white",
            "linecolor": "white",
            "ticks": ""
           },
           "bgcolor": "#E5ECF6",
           "radialaxis": {
            "gridcolor": "white",
            "linecolor": "white",
            "ticks": ""
           }
          },
          "scene": {
           "xaxis": {
            "backgroundcolor": "#E5ECF6",
            "gridcolor": "white",
            "gridwidth": 2,
            "linecolor": "white",
            "showbackground": true,
            "ticks": "",
            "zerolinecolor": "white"
           },
           "yaxis": {
            "backgroundcolor": "#E5ECF6",
            "gridcolor": "white",
            "gridwidth": 2,
            "linecolor": "white",
            "showbackground": true,
            "ticks": "",
            "zerolinecolor": "white"
           },
           "zaxis": {
            "backgroundcolor": "#E5ECF6",
            "gridcolor": "white",
            "gridwidth": 2,
            "linecolor": "white",
            "showbackground": true,
            "ticks": "",
            "zerolinecolor": "white"
           }
          },
          "shapedefaults": {
           "line": {
            "color": "#2a3f5f"
           }
          },
          "ternary": {
           "aaxis": {
            "gridcolor": "white",
            "linecolor": "white",
            "ticks": ""
           },
           "baxis": {
            "gridcolor": "white",
            "linecolor": "white",
            "ticks": ""
           },
           "bgcolor": "#E5ECF6",
           "caxis": {
            "gridcolor": "white",
            "linecolor": "white",
            "ticks": ""
           }
          },
          "title": {
           "x": 0.05
          },
          "xaxis": {
           "automargin": true,
           "gridcolor": "white",
           "linecolor": "white",
           "ticks": "",
           "zerolinecolor": "white",
           "zerolinewidth": 2
          },
          "yaxis": {
           "automargin": true,
           "gridcolor": "white",
           "linecolor": "white",
           "ticks": "",
           "zerolinecolor": "white",
           "zerolinewidth": 2
          }
         }
        },
        "title": {
         "text": "Salary for Computer Skills"
        },
        "width": 1000
       }
      },
      "text/html": [
       "<div>\n",
       "        \n",
       "        \n",
       "            <div id=\"7a588bbe-671c-4e9a-8c43-4eea448d2247\" class=\"plotly-graph-div\" style=\"height:800px; width:1000px;\"></div>\n",
       "            <script type=\"text/javascript\">\n",
       "                require([\"plotly\"], function(Plotly) {\n",
       "                    window.PLOTLYENV=window.PLOTLYENV || {};\n",
       "                    \n",
       "                if (document.getElementById(\"7a588bbe-671c-4e9a-8c43-4eea448d2247\")) {\n",
       "                    Plotly.newPlot(\n",
       "                        '7a588bbe-671c-4e9a-8c43-4eea448d2247',\n",
       "                        [{\"name\": \"vb\", \"type\": \"box\", \"x\": [80000.0, 70000.0, 45000.0, 60000.0, 59000.0, 67500.0, 51000.0, 32500.0, 50000.0, 35000.0, 65000.0, 71250.0, 70000.0, 65000.0, 99754.5, 40000.0, 69500.0, 95000.0, 50500.0, 86083.5, 57552.0, 100000.0, 77500.0, 57500.0, 85000.0, 80000.0, 97500.0, 55000.0, 72800.0, 97500.0, 110000.0, 75000.0, 111914.5, 100000.0, 72500.0, 80000.0, 113963.0, 130500.0, 128496.0, 99736.0, 77500.0, 67500.0, 71862.0, 124841.0, 80878.0, 143645.0, 75000.0, 52500.0, 95000.0, 77500.0, 45000.0, 69586.0, 97000.0, 70000.0, 52500.0, 50235.0, 77500.0, 87500.0, 83500.0, 45000.0, 105000.0, 74974.0, 100000.0, 72526.5, 67500.0, 72526.5, 100000.0, 110000.0, 77500.0, 95000.0, 78000.0, 100000.0, 37500.0, 69000.0, 57500.0, 72500.0, 70000.0, 83032.5, 52500.0, 45000.0, 52500.0, 101712.0, 67500.0, 50000.0, 65000.0, 88504.0, 114000.0, 69166.0, 96222.5, 69506.5, 105000.0, 93000.0, 95000.0, 48024.0, 50000.0, 77569.0, 75000.0, 70000.0, 57500.0, 50000.0, 70000.0, 92602.0, 59004.0, 75282.0, 75000.0, 63006.0, 83500.0, 100000.0, 62148.0, 129747.5, 77862.0, 65000.0, 48000.0, 58656.0, 77500.0, 65853.5, 162500.0, 104569.0, 75000.0, 93000.0, 90000.0, 90000.0, 35000.0, 100000.0, 70000.0, 125500.0, 112800.0, 125000.0, 90000.0]}, {\"name\": \"android\", \"type\": \"box\", \"x\": [62500.0, 75000.0, 40000.0, 12000.0, 18000.0, 18000.0, 18000.0, 60000.0, 95000.0, 50000.0, 31200.0, 18000.0, 67500.0, 27872.0, 32000.0, 33280.0, 31200.0, 37500.0, 36200.0, 91058.0, 60000.0, 39000.0, 86845.5, 150000.0, 45000.0, 55000.0, 45000.0, 31200.0, 31200.0, 85000.0, 85000.0, 50000.0, 80000.0, 200000.0, 92500.0, 84000.0, 200000.0, 170000.0, 24000.0, 62500.0, 60000.0, 59000.0, 31200.0, 85000.0, 90000.0, 32500.0, 60000.0, 45000.0, 33500.0, 35000.0, 52500.0, 60000.0, 53750.0, 65000.0, 100000.0, 35000.0, 60000.0, 29400.0, 60000.0, 55000.0, 45000.0, 95000.0, 72714.0, 45000.0, 65000.0, 42500.0, 82500.0, 60000.0, 81000.0, 81000.0, 60000.0, 40000.0, 150000.0, 80000.0, 55000.0, 46500.0, 35000.0, 110000.0, 11500.0, 110000.0, 50000.0, 110000.0, 110000.0, 110000.0, 77500.0, 80000.0, 65000.0, 75000.0, 87500.0, 100000.0, 92976.0, 70000.0, 40000.0, 50000.0, 100000.0, 74650.0, 70000.0, 95000.0, 100000.0, 48766.0, 110000.0, 110000.0, 62500.0, 52500.0, 37101.0, 52500.0, 55000.0, 115000.0, 125000.0, 60000.0, 74650.0, 130000.0, 95000.0, 95500.0, 145000.0, 135000.0, 110000.0, 100000.0, 65000.0, 100000.0, 70000.0, 75000.0, 47500.0, 35000.0, 75000.0, 100000.0, 95000.0, 70000.0, 105000.0, 72306.0, 60000.0, 74650.0, 72500.0, 67500.0, 83500.0, 110000.0, 75000.0, 65000.0, 83814.0, 84500.0, 100000.0, 100000.0, 53041.5, 67754.0, 80000.0, 120000.0, 95000.0, 105000.0, 134550.0, 75000.0, 160000.0, 67500.0, 105000.0, 160000.0, 120000.0, 70000.0, 130000.0, 170000.0, 68750.0, 74650.0, 55000.0, 160000.0, 87500.0, 175000.0, 115000.0, 59000.0, 180000.0, 120000.0, 129000.0, 87500.0, 120000.0, 125000.0, 155000.0, 127500.0, 50000.0, 45000.0, 48611.0, 62470.0, 62470.0, 80185.0, 107500.0, 53993.5, 130000.0, 100000.0, 40000.0, 90000.0, 150000.0, 82500.0, 69000.0, 49944.0, 90000.0, 95000.0, 95000.0, 140000.0, 48000.0, 140000.0, 100000.0, 105000.0, 127500.0, 140000.0, 105000.0, 65000.0, 95000.0, 100000.0, 140000.0, 66000.0, 81947.0, 107500.0, 112500.0, 107500.0, 112500.0, 150650.0, 150000.0, 165000.0, 150000.0, 125000.0, 200000.0, 125000.0, 110000.0, 135000.0]}, {\"name\": \"sql\", \"type\": \"box\", \"x\": [71531.0, 64292.0, 80000.0, 37500.0, 63500.0, 50000.0, 77500.0, 57500.0, 56604.0, 46500.0, 47500.0, 90000.0, 47500.0, 69500.0, 80000.0, 40000.0, 37209.0, 108042.0, 65385.5, 138861.0, 82175.0, 92500.0, 68810.5, 100000.0, 70000.0, 47500.0, 62028.5, 65385.5, 72364.0, 160000.0, 85000.0, 100000.0, 52000.0, 70000.0, 135000.0, 110000.0, 57262.0, 99754.5, 90000.0, 78803.0, 102817.5, 69283.5, 82175.0, 77500.0, 150000.0, 65000.0, 59280.0, 50262.0, 126000.0, 55000.0, 64269.5, 525000.0, 104015.5, 49576.5, 95000.0, 39000.0, 45000.0, 55000.0, 55000.0, 65000.0, 45000.0, 55000.0, 73873.5, 80367.5, 72500.0, 72500.0, 20000.0, 51961.0, 75000.0, 84000.0, 38660.0, 40000.0, 76253.0, 72500.0, 40000.0, 100000.0, 65000.0, 46716.0, 67500.0, 72500.0, 50000.0, 42500.0, 52401.0, 65000.0, 77109.5, 60000.0, 70000.0, 77109.5, 70000.0, 60896.0, 37500.0, 53000.0, 59404.5, 32500.0, 70000.0, 70000.0, 156000.0, 43000.0, 68436.0, 65000.0, 75000.0, 97500.0, 156000.0, 72500.0, 117500.0, 77500.0, 40000.0, 77500.0, 72000.0, 62140.0, 93538.0, 90000.0, 75000.0, 46800.0, 36976.0, 85000.0, 110000.0, 37500.0, 55000.0, 81414.0, 68750.0, 51612.0, 73200.0, 110000.0, 62500.0, 80000.0, 45000.0, 63990.0, 68502.0, 47250.0, 76000.0, 72500.0, 51985.0, 62500.0, 90000.0, 36976.0, 86083.5, 57000.0, 52000.0, 162500.0, 125000.0, 70000.0, 115000.0, 100000.0, 72500.0, 46692.0, 50000.0, 72500.0, 72500.0, 50000.0, 95000.0, 75500.0, 94307.0, 72792.0, 59472.0, 125000.0, 65770.0, 82500.0, 72500.0, 45000.0, 160000.0, 175000.0, 75000.0, 50000.0, 75000.0, 75000.0, 50000.0, 67500.0, 74850.0, 87500.0, 77500.0, 75871.5, 99174.0, 81623.0, 62500.0, 60000.0, 90000.0, 76483.0, 90000.0, 85000.0, 62500.0, 70000.0, 109830.0, 80000.0, 75000.0, 62500.0, 36000.0, 52500.0, 120000.0, 62860.0, 57500.0, 65000.0, 97500.0, 75000.0, 70000.0, 120000.0, 70064.5, 36000.0, 51882.0, 51882.0, 102546.0, 62860.0, 65000.0, 65000.0, 70000.0, 75000.0, 90000.0, 70000.0, 75000.0, 65000.0, 60000.0, 72500.0, 70000.0, 140000.0, 24000.0, 65000.0, 57500.0, 130000.0, 84927.5, 100000.0, 140000.0, 90000.0, 53238.0, 60000.0, 35000.0, 60000.0, 55000.0, 72500.0, 70000.0, 38000.0, 65000.0, 70000.0, 87500.0, 72500.0, 43000.0, 57152.0, 42500.0, 63795.0, 110000.0, 70000.0, 110000.0, 80000.0, 100000.0, 60000.0, 80000.0, 78409.0, 44319.0, 42365.5, 50000.0, 74078.0, 67683.5, 80000.0, 65000.0, 66978.0, 28500.0, 65991.5, 63679.5, 57500.0, 75000.0, 80000.0, 60000.0, 77500.0, 60391.0, 70000.0, 60000.0, 50000.0, 35000.0, 80000.0, 70000.0, 85925.0, 57500.0, 48300.0, 50000.0, 35721.0, 48000.0, 50000.0, 60000.0, 55000.0, 60000.0, 52500.0, 120000.0, 67500.0, 67689.0, 57500.0, 62500.0, 88500.0, 55000.0, 42500.0, 70000.0, 65000.0, 65000.0, 70000.0, 60000.0, 65000.0, 65000.0, 102500.0, 52500.0, 55000.0, 85000.0, 81000.0, 50000.0, 50000.0, 85000.0, 150000.0, 81000.0, 50208.0, 130000.0, 110000.0, 50000.0, 72500.0, 110000.0, 64000.0, 120000.0, 72250.0, 73992.0, 110000.0, 69978.0, 72250.0, 85000.0, 75000.0, 48024.0, 80000.0, 82500.0, 99000.0, 110000.0, 67060.0, 80000.0, 70000.0, 135000.0, 44536.0, 95000.0, 50000.0, 77500.0, 100000.0, 72500.0, 60000.0, 50000.0, 60000.0, 90000.0, 65000.0, 65000.0, 90000.0, 75338.0, 67125.0, 59666.0, 85000.0, 100000.0, 130000.0, 82500.0, 67125.0, 75000.0, 67500.0, 65000.0, 70000.0, 51371.0, 77671.5, 47500.0, 85000.0, 100000.0, 70000.0, 70000.0, 46222.0, 70000.0, 80000.0, 100000.0, 112500.0, 112500.0, 100000.0, 112500.0, 70000.0, 70000.0, 75000.0, 100000.0, 65000.0, 90000.0, 85000.0, 50000.0, 75000.0, 70000.0, 88529.5, 75000.0, 65000.0, 80000.0, 80000.0, 77221.5, 70000.0, 41500.0, 100000.0, 65000.0, 85000.0, 62500.0, 63000.0, 72706.0, 37500.0, 90000.0, 85000.0, 45000.0, 47500.0, 47500.0, 100000.0, 52500.0, 65000.0, 87500.0, 90000.0, 66000.0, 92500.0, 48900.0, 140000.0, 101712.0, 110000.0, 80000.0, 95000.0, 40000.0, 45942.0, 36400.0, 58162.5, 90000.0, 90000.0, 126935.5, 55000.0, 52500.0, 75000.0, 120000.0, 140000.0, 80000.0, 91000.0, 120000.0, 65000.0, 88000.0, 72500.0, 74000.0, 115000.0, 85000.0, 75000.0, 85000.0, 51664.0, 62500.0, 48900.0, 95000.0, 85529.5, 85000.0, 115000.0, 70000.0, 85529.5, 75000.0, 91500.0, 162500.0, 87500.0, 74000.0, 74000.0, 74000.0, 70500.0, 108500.0, 74000.0, 95000.0, 85000.0, 52500.0, 62500.0, 90000.0, 90000.0, 57998.0, 110000.0, 87500.0, 45000.0, 150000.0, 150000.0, 60000.0, 70000.0, 100000.0, 52500.0, 42500.0, 92500.0, 85000.0, 87500.0, 67500.0, 61290.0, 47352.0, 65597.0, 90000.0, 85000.0, 87498.0, 102500.0, 46324.0, 260000.0, 130000.0, 54471.0, 62052.0, 90000.0, 80367.0, 100000.0, 95000.0, 100000.0, 98538.0, 115000.0, 107500.0, 48766.0, 90000.0, 67500.0, 115000.0, 60000.0, 53052.0, 64480.0, 67500.0, 110000.0, 102500.0, 95000.0, 69506.5, 103593.0, 100000.0, 95000.0, 76100.0, 83000.0, 81515.5, 120000.0, 95000.0, 137500.0, 89362.5, 130000.0, 52500.0, 62500.0, 40000.0, 72500.0, 87500.0, 97249.5, 120000.0, 106492.0, 77407.0, 90000.0, 105000.0, 110000.0, 100000.0, 102500.0, 62500.0, 125000.0, 80000.0, 120000.0, 40000.0, 115000.0, 97200.0, 110000.0, 115732.0, 130000.0, 96222.5, 135000.0, 97500.0, 240000.0, 70000.0, 65000.0, 85000.0, 95000.0, 112500.0, 77500.0, 200000.0, 87500.0, 50552.0, 90000.0, 150000.0, 212500.0, 127500.0, 102500.0, 83258.0, 100000.0, 80000.0, 130000.0, 110000.0, 200000.0, 80000.0, 87500.0, 91837.0, 80000.0, 92500.0, 95000.0, 80000.0, 120000.0, 120000.0, 57860.0, 182500.0, 141865.0, 75000.0, 70000.0, 69166.0, 67500.0, 114000.0, 75000.0, 70000.0, 100000.0, 85000.0, 70000.0, 42995.5, 90000.0, 62500.0, 100000.0, 55000.0, 117500.0, 100000.0, 95000.0, 70000.0, 65000.0, 51154.0, 80000.0, 85000.0, 65000.0, 35000.0, 70000.0, 130000.0, 59266.5, 50000.0, 100000.0, 105000.0, 70000.0, 48058.0, 95700.0, 90000.0, 92602.0, 57200.0, 55000.0, 67500.0, 80261.0, 56628.5, 97500.0, 70000.0, 60000.0, 75000.0, 80000.0, 69118.5, 76574.0, 70000.0, 68404.5, 89584.5, 55000.0, 48500.0, 90000.0, 64000.0, 75000.0, 73086.0, 51000.0, 47600.0, 95160.0, 82500.0, 34632.0, 57500.0, 180000.0, 80000.0, 107500.0, 79903.0, 75000.0, 74699.5, 79903.0, 52400.0, 70000.0, 85000.0, 79000.0, 85000.0, 84000.0, 85410.0, 72500.0, 51500.0, 82884.0, 100000.0, 78907.5, 70000.0, 59758.0, 79000.0, 61602.0, 63990.0, 71304.0, 41405.5, 36500.0, 129000.0, 63612.0, 75000.0, 68046.0, 72500.0, 87500.0, 62000.0, 55188.0, 75000.0, 59472.0, 93408.0, 86988.0, 105000.0, 76487.0, 80000.0, 48000.0, 100000.0, 100000.0, 100000.0, 95000.0, 500000.0, 65000.0, 48000.0, 83297.5, 118450.0, 46111.5, 98090.0, 67500.0, 100000.0, 79200.0, 83814.0, 72000.0, 55000.0, 60314.0, 53496.0, 65000.0, 77862.0, 59832.0, 144123.0, 84919.0, 75282.0, 129000.0, 100000.0, 52605.0, 82000.0, 71034.0, 90000.0, 59832.0, 49200.0, 110000.0, 68436.0, 77007.5, 72500.0, 78000.0, 93408.0, 150000.0, 90000.0, 75000.0, 70500.0, 85000.0, 125000.0, 85144.5, 87210.0, 170000.0, 66600.0, 51096.0, 77862.0, 60000.0, 75000.0, 73170.0, 63300.0, 77500.0, 101231.0, 125000.0, 85000.0, 115000.0, 78000.0, 59214.0, 86142.5, 73496.5, 40000.0, 55250.0, 93408.0, 59472.0, 69768.0, 75000.0, 54731.0, 52000.0, 82500.0, 68500.0, 50000.0, 77862.0, 85000.0, 89520.0, 52000.0, 55944.0, 125000.0, 67754.0, 43028.0, 68436.0, 125000.0, 45000.0, 90984.0, 130000.0, 66000.0, 105000.0, 62500.0, 90984.0, 78000.0, 55000.0, 89760.0, 110094.0, 120000.0, 89428.5, 68730.0, 99500.0, 85000.0, 74304.0, 57500.0, 130000.0, 71137.5, 78972.0, 77633.0, 115000.0, 145000.0, 110094.0, 113963.0, 85620.0, 87504.0, 117500.0, 100000.0, 95000.0, 65000.0, 116274.0, 56316.0, 99736.0, 113963.0, 202578.0, 127500.0, 90000.0, 88801.0, 85000.0, 98613.0, 69146.5, 89500.0, 105682.0, 120000.0, 102654.0, 65000.0, 91650.0, 90984.0, 99549.0, 141000.0, 62000.0, 129043.0, 68500.0, 150000.0, 80417.5, 145000.0, 135000.0, 165000.0, 99777.0, 90000.0, 113178.0, 175000.0, 97375.0, 73132.0, 100000.0, 59000.0, 62500.0, 130000.0, 110000.0, 60000.0, 101147.0, 92684.5, 91879.0, 59170.0, 67450.0, 79217.0, 68772.0, 90000.0, 112195.5, 129000.0, 128496.0, 102500.0, 97000.0, 58500.0, 45000.0, 80000.0, 115403.5, 66350.0, 55000.0, 95000.0, 95000.0, 82500.0, 85000.0, 85000.0, 52500.0, 55000.0, 68000.0, 62470.0, 83000.0, 72500.0, 67500.0, 66500.0, 75000.0, 72500.0, 66346.0, 70096.0, 55000.0, 82500.0, 79500.0, 89924.5, 70500.0, 61103.5, 67165.5, 80000.0, 72500.0, 97760.0, 70000.0, 67452.5, 57500.0, 120000.0, 85000.0, 56350.0, 77500.0, 72526.5, 102500.0, 69586.0, 80000.0, 100000.0, 58500.0, 80000.0, 60000.0, 62414.0, 107500.0, 77500.0, 80000.0, 47000.0, 122500.0, 100000.0, 67500.0, 82500.0, 100000.0, 84000.0, 80000.0, 75000.0, 81432.0, 100000.0, 80000.0, 117500.0, 103438.0, 85000.0, 60000.0, 70896.5, 112500.0, 74974.0, 84550.0, 108211.0, 79750.0, 108211.0, 110000.0, 170000.0, 72500.0, 81432.0, 82386.0, 112500.0, 60000.0, 95000.0, 72620.5, 70000.0, 70000.0, 72620.5, 127500.0, 67500.0, 68328.5, 90000.0, 117500.0, 85000.0, 102500.0, 59635.0, 62500.0, 112500.0, 135000.0, 112500.0, 110000.0, 115000.0, 137500.0, 147500.0, 111384.0, 100000.0, 90800.0, 56810.0, 100000.0, 95000.0, 112000.0, 35000.0, 102500.0, 110000.0, 150000.0, 120000.0, 100000.0, 90000.0, 115000.0, 180000.0, 145000.0, 105000.0, 127500.0, 160000.0, 70000.0, 85000.0, 117500.0, 70000.0, 145000.0, 80367.5, 142500.0, 130000.0, 75000.0, 110000.0, 82175.0, 125000.0, 107500.0, 200000.0, 107500.0, 80000.0, 90000.0, 139000.0, 160000.0, 72500.0, 80000.0, 180000.0, 140000.0, 120000.0, 90000.0, 72500.0, 170000.0, 165000.0, 88113.0, 85000.0, 125000.0, 125000.0, 200000.0, 117500.0, 90000.0, 130000.0, 130000.0, 61500.0, 105000.0, 110000.0, 87500.0, 92500.0, 87500.0, 91461.0, 91461.0, 43750.0, 89774.0, 63000.0, 97050.0, 67500.0, 104569.0, 120000.0, 63108.0, 156000.0, 69456.0, 112500.0, 157500.0, 90000.0, 137500.0, 65853.5, 174000.0, 102744.0, 146000.0, 125000.0, 100000.0, 209500.0, 137500.0, 118000.0, 122500.0, 102024.0, 112500.0, 110025.0, 152500.0, 271000.0, 105000.0, 88849.0, 135000.0, 184000.0, 150000.0, 109000.0, 72438.5, 120000.0, 130000.0, 127500.0, 125000.0, 160000.0, 165000.0, 155000.0, 110094.0, 175000.0, 125000.0, 95000.0, 92000.0, 107982.0, 147500.0, 95000.0, 140000.0, 150000.0, 130000.0, 99762.0, 75000.0, 150000.0, 140000.0, 202578.0, 62500.0, 130000.0, 88478.0, 115000.0, 95000.0, 160000.0, 115000.0, 135000.0, 160000.0]}, {\"name\": \"r analytics\", \"type\": \"box\", \"x\": [65000.0, 101000.0, 90000.0, 105000.0, 32500.0, 45942.0, 61542.0, 85000.0, 42500.0, 87500.0, 65385.5, 77407.0, 70000.0, 110966.0, 52500.0, 68000.0, 73235.0, 150000.0, 60000.0, 120000.0, 64480.0, 72576.0, 95000.0, 87500.0, 50552.0, 135000.0, 67107.5, 67151.0, 90000.0, 100000.0, 100000.0, 125000.0, 110000.0, 72500.0, 85000.0, 92034.0, 140976.0, 125000.0, 90000.0, 74304.0, 117500.0, 90000.0, 202578.0, 72500.0, 117500.0, 90984.0, 130000.0, 80000.0, 81000.0, 81000.0, 59000.0, 70000.0, 60000.0, 114750.0, 178000.0, 120000.0, 81000.0, 72250.0, 72250.0, 110000.0, 81000.0, 78803.0, 65385.5, 55000.0, 78803.0, 59280.0, 82175.0, 70000.0, 55000.0, 50262.0, 104015.5, 57262.0, 45000.0, 77500.0, 49451.0, 45000.0, 31250.0, 74000.0, 62500.0, 81414.0, 49920.0, 85000.0, 77500.0, 72792.0, 84927.5, 120000.0, 108552.0, 120000.0, 42000.0, 70000.0, 130000.0, 80367.5, 72500.0, 145000.0, 145000.0, 107500.0, 72500.0, 72500.0, 117500.0, 112500.0, 202578.0, 140000.0, 150000.0, 150000.0, 61103.5, 79500.0, 32500.0, 85000.0, 112500.0, 95000.0, 100000.0, 108211.0]}, {\"name\": \"ios\", \"type\": \"box\", \"x\": [26400.0, 90000.0, 60000.0, 62500.0, 59000.0, 90000.0, 31200.0, 62500.0, 45000.0, 60000.0, 115000.0, 33500.0, 125000.0, 60000.0, 35000.0, 60000.0, 60000.0, 55000.0, 45000.0, 45000.0, 65000.0, 60000.0, 60000.0, 40000.0, 47500.0, 46500.0, 56000.0, 116010.0, 80000.0, 110000.0, 110000.0, 110000.0, 50000.0, 110000.0, 110000.0, 50000.0, 62500.0, 60000.0, 31200.0, 112500.0, 40500.0, 90000.0, 31200.0, 72500.0, 85000.0, 46100.0, 200000.0, 39000.0, 82500.0, 150000.0, 86845.5, 31200.0, 31200.0, 45000.0, 170000.0, 45000.0, 85000.0, 44220.0, 48000.0, 74279.0, 85000.0, 50000.0, 80000.0, 84000.0, 68500.0, 60596.0, 66346.0, 45000.0, 48611.0, 62470.0, 60000.0, 62470.0, 80185.0, 80843.0, 130000.0, 100000.0, 150000.0, 82500.0, 49944.0, 65000.0, 65000.0, 32380.0, 55262.0, 75000.0, 87500.0, 110000.0, 100000.0, 92976.0, 70000.0, 95000.0, 110000.0, 110000.0, 74650.0, 95000.0, 50000.0, 48766.0, 45000.0, 46500.0, 97500.0, 225000.0, 50000.0, 52500.0, 120000.0, 62500.0, 90158.5, 75000.0, 145000.0, 52500.0, 55000.0, 62500.0, 125000.0, 112148.5, 125000.0, 109413.0, 74650.0, 110000.0, 100000.0, 95000.0, 75000.0, 135000.0, 110000.0, 130000.0, 60000.0, 42500.0, 74650.0, 59266.5, 70000.0, 75000.0, 100000.0, 70000.0, 100000.0, 72306.0, 100000.0, 78000.0, 111481.5, 72500.0, 67500.0, 110000.0, 43549.0, 100000.0, 150000.0, 49500.0, 32862.0, 66000.0, 63000.0, 75000.0, 150000.0, 100000.0, 83814.0, 67754.0, 80000.0, 90000.0, 59214.0, 115000.0, 120000.0, 52500.0, 130000.0, 105000.0, 130000.0, 100000.0, 95000.0, 134550.0, 47500.0, 113112.0, 67500.0, 68750.0, 105000.0, 95514.0, 105000.0, 125000.0, 74650.0, 70000.0, 78972.0, 170000.0, 55000.0, 90984.0, 125000.0, 160000.0, 120000.0, 87500.0, 115000.0, 130000.0, 105000.0, 90984.0, 59000.0, 90000.0, 120000.0, 90000.0, 145000.0, 35000.0, 180000.0, 129000.0, 90000.0, 135000.0, 110000.0, 100000.0, 145000.0, 175000.0, 165000.0, 150000.0, 200000.0, 130000.0, 100000.0, 150000.0, 150650.0, 135000.0, 66000.0, 81947.0, 140000.0, 91500.0, 95000.0, 140000.0, 48000.0, 110000.0, 140000.0, 127500.0, 140000.0, 170000.0, 105000.0, 65000.0, 95000.0, 100000.0, 120000.0, 112500.0, 107500.0, 112500.0]}, {\"name\": \"c#\", \"type\": \"box\", \"x\": [125000.0, 55000.0, 85000.0, 55000.0, 70000.0, 80000.0, 35721.0, 85000.0, 87500.0, 50000.0, 60000.0, 50000.0, 72500.0, 70000.0, 60000.0, 67500.0, 65000.0, 120000.0, 95000.0, 65000.0, 120000.0, 60000.0, 54500.0, 32500.0, 52500.0, 50000.0, 55000.0, 50000.0, 83000.0, 47500.0, 72500.0, 50000.0, 77500.0, 77500.0, 100000.0, 93825.5, 60000.0, 92768.0, 62500.0, 65000.0, 99754.5, 100000.0, 40000.0, 102817.5, 143000.0, 51961.0, 43507.0, 77109.5, 67500.0, 77109.5, 40000.0, 61511.0, 65000.0, 46716.0, 90000.0, 70000.0, 55000.0, 97500.0, 17500.0, 175000.0, 40000.0, 80000.0, 62140.0, 72500.0, 80000.0, 90000.0, 100000.0, 90000.0, 77500.0, 72500.0, 70000.0, 97500.0, 60000.0, 86083.5, 76000.0, 57552.0, 66500.0, 110000.0, 90000.0, 90646.0, 72500.0, 55000.0, 150000.0, 70000.0, 85000.0, 45000.0, 107924.5, 65770.0, 75000.0, 72500.0, 50000.0, 97500.0, 59604.0, 76483.0, 105000.0, 82752.0, 60000.0, 60000.0, 130000.0, 65000.0, 31000.0, 75000.0, 110000.0, 59000.0, 110000.0, 72500.0, 100000.0, 55379.5, 70000.0, 78409.0, 117500.0, 70000.0, 66350.0, 95000.0, 77500.0, 50235.0, 75000.0, 88251.0, 37704.0, 65000.0, 70000.0, 72500.0, 105000.0, 66500.0, 95000.0, 68000.0, 70000.0, 83500.0, 62414.0, 69586.0, 95000.0, 72526.5, 77500.0, 135000.0, 105000.0, 80185.0, 70000.0, 60000.0, 82500.0, 72526.5, 80000.0, 117500.0, 112500.0, 67500.0, 74974.0, 100000.0, 108211.0, 100000.0, 110000.0, 65000.0, 78000.0, 110000.0, 95000.0, 95000.0, 60000.0, 70000.0, 77500.0, 75000.0, 80000.0, 100000.0, 82500.0, 150000.0, 90000.0, 90000.0, 112500.0, 100000.0, 100000.0, 102000.0, 85000.0, 60000.0, 125000.0, 37500.0, 100000.0, 137500.0, 85500.0, 90000.0, 70000.0, 77500.0, 72000.0, 90000.0, 135000.0, 69000.0, 102500.0, 90000.0, 70000.0, 90000.0, 52500.0, 52500.0, 67500.0, 95000.0, 87500.0, 101712.0, 140000.0, 95000.0, 85000.0, 104062.0, 70000.0, 72500.0, 70000.0, 115000.0, 115000.0, 140000.0, 83032.5, 91000.0, 80000.0, 120000.0, 70000.0, 95000.0, 95000.0, 145000.0, 65000.0, 120000.0, 95000.0, 70000.0, 92500.0, 75533.5, 88092.0, 70000.0, 150000.0, 150000.0, 105000.0, 90000.0, 48766.0, 120000.0, 170000.0, 90000.0, 62052.0, 10000.0, 96442.0, 92500.0, 77500.0, 75000.0, 87500.0, 80000.0, 80000.0, 82500.0, 105000.0, 60000.0, 89000.0, 92500.0, 72500.0, 97249.5, 125000.0, 104970.0, 85000.0, 150000.0, 120000.0, 88504.0, 70000.0, 102500.0, 92500.0, 120000.0, 77145.5, 93000.0, 102500.0, 92500.0, 110000.0, 105000.0, 89362.5, 82394.5, 130000.0, 90000.0, 82500.0, 80000.0, 87500.0, 69506.5, 103593.0, 83495.0, 125000.0, 99000.0, 80000.0, 114000.0, 69166.0, 87500.0, 70000.0, 65000.0, 87500.0, 83258.0, 85000.0, 120000.0, 110000.0, 50000.0, 100000.0, 51154.0, 105000.0, 90000.0, 46000.0, 75000.0, 135000.0, 62500.0, 110000.0, 63000.0, 92602.0, 50000.0, 90000.0, 53144.0, 100000.0, 105000.0, 70000.0, 95000.0, 120000.0, 65000.0, 80000.0, 67500.0, 72306.0, 34632.0, 89892.0, 100000.0, 127500.0, 51612.0, 100000.0, 160000.0, 75282.0, 100000.0, 77500.0, 100000.0, 67500.0, 125000.0, 115000.0, 105000.0, 129000.0, 55188.0, 100000.0, 83500.0, 58656.0, 59004.0, 100000.0, 85200.0, 51500.0, 75000.0, 123000.0, 100000.0, 69000.0, 62148.0, 100000.0, 90000.0, 90646.0, 63006.0, 57500.0, 52605.0, 71304.0, 105000.0, 67500.0, 144123.0, 75000.0, 83297.5, 85000.0, 175000.0, 85000.0, 48000.0, 65406.0, 65000.0, 129747.5, 87000.0, 100000.0, 85410.0, 87500.0, 68500.0, 63750.0, 98090.0, 75000.0, 100000.0, 100336.5, 68500.0, 96500.0, 73170.0, 120000.0, 100000.0, 75000.0, 84500.0, 95000.0, 107500.0, 107500.0, 87500.0, 75000.0, 90000.0, 80000.0, 82500.0, 120000.0, 95712.0, 112000.0, 75000.0, 62500.0, 105000.0, 135000.0, 113934.0, 115000.0, 124841.0, 114434.0, 126688.0, 80000.0, 100170.0, 115000.0, 125736.0, 82500.0, 80878.0, 113963.0, 89428.5, 99736.0, 80000.0, 130000.0, 105000.0, 100000.0, 71862.0, 65100.0, 124200.0, 77633.0, 192000.0, 52464.0, 77500.0, 130000.0, 71137.5, 127500.0, 88338.0, 160000.0, 125000.0, 120000.0, 90000.0, 117500.0, 68328.5, 102000.0, 160000.0, 105000.0, 85000.0, 35000.0, 90000.0, 90000.0, 110000.0, 95000.0, 162500.0, 130000.0, 35000.0, 90000.0, 110000.0, 70000.0, 85000.0, 160000.0, 102500.0, 65000.0, 160000.0, 75000.0, 85000.0, 93000.0, 130000.0, 102500.0, 105000.0, 81000.0, 104569.0, 81947.0, 87500.0, 87500.0, 70762.0, 105000.0, 107500.0, 107500.0, 63108.0, 100000.0, 110000.0, 122500.0, 137500.0, 100000.0, 157500.0, 134000.0, 100000.0, 165000.0, 57500.0, 165000.0, 102500.0, 110000.0, 145000.0, 120000.0, 125000.0, 135000.0, 127500.0, 131150.0]}, {\"name\": \"javascript\", \"type\": \"box\", \"x\": [52500.0, 50000.0, 40000.0, 102500.0, 47500.0, 55000.0, 50000.0, 40000.0, 87500.0, 150000.0, 140000.0, 140000.0, 47500.0, 126000.0, 45000.0, 95000.0, 100000.0, 72500.0, 70000.0, 50000.0, 30000.0, 77500.0, 56604.0, 50000.0, 90000.0, 55000.0, 90000.0, 80000.0, 55000.0, 138861.0, 69821.5, 96222.0, 59000.0, 99754.5, 70000.0, 85000.0, 69283.5, 102817.5, 87500.0, 55000.0, 92500.0, 45000.0, 96366.0, 93825.5, 143000.0, 55000.0, 110000.0, 200000.0, 165000.0, 97500.0, 80000.0, 75000.0, 120000.0, 77500.0, 525000.0, 120000.0, 75000.0, 120000.0, 40000.0, 52000.0, 50000.0, 72500.0, 42500.0, 84000.0, 86650.0, 42500.0, 72500.0, 45000.0, 20000.0, 50000.0, 59404.5, 65000.0, 75000.0, 55000.0, 67500.0, 72500.0, 76253.0, 67500.0, 30000.0, 17500.0, 97500.0, 62140.0, 70000.0, 91915.0, 42500.0, 175000.0, 72500.0, 95000.0, 75000.0, 77500.0, 90000.0, 82500.0, 117500.0, 72500.0, 90000.0, 80000.0, 85000.0, 14400.0, 57500.0, 76000.0, 115000.0, 90646.0, 52500.0, 75000.0, 72500.0, 50000.0, 80000.0, 75000.0, 60000.0, 92500.0, 120000.0, 162500.0, 68000.0, 86083.5, 57500.0, 30000.0, 130000.0, 50000.0, 42000.0, 50000.0, 75000.0, 65770.0, 95000.0, 75361.0, 45000.0, 60000.0, 82500.0, 45000.0, 120000.0, 91500.0, 107500.0, 97500.0, 90000.0, 43750.0, 40000.0, 84000.0, 145000.0, 175000.0, 72500.0, 27000.0, 65000.0, 130000.0, 74850.0, 76483.0, 60000.0, 110000.0, 75000.0, 36000.0, 72500.0, 67500.0, 42500.0, 130000.0, 39000.0, 90288.0, 64368.0, 99174.0, 72800.0, 167500.0, 160000.0, 112500.0, 65000.0, 45000.0, 102500.0, 60000.0, 65000.0, 75000.0, 95000.0, 24000.0, 31000.0, 112500.0, 115000.0, 70000.0, 129300.0, 80000.0, 65000.0, 100000.0, 95000.0, 100000.0, 57152.0, 90000.0, 84000.0, 70000.0, 62500.0, 60000.0, 60000.0, 57500.0, 42500.0, 50000.0, 75000.0, 65000.0, 67683.5, 80000.0, 80000.0, 65991.5, 90000.0, 75000.0, 74000.0, 50000.0, 80000.0, 41500.0, 37500.0, 60000.0, 37500.0, 55000.0, 82659.0, 70000.0, 80000.0, 60000.0, 26000.0, 87500.0, 85000.0, 50000.0, 35000.0, 65000.0, 159600.0, 60000.0, 72500.0, 120000.0, 95000.0, 67500.0, 46800.0, 120000.0, 80000.0, 140000.0, 52500.0, 95000.0, 110000.0, 69586.0, 67500.0, 102500.0, 82500.0, 72526.5, 80185.0, 95000.0, 77500.0, 105000.0, 95000.0, 72526.5, 67500.0, 102500.0, 100000.0, 70000.0, 105000.0, 70000.0, 95000.0, 80000.0, 50000.0, 115000.0, 77500.0, 110000.0, 85000.0, 87500.0, 60000.0, 115000.0, 107500.0, 210000.0, 80000.0, 48000.0, 45000.0, 67500.0, 120000.0, 112500.0, 95000.0, 95000.0, 74974.0, 110000.0, 103438.0, 70896.5, 50000.0, 90000.0, 65000.0, 105000.0, 105000.0, 70000.0, 44536.0, 60000.0, 40900.0, 92500.0, 110000.0, 115000.0, 135000.0, 106000.0, 90000.0, 150000.0, 100000.0, 65000.0, 46222.0, 95000.0, 75000.0, 95000.0, 80000.0, 65000.0, 65000.0, 105000.0, 82500.0, 90000.0, 75338.0, 112500.0, 100000.0, 77500.0, 82500.0, 100000.0, 88529.5, 55000.0, 85000.0, 100000.0, 101000.0, 65000.0, 32500.0, 37500.0, 75000.0, 75000.0, 70000.0, 43000.0, 50000.0, 80000.0, 75000.0, 75000.0, 65000.0, 90000.0, 70000.0, 72000.0, 35000.0, 58000.0, 65000.0, 80000.0, 61500.0, 100000.0, 125000.0, 65000.0, 66000.0, 102500.0, 97500.0, 51500.0, 125000.0, 52500.0, 107500.0, 87500.0, 101712.0, 120000.0, 87500.0, 93500.0, 95000.0, 72500.0, 100000.0, 87500.0, 135000.0, 83032.5, 60000.0, 52500.0, 37500.0, 91000.0, 120000.0, 45000.0, 120000.0, 70000.0, 80000.0, 90000.0, 105000.0, 45000.0, 91500.0, 132500.0, 162500.0, 120000.0, 95000.0, 105000.0, 80000.0, 69000.0, 162500.0, 65000.0, 35100.0, 80000.0, 58162.5, 70000.0, 77328.0, 100000.0, 115000.0, 95000.0, 110500.0, 130000.0, 95000.0, 120000.0, 69540.0, 70000.0, 70000.0, 115000.0, 88092.0, 75533.5, 53000.0, 52500.0, 127500.0, 70000.0, 150000.0, 70000.0, 52000.0, 80000.0, 72500.0, 79289.5, 90000.0, 48766.0, 105000.0, 260000.0, 102500.0, 130000.0, 70000.0, 150000.0, 88504.0, 83495.0, 120000.0, 85000.0, 107500.0, 90158.5, 105000.0, 137500.0, 145000.0, 82500.0, 105000.0, 85000.0, 122500.0, 115000.0, 97500.0, 92500.0, 82500.0, 92500.0, 97500.0, 75000.0, 102500.0, 140000.0, 82394.5, 100000.0, 112500.0, 180000.0, 99000.0, 87500.0, 120000.0, 93000.0, 102348.0, 100000.0, 42500.0, 103593.0, 95000.0, 106909.5, 90000.0, 62500.0, 120000.0, 120000.0, 125000.0, 87500.0, 95000.0, 100000.0, 52500.0, 125000.0, 70000.0, 51000.0, 130000.0, 102500.0, 80000.0, 102500.0, 87500.0, 110000.0, 69166.0, 70000.0, 75000.0, 110000.0, 80000.0, 55000.0, 110000.0, 50000.0, 50000.0, 45000.0, 105000.0, 70000.0, 51154.0, 80000.0, 75000.0, 40000.0, 117500.0, 100000.0, 55000.0, 85000.0, 80000.0, 60000.0, 70000.0, 100000.0, 65000.0, 100000.0, 100000.0, 90000.0, 90000.0, 55000.0, 42500.0, 100000.0, 70000.0, 70000.0, 70000.0, 75000.0, 48638.0, 63000.0, 53144.0, 80000.0, 100000.0, 45000.0, 79903.0, 100000.0, 105000.0, 120000.0, 130000.0, 95000.0, 70000.0, 85000.0, 45000.0, 82500.0, 65000.0, 75000.0, 100000.0, 80000.0, 65000.0, 105000.0, 90000.0, 75000.0, 72306.0, 76574.0, 48500.0, 57500.0, 79903.0, 56628.5, 77862.0, 66000.0, 112500.0, 90000.0, 156000.0, 79000.0, 90000.0, 110000.0, 59000.0, 160000.0, 85000.0, 75000.0, 65000.0, 50000.0, 58656.0, 69000.0, 75000.0, 87500.0, 80000.0, 45000.0, 83500.0, 112500.0, 52314.0, 71304.0, 120000.0, 100000.0, 90646.0, 110000.0, 75000.0, 160000.0, 75000.0, 156000.0, 98090.0, 85200.0, 100000.0, 85000.0, 140000.0, 70000.0, 62500.0, 67500.0, 105000.0, 67500.0, 90000.0, 115000.0, 76487.0, 67500.0, 57500.0, 115000.0, 132000.0, 62000.0, 85000.0, 75000.0, 51973.0, 50000.0, 130000.0, 105000.0, 65406.0, 48000.0, 75000.0, 61602.0, 85000.0, 43549.0, 67500.0, 55000.0, 85410.0, 150000.0, 72571.0, 87000.0, 140000.0, 47500.0, 84919.0, 85144.5, 129000.0, 125000.0, 95000.0, 129747.5, 89520.0, 72500.0, 75000.0, 73170.0, 62500.0, 125000.0, 75000.0, 105000.0, 50000.0, 68500.0, 45000.0, 120000.0, 72500.0, 95000.0, 212000.0, 87500.0, 102500.0, 95000.0, 80878.0, 55000.0, 90000.0, 99984.0, 51000.0, 130000.0, 105000.0, 135000.0, 134550.0, 140976.0, 125000.0, 125000.0, 95000.0, 65000.0, 82500.0, 125736.0, 76668.0, 71862.0, 65100.0, 126688.0, 89428.5, 62500.0, 56316.0, 82500.0, 77633.0, 150000.0, 77500.0, 78972.0, 85000.0, 75000.0, 90984.0, 62500.0, 67500.0, 99736.0, 113963.0, 130000.0, 130000.0, 52500.0, 120000.0, 89100.0, 80500.0, 100170.0, 75000.0, 60000.0, 102500.0, 115000.0, 100000.0, 71137.5, 100000.0, 70000.0, 90984.0, 115000.0, 160000.0, 105000.0, 95000.0, 89100.0, 75000.0, 80000.0, 120000.0, 125000.0, 89100.0, 100000.0, 170000.0, 107500.0, 115000.0, 87500.0, 129000.0, 165000.0, 102816.0, 73132.0, 105000.0, 101872.5, 127500.0, 77500.0, 88251.0, 83500.0, 70000.0, 58500.0, 80000.0, 77500.0, 95000.0, 52500.0, 90000.0, 152000.0, 60000.0, 152000.0, 80000.0, 70000.0, 66346.0, 105000.0, 56350.0, 55000.0, 68000.0, 120000.0, 150000.0, 117500.0, 90000.0, 115000.0, 110000.0, 115000.0, 111384.0, 137500.0, 90000.0, 42000.0, 105000.0, 90000.0, 95000.0, 35000.0, 135000.0, 90000.0, 110000.0, 90000.0, 102500.0, 112500.0, 115000.0, 127500.0, 72576.5, 110000.0, 127500.0, 180000.0, 65000.0, 105000.0, 18500.0, 132500.0, 81000.0, 150000.0, 142500.0, 72500.0, 100000.0, 80000.0, 140000.0, 130000.0, 150000.0, 90000.0, 125000.0, 72500.0, 80000.0, 140000.0, 125000.0, 104568.5, 61500.0, 130000.0, 130000.0, 105000.0, 110000.0, 150000.0, 104569.0, 81947.0, 87500.0, 92500.0, 92500.0, 63108.0, 112500.0, 107500.0, 156000.0, 90000.0, 142500.0, 107500.0, 162500.0, 134000.0, 65853.5, 135000.0, 135000.0, 157500.0, 129500.0, 112500.0, 129000.0, 110000.0, 79300.0, 92500.0, 150650.0, 125000.0, 100000.0, 82500.0, 115000.0, 134052.5, 57500.0, 120000.0, 130000.0, 125000.0, 145000.0, 140000.0, 170000.0, 200000.0, 130000.0, 250000.0, 168611.5, 100000.0, 145000.0, 130000.0, 150000.0, 90000.0, 127500.0, 115000.0, 115000.0, 160000.0, 140000.0, 75000.0, 68328.5]}, {\"name\": \"linux\", \"type\": \"box\", \"x\": [44750.0, 65991.5, 41411.0, 80000.0, 32500.0, 115000.0, 130000.0, 95000.0, 75268.0, 145000.0, 95000.0, 74000.0, 51768.0, 42500.0, 70000.0, 34000.0, 75000.0, 84219.0, 48103.5, 95000.0, 50000.0, 48000.0, 50000.0, 70000.0, 80000.0, 65000.0, 60000.0, 79607.0, 57000.0, 70000.0, 46609.5, 51000.0, 60000.0, 60000.0, 46800.0, 42500.0, 52500.0, 51000.0, 130000.0, 67500.0, 110000.0, 42500.0, 45000.0, 145000.0, 73992.0, 120000.0, 100000.0, 77500.0, 90000.0, 77500.0, 45000.0, 90000.0, 50000.0, 80000.0, 70000.0, 45000.0, 80367.5, 85000.0, 92768.0, 200000.0, 70000.0, 85787.0, 200000.0, 137500.0, 83250.0, 98122.0, 87500.0, 55000.0, 47500.0, 90000.0, 105000.0, 38660.0, 72500.0, 50117.5, 26500.0, 40000.0, 40000.0, 46606.5, 52401.0, 115000.0, 72500.0, 141792.0, 75000.0, 85000.0, 52500.0, 72500.0, 40500.0, 26000.0, 45000.0, 55000.0, 57500.0, 112500.0, 32000.0, 70000.0, 42000.0, 101000.0, 36500.0, 95000.0, 86083.5, 65000.0, 72000.0, 72500.0, 85000.0, 85000.0, 108722.0, 33000.0, 50000.0, 55188.0, 51985.0, 110000.0, 35000.0, 75000.0, 110000.0, 57500.0, 90000.0, 62500.0, 33000.0, 68750.0, 58604.5, 65000.0, 55000.0, 72500.0, 95000.0, 92500.0, 109539.5, 82013.0, 82500.0, 101462.0, 75500.0, 50000.0, 76000.0, 85000.0, 85000.0, 36000.0, 91058.0, 83202.0, 130000.0, 57500.0, 172000.0, 95000.0, 150000.0, 65000.0, 55000.0, 107500.0, 67500.0, 55000.0, 38500.0, 85000.0, 72500.0, 42500.0, 47500.0, 113031.0, 82500.0, 70000.0, 62500.0, 65000.0, 70000.0, 36000.0, 90000.0, 55000.0, 175000.0, 160000.0, 77500.0, 37500.0, 42500.0, 85000.0, 64368.0, 55000.0, 95524.5, 107494.0, 100000.0, 80000.0, 72500.0, 88000.0, 23500.0, 113880.0, 133000.0, 132500.0, 92500.0, 56346.0, 89950.0, 117770.0, 96592.0, 85000.0, 90480.5, 31000.0, 125000.0, 41640.0, 160000.0, 45000.0, 60000.0, 85000.0, 18000.0, 58339.5, 67500.0, 53238.0, 48000.0, 45000.0, 62500.0, 66350.0, 200000.0, 52500.0, 66346.0, 200000.0, 65769.0, 45550.0, 89369.5, 200000.0, 66500.0, 58557.5, 77500.0, 200000.0, 72500.0, 105000.0, 66346.0, 82500.0, 100000.0, 57500.0, 66346.0, 60596.0, 66346.0, 105000.0, 79631.0, 70000.0, 52500.0, 102500.0, 47500.0, 55221.0, 92500.0, 65000.0, 90000.0, 47000.0, 117500.0, 67500.0, 82500.0, 60000.0, 62500.0, 127500.0, 82500.0, 100000.0, 89523.0, 82500.0, 67500.0, 70000.0, 112500.0, 85000.0, 115000.0, 105000.0, 105000.0, 110000.0, 65000.0, 67060.0, 90000.0, 105000.0, 195000.0, 55000.0, 55000.0, 57793.0, 60000.0, 50000.0, 76788.0, 72500.0, 120000.0, 130000.0, 40900.0, 115000.0, 70610.0, 90000.0, 56867.5, 75338.0, 55000.0, 145000.0, 150000.0, 80000.0, 70610.0, 57003.0, 112500.0, 32380.0, 105000.0, 82500.0, 75000.0, 32500.0, 70000.0, 85000.0, 65000.0, 125000.0, 65000.0, 78000.0, 65000.0, 80000.0, 74000.0, 72000.0, 55262.0, 82500.0, 85000.0, 77500.0, 72500.0, 57500.0, 100000.0, 61542.0, 97500.0, 62500.0, 80000.0, 61542.0, 85000.0, 75000.0, 40000.0, 63430.5, 70000.0, 45942.0, 75000.0, 150000.0, 65000.0, 105000.0, 80000.0, 162500.0, 130000.0, 83032.5, 100000.0, 125000.0, 80000.0, 67500.0, 61542.0, 82500.0, 63430.5, 110500.0, 155000.0, 100000.0, 55000.0, 90000.0, 53000.0, 75000.0, 80000.0, 61290.0, 74650.0, 130000.0, 165000.0, 75000.0, 80367.0, 92500.0, 87500.0, 75000.0, 72500.0, 60000.0, 70002.0, 50000.0, 150000.0, 67500.0, 72500.0, 75000.0, 45000.0, 60000.0, 60260.0, 32000.0, 92053.5, 50000.0, 69092.5, 160000.0, 77000.0, 185000.0, 150000.0, 135000.0, 99110.5, 57500.0, 85000.0, 113996.0, 120000.0, 155000.0, 125000.0, 112500.0, 112500.0, 97500.0, 95000.0, 99637.5, 60000.0, 110000.0, 170000.0, 65500.0, 115000.0, 90000.0, 90158.5, 90000.0, 52500.0, 100000.0, 130000.0, 46000.0, 125000.0, 112148.5, 109413.0, 125000.0, 80000.0, 87500.0, 95000.0, 105000.0, 80000.0, 240000.0, 91837.0, 150000.0, 100000.0, 102500.0, 61109.5, 85000.0, 182500.0, 64156.0, 70000.0, 82500.0, 112500.0, 82500.0, 135000.0, 74650.0, 80000.0, 100000.0, 42500.0, 50000.0, 110000.0, 112500.0, 107500.0, 35000.0, 55000.0, 47500.0, 65000.0, 92500.0, 70000.0, 55000.0, 120000.0, 74650.0, 87500.0, 100000.0, 42500.0, 46904.0, 65000.0, 73440.0, 120000.0, 70000.0, 70000.0, 64600.0, 95000.0, 80000.0, 45000.0, 59266.5, 120000.0, 55000.0, 100000.0, 41500.0, 82346.0, 57200.0, 52500.0, 75000.0, 71333.5, 55000.0, 60000.0, 70969.5, 71333.5, 34632.0, 62500.0, 180000.0, 48500.0, 50000.0, 50000.0, 90000.0, 97500.0, 80000.0, 100500.0, 50000.0, 77862.0, 75000.0, 111481.5, 90000.0, 66000.0, 112500.0, 80000.0, 100000.0, 150000.0, 73445.0, 45000.0, 115000.0, 70900.0, 72500.0, 84000.0, 125000.0, 73728.0, 70000.0, 100000.0, 92500.0, 77688.0, 59016.0, 90000.0, 130000.0, 125000.0, 96000.0, 45000.0, 75282.0, 100000.0, 69420.0, 49500.0, 77500.0, 105000.0, 132000.0, 68436.0, 70000.0, 110000.0, 75000.0, 75000.0, 90000.0, 87500.0, 80000.0, 90000.0, 78000.0, 90646.0, 75000.0, 55000.0, 94439.0, 110000.0, 97500.0, 100000.0, 110000.0, 48000.0, 115000.0, 135000.0, 118450.0, 87500.0, 73496.5, 132500.0, 72500.0, 112500.0, 55000.0, 74412.0, 43028.0, 175000.0, 92500.0, 72500.0, 100000.0, 67754.0, 130000.0, 80000.0, 59370.0, 60000.0, 59214.0, 74650.0, 95000.0, 80000.0, 125000.0, 120000.0, 90000.0, 113934.0, 325000.0, 135000.0, 117500.0, 95000.0, 75000.0, 75000.0, 160000.0, 85000.0, 96000.0, 67500.0, 70000.0, 86604.0, 110094.0, 90000.0, 155000.0, 160000.0, 70000.0, 125736.0, 124841.0, 125000.0, 125000.0, 114434.0, 105204.0, 130000.0, 124200.0, 90000.0, 113112.0, 95514.0, 90000.0, 87174.0, 112500.0, 65000.0, 160000.0, 77633.0, 120000.0, 150000.0, 122500.0, 70000.0, 128496.0, 82500.0, 155000.0, 115793.0, 89428.5, 90850.0, 105204.0, 104676.0, 100000.0, 67500.0, 78972.0, 120000.0, 100000.0, 90000.0, 130000.0, 90984.0, 79152.0, 90000.0, 133524.0, 59502.0, 92684.5, 172500.0, 150000.0, 172500.0, 101147.0, 70000.0, 80000.0, 156678.0, 88660.0, 130000.0, 150000.0, 100000.0, 150000.0, 100000.0, 85000.0, 66500.0, 125000.0, 102500.0, 90000.0, 90000.0, 89288.5, 105000.0, 125000.0, 76788.0, 110000.0, 110000.0, 135000.0, 65000.0, 67125.0, 111384.0, 105000.0, 82500.0, 102500.0, 110000.0, 81170.0, 120000.0, 95000.0, 112500.0, 120000.0, 120000.0, 70000.0, 145000.0, 145000.0, 92500.0, 130000.0, 135000.0, 102500.0, 75000.0, 105000.0, 100000.0, 95000.0, 162500.0, 130000.0, 148904.0, 187500.0, 85000.0, 160000.0, 165000.0, 135000.0, 180000.0, 120000.0, 65000.0, 104568.5, 90000.0, 122500.0, 81677.0, 63000.0, 104569.0, 142500.0, 90000.0, 135000.0, 129500.0, 112500.0, 137500.0, 137500.0, 125000.0, 65853.5, 88849.0, 79337.5, 102500.0, 112500.0, 114000.0, 82500.0, 165000.0, 150000.0, 79300.0, 108810.0, 204000.0, 125000.0, 140000.0, 120000.0, 200000.0, 131150.0, 134000.0, 155000.0, 115000.0, 150000.0, 115000.0, 135000.0, 160000.0, 160000.0, 175000.0, 115000.0]}, {\"name\": \"spark\", \"type\": \"box\", \"x\": [50000.0, 42500.0, 90000.0, 72500.0, 137500.0, 50000.0, 77500.0, 135000.0, 41500.0, 80000.0, 32192.5, 80000.0, 36000.0, 52500.0, 32500.0, 54000.0, 150000.0, 37000.0, 55000.0, 45000.0, 50273.5, 22000.0, 35000.0, 77500.0, 75000.0, 41000.0, 87500.0, 30000.0, 36857.0, 92768.0, 70000.0, 54000.0, 85000.0, 45000.0, 35000.0, 85000.0, 90000.0, 11500.0, 122500.0, 185000.0, 135000.0, 150000.0, 82500.0, 110000.0, 135000.0, 90000.0, 42500.0, 87500.0, 120000.0, 47500.0, 125000.0, 31854.0, 65000.0, 145000.0, 50000.0, 90646.0, 144123.0, 50000.0, 130000.0, 129000.0, 50000.0, 90000.0, 60000.0, 115000.0, 23000.0, 150000.0, 111533.0, 110000.0, 60684.0, 110000.0, 58812.0, 120000.0, 65000.0, 75000.0, 13500.0, 145000.0, 150000.0, 61500.0, 120000.0, 120000.0, 66346.0, 58752.5, 61725.5, 41000.0, 95000.0, 45550.0, 42768.5, 25000.0, 100000.0, 170000.0, 115000.0, 82500.0, 42768.5, 100000.0, 100000.0, 90000.0, 130000.0, 90000.0, 100000.0, 65000.0, 77500.0, 79500.0, 105000.0, 61542.0, 160000.0, 160000.0, 112500.0, 120000.0, 147500.0, 175000.0, 150000.0, 127500.0, 160000.0, 160000.0, 121000.0, 195000.0, 126500.0, 92500.0, 92500.0, 175000.0, 120000.0, 130000.0, 85000.0, 175000.0]}, {\"name\": \"olap\", \"type\": \"box\", \"x\": [70000.0, 65000.0, 68502.0, 70000.0, 65000.0, 65000.0, 70000.0, 107500.0, 87500.0, 105000.0, 105000.0, 105000.0, 95000.0, 90000.0, 85529.5, 85529.5, 75000.0, 95000.0, 90000.0, 97500.0, 93408.0, 75282.0, 97140.0, 135000.0, 156000.0, 160000.0, 165000.0]}, {\"name\": \"angular\", \"type\": \"box\", \"x\": [77500.0, 52500.0, 110000.0, 80000.0, 110000.0, 90000.0, 100000.0, 80000.0, 95000.0, 95000.0, 55000.0, 80000.0, 165000.0, 55000.0, 65000.0, 67500.0, 55000.0, 61511.0, 20000.0, 55000.0, 91915.0, 75500.0, 76000.0, 60000.0, 162500.0, 90000.0, 120000.0, 80000.0, 76000.0, 62140.0, 77500.0, 117500.0, 42500.0, 57216.0, 42500.0, 60000.0, 102500.0, 80000.0, 84000.0, 150000.0, 66346.0, 77500.0, 65000.0, 70000.0, 90000.0, 95000.0, 80185.0, 105000.0, 70000.0, 102500.0, 117500.0, 115000.0, 100000.0, 95000.0, 74974.0, 120000.0, 90000.0, 84000.0, 112500.0, 87500.0, 115000.0, 92500.0, 70000.0, 150000.0, 80000.0, 95000.0, 87500.0, 90000.0, 90000.0, 110000.0, 80000.0, 102000.0, 70000.0, 52500.0, 125000.0, 135000.0, 50000.0, 93500.0, 125000.0, 85000.0, 120000.0, 65000.0, 91500.0, 162500.0, 69000.0, 80000.0, 65000.0, 130000.0, 130000.0, 70000.0, 70000.0, 120000.0, 115000.0, 105000.0, 75000.0, 87500.0, 75000.0, 75000.0, 82500.0, 97249.5, 92500.0, 160000.0, 80000.0, 88504.0, 104970.0, 155000.0, 90158.5, 97500.0, 112500.0, 92500.0, 102348.0, 80000.0, 83495.0, 95000.0, 70000.0, 75000.0, 93000.0, 90000.0, 82500.0, 105000.0, 117500.0, 80000.0, 110000.0, 100000.0, 63000.0, 100000.0, 55000.0, 75000.0, 76574.0, 89892.0, 100000.0, 70000.0, 50000.0, 90000.0, 100000.0, 120000.0, 100000.0, 135000.0, 75000.0, 59832.0, 100000.0, 52314.0, 100000.0, 66000.0, 65000.0, 140000.0, 90000.0, 120000.0, 80000.0, 160000.0, 125000.0, 100000.0, 67500.0, 156000.0, 57500.0, 67500.0, 100000.0, 120000.0, 85000.0, 140000.0, 98090.0, 92500.0, 125000.0, 125000.0, 140000.0, 110000.0, 100000.0, 122500.0, 94000.0, 75000.0, 112000.0, 107500.0, 125000.0, 80000.0, 100000.0, 145000.0, 135000.0, 120000.0, 60800.0, 95000.0, 155000.0, 99984.0, 62500.0, 115000.0, 70000.0, 107500.0, 76355.0, 100000.0, 115000.0, 87500.0, 130000.0, 87500.0, 88338.0, 73132.0, 127500.0, 101872.5, 101385.5, 87500.0, 92500.0, 107500.0, 82500.0, 100000.0, 92500.0, 125000.0, 127500.0, 130000.0, 170000.0, 100000.0, 115000.0, 87500.0, 150000.0, 115000.0, 115000.0, 110000.0, 124999.5, 95000.0, 110000.0, 162500.0, 130000.0, 102500.0, 100000.0, 112500.0, 132500.0, 135000.0, 85000.0, 140000.0, 140000.0, 125000.0]}, {\"name\": \"java\", \"type\": \"box\", \"x\": [50000.0, 57152.0, 110000.0, 57500.0, 100000.0, 58339.5, 70000.0, 60000.0, 60000.0, 67500.0, 60000.0, 78409.0, 75000.0, 65991.5, 60000.0, 84240.0, 77000.0, 82100.0, 100000.0, 89500.0, 62500.0, 90000.0, 65000.0, 103688.0, 65000.0, 110000.0, 80000.0, 77189.0, 100000.0, 82659.0, 34000.0, 65000.0, 87500.0, 85000.0, 159600.0, 65000.0, 95000.0, 60000.0, 80000.0, 60000.0, 88500.0, 67500.0, 90000.0, 67500.0, 62500.0, 65000.0, 110000.0, 125000.0, 52500.0, 85000.0, 50000.0, 81000.0, 81000.0, 87500.0, 85000.0, 130000.0, 70000.0, 92500.0, 110000.0, 55644.0, 56604.0, 77500.0, 90000.0, 50000.0, 138861.0, 31435.0, 68810.5, 70000.0, 60000.0, 137500.0, 110000.0, 160000.0, 110000.0, 102817.5, 92768.0, 55000.0, 63850.0, 60000.0, 96366.0, 80000.0, 110000.0, 50000.0, 185000.0, 87500.0, 90000.0, 92500.0, 70000.0, 150000.0, 80000.0, 77500.0, 525000.0, 88000.0, 110000.0, 80000.0, 110000.0, 65000.0, 65000.0, 140000.0, 43507.0, 50000.0, 84000.0, 65000.0, 95000.0, 76253.0, 82500.0, 105000.0, 80000.0, 120000.0, 61511.0, 91200.0, 75000.0, 52401.0, 45000.0, 109000.0, 101000.0, 95000.0, 85000.0, 175000.0, 72500.0, 109000.0, 77500.0, 62140.0, 52500.0, 40000.0, 72500.0, 48000.0, 30000.0, 70000.0, 42240.0, 57552.0, 87500.0, 49920.0, 110000.0, 72500.0, 46692.0, 92500.0, 60000.0, 68000.0, 76000.0, 72500.0, 90000.0, 97500.0, 93538.0, 80000.0, 72500.0, 85000.0, 65000.0, 42500.0, 75500.0, 80000.0, 60000.0, 80000.0, 95000.0, 36000.0, 82500.0, 75000.0, 150000.0, 70000.0, 71531.0, 95000.0, 110000.0, 45000.0, 107924.5, 105000.0, 125000.0, 99174.0, 59604.0, 85000.0, 130000.0, 130000.0, 75000.0, 125000.0, 76483.0, 60000.0, 90288.0, 75000.0, 64368.0, 80000.0, 50000.0, 162500.0, 72800.0, 126000.0, 31000.0, 82500.0, 95000.0, 92500.0, 57000.0, 140000.0, 87500.0, 160000.0, 95000.0, 128663.0, 90000.0, 100000.0, 130000.0, 75000.0, 125000.0, 130000.0, 145000.0, 57000.0, 75000.0, 87000.0, 156000.0, 80000.0, 59000.0, 97249.5, 160000.0, 110000.0, 95000.0, 80000.0, 102500.0, 125000.0, 70000.0, 99110.5, 88504.0, 95000.0, 145000.0, 137500.0, 102500.0, 97500.0, 90158.5, 91442.0, 110000.0, 92500.0, 113996.0, 72500.0, 92500.0, 76100.0, 100000.0, 87500.0, 110000.0, 90000.0, 95000.0, 95000.0, 125000.0, 100000.0, 103593.0, 125000.0, 89362.5, 95000.0, 155000.0, 82500.0, 96222.5, 130000.0, 82500.0, 67500.0, 100000.0, 65000.0, 150000.0, 135000.0, 110000.0, 130000.0, 87500.0, 77500.0, 83258.0, 82394.5, 125000.0, 107500.0, 115000.0, 35000.0, 100000.0, 62500.0, 115000.0, 100000.0, 97500.0, 48024.0, 51154.0, 125000.0, 63000.0, 90000.0, 60000.0, 70000.0, 100000.0, 120000.0, 130000.0, 95000.0, 117500.0, 95700.0, 95000.0, 47500.0, 73440.0, 80000.0, 102500.0, 55000.0, 65000.0, 100000.0, 101500.0, 120000.0, 90000.0, 75000.0, 89892.0, 60000.0, 65000.0, 100000.0, 65000.0, 120000.0, 34632.0, 55188.0, 127500.0, 100000.0, 101000.0, 77862.0, 120000.0, 90000.0, 160000.0, 105000.0, 180000.0, 69000.0, 85000.0, 129000.0, 125000.0, 100000.0, 90000.0, 60834.0, 129000.0, 83500.0, 90000.0, 98950.0, 105000.0, 130000.0, 87500.0, 90646.0, 67500.0, 175000.0, 63750.0, 144123.0, 90000.0, 77862.0, 95000.0, 175000.0, 90646.0, 90000.0, 105000.0, 83297.5, 52605.0, 48000.0, 75282.0, 65000.0, 85410.0, 140000.0, 75000.0, 120000.0, 75000.0, 75000.0, 129000.0, 105000.0, 72571.0, 65000.0, 170000.0, 120000.0, 68500.0, 135000.0, 57500.0, 93408.0, 85000.0, 100000.0, 112500.0, 112500.0, 65000.0, 59832.0, 110000.0, 67500.0, 77862.0, 52314.0, 80000.0, 110000.0, 130000.0, 87000.0, 120000.0, 75000.0, 95000.0, 110000.0, 60800.0, 95000.0, 67500.0, 125000.0, 80000.0, 212000.0, 124841.0, 135000.0, 130000.0, 100170.0, 134550.0, 89428.5, 90000.0, 140976.0, 45000.0, 99984.0, 77633.0, 55000.0, 125736.0, 75000.0, 192000.0, 126688.0, 113934.0, 120000.0, 99500.0, 114434.0, 65000.0, 105000.0, 80000.0, 145000.0, 150000.0, 90000.0, 160000.0, 180000.0, 90984.0, 65100.0, 124200.0, 81500.0, 140000.0, 56316.0, 110094.0, 115000.0, 125000.0, 113963.0, 127500.0, 150000.0, 90000.0, 120000.0, 70000.0, 94000.0, 90000.0, 130000.0, 130000.0, 100000.0, 66350.0, 45000.0, 70000.0, 66346.0, 105000.0, 95000.0, 77500.0, 85000.0, 92500.0, 72500.0, 66346.0, 66500.0, 55000.0, 85000.0, 80000.0, 107500.0, 58500.0, 77500.0, 89924.5, 67500.0, 69586.0, 82500.0, 95000.0, 62414.0, 102500.0, 100000.0, 100000.0, 100000.0, 92500.0, 95000.0, 81432.0, 117500.0, 82500.0, 80000.0, 87500.0, 122500.0, 100000.0, 107500.0, 110000.0, 84000.0, 120000.0, 90000.0, 120000.0, 105000.0, 70000.0, 110000.0, 65000.0, 90000.0, 100000.0, 44536.0, 65000.0, 100000.0, 88000.0, 92500.0, 106000.0, 110000.0, 150000.0, 95000.0, 46222.0, 100000.0, 75338.0, 115000.0, 112500.0, 112500.0, 88529.5, 75000.0, 102000.0, 90000.0, 105000.0, 85500.0, 65000.0, 85000.0, 70000.0, 137500.0, 70000.0, 115000.0, 80000.0, 100000.0, 80000.0, 115000.0, 87500.0, 93000.0, 87500.0, 107500.0, 125000.0, 97500.0, 100000.0, 66000.0, 50000.0, 95000.0, 40000.0, 135000.0, 150000.0, 58162.5, 65000.0, 140000.0, 110000.0, 85000.0, 92500.0, 112000.0, 65000.0, 107500.0, 90000.0, 92976.0, 115000.0, 110000.0, 95000.0, 115000.0, 110000.0, 70000.0, 100000.0, 81000.0, 130000.0, 95000.0, 81000.0, 150000.0, 87498.0, 150000.0, 115000.0, 260000.0, 115000.0, 62052.0, 65000.0, 65000.0, 97500.0, 145000.0, 110500.0, 70000.0, 110000.0, 110000.0, 110000.0, 110000.0, 137500.0, 110000.0, 100000.0, 115000.0, 110000.0, 135000.0, 125500.0, 111384.0, 90000.0, 105000.0, 100000.0, 150000.0, 35000.0, 95000.0, 102500.0, 112000.0, 97500.0, 95000.0, 120000.0, 35000.0, 160000.0, 170000.0, 127500.0, 100000.0, 120000.0, 120000.0, 127500.0, 112500.0, 85000.0, 105000.0, 75000.0, 135000.0, 18500.0, 200000.0, 150000.0, 139000.0, 142500.0, 125000.0, 107500.0, 150000.0, 85000.0, 90000.0, 140000.0, 160000.0, 103565.5, 135000.0, 130000.0, 134000.0, 132500.0, 130000.0, 104568.5, 87500.0, 82500.0, 130000.0, 130000.0, 90000.0, 104569.0, 100000.0, 91461.0, 120000.0, 156000.0, 156000.0, 107500.0, 102744.0, 195000.0, 174000.0, 134000.0, 156000.0, 122500.0, 107500.0, 112500.0, 156000.0, 65853.5, 157500.0, 156000.0, 102750.5, 129000.0, 135000.0, 83298.0, 77500.0, 137500.0, 93408.0, 102744.0, 129000.0, 145000.0, 140000.0, 129500.0, 112500.0, 117500.0, 90000.0, 125000.0, 112500.0, 150650.0, 175000.0, 120000.0, 79300.0, 110000.0, 105000.0, 125000.0, 100000.0, 127500.0, 145000.0, 110000.0, 130000.0, 92500.0, 140000.0, 130000.0, 145000.0, 145000.0, 131150.0, 160000.0, 75000.0, 125000.0, 145000.0, 57500.0, 140000.0, 130000.0, 160000.0, 117500.0, 125000.0, 59635.0, 125000.0, 112500.0, 135000.0, 140000.0, 115000.0, 80000.0]}, {\"name\": \"c++\", \"type\": \"box\", \"x\": [53238.0, 75608.0, 85000.0, 95000.0, 65000.0, 110000.0, 67500.0, 78409.0, 95000.0, 85000.0, 51500.0, 22000.0, 60000.0, 80000.0, 72500.0, 62500.0, 60000.0, 46800.0, 67500.0, 54500.0, 60000.0, 61142.0, 105000.0, 90000.0, 85000.0, 72250.0, 92500.0, 72250.0, 70000.0, 77500.0, 47500.0, 70000.0, 80000.0, 45000.0, 70000.0, 80000.0, 87500.0, 90000.0, 43507.0, 50000.0, 85000.0, 126000.0, 55000.0, 52401.0, 17500.0, 65000.0, 85000.0, 175000.0, 62140.0, 62500.0, 80000.0, 80000.0, 90000.0, 87500.0, 97500.0, 57552.0, 72500.0, 48000.0, 40800.0, 150000.0, 70000.0, 65000.0, 125000.0, 95000.0, 65770.0, 110000.0, 125000.0, 45000.0, 70000.0, 105000.0, 59604.0, 95000.0, 76483.0, 64368.0, 90000.0, 160000.0, 87500.0, 250000.0, 80000.0, 50000.0, 57000.0, 130000.0, 57000.0, 130000.0, 110000.0, 111500.0, 100000.0, 102361.0, 127500.0, 69000.0, 70000.0, 83500.0, 115000.0, 129000.0, 98950.0, 100000.0, 92500.0, 140000.0, 59700.0, 100000.0, 63750.0, 46764.0, 144123.0, 75282.0, 90000.0, 105500.0, 90000.0, 68500.0, 100000.0, 100000.0, 75000.0, 80000.0, 72500.0, 92500.0, 87000.0, 134550.0, 87000.0, 95000.0, 75000.0, 113934.0, 125000.0, 125000.0, 160000.0, 160000.0, 115000.0, 124841.0, 114434.0, 130000.0, 45000.0, 110000.0, 105000.0, 325000.0, 115000.0, 99736.0, 113963.0, 89100.0, 112500.0, 192000.0, 110000.0, 77100.0, 200000.0, 122500.0, 150000.0, 134463.5, 80000.0, 112500.0, 160000.0, 150000.0, 130000.0, 180000.0, 175000.0, 145000.0, 115000.0, 90000.0, 115000.0, 200000.0, 80000.0, 200000.0, 105000.0, 70000.0, 90000.0, 200000.0, 105000.0, 97500.0, 125000.0, 80000.0, 95000.0, 66474.0, 62414.0, 102500.0, 67500.0, 80000.0, 75000.0, 107500.0, 92500.0, 65000.0, 107500.0, 95000.0, 100000.0, 80000.0, 75338.0, 107500.0, 88529.5, 90000.0, 105000.0, 83250.0, 90000.0, 137500.0, 93500.0, 135000.0, 50000.0, 61542.0, 37500.0, 85000.0, 92500.0, 162500.0, 104062.0, 140000.0, 70000.0, 120000.0, 85000.0, 115000.0, 100000.0, 95000.0, 70000.0, 10000.0, 130000.0, 100000.0, 120000.0, 87500.0, 150000.0, 92500.0, 150000.0, 150000.0, 90000.0, 107500.0, 80000.0, 120000.0, 150000.0, 113996.0, 85000.0, 90158.5, 125000.0, 137500.0, 160000.0, 72500.0, 107500.0, 82500.0, 160000.0, 50000.0, 100000.0, 80000.0, 48024.0, 90000.0, 53144.0, 80000.0, 48500.0, 180000.0, 34632.0, 78500.0, 100000.0, 90000.0, 85000.0, 70000.0, 80000.0, 85000.0, 160000.0, 107500.0, 130000.0, 102500.0, 120000.0, 65853.5, 100000.0, 110000.0, 122500.0, 102500.0, 165000.0, 150650.0, 105000.0, 110000.0, 105000.0, 175000.0, 145000.0, 200000.0, 147500.0, 120000.0, 160000.0, 87500.0, 97500.0, 120000.0, 102500.0, 90000.0, 90000.0, 117500.0, 112500.0, 112500.0, 100000.0, 111384.0, 90000.0, 105000.0]}, {\"name\": \"python\", \"type\": \"box\", \"x\": [120000.0, 84219.0, 22000.0, 80000.0, 47500.0, 87500.0, 50000.0, 95000.0, 70000.0, 85000.0, 65000.0, 60000.0, 70000.0, 83032.5, 90000.0, 120000.0, 67500.0, 46800.0, 90000.0, 52500.0, 102500.0, 81000.0, 150000.0, 105000.0, 110000.0, 81000.0, 81000.0, 81000.0, 110000.0, 70000.0, 120000.0, 72500.0, 114750.0, 77500.0, 77500.0, 90000.0, 65385.5, 55000.0, 90000.0, 68810.5, 80000.0, 116010.0, 57453.0, 70000.0, 45000.0, 70000.0, 92500.0, 70000.0, 87500.0, 83250.0, 63686.0, 137500.0, 57262.0, 110000.0, 55000.0, 150000.0, 69283.5, 200000.0, 90000.0, 50262.0, 104015.5, 180000.0, 60000.0, 78803.0, 65000.0, 100000.0, 55000.0, 55000.0, 125000.0, 77500.0, 50445.0, 49576.5, 157500.0, 110000.0, 50000.0, 75000.0, 85000.0, 115000.0, 59404.5, 50250.0, 112500.0, 109000.0, 117000.0, 101000.0, 72500.0, 30000.0, 60000.0, 65000.0, 91915.0, 40000.0, 85000.0, 30000.0, 85000.0, 109000.0, 85000.0, 65004.0, 62140.0, 72500.0, 74000.0, 68750.0, 30000.0, 77500.0, 110000.0, 62500.0, 30000.0, 110000.0, 14400.0, 65000.0, 85000.0, 72500.0, 60000.0, 55000.0, 95000.0, 70000.0, 100000.0, 75000.0, 72792.0, 49920.0, 76000.0, 65000.0, 54930.0, 60000.0, 50000.0, 130000.0, 71531.0, 60000.0, 45000.0, 105000.0, 95000.0, 130000.0, 45000.0, 70000.0, 107494.0, 51200.0, 160000.0, 150000.0, 20000.0, 125000.0, 157500.0, 120000.0, 80000.0, 150000.0, 85000.0, 73325.0, 70000.0, 325000.0, 117500.0, 162500.0, 96592.0, 147500.0, 65000.0, 80000.0, 65000.0, 117500.0, 65000.0, 80000.0, 120000.0, 90000.0, 100000.0, 31000.0, 70000.0, 45650.0, 120000.0, 70000.0, 53238.0, 91000.0, 90000.0, 75608.0, 85000.0, 95000.0, 65000.0, 65000.0, 60000.0, 72500.0, 110000.0, 53238.0, 40000.0, 45000.0, 80000.0, 60000.0, 125000.0, 80000.0, 75000.0, 67683.5, 80000.0, 65991.5, 81000.0, 95000.0, 55000.0, 65000.0, 70000.0, 60000.0, 74000.0, 81000.0, 51768.0, 150000.0, 90000.0, 66346.0, 66350.0, 100000.0, 66346.0, 45550.0, 89369.5, 66346.0, 66346.0, 66346.0, 60596.0, 85000.0, 105000.0, 70000.0, 61103.5, 80000.0, 79500.0, 65596.0, 105000.0, 105000.0, 95000.0, 85000.0, 67500.0, 69586.0, 102500.0, 66474.0, 135000.0, 95000.0, 102500.0, 95000.0, 100000.0, 92500.0, 85000.0, 80000.0, 67500.0, 100000.0, 82500.0, 103438.0, 95000.0, 170000.0, 122500.0, 67500.0, 82500.0, 75000.0, 72500.0, 112500.0, 67500.0, 70000.0, 70000.0, 80000.0, 100000.0, 110000.0, 115000.0, 105000.0, 89523.0, 105000.0, 108211.0, 65075.0, 105000.0, 65000.0, 110000.0, 95000.0, 44536.0, 100000.0, 72500.0, 120000.0, 145000.0, 130000.0, 50000.0, 65000.0, 40900.0, 90000.0, 165000.0, 100000.0, 65000.0, 130000.0, 46222.0, 85000.0, 130000.0, 85500.0, 102000.0, 82500.0, 75000.0, 60000.0, 105000.0, 65000.0, 101000.0, 90000.0, 70000.0, 85000.0, 83250.0, 75000.0, 61542.0, 97500.0, 120000.0, 69000.0, 95000.0, 61542.0, 107500.0, 85000.0, 105000.0, 90000.0, 85000.0, 61542.0, 120000.0, 85000.0, 85000.0, 95000.0, 155000.0, 130000.0, 75533.5, 90000.0, 87500.0, 52500.0, 90000.0, 130000.0, 52000.0, 81000.0, 79289.5, 85000.0, 150000.0, 81000.0, 10000.0, 170000.0, 90000.0, 260000.0, 85000.0, 90158.5, 140000.0, 115000.0, 170000.0, 115000.0, 85000.0, 83250.0, 73235.0, 60846.0, 90000.0, 97500.0, 60000.0, 155000.0, 40000.0, 64480.0, 110000.0, 110966.0, 106909.5, 125000.0, 110000.0, 92500.0, 90000.0, 82500.0, 200000.0, 70000.0, 77407.0, 240000.0, 96222.5, 95000.0, 97500.0, 105000.0, 102500.0, 62500.0, 85000.0, 160000.0, 72500.0, 120000.0, 130000.0, 72500.0, 110000.0, 135000.0, 135000.0, 82500.0, 130000.0, 115000.0, 95000.0, 150000.0, 90000.0, 112500.0, 50552.0, 75000.0, 80000.0, 57860.0, 97200.0, 82500.0, 150000.0, 91500.0, 85000.0, 145000.0, 182500.0, 55000.0, 87500.0, 50000.0, 62500.0, 87500.0, 35000.0, 135000.0, 55000.0, 51154.0, 80000.0, 60000.0, 97500.0, 117500.0, 120000.0, 120000.0, 78500.0, 92602.0, 90000.0, 55000.0, 105000.0, 80000.0, 95000.0, 125000.0, 75000.0, 100000.0, 48500.0, 47500.0, 57500.0, 180000.0, 69118.5, 97500.0, 67500.0, 80000.0, 101500.0, 78000.0, 156000.0, 62148.0, 129000.0, 100000.0, 101000.0, 70000.0, 59000.0, 45000.0, 87500.0, 67500.0, 79000.0, 115000.0, 140000.0, 180000.0, 112500.0, 85000.0, 69000.0, 120000.0, 72500.0, 81414.0, 70000.0, 100000.0, 129000.0, 98950.0, 130000.0, 51500.0, 175000.0, 90000.0, 73445.0, 90000.0, 132000.0, 100000.0, 62000.0, 100000.0, 125000.0, 144123.0, 105000.0, 105500.0, 60314.0, 500000.0, 85000.0, 120000.0, 66600.0, 73170.0, 82500.0, 90000.0, 75000.0, 85000.0, 49200.0, 129000.0, 65242.0, 175000.0, 80000.0, 68500.0, 112500.0, 50000.0, 72500.0, 125000.0, 110094.0, 125000.0, 130000.0, 65000.0, 124841.0, 99736.0, 125000.0, 125736.0, 140976.0, 150000.0, 85000.0, 110000.0, 85000.0, 325000.0, 100000.0, 75000.0, 65000.0, 115000.0, 72500.0, 60000.0, 77633.0, 100000.0, 120000.0, 80000.0, 117500.0, 202578.0, 97200.0, 90984.0, 113963.0, 110000.0, 192000.0, 145000.0, 160000.0, 90984.0, 110000.0, 112500.0, 80000.0, 80000.0, 140000.0, 89500.0, 102500.0, 90000.0, 134463.5, 175000.0, 77100.0, 115000.0, 70000.0, 135000.0, 160000.0, 125000.0, 101872.5, 150000.0, 62500.0, 180000.0, 73132.0, 105000.0, 80000.0, 130000.0, 90000.0, 117500.0, 160000.0, 225000.0, 275000.0, 66500.0, 125000.0, 102500.0, 89288.5, 125000.0, 135000.0, 112500.0, 105000.0, 125000.0, 112500.0, 115000.0, 175000.0, 160000.0, 100000.0, 97500.0, 102500.0, 90000.0, 105000.0, 135000.0, 120000.0, 150000.0, 72500.0, 127500.0, 127500.0, 120000.0, 145000.0, 160000.0, 145000.0, 142500.0, 18500.0, 200000.0, 137500.0, 81000.0, 162500.0, 107500.0, 150000.0, 125000.0, 142500.0, 130000.0, 80000.0, 135000.0, 72500.0, 180000.0, 107500.0, 85000.0, 160000.0, 90000.0, 72500.0, 130000.0, 61500.0, 81677.0, 90000.0, 150000.0, 104569.0, 87500.0, 87500.0, 130000.0, 156000.0, 156000.0, 156000.0, 142500.0, 140000.0, 209500.0, 135000.0, 157500.0, 134000.0, 156000.0, 137500.0, 137500.0, 156000.0, 160000.0, 112500.0, 83634.0, 112500.0, 79300.0, 150650.0, 150000.0, 100000.0, 130000.0, 57500.0, 145000.0, 120000.0, 175000.0, 130000.0, 250000.0, 145000.0, 168611.5, 150000.0, 150000.0, 120000.0, 130000.0, 125000.0, 140000.0, 150000.0, 130000.0, 130000.0, 160000.0, 135000.0, 141906.5, 202578.0]}, {\"name\": \"azure\", \"type\": \"box\", \"x\": [70000.0, 90000.0, 57500.0, 70000.0, 77189.0, 80000.0, 70000.0, 120000.0, 50000.0, 70000.0, 72500.0, 150000.0, 178000.0, 72800.0, 165000.0, 50000.0, 116010.0, 165000.0, 135000.0, 102500.0, 180000.0, 77500.0, 45000.0, 70000.0, 143000.0, 200000.0, 125000.0, 160000.0, 200000.0, 60000.0, 71500.0, 52500.0, 38982.0, 40500.0, 40948.0, 75000.0, 40000.0, 43507.0, 80000.0, 47500.0, 97500.0, 32000.0, 67500.0, 85000.0, 50000.0, 62140.0, 68750.0, 72500.0, 72000.0, 95000.0, 77500.0, 82500.0, 135000.0, 65000.0, 125000.0, 135000.0, 37500.0, 67500.0, 120000.0, 90000.0, 170000.0, 165000.0, 60000.0, 97500.0, 50000.0, 100000.0, 125000.0, 60000.0, 48880.0, 60000.0, 33000.0, 32500.0, 52500.0, 42500.0, 45000.0, 57500.0, 66346.0, 78731.0, 66346.0, 65000.0, 79631.0, 62470.0, 105000.0, 65769.0, 95000.0, 66346.0, 100000.0, 100000.0, 100000.0, 160000.0, 117500.0, 85000.0, 77500.0, 89523.0, 115000.0, 108211.0, 120000.0, 65000.0, 60000.0, 55000.0, 100000.0, 130000.0, 72500.0, 72500.0, 150000.0, 95000.0, 80000.0, 50000.0, 90000.0, 90000.0, 60000.0, 90000.0, 78000.0, 90000.0, 87500.0, 45000.0, 52500.0, 49000.0, 45000.0, 90000.0, 91500.0, 130000.0, 105000.0, 65576.0, 162500.0, 82500.0, 63430.5, 83032.5, 60000.0, 115000.0, 49000.0, 63430.5, 87500.0, 155000.0, 59760.0, 45000.0, 95000.0, 75000.0, 90000.0, 115000.0, 54471.0, 105000.0, 67500.0, 87500.0, 90000.0, 137500.0, 172500.0, 80000.0, 95000.0, 127500.0, 87500.0, 70000.0, 72500.0, 67230.0, 96442.0, 75000.0, 100000.0, 115000.0, 80000.0, 112500.0, 185000.0, 75000.0, 82500.0, 77000.0, 50000.0, 92500.0, 150000.0, 160000.0, 160000.0, 130000.0, 160000.0, 145000.0, 97500.0, 170000.0, 120000.0, 102500.0, 112500.0, 92500.0, 115000.0, 57500.0, 112500.0, 80000.0, 125000.0, 200000.0, 60000.0, 87500.0, 225000.0, 83495.0, 95000.0, 110000.0, 130000.0, 125000.0, 130000.0, 102500.0, 92500.0, 112500.0, 135000.0, 100000.0, 82500.0, 125000.0, 100296.0, 92500.0, 190000.0, 110000.0, 260000.0, 97500.0, 107500.0, 177500.0, 95000.0, 102500.0, 85000.0, 42500.0, 155000.0, 87500.0, 220000.0, 112500.0, 155000.0, 120000.0, 115000.0, 145000.0, 87500.0, 96222.5, 50000.0, 105000.0, 100000.0, 75000.0, 62500.0, 64600.0, 46800.0, 120000.0, 92602.0, 65000.0, 131000.0, 150000.0, 79903.0, 107500.0, 89892.0, 70000.0, 75000.0, 79903.0, 55000.0, 95000.0, 55000.0, 33000.0, 82536.0, 59004.0, 100000.0, 62148.0, 60000.0, 70000.0, 87500.0, 160000.0, 98090.0, 170000.0, 73445.0, 115000.0, 57500.0, 130000.0, 100000.0, 100000.0, 50000.0, 100000.0, 65406.0, 125000.0, 110000.0, 95000.0, 87000.0, 100000.0, 115000.0, 130000.0, 150000.0, 160000.0, 60000.0, 75408.0, 132500.0, 65000.0, 212500.0, 100000.0, 120000.0, 72500.0, 63300.0, 111914.5, 110000.0, 107500.0, 150000.0, 23000.0, 82500.0, 93180.0, 96219.5, 77500.0, 50000.0, 112000.0, 65000.0, 49000.0, 102500.0, 90000.0, 65000.0, 85000.0, 95000.0, 90000.0, 62500.0, 140976.0, 95712.0, 94494.0, 170000.0, 75000.0, 110000.0, 130000.0, 87500.0, 76355.0, 120000.0, 110094.0, 130000.0, 124841.0, 217500.0, 145000.0, 135000.0, 90000.0, 270000.0, 79152.0, 80000.0, 69146.5, 77633.0, 200000.0, 125000.0, 68328.5, 112500.0, 125000.0, 125000.0, 110000.0, 110000.0, 110000.0, 105000.0, 107500.0, 105000.0, 72500.0, 105000.0, 85000.0, 70000.0, 105000.0, 115000.0, 65000.0, 88113.0, 102500.0, 105000.0, 127500.0, 80000.0, 170000.0, 125000.0, 139000.0, 120000.0, 200000.0, 165000.0, 92500.0, 160000.0, 102500.0, 77500.0, 140000.0, 207500.0, 85000.0, 125000.0, 120000.0, 145000.0, 180000.0, 80000.0, 97050.0, 63000.0, 66000.0, 70762.0, 85000.0, 125000.0, 100000.0, 152500.0, 185000.0, 160000.0, 85000.0, 122500.0, 160000.0, 79300.0, 90000.0, 150000.0, 140000.0, 175000.0, 165000.0, 134000.0, 100000.0, 160000.0, 99762.0, 130000.0]}, {\"name\": \"node.js\", \"type\": \"box\", \"x\": [162500.0, 120000.0, 85000.0, 117500.0, 130000.0, 175000.0, 42500.0, 90288.0, 95000.0, 80000.0, 70000.0, 167500.0, 75000.0, 130000.0, 39000.0, 87500.0, 52500.0, 60000.0, 110000.0, 80000.0, 75000.0, 140000.0, 42500.0, 62500.0, 62500.0, 100000.0, 75000.0, 200000.0, 165000.0, 162500.0, 135000.0, 102500.0, 87500.0, 52000.0, 115000.0, 117500.0, 97500.0, 88504.0, 180000.0, 95000.0, 120000.0, 110000.0, 135000.0, 110000.0, 110000.0, 76574.0, 75000.0, 105000.0, 80000.0, 75000.0, 109000.0, 75000.0, 75000.0, 90646.0, 105000.0, 67500.0, 120000.0, 140000.0, 87500.0, 67500.0, 120000.0, 129000.0, 87000.0, 15900.0, 115000.0, 125000.0, 125000.0, 125000.0, 122500.0, 112000.0, 125000.0, 80000.0, 102500.0, 134550.0, 125000.0, 65000.0, 165000.0, 145000.0, 115000.0, 160000.0, 120000.0, 66346.0, 77500.0, 110000.0, 107500.0, 120000.0, 95000.0, 95000.0, 87500.0, 100000.0, 105000.0, 90000.0, 135000.0, 106000.0, 100000.0, 92500.0, 150000.0, 150000.0, 165000.0, 95000.0, 120000.0, 97500.0, 150000.0, 127500.0, 125000.0, 125000.0, 130000.0, 157500.0, 145000.0, 79300.0, 82500.0, 150650.0, 130000.0, 100000.0, 200000.0, 140000.0, 140000.0, 90000.0, 145000.0, 130000.0]}, {\"name\": \"aws\", \"type\": \"box\", \"x\": [127500.0, 110000.0, 65000.0, 100000.0, 48880.0, 45000.0, 90000.0, 85000.0, 80000.0, 57500.0, 72500.0, 52500.0, 95000.0, 72500.0, 57500.0, 80000.0, 88500.0, 70000.0, 90000.0, 60000.0, 120000.0, 42500.0, 70000.0, 85000.0, 27500.0, 87500.0, 178000.0, 150000.0, 116010.0, 165000.0, 125000.0, 92500.0, 160000.0, 200000.0, 72500.0, 175000.0, 165000.0, 102500.0, 135000.0, 77500.0, 180000.0, 137500.0, 70000.0, 200000.0, 143000.0, 90000.0, 120000.0, 91200.0, 67500.0, 117000.0, 42500.0, 93000.0, 117500.0, 50000.0, 72500.0, 95000.0, 85000.0, 85000.0, 90000.0, 85000.0, 160000.0, 62140.0, 76000.0, 72500.0, 72500.0, 65000.0, 162500.0, 135000.0, 14400.0, 60000.0, 95000.0, 60000.0, 40000.0, 135000.0, 10000.0, 130000.0, 45000.0, 100000.0, 57500.0, 175000.0, 42500.0, 130000.0, 76736.5, 130000.0, 36000.0, 75000.0, 82500.0, 45000.0, 60000.0, 70000.0, 97500.0, 99066.5, 170000.0, 80000.0, 165000.0, 50000.0, 212500.0, 160000.0, 132500.0, 135000.0, 70000.0, 185000.0, 122500.0, 75000.0, 160000.0, 185000.0, 165000.0, 50000.0, 160000.0, 72500.0, 135000.0, 150000.0, 160000.0, 135000.0, 162500.0, 130000.0, 112500.0, 180000.0, 170000.0, 85000.0, 112500.0, 115000.0, 155000.0, 87500.0, 52500.0, 110000.0, 225000.0, 120000.0, 100000.0, 60000.0, 52500.0, 110000.0, 110000.0, 190000.0, 95000.0, 125000.0, 57500.0, 200000.0, 112500.0, 135000.0, 150000.0, 135000.0, 130000.0, 102500.0, 135000.0, 155000.0, 125000.0, 115000.0, 110000.0, 120000.0, 110000.0, 102500.0, 90000.0, 125000.0, 92500.0, 145000.0, 130000.0, 96222.5, 90000.0, 110000.0, 95000.0, 260000.0, 107500.0, 82500.0, 182500.0, 85000.0, 42500.0, 102500.0, 155000.0, 220000.0, 80000.0, 112500.0, 50000.0, 87500.0, 62500.0, 107500.0, 60000.0, 120000.0, 125000.0, 100000.0, 90000.0, 90000.0, 100000.0, 105000.0, 120000.0, 65000.0, 75000.0, 150000.0, 72000.0, 90000.0, 50000.0, 107500.0, 95000.0, 55000.0, 75000.0, 55000.0, 82500.0, 80000.0, 120000.0, 67500.0, 85000.0, 45000.0, 75000.0, 140000.0, 110000.0, 87500.0, 80000.0, 115000.0, 120000.0, 85000.0, 132000.0, 105000.0, 80000.0, 170000.0, 160000.0, 110000.0, 85000.0, 130000.0, 65406.0, 95000.0, 50000.0, 87000.0, 120000.0, 72500.0, 72500.0, 135000.0, 125000.0, 150000.0, 75408.0, 132500.0, 212500.0, 112500.0, 150000.0, 135000.0, 55602.0, 130000.0, 135000.0, 115000.0, 135000.0, 49000.0, 90000.0, 120000.0, 95000.0, 130000.0, 45000.0, 65000.0, 85000.0, 155000.0, 152500.0, 102500.0, 79038.5, 110094.0, 85000.0, 90000.0, 140976.0, 105000.0, 95000.0, 65000.0, 150000.0, 180000.0, 125000.0, 82500.0, 124841.0, 132500.0, 94494.0, 110000.0, 100000.0, 150000.0, 170000.0, 75000.0, 110000.0, 110094.0, 130000.0, 62500.0, 80000.0, 120000.0, 117500.0, 99549.0, 82500.0, 95000.0, 115000.0, 115793.0, 112500.0, 105000.0, 135000.0, 160000.0, 90000.0, 130000.0, 100000.0, 217500.0, 145000.0, 270000.0, 66346.0, 78731.0, 45500.0, 80000.0, 65769.0, 66346.0, 100000.0, 95000.0, 120000.0, 110000.0, 160000.0, 65075.0, 117500.0, 117500.0, 102500.0, 97500.0, 115000.0, 89523.0, 112500.0, 90000.0, 127500.0, 84000.0, 112500.0, 95000.0, 170000.0, 67060.0, 90000.0, 65000.0, 60000.0, 105000.0, 106000.0, 130000.0, 100000.0, 150000.0, 100000.0, 95000.0, 105000.0, 127500.0, 92500.0, 87500.0, 80000.0, 90000.0, 74000.0, 78000.0, 85500.0, 80000.0, 87500.0, 61542.0, 75000.0, 102500.0, 35100.0, 61542.0, 55500.0, 95000.0, 72500.0, 100000.0, 120000.0, 85000.0, 85000.0, 87500.0, 82500.0, 150000.0, 112000.0, 90000.0, 100000.0, 162500.0, 105000.0, 120000.0, 115000.0, 87500.0, 77500.0, 155000.0, 47000.0, 127500.0, 80000.0, 52000.0, 67500.0, 150000.0, 105000.0, 160000.0, 137500.0, 172500.0, 100000.0, 72500.0, 175000.0, 135000.0, 110000.0, 110000.0, 135000.0, 110000.0, 110000.0, 110000.0, 135000.0, 105000.0, 162500.0, 130000.0, 95000.0, 150000.0, 102500.0, 127500.0, 112500.0, 120000.0, 127500.0, 100000.0, 100000.0, 160000.0, 105000.0, 135000.0, 145000.0, 95000.0, 130000.0, 142500.0, 110000.0, 132500.0, 120000.0, 120000.0, 80000.0, 125000.0, 80000.0, 139000.0, 137500.0, 140000.0, 127500.0, 142500.0, 170000.0, 120000.0, 145000.0, 180000.0, 125000.0, 100000.0, 165000.0, 160000.0, 102500.0, 77500.0, 140000.0, 207500.0, 130000.0, 130000.0, 97050.0, 90000.0, 63000.0, 150000.0, 87500.0, 92500.0, 85000.0, 156000.0, 112500.0, 140000.0, 112500.0, 150000.0, 135000.0, 117500.0, 157500.0, 160000.0, 121000.0, 122500.0, 125000.0, 135000.0, 100000.0, 135000.0, 185000.0, 114000.0, 112500.0, 160000.0, 79300.0, 82500.0, 125000.0, 150000.0, 140000.0, 90000.0, 165000.0, 130000.0, 145000.0, 250000.0, 175000.0, 140000.0, 120000.0, 87500.0, 200000.0, 145000.0, 134000.0, 130000.0, 100000.0, 140000.0, 92500.0, 125000.0, 150000.0, 125000.0, 205000.0, 175000.0, 125000.0, 68328.5, 175000.0, 112500.0, 125000.0]}, {\"name\": \"hadoop\", \"type\": \"box\", \"x\": [70000.0, 100000.0, 120000.0, 62500.0, 70000.0, 80000.0, 62619.0, 53238.0, 110000.0, 110000.0, 92768.0, 100000.0, 85000.0, 85000.0, 85000.0, 120000.0, 135000.0, 107500.0, 58752.5, 95000.0, 45550.0, 85000.0, 100000.0, 100000.0, 110000.0, 170000.0, 90000.0, 65000.0, 101000.0, 61542.0, 70000.0, 110000.0, 140000.0, 110000.0, 110000.0, 130000.0, 110000.0, 90000.0, 185000.0, 122500.0, 100000.0, 110000.0, 95000.0, 90000.0, 165000.0, 87500.0, 120000.0, 125000.0, 145000.0, 144123.0, 130000.0, 87500.0, 115000.0, 90000.0, 104400.0, 115000.0, 23000.0, 94000.0, 132500.0, 110000.0, 124841.0, 117500.0, 90984.0, 75000.0, 145000.0, 150000.0, 112500.0, 121000.0, 195000.0, 140000.0, 92500.0, 120000.0, 130000.0, 160000.0, 175000.0, 112500.0, 147500.0, 120000.0, 175000.0, 175000.0, 90000.0, 145000.0, 180000.0, 107500.0, 130000.0, 130000.0]}, {\"name\": \"docker\", \"type\": \"box\", \"x\": [175000.0, 130000.0, 195000.0, 59000.0, 90000.0, 85000.0, 65000.0, 70000.0, 95000.0, 64000.0, 87500.0, 50000.0, 50000.0, 80000.0, 55000.0, 125000.0, 200000.0, 87500.0, 72500.0, 80000.0, 90000.0, 72500.0, 50000.0, 91915.0, 93000.0, 76000.0, 65000.0, 95000.0, 85000.0, 77500.0, 95000.0, 60000.0, 75000.0, 130000.0, 100000.0, 105000.0, 175000.0, 165000.0, 212500.0, 110000.0, 66346.0, 77500.0, 115000.0, 90000.0, 95000.0, 105000.0, 110000.0, 85000.0, 92500.0, 117500.0, 100000.0, 100000.0, 95000.0, 117500.0, 105000.0, 150000.0, 95000.0, 150000.0, 120000.0, 50000.0, 145000.0, 100000.0, 75000.0, 107500.0, 102500.0, 100000.0, 150000.0, 87500.0, 155000.0, 160000.0, 75000.0, 130000.0, 90000.0, 117500.0, 83249.5, 185000.0, 122500.0, 160000.0, 165000.0, 150000.0, 135000.0, 120000.0, 88504.0, 155000.0, 170000.0, 112500.0, 182500.0, 110000.0, 90000.0, 150000.0, 120000.0, 131000.0, 76574.0, 90000.0, 75000.0, 101500.0, 80000.0, 95000.0, 120000.0, 120000.0, 67500.0, 97500.0, 85000.0, 115000.0, 100000.0, 140000.0, 117500.0, 87500.0, 75000.0, 50000.0, 105000.0, 140000.0, 132000.0, 65406.0, 110000.0, 140000.0, 125000.0, 112500.0, 110000.0, 160000.0, 112000.0, 107500.0, 90000.0, 95000.0, 120000.0, 85000.0, 102500.0, 134550.0, 110000.0, 170000.0, 125000.0, 155000.0, 135000.0, 100000.0, 130000.0, 105000.0, 110000.0, 162500.0, 160000.0, 125000.0, 120000.0, 125000.0, 139000.0, 150000.0, 130000.0, 92500.0, 130000.0, 160000.0, 122500.0, 157500.0, 135000.0, 150650.0, 79300.0, 120000.0, 175000.0, 140000.0, 105000.0, 141906.5, 150000.0, 140000.0, 130000.0, 125000.0, 92500.0, 200000.0, 145000.0, 250000.0, 124999.5, 120000.0, 150000.0, 125000.0, 89288.5, 68328.5, 110000.0, 110000.0, 110000.0, 102500.0, 140000.0, 120000.0, 127500.0, 100000.0]}, {\"name\": \"blockchain\", \"type\": \"box\", \"x\": [50000.0, 52500.0, 125000.0, 75000.0, 150000.0, 140000.0, 150000.0, 72500.0, 80000.0, 87500.0, 57500.0, 105000.0, 98500.0, 147500.0, 145000.0, 90000.0, 50000.0, 50000.0, 250000.0, 50000.0, 61500.0, 84000.0, 50000.0, 50000.0, 50000.0, 50000.0, 147500.0, 125000.0, 205000.0, 160000.0, 175000.0, 175000.0, 175000.0, 175000.0, 175000.0, 175000.0, 160000.0, 175000.0, 175000.0, 160000.0]}, {\"name\": \"scala\", \"type\": \"box\", \"x\": [70000.0, 170000.0, 69283.5, 110000.0, 85000.0, 135000.0, 125000.0, 120000.0, 120000.0, 105000.0, 85000.0, 110000.0, 58752.5, 105000.0, 100000.0, 95000.0, 95000.0, 100000.0, 100000.0, 90000.0, 120000.0, 122500.0, 165000.0, 112500.0, 135000.0, 155000.0, 110000.0, 125000.0, 35000.0, 120000.0, 90000.0, 145000.0, 120000.0, 90000.0, 67500.0, 125000.0, 125000.0, 150000.0, 23000.0, 150000.0, 145000.0, 75000.0, 120000.0, 180000.0, 175000.0, 175000.0, 150000.0, 175000.0, 120000.0, 112500.0, 80000.0, 175000.0, 180000.0, 160000.0, 137500.0, 130000.0, 130000.0, 120000.0, 170000.0]}, {\"name\": \"kubernetes\", \"type\": \"box\", \"x\": [155000.0, 92500.0, 64000.0, 130000.0, 70000.0, 95000.0, 180000.0, 125000.0, 200000.0, 200000.0, 65000.0, 95000.0, 91915.0, 93000.0, 180000.0, 10000.0, 100000.0, 105000.0, 110000.0, 36000.0, 90000.0, 84219.0, 90000.0, 120000.0, 140000.0, 77500.0, 115000.0, 82500.0, 117500.0, 100000.0, 95000.0, 117500.0, 105000.0, 150000.0, 120000.0, 130000.0, 145000.0, 75000.0, 100000.0, 100000.0, 150000.0, 160000.0, 75000.0, 130000.0, 97500.0, 90000.0, 155000.0, 115000.0, 117500.0, 160000.0, 165000.0, 185000.0, 122500.0, 135000.0, 150000.0, 170000.0, 131000.0, 90000.0, 120000.0, 120000.0, 120000.0, 120000.0, 107500.0, 85000.0, 115000.0, 117500.0, 87500.0, 75000.0, 110000.0, 140000.0, 125000.0, 112500.0, 110000.0, 160000.0, 90000.0, 90000.0, 95000.0, 130000.0, 120000.0, 135000.0, 130000.0, 130000.0, 130000.0, 110000.0, 170000.0, 155000.0, 102500.0, 110000.0, 89288.5, 68328.5, 140000.0, 120000.0, 162500.0, 130000.0, 100000.0, 162500.0, 160000.0, 85000.0, 120000.0, 125000.0, 180000.0, 139000.0, 145000.0, 122500.0, 135000.0, 79300.0, 140000.0, 170000.0, 175000.0, 140000.0, 145000.0, 125000.0, 150000.0, 92500.0]}, {\"name\": \"golang\", \"type\": \"box\", \"x\": [82500.0, 100000.0, 82500.0, 165000.0, 120000.0, 145000.0, 115000.0, 97500.0, 120000.0, 85000.0, 62500.0, 132500.0, 83250.0, 150000.0, 135000.0, 120000.0, 67500.0, 120000.0, 180000.0, 160000.0, 115000.0, 120000.0, 145000.0, 130000.0, 155000.0, 132500.0, 110000.0, 147500.0, 160000.0, 160000.0, 122500.0, 132500.0]}, {\"name\": \"kafka\", \"type\": \"box\", \"x\": [175000.0, 200000.0, 150000.0, 80000.0, 120000.0, 110000.0, 100000.0, 65000.0, 200000.0, 92768.0, 130000.0, 125000.0, 140000.0, 80000.0, 150000.0, 23000.0, 130000.0, 145000.0, 120000.0, 120000.0, 120000.0, 120000.0, 100000.0, 105000.0, 105000.0, 100000.0, 120000.0, 100000.0, 87500.0, 130000.0, 122500.0, 165000.0, 185000.0, 135000.0, 110000.0, 90000.0, 155000.0, 120000.0, 120000.0, 120000.0, 62500.0, 145000.0, 160000.0, 130000.0, 130000.0, 100000.0, 85000.0, 102750.5, 90000.0, 140000.0, 130000.0, 140000.0, 250000.0, 175000.0, 140000.0, 162500.0, 125000.0, 112500.0, 160000.0]}, {\"name\": \"tensorflow\", \"type\": \"box\", \"x\": [140000.0, 77500.0, 80000.0, 95000.0, 45000.0, 325000.0, 157500.0, 105000.0, 125000.0, 95712.0, 134463.5, 60000.0, 325000.0, 200000.0, 150000.0, 160000.0, 61542.0, 150000.0, 122500.0, 102500.0, 90000.0, 175000.0]}],\n",
       "                        {\"height\": 800, \"showlegend\": false, \"template\": {\"data\": {\"bar\": [{\"error_x\": {\"color\": \"#2a3f5f\"}, \"error_y\": {\"color\": \"#2a3f5f\"}, \"marker\": {\"line\": {\"color\": \"#E5ECF6\", \"width\": 0.5}}, \"type\": \"bar\"}], \"barpolar\": [{\"marker\": {\"line\": {\"color\": \"#E5ECF6\", \"width\": 0.5}}, \"type\": \"barpolar\"}], \"carpet\": [{\"aaxis\": {\"endlinecolor\": \"#2a3f5f\", \"gridcolor\": \"white\", \"linecolor\": \"white\", \"minorgridcolor\": \"white\", \"startlinecolor\": \"#2a3f5f\"}, \"baxis\": {\"endlinecolor\": \"#2a3f5f\", \"gridcolor\": \"white\", \"linecolor\": \"white\", \"minorgridcolor\": \"white\", \"startlinecolor\": \"#2a3f5f\"}, \"type\": \"carpet\"}], \"choropleth\": [{\"colorbar\": {\"outlinewidth\": 0, \"ticks\": \"\"}, \"type\": \"choropleth\"}], \"contour\": [{\"colorbar\": {\"outlinewidth\": 0, \"ticks\": \"\"}, \"colorscale\": [[0.0, \"#0d0887\"], [0.1111111111111111, \"#46039f\"], [0.2222222222222222, \"#7201a8\"], [0.3333333333333333, \"#9c179e\"], [0.4444444444444444, \"#bd3786\"], [0.5555555555555556, \"#d8576b\"], [0.6666666666666666, \"#ed7953\"], [0.7777777777777778, \"#fb9f3a\"], [0.8888888888888888, \"#fdca26\"], [1.0, \"#f0f921\"]], \"type\": \"contour\"}], \"contourcarpet\": [{\"colorbar\": {\"outlinewidth\": 0, \"ticks\": \"\"}, \"type\": \"contourcarpet\"}], \"heatmap\": [{\"colorbar\": {\"outlinewidth\": 0, \"ticks\": \"\"}, \"colorscale\": [[0.0, \"#0d0887\"], [0.1111111111111111, \"#46039f\"], [0.2222222222222222, \"#7201a8\"], [0.3333333333333333, \"#9c179e\"], [0.4444444444444444, \"#bd3786\"], [0.5555555555555556, \"#d8576b\"], [0.6666666666666666, \"#ed7953\"], [0.7777777777777778, \"#fb9f3a\"], [0.8888888888888888, \"#fdca26\"], [1.0, \"#f0f921\"]], \"type\": \"heatmap\"}], \"heatmapgl\": [{\"colorbar\": {\"outlinewidth\": 0, \"ticks\": \"\"}, \"colorscale\": [[0.0, \"#0d0887\"], [0.1111111111111111, \"#46039f\"], [0.2222222222222222, \"#7201a8\"], [0.3333333333333333, \"#9c179e\"], [0.4444444444444444, \"#bd3786\"], [0.5555555555555556, \"#d8576b\"], [0.6666666666666666, \"#ed7953\"], [0.7777777777777778, \"#fb9f3a\"], [0.8888888888888888, \"#fdca26\"], [1.0, \"#f0f921\"]], \"type\": \"heatmapgl\"}], \"histogram\": [{\"marker\": {\"colorbar\": {\"outlinewidth\": 0, \"ticks\": \"\"}}, \"type\": \"histogram\"}], \"histogram2d\": [{\"colorbar\": {\"outlinewidth\": 0, \"ticks\": \"\"}, \"colorscale\": [[0.0, \"#0d0887\"], [0.1111111111111111, \"#46039f\"], [0.2222222222222222, \"#7201a8\"], [0.3333333333333333, \"#9c179e\"], [0.4444444444444444, \"#bd3786\"], [0.5555555555555556, \"#d8576b\"], [0.6666666666666666, \"#ed7953\"], [0.7777777777777778, \"#fb9f3a\"], [0.8888888888888888, \"#fdca26\"], [1.0, \"#f0f921\"]], \"type\": \"histogram2d\"}], \"histogram2dcontour\": [{\"colorbar\": {\"outlinewidth\": 0, \"ticks\": \"\"}, \"colorscale\": [[0.0, \"#0d0887\"], [0.1111111111111111, \"#46039f\"], [0.2222222222222222, \"#7201a8\"], [0.3333333333333333, \"#9c179e\"], [0.4444444444444444, \"#bd3786\"], [0.5555555555555556, \"#d8576b\"], [0.6666666666666666, \"#ed7953\"], [0.7777777777777778, \"#fb9f3a\"], [0.8888888888888888, \"#fdca26\"], [1.0, \"#f0f921\"]], \"type\": \"histogram2dcontour\"}], \"mesh3d\": [{\"colorbar\": {\"outlinewidth\": 0, \"ticks\": \"\"}, \"type\": \"mesh3d\"}], \"parcoords\": [{\"line\": {\"colorbar\": {\"outlinewidth\": 0, \"ticks\": \"\"}}, \"type\": \"parcoords\"}], \"scatter\": [{\"marker\": {\"colorbar\": {\"outlinewidth\": 0, \"ticks\": \"\"}}, \"type\": \"scatter\"}], \"scatter3d\": [{\"line\": {\"colorbar\": {\"outlinewidth\": 0, \"ticks\": \"\"}}, \"marker\": {\"colorbar\": {\"outlinewidth\": 0, \"ticks\": \"\"}}, \"type\": \"scatter3d\"}], \"scattercarpet\": [{\"marker\": {\"colorbar\": {\"outlinewidth\": 0, \"ticks\": \"\"}}, \"type\": \"scattercarpet\"}], \"scattergeo\": [{\"marker\": {\"colorbar\": {\"outlinewidth\": 0, \"ticks\": \"\"}}, \"type\": \"scattergeo\"}], \"scattergl\": [{\"marker\": {\"colorbar\": {\"outlinewidth\": 0, \"ticks\": \"\"}}, \"type\": \"scattergl\"}], \"scattermapbox\": [{\"marker\": {\"colorbar\": {\"outlinewidth\": 0, \"ticks\": \"\"}}, \"type\": \"scattermapbox\"}], \"scatterpolar\": [{\"marker\": {\"colorbar\": {\"outlinewidth\": 0, \"ticks\": \"\"}}, \"type\": \"scatterpolar\"}], \"scatterpolargl\": [{\"marker\": {\"colorbar\": {\"outlinewidth\": 0, \"ticks\": \"\"}}, \"type\": \"scatterpolargl\"}], \"scatterternary\": [{\"marker\": {\"colorbar\": {\"outlinewidth\": 0, \"ticks\": \"\"}}, \"type\": \"scatterternary\"}], \"surface\": [{\"colorbar\": {\"outlinewidth\": 0, \"ticks\": \"\"}, \"colorscale\": [[0.0, \"#0d0887\"], [0.1111111111111111, \"#46039f\"], [0.2222222222222222, \"#7201a8\"], [0.3333333333333333, \"#9c179e\"], [0.4444444444444444, \"#bd3786\"], [0.5555555555555556, \"#d8576b\"], [0.6666666666666666, \"#ed7953\"], [0.7777777777777778, \"#fb9f3a\"], [0.8888888888888888, \"#fdca26\"], [1.0, \"#f0f921\"]], \"type\": \"surface\"}], \"table\": [{\"cells\": {\"fill\": {\"color\": \"#EBF0F8\"}, \"line\": {\"color\": \"white\"}}, \"header\": {\"fill\": {\"color\": \"#C8D4E3\"}, \"line\": {\"color\": \"white\"}}, \"type\": \"table\"}]}, \"layout\": {\"annotationdefaults\": {\"arrowcolor\": \"#2a3f5f\", \"arrowhead\": 0, \"arrowwidth\": 1}, \"colorscale\": {\"diverging\": [[0, \"#8e0152\"], [0.1, \"#c51b7d\"], [0.2, \"#de77ae\"], [0.3, \"#f1b6da\"], [0.4, \"#fde0ef\"], [0.5, \"#f7f7f7\"], [0.6, \"#e6f5d0\"], [0.7, \"#b8e186\"], [0.8, \"#7fbc41\"], [0.9, \"#4d9221\"], [1, \"#276419\"]], \"sequential\": [[0.0, \"#0d0887\"], [0.1111111111111111, \"#46039f\"], [0.2222222222222222, \"#7201a8\"], [0.3333333333333333, \"#9c179e\"], [0.4444444444444444, \"#bd3786\"], [0.5555555555555556, \"#d8576b\"], [0.6666666666666666, \"#ed7953\"], [0.7777777777777778, \"#fb9f3a\"], [0.8888888888888888, \"#fdca26\"], [1.0, \"#f0f921\"]], \"sequentialminus\": [[0.0, \"#0d0887\"], [0.1111111111111111, \"#46039f\"], [0.2222222222222222, \"#7201a8\"], [0.3333333333333333, \"#9c179e\"], [0.4444444444444444, \"#bd3786\"], [0.5555555555555556, \"#d8576b\"], [0.6666666666666666, \"#ed7953\"], [0.7777777777777778, \"#fb9f3a\"], [0.8888888888888888, \"#fdca26\"], [1.0, \"#f0f921\"]]}, \"colorway\": [\"#636efa\", \"#EF553B\", \"#00cc96\", \"#ab63fa\", \"#FFA15A\", \"#19d3f3\", \"#FF6692\", \"#B6E880\", \"#FF97FF\", \"#FECB52\"], \"font\": {\"color\": \"#2a3f5f\"}, \"geo\": {\"bgcolor\": \"white\", \"lakecolor\": \"white\", \"landcolor\": \"#E5ECF6\", \"showlakes\": true, \"showland\": true, \"subunitcolor\": \"white\"}, \"hoverlabel\": {\"align\": \"left\"}, \"hovermode\": \"closest\", \"mapbox\": {\"style\": \"light\"}, \"paper_bgcolor\": \"white\", \"plot_bgcolor\": \"#E5ECF6\", \"polar\": {\"angularaxis\": {\"gridcolor\": \"white\", \"linecolor\": \"white\", \"ticks\": \"\"}, \"bgcolor\": \"#E5ECF6\", \"radialaxis\": {\"gridcolor\": \"white\", \"linecolor\": \"white\", \"ticks\": \"\"}}, \"scene\": {\"xaxis\": {\"backgroundcolor\": \"#E5ECF6\", \"gridcolor\": \"white\", \"gridwidth\": 2, \"linecolor\": \"white\", \"showbackground\": true, \"ticks\": \"\", \"zerolinecolor\": \"white\"}, \"yaxis\": {\"backgroundcolor\": \"#E5ECF6\", \"gridcolor\": \"white\", \"gridwidth\": 2, \"linecolor\": \"white\", \"showbackground\": true, \"ticks\": \"\", \"zerolinecolor\": \"white\"}, \"zaxis\": {\"backgroundcolor\": \"#E5ECF6\", \"gridcolor\": \"white\", \"gridwidth\": 2, \"linecolor\": \"white\", \"showbackground\": true, \"ticks\": \"\", \"zerolinecolor\": \"white\"}}, \"shapedefaults\": {\"line\": {\"color\": \"#2a3f5f\"}}, \"ternary\": {\"aaxis\": {\"gridcolor\": \"white\", \"linecolor\": \"white\", \"ticks\": \"\"}, \"baxis\": {\"gridcolor\": \"white\", \"linecolor\": \"white\", \"ticks\": \"\"}, \"bgcolor\": \"#E5ECF6\", \"caxis\": {\"gridcolor\": \"white\", \"linecolor\": \"white\", \"ticks\": \"\"}}, \"title\": {\"x\": 0.05}, \"xaxis\": {\"automargin\": true, \"gridcolor\": \"white\", \"linecolor\": \"white\", \"ticks\": \"\", \"zerolinecolor\": \"white\", \"zerolinewidth\": 2}, \"yaxis\": {\"automargin\": true, \"gridcolor\": \"white\", \"linecolor\": \"white\", \"ticks\": \"\", \"zerolinecolor\": \"white\", \"zerolinewidth\": 2}}}, \"title\": {\"text\": \"Salary for Computer Skills\"}, \"width\": 1000},\n",
       "                        {\"responsive\": true}\n",
       "                    ).then(function(){\n",
       "                            \n",
       "var gd = document.getElementById('7a588bbe-671c-4e9a-8c43-4eea448d2247');\n",
       "var x = new MutationObserver(function (mutations, observer) {{\n",
       "        var display = window.getComputedStyle(gd).display;\n",
       "        if (!display || display === 'none') {{\n",
       "            console.log([gd, 'removed!']);\n",
       "            Plotly.purge(gd);\n",
       "            observer.disconnect();\n",
       "        }}\n",
       "}});\n",
       "\n",
       "// Listen for the removal of the full notebook cells\n",
       "var notebookContainer = gd.closest('#notebook-container');\n",
       "if (notebookContainer) {{\n",
       "    x.observe(notebookContainer, {childList: true});\n",
       "}}\n",
       "\n",
       "// Listen for the clearing of the current output cell\n",
       "var outputEl = gd.closest('.output');\n",
       "if (outputEl) {{\n",
       "    x.observe(outputEl, {childList: true});\n",
       "}}\n",
       "\n",
       "                        })\n",
       "                };\n",
       "                });\n",
       "            </script>\n",
       "        </div>"
      ]
     },
     "metadata": {},
     "output_type": "display_data"
    }
   ],
   "source": [
    "# visualize box plot (Salary for Software Skills)\n",
    "layout = Layout(title=\"Salary for Computer Skills\", width = 1000, height = 800, showlegend=False)\n",
    "\n",
    "fig = Figure(layout=layout)\n",
    "\n",
    "for i in range(0, len(salary_mean.index)):\n",
    "    fig.add_trace(Box(x=jobs[jobs['skill'] == salary_mean.index[i]]['salary'], name=salary_mean.index[i]))\n",
    "\n",
    "plotly.offline.iplot(fig, show_link=False)"
   ]
  },
  {
   "cell_type": "code",
   "execution_count": 8,
   "metadata": {},
   "outputs": [
    {
     "data": {
      "application/vnd.plotly.v1+json": {
       "config": {
        "linkText": "Export to plot.ly",
        "plotlyServerURL": "https://plot.ly",
        "showLink": false
       },
       "data": [
        {
         "marker": {
          "color": "darkred"
         },
         "orientation": "h",
         "text": [
          "tensorflow",
          "olap",
          "golang",
          "blockchain",
          "scala",
          "kafka",
          "hadoop",
          "r analytics",
          "kubernetes",
          "node.js",
          "spark",
          "vb",
          "docker",
          "android",
          "ios",
          "angular",
          "c++",
          "azure",
          "c#",
          "aws",
          "python",
          "java",
          "linux",
          "javascript",
          "sql"
         ],
         "type": "bar",
         "x": [
          22,
          27,
          32,
          40,
          59,
          59,
          86,
          112,
          114,
          120,
          124,
          129,
          180,
          220,
          226,
          228,
          280,
          389,
          475,
          487,
          639,
          685,
          706,
          819,
          1090
         ],
         "y": [
          "tensorflow",
          "olap",
          "golang",
          "blockchain",
          "scala",
          "kafka",
          "hadoop",
          "r analytics",
          "kubernetes",
          "node.js",
          "spark",
          "vb",
          "docker",
          "android",
          "ios",
          "angular",
          "c++",
          "azure",
          "c#",
          "aws",
          "python",
          "java",
          "linux",
          "javascript",
          "sql"
         ]
        }
       ],
       "layout": {
        "height": 800,
        "template": {
         "data": {
          "bar": [
           {
            "error_x": {
             "color": "#2a3f5f"
            },
            "error_y": {
             "color": "#2a3f5f"
            },
            "marker": {
             "line": {
              "color": "#E5ECF6",
              "width": 0.5
             }
            },
            "type": "bar"
           }
          ],
          "barpolar": [
           {
            "marker": {
             "line": {
              "color": "#E5ECF6",
              "width": 0.5
             }
            },
            "type": "barpolar"
           }
          ],
          "carpet": [
           {
            "aaxis": {
             "endlinecolor": "#2a3f5f",
             "gridcolor": "white",
             "linecolor": "white",
             "minorgridcolor": "white",
             "startlinecolor": "#2a3f5f"
            },
            "baxis": {
             "endlinecolor": "#2a3f5f",
             "gridcolor": "white",
             "linecolor": "white",
             "minorgridcolor": "white",
             "startlinecolor": "#2a3f5f"
            },
            "type": "carpet"
           }
          ],
          "choropleth": [
           {
            "colorbar": {
             "outlinewidth": 0,
             "ticks": ""
            },
            "type": "choropleth"
           }
          ],
          "contour": [
           {
            "colorbar": {
             "outlinewidth": 0,
             "ticks": ""
            },
            "colorscale": [
             [
              0,
              "#0d0887"
             ],
             [
              0.1111111111111111,
              "#46039f"
             ],
             [
              0.2222222222222222,
              "#7201a8"
             ],
             [
              0.3333333333333333,
              "#9c179e"
             ],
             [
              0.4444444444444444,
              "#bd3786"
             ],
             [
              0.5555555555555556,
              "#d8576b"
             ],
             [
              0.6666666666666666,
              "#ed7953"
             ],
             [
              0.7777777777777778,
              "#fb9f3a"
             ],
             [
              0.8888888888888888,
              "#fdca26"
             ],
             [
              1,
              "#f0f921"
             ]
            ],
            "type": "contour"
           }
          ],
          "contourcarpet": [
           {
            "colorbar": {
             "outlinewidth": 0,
             "ticks": ""
            },
            "type": "contourcarpet"
           }
          ],
          "heatmap": [
           {
            "colorbar": {
             "outlinewidth": 0,
             "ticks": ""
            },
            "colorscale": [
             [
              0,
              "#0d0887"
             ],
             [
              0.1111111111111111,
              "#46039f"
             ],
             [
              0.2222222222222222,
              "#7201a8"
             ],
             [
              0.3333333333333333,
              "#9c179e"
             ],
             [
              0.4444444444444444,
              "#bd3786"
             ],
             [
              0.5555555555555556,
              "#d8576b"
             ],
             [
              0.6666666666666666,
              "#ed7953"
             ],
             [
              0.7777777777777778,
              "#fb9f3a"
             ],
             [
              0.8888888888888888,
              "#fdca26"
             ],
             [
              1,
              "#f0f921"
             ]
            ],
            "type": "heatmap"
           }
          ],
          "heatmapgl": [
           {
            "colorbar": {
             "outlinewidth": 0,
             "ticks": ""
            },
            "colorscale": [
             [
              0,
              "#0d0887"
             ],
             [
              0.1111111111111111,
              "#46039f"
             ],
             [
              0.2222222222222222,
              "#7201a8"
             ],
             [
              0.3333333333333333,
              "#9c179e"
             ],
             [
              0.4444444444444444,
              "#bd3786"
             ],
             [
              0.5555555555555556,
              "#d8576b"
             ],
             [
              0.6666666666666666,
              "#ed7953"
             ],
             [
              0.7777777777777778,
              "#fb9f3a"
             ],
             [
              0.8888888888888888,
              "#fdca26"
             ],
             [
              1,
              "#f0f921"
             ]
            ],
            "type": "heatmapgl"
           }
          ],
          "histogram": [
           {
            "marker": {
             "colorbar": {
              "outlinewidth": 0,
              "ticks": ""
             }
            },
            "type": "histogram"
           }
          ],
          "histogram2d": [
           {
            "colorbar": {
             "outlinewidth": 0,
             "ticks": ""
            },
            "colorscale": [
             [
              0,
              "#0d0887"
             ],
             [
              0.1111111111111111,
              "#46039f"
             ],
             [
              0.2222222222222222,
              "#7201a8"
             ],
             [
              0.3333333333333333,
              "#9c179e"
             ],
             [
              0.4444444444444444,
              "#bd3786"
             ],
             [
              0.5555555555555556,
              "#d8576b"
             ],
             [
              0.6666666666666666,
              "#ed7953"
             ],
             [
              0.7777777777777778,
              "#fb9f3a"
             ],
             [
              0.8888888888888888,
              "#fdca26"
             ],
             [
              1,
              "#f0f921"
             ]
            ],
            "type": "histogram2d"
           }
          ],
          "histogram2dcontour": [
           {
            "colorbar": {
             "outlinewidth": 0,
             "ticks": ""
            },
            "colorscale": [
             [
              0,
              "#0d0887"
             ],
             [
              0.1111111111111111,
              "#46039f"
             ],
             [
              0.2222222222222222,
              "#7201a8"
             ],
             [
              0.3333333333333333,
              "#9c179e"
             ],
             [
              0.4444444444444444,
              "#bd3786"
             ],
             [
              0.5555555555555556,
              "#d8576b"
             ],
             [
              0.6666666666666666,
              "#ed7953"
             ],
             [
              0.7777777777777778,
              "#fb9f3a"
             ],
             [
              0.8888888888888888,
              "#fdca26"
             ],
             [
              1,
              "#f0f921"
             ]
            ],
            "type": "histogram2dcontour"
           }
          ],
          "mesh3d": [
           {
            "colorbar": {
             "outlinewidth": 0,
             "ticks": ""
            },
            "type": "mesh3d"
           }
          ],
          "parcoords": [
           {
            "line": {
             "colorbar": {
              "outlinewidth": 0,
              "ticks": ""
             }
            },
            "type": "parcoords"
           }
          ],
          "scatter": [
           {
            "marker": {
             "colorbar": {
              "outlinewidth": 0,
              "ticks": ""
             }
            },
            "type": "scatter"
           }
          ],
          "scatter3d": [
           {
            "line": {
             "colorbar": {
              "outlinewidth": 0,
              "ticks": ""
             }
            },
            "marker": {
             "colorbar": {
              "outlinewidth": 0,
              "ticks": ""
             }
            },
            "type": "scatter3d"
           }
          ],
          "scattercarpet": [
           {
            "marker": {
             "colorbar": {
              "outlinewidth": 0,
              "ticks": ""
             }
            },
            "type": "scattercarpet"
           }
          ],
          "scattergeo": [
           {
            "marker": {
             "colorbar": {
              "outlinewidth": 0,
              "ticks": ""
             }
            },
            "type": "scattergeo"
           }
          ],
          "scattergl": [
           {
            "marker": {
             "colorbar": {
              "outlinewidth": 0,
              "ticks": ""
             }
            },
            "type": "scattergl"
           }
          ],
          "scattermapbox": [
           {
            "marker": {
             "colorbar": {
              "outlinewidth": 0,
              "ticks": ""
             }
            },
            "type": "scattermapbox"
           }
          ],
          "scatterpolar": [
           {
            "marker": {
             "colorbar": {
              "outlinewidth": 0,
              "ticks": ""
             }
            },
            "type": "scatterpolar"
           }
          ],
          "scatterpolargl": [
           {
            "marker": {
             "colorbar": {
              "outlinewidth": 0,
              "ticks": ""
             }
            },
            "type": "scatterpolargl"
           }
          ],
          "scatterternary": [
           {
            "marker": {
             "colorbar": {
              "outlinewidth": 0,
              "ticks": ""
             }
            },
            "type": "scatterternary"
           }
          ],
          "surface": [
           {
            "colorbar": {
             "outlinewidth": 0,
             "ticks": ""
            },
            "colorscale": [
             [
              0,
              "#0d0887"
             ],
             [
              0.1111111111111111,
              "#46039f"
             ],
             [
              0.2222222222222222,
              "#7201a8"
             ],
             [
              0.3333333333333333,
              "#9c179e"
             ],
             [
              0.4444444444444444,
              "#bd3786"
             ],
             [
              0.5555555555555556,
              "#d8576b"
             ],
             [
              0.6666666666666666,
              "#ed7953"
             ],
             [
              0.7777777777777778,
              "#fb9f3a"
             ],
             [
              0.8888888888888888,
              "#fdca26"
             ],
             [
              1,
              "#f0f921"
             ]
            ],
            "type": "surface"
           }
          ],
          "table": [
           {
            "cells": {
             "fill": {
              "color": "#EBF0F8"
             },
             "line": {
              "color": "white"
             }
            },
            "header": {
             "fill": {
              "color": "#C8D4E3"
             },
             "line": {
              "color": "white"
             }
            },
            "type": "table"
           }
          ]
         },
         "layout": {
          "annotationdefaults": {
           "arrowcolor": "#2a3f5f",
           "arrowhead": 0,
           "arrowwidth": 1
          },
          "colorscale": {
           "diverging": [
            [
             0,
             "#8e0152"
            ],
            [
             0.1,
             "#c51b7d"
            ],
            [
             0.2,
             "#de77ae"
            ],
            [
             0.3,
             "#f1b6da"
            ],
            [
             0.4,
             "#fde0ef"
            ],
            [
             0.5,
             "#f7f7f7"
            ],
            [
             0.6,
             "#e6f5d0"
            ],
            [
             0.7,
             "#b8e186"
            ],
            [
             0.8,
             "#7fbc41"
            ],
            [
             0.9,
             "#4d9221"
            ],
            [
             1,
             "#276419"
            ]
           ],
           "sequential": [
            [
             0,
             "#0d0887"
            ],
            [
             0.1111111111111111,
             "#46039f"
            ],
            [
             0.2222222222222222,
             "#7201a8"
            ],
            [
             0.3333333333333333,
             "#9c179e"
            ],
            [
             0.4444444444444444,
             "#bd3786"
            ],
            [
             0.5555555555555556,
             "#d8576b"
            ],
            [
             0.6666666666666666,
             "#ed7953"
            ],
            [
             0.7777777777777778,
             "#fb9f3a"
            ],
            [
             0.8888888888888888,
             "#fdca26"
            ],
            [
             1,
             "#f0f921"
            ]
           ],
           "sequentialminus": [
            [
             0,
             "#0d0887"
            ],
            [
             0.1111111111111111,
             "#46039f"
            ],
            [
             0.2222222222222222,
             "#7201a8"
            ],
            [
             0.3333333333333333,
             "#9c179e"
            ],
            [
             0.4444444444444444,
             "#bd3786"
            ],
            [
             0.5555555555555556,
             "#d8576b"
            ],
            [
             0.6666666666666666,
             "#ed7953"
            ],
            [
             0.7777777777777778,
             "#fb9f3a"
            ],
            [
             0.8888888888888888,
             "#fdca26"
            ],
            [
             1,
             "#f0f921"
            ]
           ]
          },
          "colorway": [
           "#636efa",
           "#EF553B",
           "#00cc96",
           "#ab63fa",
           "#FFA15A",
           "#19d3f3",
           "#FF6692",
           "#B6E880",
           "#FF97FF",
           "#FECB52"
          ],
          "font": {
           "color": "#2a3f5f"
          },
          "geo": {
           "bgcolor": "white",
           "lakecolor": "white",
           "landcolor": "#E5ECF6",
           "showlakes": true,
           "showland": true,
           "subunitcolor": "white"
          },
          "hoverlabel": {
           "align": "left"
          },
          "hovermode": "closest",
          "mapbox": {
           "style": "light"
          },
          "paper_bgcolor": "white",
          "plot_bgcolor": "#E5ECF6",
          "polar": {
           "angularaxis": {
            "gridcolor": "white",
            "linecolor": "white",
            "ticks": ""
           },
           "bgcolor": "#E5ECF6",
           "radialaxis": {
            "gridcolor": "white",
            "linecolor": "white",
            "ticks": ""
           }
          },
          "scene": {
           "xaxis": {
            "backgroundcolor": "#E5ECF6",
            "gridcolor": "white",
            "gridwidth": 2,
            "linecolor": "white",
            "showbackground": true,
            "ticks": "",
            "zerolinecolor": "white"
           },
           "yaxis": {
            "backgroundcolor": "#E5ECF6",
            "gridcolor": "white",
            "gridwidth": 2,
            "linecolor": "white",
            "showbackground": true,
            "ticks": "",
            "zerolinecolor": "white"
           },
           "zaxis": {
            "backgroundcolor": "#E5ECF6",
            "gridcolor": "white",
            "gridwidth": 2,
            "linecolor": "white",
            "showbackground": true,
            "ticks": "",
            "zerolinecolor": "white"
           }
          },
          "shapedefaults": {
           "line": {
            "color": "#2a3f5f"
           }
          },
          "ternary": {
           "aaxis": {
            "gridcolor": "white",
            "linecolor": "white",
            "ticks": ""
           },
           "baxis": {
            "gridcolor": "white",
            "linecolor": "white",
            "ticks": ""
           },
           "bgcolor": "#E5ECF6",
           "caxis": {
            "gridcolor": "white",
            "linecolor": "white",
            "ticks": ""
           }
          },
          "title": {
           "x": 0.05
          },
          "xaxis": {
           "automargin": true,
           "gridcolor": "white",
           "linecolor": "white",
           "ticks": "",
           "zerolinecolor": "white",
           "zerolinewidth": 2
          },
          "yaxis": {
           "automargin": true,
           "gridcolor": "white",
           "linecolor": "white",
           "ticks": "",
           "zerolinecolor": "white",
           "zerolinewidth": 2
          }
         }
        },
        "title": {
         "text": "Most Required Computer Skills"
        },
        "width": 900
       }
      },
      "text/html": [
       "<div>\n",
       "        \n",
       "        \n",
       "            <div id=\"fe03a598-ff5f-4043-82ca-827efbb87812\" class=\"plotly-graph-div\" style=\"height:800px; width:900px;\"></div>\n",
       "            <script type=\"text/javascript\">\n",
       "                require([\"plotly\"], function(Plotly) {\n",
       "                    window.PLOTLYENV=window.PLOTLYENV || {};\n",
       "                    \n",
       "                if (document.getElementById(\"fe03a598-ff5f-4043-82ca-827efbb87812\")) {\n",
       "                    Plotly.newPlot(\n",
       "                        'fe03a598-ff5f-4043-82ca-827efbb87812',\n",
       "                        [{\"marker\": {\"color\": \"darkred\"}, \"orientation\": \"h\", \"text\": [\"tensorflow\", \"olap\", \"golang\", \"blockchain\", \"scala\", \"kafka\", \"hadoop\", \"r analytics\", \"kubernetes\", \"node.js\", \"spark\", \"vb\", \"docker\", \"android\", \"ios\", \"angular\", \"c++\", \"azure\", \"c#\", \"aws\", \"python\", \"java\", \"linux\", \"javascript\", \"sql\"], \"type\": \"bar\", \"x\": [22, 27, 32, 40, 59, 59, 86, 112, 114, 120, 124, 129, 180, 220, 226, 228, 280, 389, 475, 487, 639, 685, 706, 819, 1090], \"y\": [\"tensorflow\", \"olap\", \"golang\", \"blockchain\", \"scala\", \"kafka\", \"hadoop\", \"r analytics\", \"kubernetes\", \"node.js\", \"spark\", \"vb\", \"docker\", \"android\", \"ios\", \"angular\", \"c++\", \"azure\", \"c#\", \"aws\", \"python\", \"java\", \"linux\", \"javascript\", \"sql\"]}],\n",
       "                        {\"height\": 800, \"template\": {\"data\": {\"bar\": [{\"error_x\": {\"color\": \"#2a3f5f\"}, \"error_y\": {\"color\": \"#2a3f5f\"}, \"marker\": {\"line\": {\"color\": \"#E5ECF6\", \"width\": 0.5}}, \"type\": \"bar\"}], \"barpolar\": [{\"marker\": {\"line\": {\"color\": \"#E5ECF6\", \"width\": 0.5}}, \"type\": \"barpolar\"}], \"carpet\": [{\"aaxis\": {\"endlinecolor\": \"#2a3f5f\", \"gridcolor\": \"white\", \"linecolor\": \"white\", \"minorgridcolor\": \"white\", \"startlinecolor\": \"#2a3f5f\"}, \"baxis\": {\"endlinecolor\": \"#2a3f5f\", \"gridcolor\": \"white\", \"linecolor\": \"white\", \"minorgridcolor\": \"white\", \"startlinecolor\": \"#2a3f5f\"}, \"type\": \"carpet\"}], \"choropleth\": [{\"colorbar\": {\"outlinewidth\": 0, \"ticks\": \"\"}, \"type\": \"choropleth\"}], \"contour\": [{\"colorbar\": {\"outlinewidth\": 0, \"ticks\": \"\"}, \"colorscale\": [[0.0, \"#0d0887\"], [0.1111111111111111, \"#46039f\"], [0.2222222222222222, \"#7201a8\"], [0.3333333333333333, \"#9c179e\"], [0.4444444444444444, \"#bd3786\"], [0.5555555555555556, \"#d8576b\"], [0.6666666666666666, \"#ed7953\"], [0.7777777777777778, \"#fb9f3a\"], [0.8888888888888888, \"#fdca26\"], [1.0, \"#f0f921\"]], \"type\": \"contour\"}], \"contourcarpet\": [{\"colorbar\": {\"outlinewidth\": 0, \"ticks\": \"\"}, \"type\": \"contourcarpet\"}], \"heatmap\": [{\"colorbar\": {\"outlinewidth\": 0, \"ticks\": \"\"}, \"colorscale\": [[0.0, \"#0d0887\"], [0.1111111111111111, \"#46039f\"], [0.2222222222222222, \"#7201a8\"], [0.3333333333333333, \"#9c179e\"], [0.4444444444444444, \"#bd3786\"], [0.5555555555555556, \"#d8576b\"], [0.6666666666666666, \"#ed7953\"], [0.7777777777777778, \"#fb9f3a\"], [0.8888888888888888, \"#fdca26\"], [1.0, \"#f0f921\"]], \"type\": \"heatmap\"}], \"heatmapgl\": [{\"colorbar\": {\"outlinewidth\": 0, \"ticks\": \"\"}, \"colorscale\": [[0.0, \"#0d0887\"], [0.1111111111111111, \"#46039f\"], [0.2222222222222222, \"#7201a8\"], [0.3333333333333333, \"#9c179e\"], [0.4444444444444444, \"#bd3786\"], [0.5555555555555556, \"#d8576b\"], [0.6666666666666666, \"#ed7953\"], [0.7777777777777778, \"#fb9f3a\"], [0.8888888888888888, \"#fdca26\"], [1.0, \"#f0f921\"]], \"type\": \"heatmapgl\"}], \"histogram\": [{\"marker\": {\"colorbar\": {\"outlinewidth\": 0, \"ticks\": \"\"}}, \"type\": \"histogram\"}], \"histogram2d\": [{\"colorbar\": {\"outlinewidth\": 0, \"ticks\": \"\"}, \"colorscale\": [[0.0, \"#0d0887\"], [0.1111111111111111, \"#46039f\"], [0.2222222222222222, \"#7201a8\"], [0.3333333333333333, \"#9c179e\"], [0.4444444444444444, \"#bd3786\"], [0.5555555555555556, \"#d8576b\"], [0.6666666666666666, \"#ed7953\"], [0.7777777777777778, \"#fb9f3a\"], [0.8888888888888888, \"#fdca26\"], [1.0, \"#f0f921\"]], \"type\": \"histogram2d\"}], \"histogram2dcontour\": [{\"colorbar\": {\"outlinewidth\": 0, \"ticks\": \"\"}, \"colorscale\": [[0.0, \"#0d0887\"], [0.1111111111111111, \"#46039f\"], [0.2222222222222222, \"#7201a8\"], [0.3333333333333333, \"#9c179e\"], [0.4444444444444444, \"#bd3786\"], [0.5555555555555556, \"#d8576b\"], [0.6666666666666666, \"#ed7953\"], [0.7777777777777778, \"#fb9f3a\"], [0.8888888888888888, \"#fdca26\"], [1.0, \"#f0f921\"]], \"type\": \"histogram2dcontour\"}], \"mesh3d\": [{\"colorbar\": {\"outlinewidth\": 0, \"ticks\": \"\"}, \"type\": \"mesh3d\"}], \"parcoords\": [{\"line\": {\"colorbar\": {\"outlinewidth\": 0, \"ticks\": \"\"}}, \"type\": \"parcoords\"}], \"scatter\": [{\"marker\": {\"colorbar\": {\"outlinewidth\": 0, \"ticks\": \"\"}}, \"type\": \"scatter\"}], \"scatter3d\": [{\"line\": {\"colorbar\": {\"outlinewidth\": 0, \"ticks\": \"\"}}, \"marker\": {\"colorbar\": {\"outlinewidth\": 0, \"ticks\": \"\"}}, \"type\": \"scatter3d\"}], \"scattercarpet\": [{\"marker\": {\"colorbar\": {\"outlinewidth\": 0, \"ticks\": \"\"}}, \"type\": \"scattercarpet\"}], \"scattergeo\": [{\"marker\": {\"colorbar\": {\"outlinewidth\": 0, \"ticks\": \"\"}}, \"type\": \"scattergeo\"}], \"scattergl\": [{\"marker\": {\"colorbar\": {\"outlinewidth\": 0, \"ticks\": \"\"}}, \"type\": \"scattergl\"}], \"scattermapbox\": [{\"marker\": {\"colorbar\": {\"outlinewidth\": 0, \"ticks\": \"\"}}, \"type\": \"scattermapbox\"}], \"scatterpolar\": [{\"marker\": {\"colorbar\": {\"outlinewidth\": 0, \"ticks\": \"\"}}, \"type\": \"scatterpolar\"}], \"scatterpolargl\": [{\"marker\": {\"colorbar\": {\"outlinewidth\": 0, \"ticks\": \"\"}}, \"type\": \"scatterpolargl\"}], \"scatterternary\": [{\"marker\": {\"colorbar\": {\"outlinewidth\": 0, \"ticks\": \"\"}}, \"type\": \"scatterternary\"}], \"surface\": [{\"colorbar\": {\"outlinewidth\": 0, \"ticks\": \"\"}, \"colorscale\": [[0.0, \"#0d0887\"], [0.1111111111111111, \"#46039f\"], [0.2222222222222222, \"#7201a8\"], [0.3333333333333333, \"#9c179e\"], [0.4444444444444444, \"#bd3786\"], [0.5555555555555556, \"#d8576b\"], [0.6666666666666666, \"#ed7953\"], [0.7777777777777778, \"#fb9f3a\"], [0.8888888888888888, \"#fdca26\"], [1.0, \"#f0f921\"]], \"type\": \"surface\"}], \"table\": [{\"cells\": {\"fill\": {\"color\": \"#EBF0F8\"}, \"line\": {\"color\": \"white\"}}, \"header\": {\"fill\": {\"color\": \"#C8D4E3\"}, \"line\": {\"color\": \"white\"}}, \"type\": \"table\"}]}, \"layout\": {\"annotationdefaults\": {\"arrowcolor\": \"#2a3f5f\", \"arrowhead\": 0, \"arrowwidth\": 1}, \"colorscale\": {\"diverging\": [[0, \"#8e0152\"], [0.1, \"#c51b7d\"], [0.2, \"#de77ae\"], [0.3, \"#f1b6da\"], [0.4, \"#fde0ef\"], [0.5, \"#f7f7f7\"], [0.6, \"#e6f5d0\"], [0.7, \"#b8e186\"], [0.8, \"#7fbc41\"], [0.9, \"#4d9221\"], [1, \"#276419\"]], \"sequential\": [[0.0, \"#0d0887\"], [0.1111111111111111, \"#46039f\"], [0.2222222222222222, \"#7201a8\"], [0.3333333333333333, \"#9c179e\"], [0.4444444444444444, \"#bd3786\"], [0.5555555555555556, \"#d8576b\"], [0.6666666666666666, \"#ed7953\"], [0.7777777777777778, \"#fb9f3a\"], [0.8888888888888888, \"#fdca26\"], [1.0, \"#f0f921\"]], \"sequentialminus\": [[0.0, \"#0d0887\"], [0.1111111111111111, \"#46039f\"], [0.2222222222222222, \"#7201a8\"], [0.3333333333333333, \"#9c179e\"], [0.4444444444444444, \"#bd3786\"], [0.5555555555555556, \"#d8576b\"], [0.6666666666666666, \"#ed7953\"], [0.7777777777777778, \"#fb9f3a\"], [0.8888888888888888, \"#fdca26\"], [1.0, \"#f0f921\"]]}, \"colorway\": [\"#636efa\", \"#EF553B\", \"#00cc96\", \"#ab63fa\", \"#FFA15A\", \"#19d3f3\", \"#FF6692\", \"#B6E880\", \"#FF97FF\", \"#FECB52\"], \"font\": {\"color\": \"#2a3f5f\"}, \"geo\": {\"bgcolor\": \"white\", \"lakecolor\": \"white\", \"landcolor\": \"#E5ECF6\", \"showlakes\": true, \"showland\": true, \"subunitcolor\": \"white\"}, \"hoverlabel\": {\"align\": \"left\"}, \"hovermode\": \"closest\", \"mapbox\": {\"style\": \"light\"}, \"paper_bgcolor\": \"white\", \"plot_bgcolor\": \"#E5ECF6\", \"polar\": {\"angularaxis\": {\"gridcolor\": \"white\", \"linecolor\": \"white\", \"ticks\": \"\"}, \"bgcolor\": \"#E5ECF6\", \"radialaxis\": {\"gridcolor\": \"white\", \"linecolor\": \"white\", \"ticks\": \"\"}}, \"scene\": {\"xaxis\": {\"backgroundcolor\": \"#E5ECF6\", \"gridcolor\": \"white\", \"gridwidth\": 2, \"linecolor\": \"white\", \"showbackground\": true, \"ticks\": \"\", \"zerolinecolor\": \"white\"}, \"yaxis\": {\"backgroundcolor\": \"#E5ECF6\", \"gridcolor\": \"white\", \"gridwidth\": 2, \"linecolor\": \"white\", \"showbackground\": true, \"ticks\": \"\", \"zerolinecolor\": \"white\"}, \"zaxis\": {\"backgroundcolor\": \"#E5ECF6\", \"gridcolor\": \"white\", \"gridwidth\": 2, \"linecolor\": \"white\", \"showbackground\": true, \"ticks\": \"\", \"zerolinecolor\": \"white\"}}, \"shapedefaults\": {\"line\": {\"color\": \"#2a3f5f\"}}, \"ternary\": {\"aaxis\": {\"gridcolor\": \"white\", \"linecolor\": \"white\", \"ticks\": \"\"}, \"baxis\": {\"gridcolor\": \"white\", \"linecolor\": \"white\", \"ticks\": \"\"}, \"bgcolor\": \"#E5ECF6\", \"caxis\": {\"gridcolor\": \"white\", \"linecolor\": \"white\", \"ticks\": \"\"}}, \"title\": {\"x\": 0.05}, \"xaxis\": {\"automargin\": true, \"gridcolor\": \"white\", \"linecolor\": \"white\", \"ticks\": \"\", \"zerolinecolor\": \"white\", \"zerolinewidth\": 2}, \"yaxis\": {\"automargin\": true, \"gridcolor\": \"white\", \"linecolor\": \"white\", \"ticks\": \"\", \"zerolinecolor\": \"white\", \"zerolinewidth\": 2}}}, \"title\": {\"text\": \"Most Required Computer Skills\"}, \"width\": 900},\n",
       "                        {\"responsive\": true}\n",
       "                    ).then(function(){\n",
       "                            \n",
       "var gd = document.getElementById('fe03a598-ff5f-4043-82ca-827efbb87812');\n",
       "var x = new MutationObserver(function (mutations, observer) {{\n",
       "        var display = window.getComputedStyle(gd).display;\n",
       "        if (!display || display === 'none') {{\n",
       "            console.log([gd, 'removed!']);\n",
       "            Plotly.purge(gd);\n",
       "            observer.disconnect();\n",
       "        }}\n",
       "}});\n",
       "\n",
       "// Listen for the removal of the full notebook cells\n",
       "var notebookContainer = gd.closest('#notebook-container');\n",
       "if (notebookContainer) {{\n",
       "    x.observe(notebookContainer, {childList: true});\n",
       "}}\n",
       "\n",
       "// Listen for the clearing of the current output cell\n",
       "var outputEl = gd.closest('.output');\n",
       "if (outputEl) {{\n",
       "    x.observe(outputEl, {childList: true});\n",
       "}}\n",
       "\n",
       "                        })\n",
       "                };\n",
       "                });\n",
       "            </script>\n",
       "        </div>"
      ]
     },
     "metadata": {},
     "output_type": "display_data"
    }
   ],
   "source": [
    "# visualize bar plot (Most Required Computer Skills)\n",
    "salary_count = jobs.groupby(['skill']).agg({'salary':'count'}).sort_values('salary', ascending=True).rename(columns={'salary':'salary_count'})\n",
    "\n",
    "data = [Bar(y=salary_count.index, x=salary_count['salary_count'], text=salary_count.index, orientation='h', marker={'color':'darkred'})]\n",
    "layout = Layout(title=\"Most Required Computer Skills\", width = 900, height = 800)\n",
    "\n",
    "fig = Figure(data=data, layout=layout)\n",
    "\n",
    "plotly.offline.iplot(fig, show_link=False)"
   ]
  },
  {
   "cell_type": "code",
   "execution_count": 9,
   "metadata": {},
   "outputs": [
    {
     "data": {
      "application/vnd.plotly.v1+json": {
       "config": {
        "linkText": "Export to plot.ly",
        "plotlyServerURL": "https://plot.ly",
        "showLink": false
       },
       "data": [
        {
         "mode": "markers",
         "type": "scattergl",
         "x": [
          22,
          27,
          32,
          40,
          59,
          59,
          86,
          112,
          114,
          120,
          124,
          129,
          180,
          220,
          226,
          228,
          280,
          389,
          475,
          487,
          639,
          685,
          706,
          819,
          1090
         ],
         "y": [
          135305.3409090909,
          95514.48148148147,
          123539.0625,
          118225,
          119381.96610169491,
          125525.7372881356,
          111079.27325581395,
          88513.59375,
          119943.4298245614,
          109035.48333333334,
          90170.93548387097,
          78452.63565891473,
          114061.20833333333,
          83704.76590909091,
          88830.67920353982,
          96710.87938596492,
          98961.875,
          100548.93316195373,
          88947.73578947368,
          110643.04620123203,
          99021.7558685446,
          98222.79416058394,
          90074.37039660057,
          89714.24175824175,
          86184.69495412844
         ]
        },
        {
         "type": "scattergl",
         "x": [
          22,
          27,
          32,
          40,
          59,
          59,
          86,
          112,
          114,
          120,
          124,
          129,
          180,
          220,
          226,
          228,
          280,
          389,
          475,
          487,
          639,
          685,
          706,
          819,
          1090
         ],
         "y": [
          109167.64301694342,
          109043.43210512081,
          108919.22119329822,
          108720.48373438207,
          108248.48226945622,
          108248.48226945622,
          107577.7433456142,
          106931.84660413672,
          106882.16223940768,
          106733.10914522057,
          106633.7404157625,
          106509.52950393989,
          105242.57820334943,
          104248.89090876869,
          104099.83781458158,
          104050.15344985253,
          102758.35996689755,
          100050.562089165,
          97914.13440581638,
          97616.02821744216,
          93840.0164980353,
          92697.27610926743,
          92175.59027961254,
          89368.42367242192,
          82636.19225163732
         ]
        }
       ],
       "layout": {
        "showlegend": false,
        "template": {
         "data": {
          "bar": [
           {
            "error_x": {
             "color": "#2a3f5f"
            },
            "error_y": {
             "color": "#2a3f5f"
            },
            "marker": {
             "line": {
              "color": "#E5ECF6",
              "width": 0.5
             }
            },
            "type": "bar"
           }
          ],
          "barpolar": [
           {
            "marker": {
             "line": {
              "color": "#E5ECF6",
              "width": 0.5
             }
            },
            "type": "barpolar"
           }
          ],
          "carpet": [
           {
            "aaxis": {
             "endlinecolor": "#2a3f5f",
             "gridcolor": "white",
             "linecolor": "white",
             "minorgridcolor": "white",
             "startlinecolor": "#2a3f5f"
            },
            "baxis": {
             "endlinecolor": "#2a3f5f",
             "gridcolor": "white",
             "linecolor": "white",
             "minorgridcolor": "white",
             "startlinecolor": "#2a3f5f"
            },
            "type": "carpet"
           }
          ],
          "choropleth": [
           {
            "colorbar": {
             "outlinewidth": 0,
             "ticks": ""
            },
            "type": "choropleth"
           }
          ],
          "contour": [
           {
            "colorbar": {
             "outlinewidth": 0,
             "ticks": ""
            },
            "colorscale": [
             [
              0,
              "#0d0887"
             ],
             [
              0.1111111111111111,
              "#46039f"
             ],
             [
              0.2222222222222222,
              "#7201a8"
             ],
             [
              0.3333333333333333,
              "#9c179e"
             ],
             [
              0.4444444444444444,
              "#bd3786"
             ],
             [
              0.5555555555555556,
              "#d8576b"
             ],
             [
              0.6666666666666666,
              "#ed7953"
             ],
             [
              0.7777777777777778,
              "#fb9f3a"
             ],
             [
              0.8888888888888888,
              "#fdca26"
             ],
             [
              1,
              "#f0f921"
             ]
            ],
            "type": "contour"
           }
          ],
          "contourcarpet": [
           {
            "colorbar": {
             "outlinewidth": 0,
             "ticks": ""
            },
            "type": "contourcarpet"
           }
          ],
          "heatmap": [
           {
            "colorbar": {
             "outlinewidth": 0,
             "ticks": ""
            },
            "colorscale": [
             [
              0,
              "#0d0887"
             ],
             [
              0.1111111111111111,
              "#46039f"
             ],
             [
              0.2222222222222222,
              "#7201a8"
             ],
             [
              0.3333333333333333,
              "#9c179e"
             ],
             [
              0.4444444444444444,
              "#bd3786"
             ],
             [
              0.5555555555555556,
              "#d8576b"
             ],
             [
              0.6666666666666666,
              "#ed7953"
             ],
             [
              0.7777777777777778,
              "#fb9f3a"
             ],
             [
              0.8888888888888888,
              "#fdca26"
             ],
             [
              1,
              "#f0f921"
             ]
            ],
            "type": "heatmap"
           }
          ],
          "heatmapgl": [
           {
            "colorbar": {
             "outlinewidth": 0,
             "ticks": ""
            },
            "colorscale": [
             [
              0,
              "#0d0887"
             ],
             [
              0.1111111111111111,
              "#46039f"
             ],
             [
              0.2222222222222222,
              "#7201a8"
             ],
             [
              0.3333333333333333,
              "#9c179e"
             ],
             [
              0.4444444444444444,
              "#bd3786"
             ],
             [
              0.5555555555555556,
              "#d8576b"
             ],
             [
              0.6666666666666666,
              "#ed7953"
             ],
             [
              0.7777777777777778,
              "#fb9f3a"
             ],
             [
              0.8888888888888888,
              "#fdca26"
             ],
             [
              1,
              "#f0f921"
             ]
            ],
            "type": "heatmapgl"
           }
          ],
          "histogram": [
           {
            "marker": {
             "colorbar": {
              "outlinewidth": 0,
              "ticks": ""
             }
            },
            "type": "histogram"
           }
          ],
          "histogram2d": [
           {
            "colorbar": {
             "outlinewidth": 0,
             "ticks": ""
            },
            "colorscale": [
             [
              0,
              "#0d0887"
             ],
             [
              0.1111111111111111,
              "#46039f"
             ],
             [
              0.2222222222222222,
              "#7201a8"
             ],
             [
              0.3333333333333333,
              "#9c179e"
             ],
             [
              0.4444444444444444,
              "#bd3786"
             ],
             [
              0.5555555555555556,
              "#d8576b"
             ],
             [
              0.6666666666666666,
              "#ed7953"
             ],
             [
              0.7777777777777778,
              "#fb9f3a"
             ],
             [
              0.8888888888888888,
              "#fdca26"
             ],
             [
              1,
              "#f0f921"
             ]
            ],
            "type": "histogram2d"
           }
          ],
          "histogram2dcontour": [
           {
            "colorbar": {
             "outlinewidth": 0,
             "ticks": ""
            },
            "colorscale": [
             [
              0,
              "#0d0887"
             ],
             [
              0.1111111111111111,
              "#46039f"
             ],
             [
              0.2222222222222222,
              "#7201a8"
             ],
             [
              0.3333333333333333,
              "#9c179e"
             ],
             [
              0.4444444444444444,
              "#bd3786"
             ],
             [
              0.5555555555555556,
              "#d8576b"
             ],
             [
              0.6666666666666666,
              "#ed7953"
             ],
             [
              0.7777777777777778,
              "#fb9f3a"
             ],
             [
              0.8888888888888888,
              "#fdca26"
             ],
             [
              1,
              "#f0f921"
             ]
            ],
            "type": "histogram2dcontour"
           }
          ],
          "mesh3d": [
           {
            "colorbar": {
             "outlinewidth": 0,
             "ticks": ""
            },
            "type": "mesh3d"
           }
          ],
          "parcoords": [
           {
            "line": {
             "colorbar": {
              "outlinewidth": 0,
              "ticks": ""
             }
            },
            "type": "parcoords"
           }
          ],
          "scatter": [
           {
            "marker": {
             "colorbar": {
              "outlinewidth": 0,
              "ticks": ""
             }
            },
            "type": "scatter"
           }
          ],
          "scatter3d": [
           {
            "line": {
             "colorbar": {
              "outlinewidth": 0,
              "ticks": ""
             }
            },
            "marker": {
             "colorbar": {
              "outlinewidth": 0,
              "ticks": ""
             }
            },
            "type": "scatter3d"
           }
          ],
          "scattercarpet": [
           {
            "marker": {
             "colorbar": {
              "outlinewidth": 0,
              "ticks": ""
             }
            },
            "type": "scattercarpet"
           }
          ],
          "scattergeo": [
           {
            "marker": {
             "colorbar": {
              "outlinewidth": 0,
              "ticks": ""
             }
            },
            "type": "scattergeo"
           }
          ],
          "scattergl": [
           {
            "marker": {
             "colorbar": {
              "outlinewidth": 0,
              "ticks": ""
             }
            },
            "type": "scattergl"
           }
          ],
          "scattermapbox": [
           {
            "marker": {
             "colorbar": {
              "outlinewidth": 0,
              "ticks": ""
             }
            },
            "type": "scattermapbox"
           }
          ],
          "scatterpolar": [
           {
            "marker": {
             "colorbar": {
              "outlinewidth": 0,
              "ticks": ""
             }
            },
            "type": "scatterpolar"
           }
          ],
          "scatterpolargl": [
           {
            "marker": {
             "colorbar": {
              "outlinewidth": 0,
              "ticks": ""
             }
            },
            "type": "scatterpolargl"
           }
          ],
          "scatterternary": [
           {
            "marker": {
             "colorbar": {
              "outlinewidth": 0,
              "ticks": ""
             }
            },
            "type": "scatterternary"
           }
          ],
          "surface": [
           {
            "colorbar": {
             "outlinewidth": 0,
             "ticks": ""
            },
            "colorscale": [
             [
              0,
              "#0d0887"
             ],
             [
              0.1111111111111111,
              "#46039f"
             ],
             [
              0.2222222222222222,
              "#7201a8"
             ],
             [
              0.3333333333333333,
              "#9c179e"
             ],
             [
              0.4444444444444444,
              "#bd3786"
             ],
             [
              0.5555555555555556,
              "#d8576b"
             ],
             [
              0.6666666666666666,
              "#ed7953"
             ],
             [
              0.7777777777777778,
              "#fb9f3a"
             ],
             [
              0.8888888888888888,
              "#fdca26"
             ],
             [
              1,
              "#f0f921"
             ]
            ],
            "type": "surface"
           }
          ],
          "table": [
           {
            "cells": {
             "fill": {
              "color": "#EBF0F8"
             },
             "line": {
              "color": "white"
             }
            },
            "header": {
             "fill": {
              "color": "#C8D4E3"
             },
             "line": {
              "color": "white"
             }
            },
            "type": "table"
           }
          ]
         },
         "layout": {
          "annotationdefaults": {
           "arrowcolor": "#2a3f5f",
           "arrowhead": 0,
           "arrowwidth": 1
          },
          "colorscale": {
           "diverging": [
            [
             0,
             "#8e0152"
            ],
            [
             0.1,
             "#c51b7d"
            ],
            [
             0.2,
             "#de77ae"
            ],
            [
             0.3,
             "#f1b6da"
            ],
            [
             0.4,
             "#fde0ef"
            ],
            [
             0.5,
             "#f7f7f7"
            ],
            [
             0.6,
             "#e6f5d0"
            ],
            [
             0.7,
             "#b8e186"
            ],
            [
             0.8,
             "#7fbc41"
            ],
            [
             0.9,
             "#4d9221"
            ],
            [
             1,
             "#276419"
            ]
           ],
           "sequential": [
            [
             0,
             "#0d0887"
            ],
            [
             0.1111111111111111,
             "#46039f"
            ],
            [
             0.2222222222222222,
             "#7201a8"
            ],
            [
             0.3333333333333333,
             "#9c179e"
            ],
            [
             0.4444444444444444,
             "#bd3786"
            ],
            [
             0.5555555555555556,
             "#d8576b"
            ],
            [
             0.6666666666666666,
             "#ed7953"
            ],
            [
             0.7777777777777778,
             "#fb9f3a"
            ],
            [
             0.8888888888888888,
             "#fdca26"
            ],
            [
             1,
             "#f0f921"
            ]
           ],
           "sequentialminus": [
            [
             0,
             "#0d0887"
            ],
            [
             0.1111111111111111,
             "#46039f"
            ],
            [
             0.2222222222222222,
             "#7201a8"
            ],
            [
             0.3333333333333333,
             "#9c179e"
            ],
            [
             0.4444444444444444,
             "#bd3786"
            ],
            [
             0.5555555555555556,
             "#d8576b"
            ],
            [
             0.6666666666666666,
             "#ed7953"
            ],
            [
             0.7777777777777778,
             "#fb9f3a"
            ],
            [
             0.8888888888888888,
             "#fdca26"
            ],
            [
             1,
             "#f0f921"
            ]
           ]
          },
          "colorway": [
           "#636efa",
           "#EF553B",
           "#00cc96",
           "#ab63fa",
           "#FFA15A",
           "#19d3f3",
           "#FF6692",
           "#B6E880",
           "#FF97FF",
           "#FECB52"
          ],
          "font": {
           "color": "#2a3f5f"
          },
          "geo": {
           "bgcolor": "white",
           "lakecolor": "white",
           "landcolor": "#E5ECF6",
           "showlakes": true,
           "showland": true,
           "subunitcolor": "white"
          },
          "hoverlabel": {
           "align": "left"
          },
          "hovermode": "closest",
          "mapbox": {
           "style": "light"
          },
          "paper_bgcolor": "white",
          "plot_bgcolor": "#E5ECF6",
          "polar": {
           "angularaxis": {
            "gridcolor": "white",
            "linecolor": "white",
            "ticks": ""
           },
           "bgcolor": "#E5ECF6",
           "radialaxis": {
            "gridcolor": "white",
            "linecolor": "white",
            "ticks": ""
           }
          },
          "scene": {
           "xaxis": {
            "backgroundcolor": "#E5ECF6",
            "gridcolor": "white",
            "gridwidth": 2,
            "linecolor": "white",
            "showbackground": true,
            "ticks": "",
            "zerolinecolor": "white"
           },
           "yaxis": {
            "backgroundcolor": "#E5ECF6",
            "gridcolor": "white",
            "gridwidth": 2,
            "linecolor": "white",
            "showbackground": true,
            "ticks": "",
            "zerolinecolor": "white"
           },
           "zaxis": {
            "backgroundcolor": "#E5ECF6",
            "gridcolor": "white",
            "gridwidth": 2,
            "linecolor": "white",
            "showbackground": true,
            "ticks": "",
            "zerolinecolor": "white"
           }
          },
          "shapedefaults": {
           "line": {
            "color": "#2a3f5f"
           }
          },
          "ternary": {
           "aaxis": {
            "gridcolor": "white",
            "linecolor": "white",
            "ticks": ""
           },
           "baxis": {
            "gridcolor": "white",
            "linecolor": "white",
            "ticks": ""
           },
           "bgcolor": "#E5ECF6",
           "caxis": {
            "gridcolor": "white",
            "linecolor": "white",
            "ticks": ""
           }
          },
          "title": {
           "x": 0.05
          },
          "xaxis": {
           "automargin": true,
           "gridcolor": "white",
           "linecolor": "white",
           "ticks": "",
           "zerolinecolor": "white",
           "zerolinewidth": 2
          },
          "yaxis": {
           "automargin": true,
           "gridcolor": "white",
           "linecolor": "white",
           "ticks": "",
           "zerolinecolor": "white",
           "zerolinewidth": 2
          }
         }
        },
        "title": {
         "text": "Skill Required vs Salary"
        }
       }
      },
      "text/html": [
       "<div>\n",
       "        \n",
       "        \n",
       "            <div id=\"d765b720-f75d-4796-8a85-75a6b009b39d\" class=\"plotly-graph-div\" style=\"height:525px; width:100%;\"></div>\n",
       "            <script type=\"text/javascript\">\n",
       "                require([\"plotly\"], function(Plotly) {\n",
       "                    window.PLOTLYENV=window.PLOTLYENV || {};\n",
       "                    \n",
       "                if (document.getElementById(\"d765b720-f75d-4796-8a85-75a6b009b39d\")) {\n",
       "                    Plotly.newPlot(\n",
       "                        'd765b720-f75d-4796-8a85-75a6b009b39d',\n",
       "                        [{\"mode\": \"markers\", \"type\": \"scattergl\", \"x\": [22, 27, 32, 40, 59, 59, 86, 112, 114, 120, 124, 129, 180, 220, 226, 228, 280, 389, 475, 487, 639, 685, 706, 819, 1090], \"y\": [135305.3409090909, 95514.48148148147, 123539.0625, 118225.0, 119381.96610169491, 125525.7372881356, 111079.27325581395, 88513.59375, 119943.4298245614, 109035.48333333334, 90170.93548387097, 78452.63565891473, 114061.20833333333, 83704.76590909091, 88830.67920353982, 96710.87938596492, 98961.875, 100548.93316195373, 88947.73578947368, 110643.04620123203, 99021.7558685446, 98222.79416058394, 90074.37039660057, 89714.24175824175, 86184.69495412844]}, {\"type\": \"scattergl\", \"x\": [22, 27, 32, 40, 59, 59, 86, 112, 114, 120, 124, 129, 180, 220, 226, 228, 280, 389, 475, 487, 639, 685, 706, 819, 1090], \"y\": [109167.64301694342, 109043.43210512081, 108919.22119329822, 108720.48373438207, 108248.48226945622, 108248.48226945622, 107577.7433456142, 106931.84660413672, 106882.16223940768, 106733.10914522057, 106633.7404157625, 106509.52950393989, 105242.57820334943, 104248.89090876869, 104099.83781458158, 104050.15344985253, 102758.35996689755, 100050.562089165, 97914.13440581638, 97616.02821744216, 93840.0164980353, 92697.27610926743, 92175.59027961254, 89368.42367242192, 82636.19225163732]}],\n",
       "                        {\"showlegend\": false, \"template\": {\"data\": {\"bar\": [{\"error_x\": {\"color\": \"#2a3f5f\"}, \"error_y\": {\"color\": \"#2a3f5f\"}, \"marker\": {\"line\": {\"color\": \"#E5ECF6\", \"width\": 0.5}}, \"type\": \"bar\"}], \"barpolar\": [{\"marker\": {\"line\": {\"color\": \"#E5ECF6\", \"width\": 0.5}}, \"type\": \"barpolar\"}], \"carpet\": [{\"aaxis\": {\"endlinecolor\": \"#2a3f5f\", \"gridcolor\": \"white\", \"linecolor\": \"white\", \"minorgridcolor\": \"white\", \"startlinecolor\": \"#2a3f5f\"}, \"baxis\": {\"endlinecolor\": \"#2a3f5f\", \"gridcolor\": \"white\", \"linecolor\": \"white\", \"minorgridcolor\": \"white\", \"startlinecolor\": \"#2a3f5f\"}, \"type\": \"carpet\"}], \"choropleth\": [{\"colorbar\": {\"outlinewidth\": 0, \"ticks\": \"\"}, \"type\": \"choropleth\"}], \"contour\": [{\"colorbar\": {\"outlinewidth\": 0, \"ticks\": \"\"}, \"colorscale\": [[0.0, \"#0d0887\"], [0.1111111111111111, \"#46039f\"], [0.2222222222222222, \"#7201a8\"], [0.3333333333333333, \"#9c179e\"], [0.4444444444444444, \"#bd3786\"], [0.5555555555555556, \"#d8576b\"], [0.6666666666666666, \"#ed7953\"], [0.7777777777777778, \"#fb9f3a\"], [0.8888888888888888, \"#fdca26\"], [1.0, \"#f0f921\"]], \"type\": \"contour\"}], \"contourcarpet\": [{\"colorbar\": {\"outlinewidth\": 0, \"ticks\": \"\"}, \"type\": \"contourcarpet\"}], \"heatmap\": [{\"colorbar\": {\"outlinewidth\": 0, \"ticks\": \"\"}, \"colorscale\": [[0.0, \"#0d0887\"], [0.1111111111111111, \"#46039f\"], [0.2222222222222222, \"#7201a8\"], [0.3333333333333333, \"#9c179e\"], [0.4444444444444444, \"#bd3786\"], [0.5555555555555556, \"#d8576b\"], [0.6666666666666666, \"#ed7953\"], [0.7777777777777778, \"#fb9f3a\"], [0.8888888888888888, \"#fdca26\"], [1.0, \"#f0f921\"]], \"type\": \"heatmap\"}], \"heatmapgl\": [{\"colorbar\": {\"outlinewidth\": 0, \"ticks\": \"\"}, \"colorscale\": [[0.0, \"#0d0887\"], [0.1111111111111111, \"#46039f\"], [0.2222222222222222, \"#7201a8\"], [0.3333333333333333, \"#9c179e\"], [0.4444444444444444, \"#bd3786\"], [0.5555555555555556, \"#d8576b\"], [0.6666666666666666, \"#ed7953\"], [0.7777777777777778, \"#fb9f3a\"], [0.8888888888888888, \"#fdca26\"], [1.0, \"#f0f921\"]], \"type\": \"heatmapgl\"}], \"histogram\": [{\"marker\": {\"colorbar\": {\"outlinewidth\": 0, \"ticks\": \"\"}}, \"type\": \"histogram\"}], \"histogram2d\": [{\"colorbar\": {\"outlinewidth\": 0, \"ticks\": \"\"}, \"colorscale\": [[0.0, \"#0d0887\"], [0.1111111111111111, \"#46039f\"], [0.2222222222222222, \"#7201a8\"], [0.3333333333333333, \"#9c179e\"], [0.4444444444444444, \"#bd3786\"], [0.5555555555555556, \"#d8576b\"], [0.6666666666666666, \"#ed7953\"], [0.7777777777777778, \"#fb9f3a\"], [0.8888888888888888, \"#fdca26\"], [1.0, \"#f0f921\"]], \"type\": \"histogram2d\"}], \"histogram2dcontour\": [{\"colorbar\": {\"outlinewidth\": 0, \"ticks\": \"\"}, \"colorscale\": [[0.0, \"#0d0887\"], [0.1111111111111111, \"#46039f\"], [0.2222222222222222, \"#7201a8\"], [0.3333333333333333, \"#9c179e\"], [0.4444444444444444, \"#bd3786\"], [0.5555555555555556, \"#d8576b\"], [0.6666666666666666, \"#ed7953\"], [0.7777777777777778, \"#fb9f3a\"], [0.8888888888888888, \"#fdca26\"], [1.0, \"#f0f921\"]], \"type\": \"histogram2dcontour\"}], \"mesh3d\": [{\"colorbar\": {\"outlinewidth\": 0, \"ticks\": \"\"}, \"type\": \"mesh3d\"}], \"parcoords\": [{\"line\": {\"colorbar\": {\"outlinewidth\": 0, \"ticks\": \"\"}}, \"type\": \"parcoords\"}], \"scatter\": [{\"marker\": {\"colorbar\": {\"outlinewidth\": 0, \"ticks\": \"\"}}, \"type\": \"scatter\"}], \"scatter3d\": [{\"line\": {\"colorbar\": {\"outlinewidth\": 0, \"ticks\": \"\"}}, \"marker\": {\"colorbar\": {\"outlinewidth\": 0, \"ticks\": \"\"}}, \"type\": \"scatter3d\"}], \"scattercarpet\": [{\"marker\": {\"colorbar\": {\"outlinewidth\": 0, \"ticks\": \"\"}}, \"type\": \"scattercarpet\"}], \"scattergeo\": [{\"marker\": {\"colorbar\": {\"outlinewidth\": 0, \"ticks\": \"\"}}, \"type\": \"scattergeo\"}], \"scattergl\": [{\"marker\": {\"colorbar\": {\"outlinewidth\": 0, \"ticks\": \"\"}}, \"type\": \"scattergl\"}], \"scattermapbox\": [{\"marker\": {\"colorbar\": {\"outlinewidth\": 0, \"ticks\": \"\"}}, \"type\": \"scattermapbox\"}], \"scatterpolar\": [{\"marker\": {\"colorbar\": {\"outlinewidth\": 0, \"ticks\": \"\"}}, \"type\": \"scatterpolar\"}], \"scatterpolargl\": [{\"marker\": {\"colorbar\": {\"outlinewidth\": 0, \"ticks\": \"\"}}, \"type\": \"scatterpolargl\"}], \"scatterternary\": [{\"marker\": {\"colorbar\": {\"outlinewidth\": 0, \"ticks\": \"\"}}, \"type\": \"scatterternary\"}], \"surface\": [{\"colorbar\": {\"outlinewidth\": 0, \"ticks\": \"\"}, \"colorscale\": [[0.0, \"#0d0887\"], [0.1111111111111111, \"#46039f\"], [0.2222222222222222, \"#7201a8\"], [0.3333333333333333, \"#9c179e\"], [0.4444444444444444, \"#bd3786\"], [0.5555555555555556, \"#d8576b\"], [0.6666666666666666, \"#ed7953\"], [0.7777777777777778, \"#fb9f3a\"], [0.8888888888888888, \"#fdca26\"], [1.0, \"#f0f921\"]], \"type\": \"surface\"}], \"table\": [{\"cells\": {\"fill\": {\"color\": \"#EBF0F8\"}, \"line\": {\"color\": \"white\"}}, \"header\": {\"fill\": {\"color\": \"#C8D4E3\"}, \"line\": {\"color\": \"white\"}}, \"type\": \"table\"}]}, \"layout\": {\"annotationdefaults\": {\"arrowcolor\": \"#2a3f5f\", \"arrowhead\": 0, \"arrowwidth\": 1}, \"colorscale\": {\"diverging\": [[0, \"#8e0152\"], [0.1, \"#c51b7d\"], [0.2, \"#de77ae\"], [0.3, \"#f1b6da\"], [0.4, \"#fde0ef\"], [0.5, \"#f7f7f7\"], [0.6, \"#e6f5d0\"], [0.7, \"#b8e186\"], [0.8, \"#7fbc41\"], [0.9, \"#4d9221\"], [1, \"#276419\"]], \"sequential\": [[0.0, \"#0d0887\"], [0.1111111111111111, \"#46039f\"], [0.2222222222222222, \"#7201a8\"], [0.3333333333333333, \"#9c179e\"], [0.4444444444444444, \"#bd3786\"], [0.5555555555555556, \"#d8576b\"], [0.6666666666666666, \"#ed7953\"], [0.7777777777777778, \"#fb9f3a\"], [0.8888888888888888, \"#fdca26\"], [1.0, \"#f0f921\"]], \"sequentialminus\": [[0.0, \"#0d0887\"], [0.1111111111111111, \"#46039f\"], [0.2222222222222222, \"#7201a8\"], [0.3333333333333333, \"#9c179e\"], [0.4444444444444444, \"#bd3786\"], [0.5555555555555556, \"#d8576b\"], [0.6666666666666666, \"#ed7953\"], [0.7777777777777778, \"#fb9f3a\"], [0.8888888888888888, \"#fdca26\"], [1.0, \"#f0f921\"]]}, \"colorway\": [\"#636efa\", \"#EF553B\", \"#00cc96\", \"#ab63fa\", \"#FFA15A\", \"#19d3f3\", \"#FF6692\", \"#B6E880\", \"#FF97FF\", \"#FECB52\"], \"font\": {\"color\": \"#2a3f5f\"}, \"geo\": {\"bgcolor\": \"white\", \"lakecolor\": \"white\", \"landcolor\": \"#E5ECF6\", \"showlakes\": true, \"showland\": true, \"subunitcolor\": \"white\"}, \"hoverlabel\": {\"align\": \"left\"}, \"hovermode\": \"closest\", \"mapbox\": {\"style\": \"light\"}, \"paper_bgcolor\": \"white\", \"plot_bgcolor\": \"#E5ECF6\", \"polar\": {\"angularaxis\": {\"gridcolor\": \"white\", \"linecolor\": \"white\", \"ticks\": \"\"}, \"bgcolor\": \"#E5ECF6\", \"radialaxis\": {\"gridcolor\": \"white\", \"linecolor\": \"white\", \"ticks\": \"\"}}, \"scene\": {\"xaxis\": {\"backgroundcolor\": \"#E5ECF6\", \"gridcolor\": \"white\", \"gridwidth\": 2, \"linecolor\": \"white\", \"showbackground\": true, \"ticks\": \"\", \"zerolinecolor\": \"white\"}, \"yaxis\": {\"backgroundcolor\": \"#E5ECF6\", \"gridcolor\": \"white\", \"gridwidth\": 2, \"linecolor\": \"white\", \"showbackground\": true, \"ticks\": \"\", \"zerolinecolor\": \"white\"}, \"zaxis\": {\"backgroundcolor\": \"#E5ECF6\", \"gridcolor\": \"white\", \"gridwidth\": 2, \"linecolor\": \"white\", \"showbackground\": true, \"ticks\": \"\", \"zerolinecolor\": \"white\"}}, \"shapedefaults\": {\"line\": {\"color\": \"#2a3f5f\"}}, \"ternary\": {\"aaxis\": {\"gridcolor\": \"white\", \"linecolor\": \"white\", \"ticks\": \"\"}, \"baxis\": {\"gridcolor\": \"white\", \"linecolor\": \"white\", \"ticks\": \"\"}, \"bgcolor\": \"#E5ECF6\", \"caxis\": {\"gridcolor\": \"white\", \"linecolor\": \"white\", \"ticks\": \"\"}}, \"title\": {\"x\": 0.05}, \"xaxis\": {\"automargin\": true, \"gridcolor\": \"white\", \"linecolor\": \"white\", \"ticks\": \"\", \"zerolinecolor\": \"white\", \"zerolinewidth\": 2}, \"yaxis\": {\"automargin\": true, \"gridcolor\": \"white\", \"linecolor\": \"white\", \"ticks\": \"\", \"zerolinecolor\": \"white\", \"zerolinewidth\": 2}}}, \"title\": {\"text\": \"Skill Required vs Salary\"}},\n",
       "                        {\"responsive\": true}\n",
       "                    ).then(function(){\n",
       "                            \n",
       "var gd = document.getElementById('d765b720-f75d-4796-8a85-75a6b009b39d');\n",
       "var x = new MutationObserver(function (mutations, observer) {{\n",
       "        var display = window.getComputedStyle(gd).display;\n",
       "        if (!display || display === 'none') {{\n",
       "            console.log([gd, 'removed!']);\n",
       "            Plotly.purge(gd);\n",
       "            observer.disconnect();\n",
       "        }}\n",
       "}});\n",
       "\n",
       "// Listen for the removal of the full notebook cells\n",
       "var notebookContainer = gd.closest('#notebook-container');\n",
       "if (notebookContainer) {{\n",
       "    x.observe(notebookContainer, {childList: true});\n",
       "}}\n",
       "\n",
       "// Listen for the clearing of the current output cell\n",
       "var outputEl = gd.closest('.output');\n",
       "if (outputEl) {{\n",
       "    x.observe(outputEl, {childList: true});\n",
       "}}\n",
       "\n",
       "                        })\n",
       "                };\n",
       "                });\n",
       "            </script>\n",
       "        </div>"
      ]
     },
     "metadata": {},
     "output_type": "display_data"
    }
   ],
   "source": [
    "# visualize bar plot with regression line (Skill Required vs Salary)\n",
    "salary_summary = salary_count.reset_index().merge(salary_mean, on='skill')\n",
    "\n",
    "p = np.polyfit(salary_summary['salary_count'], salary_summary['salary_mean'], 1)\n",
    "f = np.polyval(p, salary_summary['salary_count'])\n",
    "\n",
    "data = [Scattergl(x=salary_summary['salary_count'], y=salary_summary['salary_mean'], mode = 'markers'), Scattergl(x=salary_summary['salary_count'], y=f)]\n",
    "layout = Layout(title=\"Skill Required vs Salary\", showlegend=False)\n",
    "\n",
    "fig = Figure(data=data, layout=layout)\n",
    "\n",
    "plotly.offline.iplot(fig, show_link=False)"
   ]
  }
 ],
 "metadata": {
  "kernelspec": {
   "display_name": "Python 3",
   "language": "python",
   "name": "python3"
  },
  "language_info": {
   "codemirror_mode": {
    "name": "ipython",
    "version": 3
   },
   "file_extension": ".py",
   "mimetype": "text/x-python",
   "name": "python",
   "nbconvert_exporter": "python",
   "pygments_lexer": "ipython3",
   "version": "3.7.3"
  }
 },
 "nbformat": 4,
 "nbformat_minor": 2
}
